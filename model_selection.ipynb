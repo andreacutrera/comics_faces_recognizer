{
 "cells": [
  {
   "cell_type": "markdown",
   "metadata": {},
   "source": [
    "# Algorithms for Massive Data \n",
    "## Project 4: Face/comic recognizer with deep learning\n",
    "\n",
    "### _Andrea Pio Cutrera_ - 965591 - _Data Science and Economics_ - _Università degli Studi di Milano_\n",
    "# Part 3 - Model selection\n",
    "\n",
    "Project for the module **_Algoritms for Massive Data_** of the course _Algoritms for Massive Data, Cloud and Distributed Computing_ for the academic year **2021-2022**.\n",
    "The task is to implement a deep-learning-based system discriminating between real faces and comics, using the «Comics faces» dataset.\n",
    "The «Comic faces» dataset is published on Kaggle and released under the CC-BY 4.0 license, with attribution required. \n",
    "\n",
    "If you want to have a look before starting:\n",
    "- Dataset link: https://www.kaggle.com/defileroff/comic-faces-paired-synthetic-v2"
   ]
  },
  {
   "cell_type": "code",
   "execution_count": 1,
   "metadata": {},
   "outputs": [
    {
     "name": "stdout",
     "output_type": "stream",
     "text": [
      "comic-faces-paired-synthetic-v2.zip model_selection.ipynb\n",
      "deep-learning-experiment            preprocessing_and_modelling.ipynb\n",
      "download_data.ipynb                 samples\n",
      "face2comics_v2.0.0_by_Sxela\n"
     ]
    }
   ],
   "source": [
    "# we start importing the basic libraries\n",
    "import numpy as np\n",
    "import pandas as pd\n",
    "import matplotlib.pyplot as plt\n",
    "import os\n",
    "import datetime\n",
    "\n",
    "# We use a Python Library called OpenCV: <https://docs.opencv.org/4.x/d1/dfb/intro.html>\n",
    "# OpenCV (Open Source Computer Vision Library: http://opencv.org) is an open-source library that includes \n",
    "# several hundreds of computer vision algorithms for image operations.\n",
    "import cv2\n",
    "\n",
    "\n",
    "import random\n",
    "from sklearn.model_selection import train_test_split\n",
    "\n",
    "# tensorflow is the library used for deep learning\n",
    "import tensorflow as tf\n",
    "from tensorflow import keras\n",
    "from tensorflow.keras import layers\n",
    "from tensorflow.keras.layers import Dense, Conv2D, Activation, Flatten, MaxPooling2D, Dropout\n",
    "from kerastuner.tuners import RandomSearch, Hyperband\n",
    "from kerastuner.engine.hyperparameters import HyperParameters\n",
    "\n",
    "\n",
    "# visualkeras to get a pretty visualization of neural networks architectures\n",
    "# https://github.com/ashishpatel26/Tools-to-Design-or-Visualize-Architecture-of-Neural-Network\n",
    "import visualkeras\n",
    "\n",
    "# show the files in current directory \n",
    "!ls"
   ]
  },
  {
   "cell_type": "code",
   "execution_count": 37,
   "metadata": {},
   "outputs": [],
   "source": [
    "working_directory = !pwd                 # get present working directory\n",
    "working_directory = working_directory[0] # get the full string \n",
    "\n",
    "DIR = working_directory + \"/face2comics_v2.0.0_by_Sxela/face2comics_v2.0.0_by_Sxela\" # go inside the 2 folders\n",
    "CATEGORIES = [\"comics\", \"faces\"] # set the names of the subsequent folders, which would correspond to the \n",
    "                                 # labels of the class of our images - Comics and Faces.\n",
    "\n",
    "path_faces = os.path.join(DIR, CATEGORIES[1])   # path to the faces folder\n",
    "path_comics = os.path.join(DIR, CATEGORIES[0])  # path to the comics folder"
   ]
  },
  {
   "cell_type": "markdown",
   "metadata": {},
   "source": [
    "### Now let's get data"
   ]
  },
  {
   "cell_type": "code",
   "execution_count": 38,
   "metadata": {},
   "outputs": [],
   "source": [
    "# Define the image size below before the starting - for a good quality use 100\n",
    "data = []\n",
    "image_size = 128"
   ]
  },
  {
   "cell_type": "markdown",
   "metadata": {},
   "source": [
    "## Just took 4K images for both categories "
   ]
  },
  {
   "cell_type": "code",
   "execution_count": 39,
   "metadata": {},
   "outputs": [],
   "source": [
    "def get_data():\n",
    "    for category in CATEGORIES:\n",
    "        path = os.path.join(DIR, category)                # 2 iterations for both categories create \n",
    "                                                          # respectively 2 paths (2 folders)\n",
    "        classification_label = CATEGORIES.index(category) # get the classification label as an integer \n",
    "                                                          # (is it a real face ? Yes = 1, No = 0)\n",
    "        for image in os.listdir(path)[:4000]:\n",
    "            try:\n",
    "                image_array = cv2.imread(os.path.join(path, image), cv2.IMREAD_GRAYSCALE) # cv2 read an image for all the images in each folder\n",
    "                image_resized = cv2.resize(image_array, (image_size, image_size)) # resize the image\n",
    "                data.append([image_resized, classification_label]) # append each image encoded along with its label\n",
    "            except Exception as e:\n",
    "                pass"
   ]
  },
  {
   "cell_type": "code",
   "execution_count": 40,
   "metadata": {},
   "outputs": [
    {
     "name": "stdout",
     "output_type": "stream",
     "text": [
      "0:00:39.864016\n"
     ]
    }
   ],
   "source": [
    "# here we call the function above defined to get the data, and we measure the time it takes\n",
    "start = datetime.datetime.now()\n",
    "\n",
    "# call the function to get data\n",
    "get_data()\n",
    "\n",
    "# to quantify how much time it does take (~0.5 minutes with size = 128)\n",
    "stop = datetime.datetime.now()\n",
    "print(stop-start)"
   ]
  },
  {
   "cell_type": "code",
   "execution_count": 41,
   "metadata": {},
   "outputs": [],
   "source": [
    "random.seed(42)      # set a seed to get always the same results (optional, not necessary, we have a lot of data)\n",
    "random.shuffle(data) # to shuffle data inside, not to have all the comics before aand the faces after"
   ]
  },
  {
   "cell_type": "code",
   "execution_count": 42,
   "metadata": {},
   "outputs": [
    {
     "name": "stdout",
     "output_type": "stream",
     "text": [
      "Index is:  1\n",
      "Index is:  0\n",
      "Index is:  1\n",
      "Index is:  0\n",
      "Index is:  0\n"
     ]
    }
   ],
   "source": [
    "# Now they have been shuffled - print the first 5 labels\n",
    "for image in range(5):\n",
    "    print(\"Index is: \", data[image][1])"
   ]
  },
  {
   "cell_type": "code",
   "execution_count": 43,
   "metadata": {},
   "outputs": [
    {
     "data": {
      "text/plain": [
       "(128, 128)"
      ]
     },
     "execution_count": 43,
     "metadata": {},
     "output_type": "execute_result"
    }
   ],
   "source": [
    "data[0][0].shape"
   ]
  },
  {
   "cell_type": "code",
   "execution_count": 44,
   "metadata": {},
   "outputs": [],
   "source": [
    "# initialize empty lists: one for the datapoints, one for the target labels\n",
    "X = []\n",
    "y = []\n",
    "\n",
    "for pixels, label in data:\n",
    "    X.append(pixels)\n",
    "    y.append(label)"
   ]
  },
  {
   "cell_type": "code",
   "execution_count": 45,
   "metadata": {},
   "outputs": [
    {
     "data": {
      "text/plain": [
       "([array([[168, 185, 182, ..., 202, 200, 203],\n",
       "         [179, 185, 187, ..., 198, 198, 189],\n",
       "         [201, 177, 159, ..., 195, 192, 185],\n",
       "         ...,\n",
       "         [ 66,  67,  68, ...,  88,  69,  63],\n",
       "         [ 62,  65,  57, ..., 104,  83,  66],\n",
       "         [ 71,  64,  60, ..., 114, 104, 100]], dtype=uint8),\n",
       "  array([[ 82,  83,  83, ...,  84,  84,  84],\n",
       "         [ 85,  84,  83, ...,  84,  83,  82],\n",
       "         [ 84,  84,  85, ...,  84,  84,  83],\n",
       "         ...,\n",
       "         [  8,   9,  10, ..., 105, 107, 110],\n",
       "         [  8,   9,   9, ..., 106, 108, 112],\n",
       "         [ 12,   8,   8, ..., 109, 111, 114]], dtype=uint8)],\n",
       " [1, 0])"
      ]
     },
     "execution_count": 45,
     "metadata": {},
     "output_type": "execute_result"
    }
   ],
   "source": [
    "X[:2], y[:2] # the first 2 examples I saved"
   ]
  },
  {
   "cell_type": "code",
   "execution_count": 46,
   "metadata": {},
   "outputs": [],
   "source": [
    "# transform our lists into Numpy arrays\n",
    "X = np.array(X)\n",
    "y = np.array(y)"
   ]
  },
  {
   "cell_type": "markdown",
   "metadata": {},
   "source": [
    "### Train-Test split for our data"
   ]
  },
  {
   "cell_type": "code",
   "execution_count": 47,
   "metadata": {},
   "outputs": [],
   "source": [
    "# now split data and lock somewhere your test data\n",
    "# we are going to use only training data, and just a portion of them as validation for the hyperparameter tuning\n",
    "x_train, x_test, y_train, y_test = train_test_split(X, y, \n",
    "                                                    test_size=0.2, \n",
    "                                                    random_state=42, \n",
    "                                                    stratify=y)"
   ]
  },
  {
   "cell_type": "code",
   "execution_count": 48,
   "metadata": {},
   "outputs": [],
   "source": [
    "x_train, x_val, y_train, y_val = train_test_split(x_train, y_train, \n",
    "                                                  test_size=0.1, \n",
    "                                                  random_state=42, \n",
    "                                                  stratify=y_train)"
   ]
  },
  {
   "cell_type": "code",
   "execution_count": 49,
   "metadata": {},
   "outputs": [
    {
     "name": "stdout",
     "output_type": "stream",
     "text": [
      "Train examples (5760, 128, 128)\n",
      "Validation examples (640, 128, 128)\n",
      "Test examples (1600, 128, 128)\n"
     ]
    }
   ],
   "source": [
    "print(\"Train examples\", x_train.shape)\n",
    "print(\"Validation examples\", x_val.shape)\n",
    "print(\"Test examples\", x_test.shape)"
   ]
  },
  {
   "cell_type": "code",
   "execution_count": 50,
   "metadata": {},
   "outputs": [
    {
     "data": {
      "text/plain": [
       "(array([0, 1]), array([800, 800]))"
      ]
     },
     "execution_count": 50,
     "metadata": {},
     "output_type": "execute_result"
    }
   ],
   "source": [
    "np.unique(y_test, return_counts=True) # balanced"
   ]
  },
  {
   "cell_type": "markdown",
   "metadata": {},
   "source": [
    "### Setup some parameters before to start modelling, and make OneHotEncoding on target labels"
   ]
  },
  {
   "cell_type": "code",
   "execution_count": 51,
   "metadata": {},
   "outputs": [],
   "source": [
    "# Model / data parameters\n",
    "num_classes = 2\n",
    "input_shape = x_train.shape[1:]"
   ]
  },
  {
   "cell_type": "code",
   "execution_count": 52,
   "metadata": {},
   "outputs": [],
   "source": [
    "# convert class vectors to binary class matrices\n",
    "y_train = keras.utils.to_categorical(y_train, num_classes)\n",
    "y_val = keras.utils.to_categorical(y_val, num_classes)\n",
    "y_test = keras.utils.to_categorical(y_test, num_classes)"
   ]
  },
  {
   "cell_type": "code",
   "execution_count": 53,
   "metadata": {},
   "outputs": [
    {
     "data": {
      "text/plain": [
       "((5760, 2), (640, 2), (1600, 2))"
      ]
     },
     "execution_count": 53,
     "metadata": {},
     "output_type": "execute_result"
    }
   ],
   "source": [
    "y_train.shape, y_val.shape, y_test.shape"
   ]
  },
  {
   "cell_type": "code",
   "execution_count": 54,
   "metadata": {},
   "outputs": [],
   "source": [
    "# Scale images to the [0, 1] range\n",
    "x_train = x_train.astype(\"float32\") / 255\n",
    "x_val = x_val.astype(\"float32\") / 255\n",
    "x_test = x_test.astype(\"float32\") / 255"
   ]
  },
  {
   "cell_type": "code",
   "execution_count": 55,
   "metadata": {},
   "outputs": [
    {
     "data": {
      "text/plain": [
       "(0.99607843, 0.007843138)"
      ]
     },
     "execution_count": 55,
     "metadata": {},
     "output_type": "execute_result"
    }
   ],
   "source": [
    "np.max(x_train[0]), np.min(x_train[0])"
   ]
  },
  {
   "cell_type": "code",
   "execution_count": 56,
   "metadata": {},
   "outputs": [],
   "source": [
    "# To use Convolutional neural networks we need one dimension more (3 dims)\n",
    "input_shape = (image_size, image_size, 1)\n",
    "BATCH_SIZE = 128\n",
    "epochs = 10"
   ]
  },
  {
   "cell_type": "markdown",
   "metadata": {},
   "source": [
    "### Initialize some hyperparameters\n",
    "- **filters**: for the number of filters inside the convolutional\n",
    "- **dropout rate**: for the rate of the Dropout layer"
   ]
  },
  {
   "cell_type": "code",
   "execution_count": 57,
   "metadata": {},
   "outputs": [],
   "source": [
    "# hp_filters = [32, 64, 128]\n",
    "# hp_dropout = [0.3, 0.5, 0.7]\n",
    "# hp_learning_rate = [1e-2, 1e-3, 1e-4]"
   ]
  },
  {
   "cell_type": "code",
   "execution_count": 58,
   "metadata": {},
   "outputs": [],
   "source": [
    "# some trials from scratch\n",
    "\n",
    "#t = 1 # for trial count\n",
    "#results = {} # to save results\n",
    "#\n",
    "#for filters in hp_filters:\n",
    "#    for dropout in hp_dropout:\n",
    "#        # build the model\n",
    "#        print(\"TRIAL #:\", t, \"#############################################\")\n",
    "#        print(\"- Number of filters in Conv2D layer:\", filters, \"\\n\", \"- Dropout rate:\", dropout)\n",
    "#        model = keras.Sequential(\n",
    "#            [\n",
    "#                keras.Input(shape=input_shape),\n",
    "#                layers.Conv2D(filters, kernel_size=(3, 3), activation=\"relu\"),\n",
    "#                layers.MaxPooling2D(pool_size=(2, 2)),\n",
    "#                layers.Flatten(),\n",
    "#                layers.Dropout(dropout),\n",
    "#                layers.Dense(num_classes, activation=\"softmax\"),\n",
    "#            ]\n",
    "#        )\n",
    "#        # compile the model\n",
    "#        model.compile(loss=\"categorical_crossentropy\", optimizer=\"adam\", metrics=[\"accuracy\"])\n",
    "#        # fit the model\n",
    "#        history = model.fit(x_train, y_train, \n",
    "#                            batch_size=BATCH_SIZE,\n",
    "#                            epochs=epochs,\n",
    "#                            validation_data=(x_val,y_val),\n",
    "#                            verbose=0)\n",
    "#        print(\"______________________ Validation accuracy in the last epoch:\", history.history['val_accuracy'][-1])\n",
    "#        results[(filters, dropout)] = history.history['val_accuracy'] # save here the results for the epochs\n",
    "#        t += 1 # next trial"
   ]
  },
  {
   "cell_type": "code",
   "execution_count": 59,
   "metadata": {},
   "outputs": [],
   "source": [
    "#for hp in range(t):\n",
    "#    plt.plot(results[t])"
   ]
  },
  {
   "cell_type": "markdown",
   "metadata": {},
   "source": [
    "## Start hyper-parameter tuning"
   ]
  },
  {
   "cell_type": "code",
   "execution_count": 60,
   "metadata": {},
   "outputs": [],
   "source": [
    "input_shape = (image_size, image_size, 1)"
   ]
  },
  {
   "cell_type": "code",
   "execution_count": 61,
   "metadata": {},
   "outputs": [],
   "source": [
    "# Make sure images have shape (100, 100, 1) -----> Tensors needed for batches\n",
    "x_train = np.expand_dims(x_train, -1)\n",
    "x_val = np.expand_dims(x_val, -1)\n",
    "x_test = np.expand_dims(x_test, -1)"
   ]
  },
  {
   "cell_type": "code",
   "execution_count": 62,
   "metadata": {},
   "outputs": [
    {
     "name": "stdout",
     "output_type": "stream",
     "text": [
      "x_train shape: (5760, 128, 128, 1)\n",
      "x_val shape: (640, 128, 128, 1)\n",
      "x_test shape: (1600, 128, 128, 1)\n"
     ]
    }
   ],
   "source": [
    "print(\"x_train shape:\", x_train.shape)\n",
    "print(\"x_val shape:\", x_val.shape)\n",
    "print(\"x_test shape:\", x_test.shape)"
   ]
  },
  {
   "cell_type": "code",
   "execution_count": 63,
   "metadata": {},
   "outputs": [],
   "source": [
    "# set directory where to save the experiment results\n",
    "DIR = working_directory"
   ]
  },
  {
   "cell_type": "code",
   "execution_count": 64,
   "metadata": {},
   "outputs": [],
   "source": [
    "def build_model(hp):\n",
    "    model = tf.keras.Sequential(\n",
    "    [\n",
    "        keras.Input(shape=input_shape),\n",
    "        #convolutional layer\n",
    "        layers.Conv2D(hp.Choice('filters_1', values=[100, 200]), kernel_size=(3, 3), activation=\"relu\"),\n",
    "        #pooling layer\n",
    "        layers.MaxPooling2D(pool_size=(2, 2)),\n",
    "        #another convolutional layer\n",
    "        layers.Conv2D(hp.Choice('filters_2', values=[25, 50]), kernel_size=(3, 3), activation=\"relu\"),\n",
    "        #another pooling layer\n",
    "        layers.MaxPooling2D(pool_size=(2, 2)),\n",
    "        #flatten layer\n",
    "        layers.Flatten(),\n",
    "        #dropout layer\n",
    "        layers.Dropout(hp.Choice('dropout_rate', values=[0.5, 0.7])),\n",
    "        #last 2 neurons for the outcome\n",
    "        layers.Dense(num_classes, activation=\"softmax\")\n",
    "    ])\n",
    "\n",
    "    #compile model\n",
    "    model.compile(loss='categorical_crossentropy',\n",
    "                  optimizer=tf.keras.optimizers.Adam(learning_rate=hp.Choice('lr', values=[1e-2, 1e-3])),\n",
    "                  metrics=['accuracy'])\n",
    "    return model"
   ]
  },
  {
   "cell_type": "code",
   "execution_count": 65,
   "metadata": {},
   "outputs": [],
   "source": [
    "tuner = Hyperband(build_model, \n",
    "                  objective='val_accuracy', \n",
    "                  max_epochs=30,\n",
    "                  hyperband_iterations=1,\n",
    "                  directory=DIR,\n",
    "                  project_name='deep-learning-experiment_2')"
   ]
  },
  {
   "cell_type": "code",
   "execution_count": 66,
   "metadata": {},
   "outputs": [],
   "source": [
    "early_stop = tf.keras.callbacks.EarlyStopping(monitor='val_loss', patience=3, min_delta=0.0001)"
   ]
  },
  {
   "cell_type": "code",
   "execution_count": 67,
   "metadata": {},
   "outputs": [
    {
     "name": "stdout",
     "output_type": "stream",
     "text": [
      "Epoch 1/2\n",
      "90/90 [==============================] - ETA: 1:38 - loss: 0.6903 - accuracy: 0.53 - ETA: 1:15 - loss: 2.4995 - accuracy: 0.50 - ETA: 1:14 - loss: 4.1172 - accuracy: 0.48 - ETA: 1:14 - loss: 3.4834 - accuracy: 0.50 - ETA: 1:13 - loss: 2.9193 - accuracy: 0.49 - ETA: 1:12 - loss: 2.5413 - accuracy: 0.52 - ETA: 1:12 - loss: 2.2633 - accuracy: 0.53 - ETA: 1:11 - loss: 2.0441 - accuracy: 0.57 - ETA: 1:11 - loss: 1.9037 - accuracy: 0.56 - ETA: 1:10 - loss: 1.7614 - accuracy: 0.57 - ETA: 1:09 - loss: 1.6450 - accuracy: 0.59 - ETA: 1:09 - loss: 1.5448 - accuracy: 0.61 - ETA: 1:08 - loss: 1.4585 - accuracy: 0.62 - ETA: 1:07 - loss: 1.3877 - accuracy: 0.64 - ETA: 1:07 - loss: 1.3199 - accuracy: 0.65 - ETA: 1:06 - loss: 1.2619 - accuracy: 0.66 - ETA: 1:06 - loss: 1.2159 - accuracy: 0.67 - ETA: 1:05 - loss: 1.1717 - accuracy: 0.68 - ETA: 1:05 - loss: 1.1315 - accuracy: 0.69 - ETA: 1:04 - loss: 1.0983 - accuracy: 0.69 - ETA: 1:03 - loss: 1.0662 - accuracy: 0.70 - ETA: 1:03 - loss: 1.0352 - accuracy: 0.71 - ETA: 1:02 - loss: 1.0028 - accuracy: 0.71 - ETA: 1:01 - loss: 0.9708 - accuracy: 0.72 - ETA: 1:00 - loss: 0.9410 - accuracy: 0.73 - ETA: 59s - loss: 0.9136 - accuracy: 0.7404 - ETA: 58s - loss: 0.8883 - accuracy: 0.747 - ETA: 58s - loss: 0.8622 - accuracy: 0.754 - ETA: 57s - loss: 0.8378 - accuracy: 0.760 - ETA: 56s - loss: 0.8287 - accuracy: 0.764 - ETA: 55s - loss: 0.8112 - accuracy: 0.768 - ETA: 54s - loss: 0.7934 - accuracy: 0.772 - ETA: 54s - loss: 0.7740 - accuracy: 0.778 - ETA: 53s - loss: 0.7554 - accuracy: 0.783 - ETA: 52s - loss: 0.7398 - accuracy: 0.785 - ETA: 52s - loss: 0.7234 - accuracy: 0.789 - ETA: 51s - loss: 0.7061 - accuracy: 0.795 - ETA: 50s - loss: 0.6907 - accuracy: 0.799 - ETA: 50s - loss: 0.6754 - accuracy: 0.803 - ETA: 49s - loss: 0.6629 - accuracy: 0.807 - ETA: 48s - loss: 0.6484 - accuracy: 0.811 - ETA: 47s - loss: 0.6359 - accuracy: 0.814 - ETA: 46s - loss: 0.6242 - accuracy: 0.817 - ETA: 45s - loss: 0.6116 - accuracy: 0.821 - ETA: 44s - loss: 0.6001 - accuracy: 0.824 - ETA: 43s - loss: 0.5890 - accuracy: 0.827 - ETA: 42s - loss: 0.5803 - accuracy: 0.828 - ETA: 41s - loss: 0.5707 - accuracy: 0.831 - ETA: 40s - loss: 0.5616 - accuracy: 0.833 - ETA: 39s - loss: 0.5520 - accuracy: 0.836 - ETA: 39s - loss: 0.5426 - accuracy: 0.839 - ETA: 38s - loss: 0.5346 - accuracy: 0.840 - ETA: 37s - loss: 0.5263 - accuracy: 0.842 - ETA: 36s - loss: 0.5183 - accuracy: 0.845 - ETA: 35s - loss: 0.5105 - accuracy: 0.847 - ETA: 34s - loss: 0.5021 - accuracy: 0.849 - ETA: 33s - loss: 0.4949 - accuracy: 0.851 - ETA: 32s - loss: 0.4890 - accuracy: 0.852 - ETA: 31s - loss: 0.4822 - accuracy: 0.854 - ETA: 30s - loss: 0.4752 - accuracy: 0.857 - ETA: 29s - loss: 0.4682 - accuracy: 0.858 - ETA: 28s - loss: 0.4612 - accuracy: 0.860 - ETA: 27s - loss: 0.4554 - accuracy: 0.862 - ETA: 26s - loss: 0.4496 - accuracy: 0.864 - ETA: 25s - loss: 0.4434 - accuracy: 0.865 - ETA: 24s - loss: 0.4374 - accuracy: 0.867 - ETA: 23s - loss: 0.4312 - accuracy: 0.869 - ETA: 22s - loss: 0.4251 - accuracy: 0.871 - ETA: 21s - loss: 0.4193 - accuracy: 0.873 - ETA: 20s - loss: 0.4141 - accuracy: 0.874 - ETA: 19s - loss: 0.4087 - accuracy: 0.876 - ETA: 18s - loss: 0.4036 - accuracy: 0.878 - ETA: 17s - loss: 0.3983 - accuracy: 0.879 - ETA: 16s - loss: 0.3932 - accuracy: 0.881 - ETA: 15s - loss: 0.3881 - accuracy: 0.882 - ETA: 14s - loss: 0.3842 - accuracy: 0.883 - ETA: 13s - loss: 0.3794 - accuracy: 0.885 - ETA: 12s - loss: 0.3749 - accuracy: 0.886 - ETA: 11s - loss: 0.3713 - accuracy: 0.887 - ETA: 10s - loss: 0.3668 - accuracy: 0.888 - ETA: 9s - loss: 0.3633 - accuracy: 0.889 - ETA: 8s - loss: 0.3595 - accuracy: 0.89 - ETA: 7s - loss: 0.3555 - accuracy: 0.89 - ETA: 6s - loss: 0.3518 - accuracy: 0.89 - ETA: 5s - loss: 0.3485 - accuracy: 0.89 - ETA: 4s - loss: 0.3446 - accuracy: 0.89 - ETA: 3s - loss: 0.3412 - accuracy: 0.89 - ETA: 2s - loss: 0.3383 - accuracy: 0.89 - ETA: 1s - loss: 0.3349 - accuracy: 0.89 - ETA: 0s - loss: 0.3313 - accuracy: 0.89 - 98s 1s/step - loss: 0.3313 - accuracy: 0.8990 - val_loss: 0.0281 - val_accuracy: 0.9922\n",
      "Epoch 2/2\n",
      "90/90 [==============================] - ETA: 1:36 - loss: 0.0173 - accuracy: 1.00 - ETA: 1:38 - loss: 0.0371 - accuracy: 0.99 - ETA: 1:38 - loss: 0.0603 - accuracy: 0.97 - ETA: 1:35 - loss: 0.0485 - accuracy: 0.98 - ETA: 1:35 - loss: 0.0482 - accuracy: 0.98 - ETA: 1:34 - loss: 0.0664 - accuracy: 0.97 - ETA: 1:32 - loss: 0.0621 - accuracy: 0.97 - ETA: 1:31 - loss: 0.0555 - accuracy: 0.97 - ETA: 1:30 - loss: 0.0649 - accuracy: 0.97 - ETA: 1:29 - loss: 0.0640 - accuracy: 0.97 - ETA: 1:28 - loss: 0.0621 - accuracy: 0.97 - ETA: 1:27 - loss: 0.0594 - accuracy: 0.97 - ETA: 1:26 - loss: 0.0570 - accuracy: 0.97 - ETA: 1:25 - loss: 0.0543 - accuracy: 0.97 - ETA: 1:24 - loss: 0.0508 - accuracy: 0.97 - ETA: 1:23 - loss: 0.0479 - accuracy: 0.97 - ETA: 1:21 - loss: 0.0473 - accuracy: 0.97 - ETA: 1:20 - loss: 0.0448 - accuracy: 0.97 - ETA: 1:19 - loss: 0.0441 - accuracy: 0.97 - ETA: 1:18 - loss: 0.0420 - accuracy: 0.98 - ETA: 1:17 - loss: 0.0430 - accuracy: 0.97 - ETA: 1:16 - loss: 0.0424 - accuracy: 0.98 - ETA: 1:15 - loss: 0.0411 - accuracy: 0.98 - ETA: 1:14 - loss: 0.0399 - accuracy: 0.98 - ETA: 1:13 - loss: 0.0403 - accuracy: 0.98 - ETA: 1:11 - loss: 0.0397 - accuracy: 0.98 - ETA: 1:10 - loss: 0.0432 - accuracy: 0.98 - ETA: 1:09 - loss: 0.0426 - accuracy: 0.98 - ETA: 1:08 - loss: 0.0413 - accuracy: 0.98 - ETA: 1:07 - loss: 0.0401 - accuracy: 0.98 - ETA: 1:06 - loss: 0.0427 - accuracy: 0.98 - ETA: 1:05 - loss: 0.0433 - accuracy: 0.98 - ETA: 1:04 - loss: 0.0422 - accuracy: 0.98 - ETA: 1:03 - loss: 0.0410 - accuracy: 0.98 - ETA: 1:01 - loss: 0.0402 - accuracy: 0.98 - ETA: 1:00 - loss: 0.0431 - accuracy: 0.98 - ETA: 59s - loss: 0.0429 - accuracy: 0.9831 - ETA: 58s - loss: 0.0418 - accuracy: 0.983 - ETA: 57s - loss: 0.0409 - accuracy: 0.984 - ETA: 56s - loss: 0.0402 - accuracy: 0.984 - ETA: 55s - loss: 0.0404 - accuracy: 0.984 - ETA: 54s - loss: 0.0396 - accuracy: 0.984 - ETA: 53s - loss: 0.0390 - accuracy: 0.984 - ETA: 52s - loss: 0.0391 - accuracy: 0.984 - ETA: 51s - loss: 0.0382 - accuracy: 0.985 - ETA: 50s - loss: 0.0387 - accuracy: 0.985 - ETA: 49s - loss: 0.0390 - accuracy: 0.984 - ETA: 47s - loss: 0.0389 - accuracy: 0.985 - ETA: 46s - loss: 0.0382 - accuracy: 0.985 - ETA: 45s - loss: 0.0375 - accuracy: 0.985 - ETA: 44s - loss: 0.0368 - accuracy: 0.985 - ETA: 43s - loss: 0.0361 - accuracy: 0.986 - ETA: 42s - loss: 0.0373 - accuracy: 0.985 - ETA: 41s - loss: 0.0369 - accuracy: 0.986 - ETA: 40s - loss: 0.0363 - accuracy: 0.986 - ETA: 39s - loss: 0.0357 - accuracy: 0.986 - ETA: 37s - loss: 0.0353 - accuracy: 0.986 - ETA: 36s - loss: 0.0347 - accuracy: 0.987 - ETA: 35s - loss: 0.0342 - accuracy: 0.987 - ETA: 34s - loss: 0.0337 - accuracy: 0.987 - ETA: 33s - loss: 0.0333 - accuracy: 0.987 - ETA: 32s - loss: 0.0329 - accuracy: 0.987 - ETA: 31s - loss: 0.0325 - accuracy: 0.988 - ETA: 29s - loss: 0.0320 - accuracy: 0.988 - ETA: 28s - loss: 0.0316 - accuracy: 0.988 - ETA: 27s - loss: 0.0314 - accuracy: 0.988 - ETA: 26s - loss: 0.0310 - accuracy: 0.988 - ETA: 25s - loss: 0.0305 - accuracy: 0.988 - ETA: 24s - loss: 0.0301 - accuracy: 0.988 - ETA: 23s - loss: 0.0298 - accuracy: 0.989 - ETA: 21s - loss: 0.0294 - accuracy: 0.989 - ETA: 20s - loss: 0.0291 - accuracy: 0.989 - ETA: 19s - loss: 0.0287 - accuracy: 0.989 - ETA: 18s - loss: 0.0283 - accuracy: 0.989 - ETA: 17s - loss: 0.0281 - accuracy: 0.989 - ETA: 16s - loss: 0.0278 - accuracy: 0.989 - ETA: 14s - loss: 0.0277 - accuracy: 0.989 - ETA: 13s - loss: 0.0274 - accuracy: 0.990 - ETA: 12s - loss: 0.0272 - accuracy: 0.989 - ETA: 11s - loss: 0.0269 - accuracy: 0.990 - ETA: 10s - loss: 0.0266 - accuracy: 0.990 - ETA: 9s - loss: 0.0267 - accuracy: 0.990 - ETA: 8s - loss: 0.0268 - accuracy: 0.99 - ETA: 6s - loss: 0.0274 - accuracy: 0.99 - ETA: 5s - loss: 0.0271 - accuracy: 0.99 - ETA: 4s - loss: 0.0269 - accuracy: 0.99 - ETA: 3s - loss: 0.0266 - accuracy: 0.99 - ETA: 2s - loss: 0.0263 - accuracy: 0.99 - ETA: 1s - loss: 0.0262 - accuracy: 0.99 - ETA: 0s - loss: 0.0261 - accuracy: 0.99 - 107s 1s/step - loss: 0.0261 - accuracy: 0.9905 - val_loss: 0.0063 - val_accuracy: 0.9969\n"
     ]
    },
    {
     "data": {
      "text/html": [
       "<span style=\"color:#4527A0\"><h1 style=\"font-size:18px\">Trial complete</h1></span>"
      ],
      "text/plain": [
       "<IPython.core.display.HTML object>"
      ]
     },
     "metadata": {},
     "output_type": "display_data"
    },
    {
     "data": {
      "text/html": [
       "<span style=\"color:#4527A0\"><h1 style=\"font-size:18px\">Trial summary</h1></span>"
      ],
      "text/plain": [
       "<IPython.core.display.HTML object>"
      ]
     },
     "metadata": {},
     "output_type": "display_data"
    },
    {
     "data": {
      "text/html": [
       "<span style=\"color:#7E57C2\"><h2 style=\"font-size:16px\">Hp values:</h2></span>"
      ],
      "text/plain": [
       "<IPython.core.display.HTML object>"
      ]
     },
     "metadata": {},
     "output_type": "display_data"
    },
    {
     "data": {
      "text/html": [
       "<span style=\"color:cyan\"> |-dropout_rate: 0.5</span>"
      ],
      "text/plain": [
       "<IPython.core.display.HTML object>"
      ]
     },
     "metadata": {},
     "output_type": "display_data"
    },
    {
     "data": {
      "text/html": [
       "<span style=\"color:blue\"> |-filters_1: 100</span>"
      ],
      "text/plain": [
       "<IPython.core.display.HTML object>"
      ]
     },
     "metadata": {},
     "output_type": "display_data"
    },
    {
     "data": {
      "text/html": [
       "<span style=\"color:cyan\"> |-filters_2: 25</span>"
      ],
      "text/plain": [
       "<IPython.core.display.HTML object>"
      ]
     },
     "metadata": {},
     "output_type": "display_data"
    },
    {
     "data": {
      "text/html": [
       "<span style=\"color:blue\"> |-lr: 0.01</span>"
      ],
      "text/plain": [
       "<IPython.core.display.HTML object>"
      ]
     },
     "metadata": {},
     "output_type": "display_data"
    },
    {
     "data": {
      "text/html": [
       "<span style=\"color:cyan\"> |-tuner/bracket: 3</span>"
      ],
      "text/plain": [
       "<IPython.core.display.HTML object>"
      ]
     },
     "metadata": {},
     "output_type": "display_data"
    },
    {
     "data": {
      "text/html": [
       "<span style=\"color:blue\"> |-tuner/epochs: 2</span>"
      ],
      "text/plain": [
       "<IPython.core.display.HTML object>"
      ]
     },
     "metadata": {},
     "output_type": "display_data"
    },
    {
     "data": {
      "text/html": [
       "<span style=\"color:cyan\"> |-tuner/initial_epoch: 0</span>"
      ],
      "text/plain": [
       "<IPython.core.display.HTML object>"
      ]
     },
     "metadata": {},
     "output_type": "display_data"
    },
    {
     "data": {
      "text/html": [
       "<span style=\"color:blue\"> |-tuner/round: 0</span>"
      ],
      "text/plain": [
       "<IPython.core.display.HTML object>"
      ]
     },
     "metadata": {},
     "output_type": "display_data"
    },
    {
     "data": {
      "text/html": [
       "<span style=\"color:cyan\"> |-Score: 0.996874988079071</span>"
      ],
      "text/plain": [
       "<IPython.core.display.HTML object>"
      ]
     },
     "metadata": {},
     "output_type": "display_data"
    },
    {
     "data": {
      "text/html": [
       "<span style=\"color:cyan\"> |-Best step: 0</span>"
      ],
      "text/plain": [
       "<IPython.core.display.HTML object>"
      ]
     },
     "metadata": {},
     "output_type": "display_data"
    },
    {
     "name": "stdout",
     "output_type": "stream",
     "text": [
      "Epoch 1/2\n",
      "90/90 [==============================] - ETA: 2:36 - loss: 0.6608 - accuracy: 0.57 - ETA: 2:06 - loss: 0.7856 - accuracy: 0.53 - ETA: 2:05 - loss: 0.7314 - accuracy: 0.53 - ETA: 2:03 - loss: 0.7230 - accuracy: 0.53 - ETA: 2:01 - loss: 0.7009 - accuracy: 0.53 - ETA: 2:02 - loss: 0.6768 - accuracy: 0.59 - ETA: 2:00 - loss: 0.6503 - accuracy: 0.64 - ETA: 1:59 - loss: 0.6265 - accuracy: 0.68 - ETA: 1:57 - loss: 0.5975 - accuracy: 0.71 - ETA: 1:55 - loss: 0.5712 - accuracy: 0.74 - ETA: 1:54 - loss: 0.5534 - accuracy: 0.75 - ETA: 1:54 - loss: 0.5258 - accuracy: 0.76 - ETA: 1:55 - loss: 0.5008 - accuracy: 0.78 - ETA: 1:54 - loss: 0.4806 - accuracy: 0.79 - ETA: 1:54 - loss: 0.4580 - accuracy: 0.80 - ETA: 1:52 - loss: 0.4387 - accuracy: 0.81 - ETA: 1:50 - loss: 0.4208 - accuracy: 0.82 - ETA: 1:49 - loss: 0.4134 - accuracy: 0.82 - ETA: 1:49 - loss: 0.3984 - accuracy: 0.83 - ETA: 1:48 - loss: 0.3849 - accuracy: 0.83 - ETA: 1:46 - loss: 0.3684 - accuracy: 0.84 - ETA: 1:44 - loss: 0.3573 - accuracy: 0.85 - ETA: 1:43 - loss: 0.3459 - accuracy: 0.85 - ETA: 1:42 - loss: 0.3364 - accuracy: 0.86 - ETA: 1:40 - loss: 0.3263 - accuracy: 0.86 - ETA: 1:38 - loss: 0.3144 - accuracy: 0.86 - ETA: 1:36 - loss: 0.3069 - accuracy: 0.87 - ETA: 1:35 - loss: 0.2968 - accuracy: 0.87 - ETA: 1:33 - loss: 0.2872 - accuracy: 0.88 - ETA: 1:31 - loss: 0.2791 - accuracy: 0.88 - ETA: 1:29 - loss: 0.2718 - accuracy: 0.88 - ETA: 1:28 - loss: 0.2649 - accuracy: 0.89 - ETA: 1:26 - loss: 0.2572 - accuracy: 0.89 - ETA: 1:24 - loss: 0.2520 - accuracy: 0.89 - ETA: 1:23 - loss: 0.2470 - accuracy: 0.89 - ETA: 1:21 - loss: 0.2408 - accuracy: 0.90 - ETA: 1:19 - loss: 0.2348 - accuracy: 0.90 - ETA: 1:18 - loss: 0.2302 - accuracy: 0.90 - ETA: 1:16 - loss: 0.2261 - accuracy: 0.90 - ETA: 1:15 - loss: 0.2206 - accuracy: 0.90 - ETA: 1:13 - loss: 0.2157 - accuracy: 0.91 - ETA: 1:11 - loss: 0.2116 - accuracy: 0.91 - ETA: 1:10 - loss: 0.2086 - accuracy: 0.91 - ETA: 1:08 - loss: 0.2044 - accuracy: 0.91 - ETA: 1:07 - loss: 0.2004 - accuracy: 0.91 - ETA: 1:05 - loss: 0.1963 - accuracy: 0.92 - ETA: 1:03 - loss: 0.1939 - accuracy: 0.92 - ETA: 1:02 - loss: 0.1906 - accuracy: 0.92 - ETA: 1:00 - loss: 0.1874 - accuracy: 0.92 - ETA: 59s - loss: 0.1838 - accuracy: 0.9253 - ETA: 57s - loss: 0.1807 - accuracy: 0.926 - ETA: 56s - loss: 0.1774 - accuracy: 0.928 - ETA: 54s - loss: 0.1747 - accuracy: 0.929 - ETA: 53s - loss: 0.1717 - accuracy: 0.930 - ETA: 51s - loss: 0.1688 - accuracy: 0.931 - ETA: 50s - loss: 0.1660 - accuracy: 0.933 - ETA: 48s - loss: 0.1631 - accuracy: 0.934 - ETA: 47s - loss: 0.1604 - accuracy: 0.935 - ETA: 45s - loss: 0.1580 - accuracy: 0.936 - ETA: 44s - loss: 0.1567 - accuracy: 0.936 - ETA: 42s - loss: 0.1543 - accuracy: 0.937 - ETA: 41s - loss: 0.1524 - accuracy: 0.938 - ETA: 39s - loss: 0.1507 - accuracy: 0.939 - ETA: 38s - loss: 0.1486 - accuracy: 0.939 - ETA: 36s - loss: 0.1467 - accuracy: 0.940 - ETA: 35s - loss: 0.1447 - accuracy: 0.941 - ETA: 33s - loss: 0.1429 - accuracy: 0.941 - ETA: 32s - loss: 0.1409 - accuracy: 0.942 - ETA: 30s - loss: 0.1390 - accuracy: 0.943 - ETA: 29s - loss: 0.1382 - accuracy: 0.944 - ETA: 27s - loss: 0.1363 - accuracy: 0.945 - ETA: 26s - loss: 0.1345 - accuracy: 0.945 - ETA: 24s - loss: 0.1331 - accuracy: 0.946 - ETA: 23s - loss: 0.1314 - accuracy: 0.947 - ETA: 21s - loss: 0.1301 - accuracy: 0.947 - ETA: 20s - loss: 0.1285 - accuracy: 0.948 - ETA: 18s - loss: 0.1270 - accuracy: 0.948 - ETA: 17s - loss: 0.1260 - accuracy: 0.949 - ETA: 15s - loss: 0.1246 - accuracy: 0.949 - ETA: 14s - loss: 0.1232 - accuracy: 0.950 - ETA: 13s - loss: 0.1218 - accuracy: 0.951 - ETA: 11s - loss: 0.1207 - accuracy: 0.951 - ETA: 10s - loss: 0.1192 - accuracy: 0.952 - ETA: 8s - loss: 0.1180 - accuracy: 0.952 - ETA: 7s - loss: 0.1170 - accuracy: 0.95 - ETA: 5s - loss: 0.1158 - accuracy: 0.95 - ETA: 4s - loss: 0.1150 - accuracy: 0.95 - ETA: 2s - loss: 0.1137 - accuracy: 0.95 - ETA: 1s - loss: 0.1126 - accuracy: 0.95 - ETA: 0s - loss: 0.1116 - accuracy: 0.95 - 134s 1s/step - loss: 0.1116 - accuracy: 0.9552 - val_loss: 0.0140 - val_accuracy: 0.9953\n",
      "Epoch 2/2\n",
      "90/90 [==============================] - ETA: 2:01 - loss: 0.0063 - accuracy: 1.00 - ETA: 2:02 - loss: 0.0045 - accuracy: 1.00 - ETA: 2:02 - loss: 0.0078 - accuracy: 1.00 - ETA: 2:00 - loss: 0.0099 - accuracy: 1.00 - ETA: 1:58 - loss: 0.0136 - accuracy: 0.99 - ETA: 1:57 - loss: 0.0120 - accuracy: 0.99 - ETA: 1:55 - loss: 0.0120 - accuracy: 0.99 - ETA: 1:54 - loss: 0.0122 - accuracy: 0.99 - ETA: 1:52 - loss: 0.0153 - accuracy: 0.99 - ETA: 1:51 - loss: 0.0153 - accuracy: 0.99 - ETA: 1:49 - loss: 0.0140 - accuracy: 0.99 - ETA: 1:48 - loss: 0.0172 - accuracy: 0.99 - ETA: 1:47 - loss: 0.0170 - accuracy: 0.99 - ETA: 1:45 - loss: 0.0178 - accuracy: 0.99 - ETA: 1:44 - loss: 0.0169 - accuracy: 0.99 - ETA: 1:42 - loss: 0.0159 - accuracy: 0.99 - ETA: 1:41 - loss: 0.0151 - accuracy: 0.99 - ETA: 1:39 - loss: 0.0144 - accuracy: 0.99 - ETA: 1:38 - loss: 0.0137 - accuracy: 0.99 - ETA: 1:37 - loss: 0.0134 - accuracy: 0.99 - ETA: 1:35 - loss: 0.0128 - accuracy: 0.99 - ETA: 1:34 - loss: 0.0134 - accuracy: 0.99 - ETA: 1:32 - loss: 0.0129 - accuracy: 0.99 - ETA: 1:31 - loss: 0.0125 - accuracy: 0.99 - ETA: 1:30 - loss: 0.0121 - accuracy: 0.99 - ETA: 1:28 - loss: 0.0128 - accuracy: 0.99 - ETA: 1:27 - loss: 0.0134 - accuracy: 0.99 - ETA: 1:26 - loss: 0.0130 - accuracy: 0.99 - ETA: 1:24 - loss: 0.0126 - accuracy: 0.99 - ETA: 1:23 - loss: 0.0126 - accuracy: 0.99 - ETA: 1:21 - loss: 0.0140 - accuracy: 0.99 - ETA: 1:20 - loss: 0.0138 - accuracy: 0.99 - ETA: 1:18 - loss: 0.0134 - accuracy: 0.99 - ETA: 1:17 - loss: 0.0130 - accuracy: 0.99 - ETA: 1:16 - loss: 0.0127 - accuracy: 0.99 - ETA: 1:14 - loss: 0.0127 - accuracy: 0.99 - ETA: 1:13 - loss: 0.0125 - accuracy: 0.99 - ETA: 1:11 - loss: 0.0125 - accuracy: 0.99 - ETA: 1:10 - loss: 0.0123 - accuracy: 0.99 - ETA: 1:09 - loss: 0.0120 - accuracy: 0.99 - ETA: 1:07 - loss: 0.0118 - accuracy: 0.99 - ETA: 1:06 - loss: 0.0115 - accuracy: 0.99 - ETA: 1:04 - loss: 0.0118 - accuracy: 0.99 - ETA: 1:03 - loss: 0.0116 - accuracy: 0.99 - ETA: 1:02 - loss: 0.0114 - accuracy: 0.99 - ETA: 1:00 - loss: 0.0113 - accuracy: 0.99 - ETA: 59s - loss: 0.0112 - accuracy: 0.9963 - ETA: 58s - loss: 0.0111 - accuracy: 0.996 - ETA: 56s - loss: 0.0110 - accuracy: 0.996 - ETA: 55s - loss: 0.0108 - accuracy: 0.996 - ETA: 53s - loss: 0.0108 - accuracy: 0.996 - ETA: 52s - loss: 0.0107 - accuracy: 0.996 - ETA: 51s - loss: 0.0105 - accuracy: 0.996 - ETA: 49s - loss: 0.0104 - accuracy: 0.996 - ETA: 48s - loss: 0.0103 - accuracy: 0.996 - ETA: 46s - loss: 0.0103 - accuracy: 0.996 - ETA: 45s - loss: 0.0102 - accuracy: 0.997 - ETA: 44s - loss: 0.0106 - accuracy: 0.996 - ETA: 42s - loss: 0.0107 - accuracy: 0.996 - ETA: 41s - loss: 0.0111 - accuracy: 0.996 - ETA: 39s - loss: 0.0111 - accuracy: 0.996 - ETA: 38s - loss: 0.0109 - accuracy: 0.996 - ETA: 37s - loss: 0.0110 - accuracy: 0.996 - ETA: 35s - loss: 0.0109 - accuracy: 0.996 - ETA: 34s - loss: 0.0107 - accuracy: 0.996 - ETA: 33s - loss: 0.0106 - accuracy: 0.996 - ETA: 31s - loss: 0.0105 - accuracy: 0.996 - ETA: 30s - loss: 0.0104 - accuracy: 0.996 - ETA: 28s - loss: 0.0103 - accuracy: 0.996 - ETA: 27s - loss: 0.0104 - accuracy: 0.996 - ETA: 26s - loss: 0.0103 - accuracy: 0.996 - ETA: 24s - loss: 0.0102 - accuracy: 0.996 - ETA: 23s - loss: 0.0101 - accuracy: 0.996 - ETA: 22s - loss: 0.0100 - accuracy: 0.996 - ETA: 20s - loss: 0.0099 - accuracy: 0.996 - ETA: 19s - loss: 0.0098 - accuracy: 0.996 - ETA: 17s - loss: 0.0097 - accuracy: 0.997 - ETA: 16s - loss: 0.0096 - accuracy: 0.997 - ETA: 15s - loss: 0.0097 - accuracy: 0.997 - ETA: 13s - loss: 0.0096 - accuracy: 0.997 - ETA: 12s - loss: 0.0095 - accuracy: 0.997 - ETA: 11s - loss: 0.0094 - accuracy: 0.997 - ETA: 9s - loss: 0.0093 - accuracy: 0.997 - ETA: 8s - loss: 0.0094 - accuracy: 0.99 - ETA: 6s - loss: 0.0093 - accuracy: 0.99 - ETA: 5s - loss: 0.0093 - accuracy: 0.99 - ETA: 4s - loss: 0.0093 - accuracy: 0.99 - ETA: 2s - loss: 0.0092 - accuracy: 0.99 - ETA: 1s - loss: 0.0091 - accuracy: 0.99 - ETA: 0s - loss: 0.0091 - accuracy: 0.99 - 128s 1s/step - loss: 0.0091 - accuracy: 0.9974 - val_loss: 0.0090 - val_accuracy: 0.9969\n"
     ]
    },
    {
     "data": {
      "text/html": [
       "<span style=\"color:#4527A0\"><h1 style=\"font-size:18px\">Trial complete</h1></span>"
      ],
      "text/plain": [
       "<IPython.core.display.HTML object>"
      ]
     },
     "metadata": {},
     "output_type": "display_data"
    },
    {
     "data": {
      "text/html": [
       "<span style=\"color:#4527A0\"><h1 style=\"font-size:18px\">Trial summary</h1></span>"
      ],
      "text/plain": [
       "<IPython.core.display.HTML object>"
      ]
     },
     "metadata": {},
     "output_type": "display_data"
    },
    {
     "data": {
      "text/html": [
       "<span style=\"color:#7E57C2\"><h2 style=\"font-size:16px\">Hp values:</h2></span>"
      ],
      "text/plain": [
       "<IPython.core.display.HTML object>"
      ]
     },
     "metadata": {},
     "output_type": "display_data"
    },
    {
     "data": {
      "text/html": [
       "<span style=\"color:cyan\"> |-dropout_rate: 0.7</span>"
      ],
      "text/plain": [
       "<IPython.core.display.HTML object>"
      ]
     },
     "metadata": {},
     "output_type": "display_data"
    },
    {
     "data": {
      "text/html": [
       "<span style=\"color:blue\"> |-filters_1: 100</span>"
      ],
      "text/plain": [
       "<IPython.core.display.HTML object>"
      ]
     },
     "metadata": {},
     "output_type": "display_data"
    },
    {
     "data": {
      "text/html": [
       "<span style=\"color:cyan\"> |-filters_2: 50</span>"
      ],
      "text/plain": [
       "<IPython.core.display.HTML object>"
      ]
     },
     "metadata": {},
     "output_type": "display_data"
    },
    {
     "data": {
      "text/html": [
       "<span style=\"color:blue\"> |-lr: 0.001</span>"
      ],
      "text/plain": [
       "<IPython.core.display.HTML object>"
      ]
     },
     "metadata": {},
     "output_type": "display_data"
    },
    {
     "data": {
      "text/html": [
       "<span style=\"color:cyan\"> |-tuner/bracket: 3</span>"
      ],
      "text/plain": [
       "<IPython.core.display.HTML object>"
      ]
     },
     "metadata": {},
     "output_type": "display_data"
    },
    {
     "data": {
      "text/html": [
       "<span style=\"color:blue\"> |-tuner/epochs: 2</span>"
      ],
      "text/plain": [
       "<IPython.core.display.HTML object>"
      ]
     },
     "metadata": {},
     "output_type": "display_data"
    },
    {
     "data": {
      "text/html": [
       "<span style=\"color:cyan\"> |-tuner/initial_epoch: 0</span>"
      ],
      "text/plain": [
       "<IPython.core.display.HTML object>"
      ]
     },
     "metadata": {},
     "output_type": "display_data"
    },
    {
     "data": {
      "text/html": [
       "<span style=\"color:blue\"> |-tuner/round: 0</span>"
      ],
      "text/plain": [
       "<IPython.core.display.HTML object>"
      ]
     },
     "metadata": {},
     "output_type": "display_data"
    },
    {
     "data": {
      "text/html": [
       "<span style=\"color:cyan\"> |-Score: 0.996874988079071</span>"
      ],
      "text/plain": [
       "<IPython.core.display.HTML object>"
      ]
     },
     "metadata": {},
     "output_type": "display_data"
    },
    {
     "data": {
      "text/html": [
       "<span style=\"color:cyan\"> |-Best step: 0</span>"
      ],
      "text/plain": [
       "<IPython.core.display.HTML object>"
      ]
     },
     "metadata": {},
     "output_type": "display_data"
    },
    {
     "name": "stdout",
     "output_type": "stream",
     "text": [
      "Epoch 1/2\n",
      "90/90 [==============================] - ETA: 4:33 - loss: 0.6909 - accuracy: 0.45 - ETA: 3:07 - loss: 8.1477 - accuracy: 0.46 - ETA: 3:10 - loss: 6.0527 - accuracy: 0.47 - ETA: 3:06 - loss: 4.7184 - accuracy: 0.40 - ETA: 3:00 - loss: 3.9107 - accuracy: 0.42 - ETA: 2:56 - loss: 3.3476 - accuracy: 0.48 - ETA: 2:52 - loss: 2.9585 - accuracy: 0.51 - ETA: 2:50 - loss: 2.6388 - accuracy: 0.54 - ETA: 2:46 - loss: 2.3797 - accuracy: 0.58 - ETA: 2:44 - loss: 2.1779 - accuracy: 0.61 - ETA: 2:41 - loss: 2.0117 - accuracy: 0.63 - ETA: 2:39 - loss: 1.8643 - accuracy: 0.66 - ETA: 2:36 - loss: 1.7527 - accuracy: 0.67 - ETA: 2:34 - loss: 1.6459 - accuracy: 0.68 - ETA: 2:31 - loss: 1.5607 - accuracy: 0.69 - ETA: 2:29 - loss: 1.4803 - accuracy: 0.71 - ETA: 2:27 - loss: 1.4079 - accuracy: 0.72 - ETA: 2:25 - loss: 1.3524 - accuracy: 0.72 - ETA: 2:23 - loss: 1.3019 - accuracy: 0.73 - ETA: 2:20 - loss: 1.2553 - accuracy: 0.73 - ETA: 2:18 - loss: 1.2054 - accuracy: 0.74 - ETA: 2:16 - loss: 1.1620 - accuracy: 0.75 - ETA: 2:14 - loss: 1.1207 - accuracy: 0.75 - ETA: 2:12 - loss: 1.0812 - accuracy: 0.76 - ETA: 2:10 - loss: 1.0521 - accuracy: 0.76 - ETA: 2:08 - loss: 1.0198 - accuracy: 0.77 - ETA: 2:05 - loss: 0.9966 - accuracy: 0.77 - ETA: 2:04 - loss: 0.9693 - accuracy: 0.78 - ETA: 2:01 - loss: 0.9424 - accuracy: 0.78 - ETA: 2:00 - loss: 0.9191 - accuracy: 0.79 - ETA: 1:57 - loss: 0.8990 - accuracy: 0.79 - ETA: 1:55 - loss: 0.8789 - accuracy: 0.79 - ETA: 1:53 - loss: 0.8583 - accuracy: 0.80 - ETA: 1:51 - loss: 0.8393 - accuracy: 0.80 - ETA: 1:49 - loss: 0.8221 - accuracy: 0.80 - ETA: 1:47 - loss: 0.8063 - accuracy: 0.80 - ETA: 1:45 - loss: 0.7897 - accuracy: 0.81 - ETA: 1:43 - loss: 0.7742 - accuracy: 0.81 - ETA: 1:41 - loss: 0.7583 - accuracy: 0.81 - ETA: 1:39 - loss: 0.7469 - accuracy: 0.81 - ETA: 1:37 - loss: 0.7317 - accuracy: 0.82 - ETA: 1:35 - loss: 0.7199 - accuracy: 0.82 - ETA: 1:33 - loss: 0.7131 - accuracy: 0.82 - ETA: 1:31 - loss: 0.7030 - accuracy: 0.82 - ETA: 1:29 - loss: 0.6925 - accuracy: 0.82 - ETA: 1:27 - loss: 0.6827 - accuracy: 0.82 - ETA: 1:25 - loss: 0.6716 - accuracy: 0.83 - ETA: 1:23 - loss: 0.6595 - accuracy: 0.83 - ETA: 1:21 - loss: 0.6496 - accuracy: 0.83 - ETA: 1:19 - loss: 0.6418 - accuracy: 0.83 - ETA: 1:17 - loss: 0.6317 - accuracy: 0.83 - ETA: 1:15 - loss: 0.6215 - accuracy: 0.84 - ETA: 1:13 - loss: 0.6113 - accuracy: 0.84 - ETA: 1:11 - loss: 0.6020 - accuracy: 0.84 - ETA: 1:09 - loss: 0.5949 - accuracy: 0.84 - ETA: 1:07 - loss: 0.5863 - accuracy: 0.84 - ETA: 1:05 - loss: 0.5814 - accuracy: 0.84 - ETA: 1:03 - loss: 0.5746 - accuracy: 0.85 - ETA: 1:01 - loss: 0.5670 - accuracy: 0.85 - ETA: 59s - loss: 0.5613 - accuracy: 0.8531 - ETA: 57s - loss: 0.5556 - accuracy: 0.854 - ETA: 55s - loss: 0.5478 - accuracy: 0.856 - ETA: 53s - loss: 0.5412 - accuracy: 0.857 - ETA: 51s - loss: 0.5338 - accuracy: 0.859 - ETA: 49s - loss: 0.5268 - accuracy: 0.861 - ETA: 47s - loss: 0.5215 - accuracy: 0.862 - ETA: 45s - loss: 0.5158 - accuracy: 0.863 - ETA: 43s - loss: 0.5126 - accuracy: 0.864 - ETA: 41s - loss: 0.5068 - accuracy: 0.865 - ETA: 39s - loss: 0.5020 - accuracy: 0.867 - ETA: 37s - loss: 0.4975 - accuracy: 0.867 - ETA: 35s - loss: 0.4930 - accuracy: 0.868 - ETA: 33s - loss: 0.4875 - accuracy: 0.869 - ETA: 31s - loss: 0.4828 - accuracy: 0.871 - ETA: 29s - loss: 0.4790 - accuracy: 0.871 - ETA: 27s - loss: 0.4736 - accuracy: 0.872 - ETA: 25s - loss: 0.4691 - accuracy: 0.873 - ETA: 23s - loss: 0.4644 - accuracy: 0.874 - ETA: 21s - loss: 0.4626 - accuracy: 0.874 - ETA: 19s - loss: 0.4583 - accuracy: 0.876 - ETA: 17s - loss: 0.4549 - accuracy: 0.876 - ETA: 15s - loss: 0.4518 - accuracy: 0.876 - ETA: 13s - loss: 0.4477 - accuracy: 0.877 - ETA: 11s - loss: 0.4448 - accuracy: 0.878 - ETA: 9s - loss: 0.4410 - accuracy: 0.878 - ETA: 7s - loss: 0.4383 - accuracy: 0.87 - ETA: 5s - loss: 0.4353 - accuracy: 0.88 - ETA: 3s - loss: 0.4313 - accuracy: 0.88 - ETA: 1s - loss: 0.4275 - accuracy: 0.88 - ETA: 0s - loss: 0.4244 - accuracy: 0.88 - 186s 2s/step - loss: 0.4244 - accuracy: 0.8826 - val_loss: 0.0987 - val_accuracy: 0.9672\n",
      "Epoch 2/2\n",
      "90/90 [==============================] - ETA: 2:58 - loss: 0.0671 - accuracy: 0.96 - ETA: 2:53 - loss: 0.0924 - accuracy: 0.95 - ETA: 2:50 - loss: 0.0863 - accuracy: 0.95 - ETA: 2:50 - loss: 0.0861 - accuracy: 0.96 - ETA: 2:49 - loss: 0.0812 - accuracy: 0.96 - ETA: 2:48 - loss: 0.0763 - accuracy: 0.96 - ETA: 2:45 - loss: 0.0827 - accuracy: 0.96 - ETA: 2:43 - loss: 0.0841 - accuracy: 0.96 - ETA: 2:41 - loss: 0.0821 - accuracy: 0.96 - ETA: 2:40 - loss: 0.0772 - accuracy: 0.96 - ETA: 2:39 - loss: 0.0806 - accuracy: 0.97 - ETA: 2:40 - loss: 0.0802 - accuracy: 0.96 - ETA: 2:39 - loss: 0.0763 - accuracy: 0.97 - ETA: 2:38 - loss: 0.0766 - accuracy: 0.96 - ETA: 2:36 - loss: 0.0774 - accuracy: 0.96 - ETA: 2:34 - loss: 0.0744 - accuracy: 0.96 - ETA: 2:33 - loss: 0.0741 - accuracy: 0.96 - ETA: 2:32 - loss: 0.0714 - accuracy: 0.97 - ETA: 2:30 - loss: 0.0745 - accuracy: 0.96 - ETA: 2:28 - loss: 0.0752 - accuracy: 0.96 - ETA: 2:25 - loss: 0.0774 - accuracy: 0.96 - ETA: 2:23 - loss: 0.0779 - accuracy: 0.96 - ETA: 2:20 - loss: 0.0779 - accuracy: 0.96 - ETA: 2:18 - loss: 0.0764 - accuracy: 0.96 - ETA: 2:15 - loss: 0.0765 - accuracy: 0.96 - ETA: 2:13 - loss: 0.0772 - accuracy: 0.96 - ETA: 2:11 - loss: 0.0758 - accuracy: 0.96 - ETA: 2:08 - loss: 0.0758 - accuracy: 0.96 - ETA: 2:06 - loss: 0.0747 - accuracy: 0.96 - ETA: 2:04 - loss: 0.0757 - accuracy: 0.96 - ETA: 2:02 - loss: 0.0761 - accuracy: 0.96 - ETA: 1:59 - loss: 0.0757 - accuracy: 0.96 - ETA: 1:57 - loss: 0.0773 - accuracy: 0.96 - ETA: 1:55 - loss: 0.0758 - accuracy: 0.96 - ETA: 1:53 - loss: 0.0765 - accuracy: 0.96 - ETA: 1:51 - loss: 0.0751 - accuracy: 0.96 - ETA: 1:48 - loss: 0.0738 - accuracy: 0.97 - ETA: 1:46 - loss: 0.0733 - accuracy: 0.97 - ETA: 1:44 - loss: 0.0723 - accuracy: 0.97 - ETA: 1:42 - loss: 0.0714 - accuracy: 0.97 - ETA: 1:40 - loss: 0.0715 - accuracy: 0.97 - ETA: 1:38 - loss: 0.0715 - accuracy: 0.97 - ETA: 1:36 - loss: 0.0702 - accuracy: 0.97 - ETA: 1:34 - loss: 0.0703 - accuracy: 0.97 - ETA: 1:32 - loss: 0.0703 - accuracy: 0.97 - ETA: 1:29 - loss: 0.0691 - accuracy: 0.97 - ETA: 1:27 - loss: 0.0682 - accuracy: 0.97 - ETA: 1:25 - loss: 0.0673 - accuracy: 0.97 - ETA: 1:23 - loss: 0.0667 - accuracy: 0.97 - ETA: 1:21 - loss: 0.0665 - accuracy: 0.97 - ETA: 1:19 - loss: 0.0664 - accuracy: 0.97 - ETA: 1:17 - loss: 0.0662 - accuracy: 0.97 - ETA: 1:15 - loss: 0.0662 - accuracy: 0.97 - ETA: 1:13 - loss: 0.0664 - accuracy: 0.97 - ETA: 1:11 - loss: 0.0656 - accuracy: 0.97 - ETA: 1:09 - loss: 0.0659 - accuracy: 0.97 - ETA: 1:07 - loss: 0.0657 - accuracy: 0.97 - ETA: 1:05 - loss: 0.0658 - accuracy: 0.97 - ETA: 1:03 - loss: 0.0662 - accuracy: 0.97 - ETA: 1:01 - loss: 0.0655 - accuracy: 0.97 - ETA: 58s - loss: 0.0658 - accuracy: 0.9739 - ETA: 56s - loss: 0.0662 - accuracy: 0.973 - ETA: 54s - loss: 0.0657 - accuracy: 0.973 - ETA: 52s - loss: 0.0666 - accuracy: 0.973 - ETA: 50s - loss: 0.0661 - accuracy: 0.973 - ETA: 48s - loss: 0.0658 - accuracy: 0.973 - ETA: 46s - loss: 0.0660 - accuracy: 0.973 - ETA: 44s - loss: 0.0674 - accuracy: 0.973 - ETA: 42s - loss: 0.0672 - accuracy: 0.973 - ETA: 40s - loss: 0.0670 - accuracy: 0.973 - ETA: 38s - loss: 0.0664 - accuracy: 0.973 - ETA: 36s - loss: 0.0663 - accuracy: 0.973 - ETA: 34s - loss: 0.0686 - accuracy: 0.973 - ETA: 32s - loss: 0.0681 - accuracy: 0.973 - ETA: 30s - loss: 0.0674 - accuracy: 0.973 - ETA: 28s - loss: 0.0675 - accuracy: 0.973 - ETA: 26s - loss: 0.0670 - accuracy: 0.973 - ETA: 24s - loss: 0.0675 - accuracy: 0.973 - ETA: 22s - loss: 0.0675 - accuracy: 0.973 - ETA: 20s - loss: 0.0672 - accuracy: 0.973 - ETA: 18s - loss: 0.0665 - accuracy: 0.974 - ETA: 16s - loss: 0.0661 - accuracy: 0.974 - ETA: 14s - loss: 0.0658 - accuracy: 0.974 - ETA: 12s - loss: 0.0655 - accuracy: 0.974 - ETA: 10s - loss: 0.0658 - accuracy: 0.974 - ETA: 8s - loss: 0.0654 - accuracy: 0.974 - ETA: 6s - loss: 0.0651 - accuracy: 0.97 - ETA: 4s - loss: 0.0648 - accuracy: 0.97 - ETA: 2s - loss: 0.0646 - accuracy: 0.97 - ETA: 0s - loss: 0.0648 - accuracy: 0.97 - 187s 2s/step - loss: 0.0648 - accuracy: 0.9747 - val_loss: 0.0348 - val_accuracy: 0.9891\n"
     ]
    },
    {
     "data": {
      "text/html": [
       "<span style=\"color:#4527A0\"><h1 style=\"font-size:18px\">Trial complete</h1></span>"
      ],
      "text/plain": [
       "<IPython.core.display.HTML object>"
      ]
     },
     "metadata": {},
     "output_type": "display_data"
    },
    {
     "data": {
      "text/html": [
       "<span style=\"color:#4527A0\"><h1 style=\"font-size:18px\">Trial summary</h1></span>"
      ],
      "text/plain": [
       "<IPython.core.display.HTML object>"
      ]
     },
     "metadata": {},
     "output_type": "display_data"
    },
    {
     "data": {
      "text/html": [
       "<span style=\"color:#7E57C2\"><h2 style=\"font-size:16px\">Hp values:</h2></span>"
      ],
      "text/plain": [
       "<IPython.core.display.HTML object>"
      ]
     },
     "metadata": {},
     "output_type": "display_data"
    },
    {
     "data": {
      "text/html": [
       "<span style=\"color:cyan\"> |-dropout_rate: 0.5</span>"
      ],
      "text/plain": [
       "<IPython.core.display.HTML object>"
      ]
     },
     "metadata": {},
     "output_type": "display_data"
    },
    {
     "data": {
      "text/html": [
       "<span style=\"color:blue\"> |-filters_1: 200</span>"
      ],
      "text/plain": [
       "<IPython.core.display.HTML object>"
      ]
     },
     "metadata": {},
     "output_type": "display_data"
    },
    {
     "data": {
      "text/html": [
       "<span style=\"color:cyan\"> |-filters_2: 25</span>"
      ],
      "text/plain": [
       "<IPython.core.display.HTML object>"
      ]
     },
     "metadata": {},
     "output_type": "display_data"
    },
    {
     "data": {
      "text/html": [
       "<span style=\"color:blue\"> |-lr: 0.01</span>"
      ],
      "text/plain": [
       "<IPython.core.display.HTML object>"
      ]
     },
     "metadata": {},
     "output_type": "display_data"
    },
    {
     "data": {
      "text/html": [
       "<span style=\"color:cyan\"> |-tuner/bracket: 3</span>"
      ],
      "text/plain": [
       "<IPython.core.display.HTML object>"
      ]
     },
     "metadata": {},
     "output_type": "display_data"
    },
    {
     "data": {
      "text/html": [
       "<span style=\"color:blue\"> |-tuner/epochs: 2</span>"
      ],
      "text/plain": [
       "<IPython.core.display.HTML object>"
      ]
     },
     "metadata": {},
     "output_type": "display_data"
    },
    {
     "data": {
      "text/html": [
       "<span style=\"color:cyan\"> |-tuner/initial_epoch: 0</span>"
      ],
      "text/plain": [
       "<IPython.core.display.HTML object>"
      ]
     },
     "metadata": {},
     "output_type": "display_data"
    },
    {
     "data": {
      "text/html": [
       "<span style=\"color:blue\"> |-tuner/round: 0</span>"
      ],
      "text/plain": [
       "<IPython.core.display.HTML object>"
      ]
     },
     "metadata": {},
     "output_type": "display_data"
    },
    {
     "data": {
      "text/html": [
       "<span style=\"color:cyan\"> |-Score: 0.989062488079071</span>"
      ],
      "text/plain": [
       "<IPython.core.display.HTML object>"
      ]
     },
     "metadata": {},
     "output_type": "display_data"
    },
    {
     "data": {
      "text/html": [
       "<span style=\"color:cyan\"> |-Best step: 0</span>"
      ],
      "text/plain": [
       "<IPython.core.display.HTML object>"
      ]
     },
     "metadata": {},
     "output_type": "display_data"
    },
    {
     "name": "stdout",
     "output_type": "stream",
     "text": [
      "Epoch 1/2\n",
      "90/90 [==============================] - ETA: 4:09 - loss: 0.7003 - accuracy: 0.45 - ETA: 3:35 - loss: 0.6678 - accuracy: 0.54 - ETA: 3:30 - loss: 0.6530 - accuracy: 0.54 - ETA: 3:28 - loss: 0.6212 - accuracy: 0.61 - ETA: 3:26 - loss: 0.5846 - accuracy: 0.66 - ETA: 3:23 - loss: 0.5552 - accuracy: 0.68 - ETA: 3:20 - loss: 0.5203 - accuracy: 0.71 - ETA: 3:17 - loss: 0.5016 - accuracy: 0.72 - ETA: 3:15 - loss: 0.4780 - accuracy: 0.74 - ETA: 3:13 - loss: 0.4564 - accuracy: 0.75 - ETA: 3:10 - loss: 0.4331 - accuracy: 0.77 - ETA: 3:08 - loss: 0.4108 - accuracy: 0.78 - ETA: 3:05 - loss: 0.4117 - accuracy: 0.78 - ETA: 3:05 - loss: 0.3973 - accuracy: 0.79 - ETA: 3:02 - loss: 0.4036 - accuracy: 0.79 - ETA: 3:00 - loss: 0.3872 - accuracy: 0.80 - ETA: 2:57 - loss: 0.3692 - accuracy: 0.81 - ETA: 2:55 - loss: 0.3562 - accuracy: 0.82 - ETA: 2:53 - loss: 0.3546 - accuracy: 0.82 - ETA: 2:50 - loss: 0.3445 - accuracy: 0.83 - ETA: 2:48 - loss: 0.3364 - accuracy: 0.83 - ETA: 2:46 - loss: 0.3272 - accuracy: 0.84 - ETA: 2:43 - loss: 0.3209 - accuracy: 0.84 - ETA: 2:40 - loss: 0.3144 - accuracy: 0.84 - ETA: 2:38 - loss: 0.3076 - accuracy: 0.85 - ETA: 2:36 - loss: 0.2993 - accuracy: 0.85 - ETA: 2:33 - loss: 0.2906 - accuracy: 0.86 - ETA: 2:31 - loss: 0.2825 - accuracy: 0.86 - ETA: 2:28 - loss: 0.2745 - accuracy: 0.87 - ETA: 2:26 - loss: 0.2664 - accuracy: 0.87 - ETA: 2:23 - loss: 0.2588 - accuracy: 0.87 - ETA: 2:21 - loss: 0.2523 - accuracy: 0.88 - ETA: 2:18 - loss: 0.2463 - accuracy: 0.88 - ETA: 2:16 - loss: 0.2404 - accuracy: 0.88 - ETA: 2:13 - loss: 0.2363 - accuracy: 0.89 - ETA: 2:11 - loss: 0.2309 - accuracy: 0.89 - ETA: 2:08 - loss: 0.2262 - accuracy: 0.89 - ETA: 2:06 - loss: 0.2206 - accuracy: 0.89 - ETA: 2:03 - loss: 0.2153 - accuracy: 0.90 - ETA: 2:01 - loss: 0.2111 - accuracy: 0.90 - ETA: 1:58 - loss: 0.2065 - accuracy: 0.90 - ETA: 1:56 - loss: 0.2027 - accuracy: 0.90 - ETA: 1:54 - loss: 0.1984 - accuracy: 0.91 - ETA: 1:51 - loss: 0.1951 - accuracy: 0.91 - ETA: 1:49 - loss: 0.1909 - accuracy: 0.91 - ETA: 1:46 - loss: 0.1871 - accuracy: 0.91 - ETA: 1:44 - loss: 0.1847 - accuracy: 0.91 - ETA: 1:41 - loss: 0.1810 - accuracy: 0.91 - ETA: 1:39 - loss: 0.1778 - accuracy: 0.92 - ETA: 1:36 - loss: 0.1750 - accuracy: 0.92 - ETA: 1:34 - loss: 0.1728 - accuracy: 0.92 - ETA: 1:32 - loss: 0.1701 - accuracy: 0.92 - ETA: 1:29 - loss: 0.1677 - accuracy: 0.92 - ETA: 1:27 - loss: 0.1647 - accuracy: 0.92 - ETA: 1:24 - loss: 0.1618 - accuracy: 0.92 - ETA: 1:22 - loss: 0.1595 - accuracy: 0.92 - ETA: 1:19 - loss: 0.1572 - accuracy: 0.92 - ETA: 1:17 - loss: 0.1550 - accuracy: 0.93 - ETA: 1:14 - loss: 0.1529 - accuracy: 0.93 - ETA: 1:12 - loss: 0.1505 - accuracy: 0.93 - ETA: 1:10 - loss: 0.1482 - accuracy: 0.93 - ETA: 1:07 - loss: 0.1460 - accuracy: 0.93 - ETA: 1:05 - loss: 0.1440 - accuracy: 0.93 - ETA: 1:02 - loss: 0.1419 - accuracy: 0.93 - ETA: 1:00 - loss: 0.1407 - accuracy: 0.93 - ETA: 58s - loss: 0.1393 - accuracy: 0.9380 - ETA: 55s - loss: 0.1376 - accuracy: 0.938 - ETA: 53s - loss: 0.1358 - accuracy: 0.939 - ETA: 50s - loss: 0.1340 - accuracy: 0.940 - ETA: 48s - loss: 0.1325 - accuracy: 0.941 - ETA: 45s - loss: 0.1309 - accuracy: 0.942 - ETA: 43s - loss: 0.1292 - accuracy: 0.942 - ETA: 41s - loss: 0.1275 - accuracy: 0.943 - ETA: 38s - loss: 0.1258 - accuracy: 0.944 - ETA: 36s - loss: 0.1243 - accuracy: 0.945 - ETA: 33s - loss: 0.1227 - accuracy: 0.945 - ETA: 31s - loss: 0.1212 - accuracy: 0.946 - ETA: 29s - loss: 0.1197 - accuracy: 0.947 - ETA: 26s - loss: 0.1182 - accuracy: 0.948 - ETA: 24s - loss: 0.1172 - accuracy: 0.948 - ETA: 21s - loss: 0.1158 - accuracy: 0.949 - ETA: 19s - loss: 0.1144 - accuracy: 0.949 - ETA: 16s - loss: 0.1131 - accuracy: 0.950 - ETA: 14s - loss: 0.1120 - accuracy: 0.950 - ETA: 12s - loss: 0.1108 - accuracy: 0.951 - ETA: 9s - loss: 0.1096 - accuracy: 0.952 - ETA: 7s - loss: 0.1084 - accuracy: 0.95 - ETA: 4s - loss: 0.1071 - accuracy: 0.95 - ETA: 2s - loss: 0.1060 - accuracy: 0.95 - ETA: 0s - loss: 0.1048 - accuracy: 0.95 - 225s 2s/step - loss: 0.1048 - accuracy: 0.9542 - val_loss: 0.0102 - val_accuracy: 0.9969\n",
      "Epoch 2/2\n",
      "90/90 [==============================] - ETA: 3:37 - loss: 0.0207 - accuracy: 0.98 - ETA: 3:31 - loss: 0.0187 - accuracy: 0.98 - ETA: 3:28 - loss: 0.0163 - accuracy: 0.98 - ETA: 3:26 - loss: 0.0126 - accuracy: 0.99 - ETA: 3:23 - loss: 0.0187 - accuracy: 0.99 - ETA: 3:21 - loss: 0.0163 - accuracy: 0.99 - ETA: 3:18 - loss: 0.0148 - accuracy: 0.99 - ETA: 3:16 - loss: 0.0209 - accuracy: 0.99 - ETA: 3:13 - loss: 0.0200 - accuracy: 0.99 - ETA: 3:11 - loss: 0.0182 - accuracy: 0.99 - ETA: 3:09 - loss: 0.0167 - accuracy: 0.99 - ETA: 3:07 - loss: 0.0156 - accuracy: 0.99 - ETA: 3:04 - loss: 0.0175 - accuracy: 0.99 - ETA: 3:02 - loss: 0.0205 - accuracy: 0.99 - ETA: 3:00 - loss: 0.0206 - accuracy: 0.99 - ETA: 2:57 - loss: 0.0215 - accuracy: 0.99 - ETA: 2:55 - loss: 0.0211 - accuracy: 0.99 - ETA: 2:53 - loss: 0.0202 - accuracy: 0.99 - ETA: 2:50 - loss: 0.0215 - accuracy: 0.99 - ETA: 2:48 - loss: 0.0225 - accuracy: 0.99 - ETA: 2:45 - loss: 0.0219 - accuracy: 0.99 - ETA: 2:43 - loss: 0.0210 - accuracy: 0.99 - ETA: 2:41 - loss: 0.0209 - accuracy: 0.99 - ETA: 2:38 - loss: 0.0213 - accuracy: 0.99 - ETA: 2:36 - loss: 0.0206 - accuracy: 0.99 - ETA: 2:33 - loss: 0.0203 - accuracy: 0.99 - ETA: 2:31 - loss: 0.0200 - accuracy: 0.99 - ETA: 2:28 - loss: 0.0193 - accuracy: 0.99 - ETA: 2:26 - loss: 0.0187 - accuracy: 0.99 - ETA: 2:24 - loss: 0.0181 - accuracy: 0.99 - ETA: 2:21 - loss: 0.0179 - accuracy: 0.99 - ETA: 2:19 - loss: 0.0174 - accuracy: 0.99 - ETA: 2:17 - loss: 0.0174 - accuracy: 0.99 - ETA: 2:14 - loss: 0.0169 - accuracy: 0.99 - ETA: 2:12 - loss: 0.0165 - accuracy: 0.99 - ETA: 2:09 - loss: 0.0161 - accuracy: 0.99 - ETA: 2:07 - loss: 0.0157 - accuracy: 0.99 - ETA: 2:05 - loss: 0.0156 - accuracy: 0.99 - ETA: 2:02 - loss: 0.0152 - accuracy: 0.99 - ETA: 2:00 - loss: 0.0158 - accuracy: 0.99 - ETA: 1:57 - loss: 0.0163 - accuracy: 0.99 - ETA: 1:55 - loss: 0.0161 - accuracy: 0.99 - ETA: 1:52 - loss: 0.0159 - accuracy: 0.99 - ETA: 1:50 - loss: 0.0161 - accuracy: 0.99 - ETA: 1:48 - loss: 0.0165 - accuracy: 0.99 - ETA: 1:45 - loss: 0.0162 - accuracy: 0.99 - ETA: 1:43 - loss: 0.0159 - accuracy: 0.99 - ETA: 1:40 - loss: 0.0157 - accuracy: 0.99 - ETA: 1:38 - loss: 0.0154 - accuracy: 0.99 - ETA: 1:36 - loss: 0.0153 - accuracy: 0.99 - ETA: 1:33 - loss: 0.0150 - accuracy: 0.99 - ETA: 1:31 - loss: 0.0148 - accuracy: 0.99 - ETA: 1:28 - loss: 0.0148 - accuracy: 0.99 - ETA: 1:26 - loss: 0.0146 - accuracy: 0.99 - ETA: 1:24 - loss: 0.0149 - accuracy: 0.99 - ETA: 1:21 - loss: 0.0147 - accuracy: 0.99 - ETA: 1:19 - loss: 0.0145 - accuracy: 0.99 - ETA: 1:16 - loss: 0.0144 - accuracy: 0.99 - ETA: 1:14 - loss: 0.0142 - accuracy: 0.99 - ETA: 1:12 - loss: 0.0140 - accuracy: 0.99 - ETA: 1:09 - loss: 0.0142 - accuracy: 0.99 - ETA: 1:07 - loss: 0.0140 - accuracy: 0.99 - ETA: 1:04 - loss: 0.0139 - accuracy: 0.99 - ETA: 1:02 - loss: 0.0138 - accuracy: 0.99 - ETA: 1:00 - loss: 0.0136 - accuracy: 0.99 - ETA: 57s - loss: 0.0134 - accuracy: 0.9950 - ETA: 55s - loss: 0.0132 - accuracy: 0.995 - ETA: 52s - loss: 0.0131 - accuracy: 0.995 - ETA: 50s - loss: 0.0131 - accuracy: 0.995 - ETA: 48s - loss: 0.0130 - accuracy: 0.995 - ETA: 45s - loss: 0.0128 - accuracy: 0.995 - ETA: 43s - loss: 0.0126 - accuracy: 0.995 - ETA: 40s - loss: 0.0125 - accuracy: 0.995 - ETA: 38s - loss: 0.0125 - accuracy: 0.995 - ETA: 36s - loss: 0.0125 - accuracy: 0.995 - ETA: 33s - loss: 0.0123 - accuracy: 0.995 - ETA: 31s - loss: 0.0122 - accuracy: 0.995 - ETA: 28s - loss: 0.0124 - accuracy: 0.995 - ETA: 26s - loss: 0.0123 - accuracy: 0.995 - ETA: 24s - loss: 0.0122 - accuracy: 0.995 - ETA: 21s - loss: 0.0121 - accuracy: 0.995 - ETA: 19s - loss: 0.0120 - accuracy: 0.995 - ETA: 16s - loss: 0.0119 - accuracy: 0.995 - ETA: 14s - loss: 0.0118 - accuracy: 0.995 - ETA: 12s - loss: 0.0117 - accuracy: 0.995 - ETA: 9s - loss: 0.0115 - accuracy: 0.995 - ETA: 7s - loss: 0.0114 - accuracy: 0.99 - ETA: 4s - loss: 0.0113 - accuracy: 0.99 - ETA: 2s - loss: 0.0112 - accuracy: 0.99 - ETA: 0s - loss: 0.0111 - accuracy: 0.99 - 224s 2s/step - loss: 0.0111 - accuracy: 0.9958 - val_loss: 0.0043 - val_accuracy: 0.9984\n"
     ]
    },
    {
     "data": {
      "text/html": [
       "<span style=\"color:#4527A0\"><h1 style=\"font-size:18px\">Trial complete</h1></span>"
      ],
      "text/plain": [
       "<IPython.core.display.HTML object>"
      ]
     },
     "metadata": {},
     "output_type": "display_data"
    },
    {
     "data": {
      "text/html": [
       "<span style=\"color:#4527A0\"><h1 style=\"font-size:18px\">Trial summary</h1></span>"
      ],
      "text/plain": [
       "<IPython.core.display.HTML object>"
      ]
     },
     "metadata": {},
     "output_type": "display_data"
    },
    {
     "data": {
      "text/html": [
       "<span style=\"color:#7E57C2\"><h2 style=\"font-size:16px\">Hp values:</h2></span>"
      ],
      "text/plain": [
       "<IPython.core.display.HTML object>"
      ]
     },
     "metadata": {},
     "output_type": "display_data"
    },
    {
     "data": {
      "text/html": [
       "<span style=\"color:cyan\"> |-dropout_rate: 0.7</span>"
      ],
      "text/plain": [
       "<IPython.core.display.HTML object>"
      ]
     },
     "metadata": {},
     "output_type": "display_data"
    },
    {
     "data": {
      "text/html": [
       "<span style=\"color:blue\"> |-filters_1: 200</span>"
      ],
      "text/plain": [
       "<IPython.core.display.HTML object>"
      ]
     },
     "metadata": {},
     "output_type": "display_data"
    },
    {
     "data": {
      "text/html": [
       "<span style=\"color:cyan\"> |-filters_2: 50</span>"
      ],
      "text/plain": [
       "<IPython.core.display.HTML object>"
      ]
     },
     "metadata": {},
     "output_type": "display_data"
    },
    {
     "data": {
      "text/html": [
       "<span style=\"color:blue\"> |-lr: 0.001</span>"
      ],
      "text/plain": [
       "<IPython.core.display.HTML object>"
      ]
     },
     "metadata": {},
     "output_type": "display_data"
    },
    {
     "data": {
      "text/html": [
       "<span style=\"color:cyan\"> |-tuner/bracket: 3</span>"
      ],
      "text/plain": [
       "<IPython.core.display.HTML object>"
      ]
     },
     "metadata": {},
     "output_type": "display_data"
    },
    {
     "data": {
      "text/html": [
       "<span style=\"color:blue\"> |-tuner/epochs: 2</span>"
      ],
      "text/plain": [
       "<IPython.core.display.HTML object>"
      ]
     },
     "metadata": {},
     "output_type": "display_data"
    },
    {
     "data": {
      "text/html": [
       "<span style=\"color:cyan\"> |-tuner/initial_epoch: 0</span>"
      ],
      "text/plain": [
       "<IPython.core.display.HTML object>"
      ]
     },
     "metadata": {},
     "output_type": "display_data"
    },
    {
     "data": {
      "text/html": [
       "<span style=\"color:blue\"> |-tuner/round: 0</span>"
      ],
      "text/plain": [
       "<IPython.core.display.HTML object>"
      ]
     },
     "metadata": {},
     "output_type": "display_data"
    },
    {
     "data": {
      "text/html": [
       "<span style=\"color:cyan\"> |-Score: 0.9984375238418579</span>"
      ],
      "text/plain": [
       "<IPython.core.display.HTML object>"
      ]
     },
     "metadata": {},
     "output_type": "display_data"
    },
    {
     "data": {
      "text/html": [
       "<span style=\"color:cyan\"> |-Best step: 0</span>"
      ],
      "text/plain": [
       "<IPython.core.display.HTML object>"
      ]
     },
     "metadata": {},
     "output_type": "display_data"
    },
    {
     "name": "stdout",
     "output_type": "stream",
     "text": [
      "Epoch 1/2\n",
      "90/90 [==============================] - ETA: 4:09 - loss: 0.7123 - accuracy: 0.37 - ETA: 3:32 - loss: 11.7647 - accuracy: 0.382 - ETA: 3:29 - loss: 27.2763 - accuracy: 0.411 - ETA: 3:25 - loss: 23.6470 - accuracy: 0.410 - ETA: 3:22 - loss: 19.7138 - accuracy: 0.431 - ETA: 3:18 - loss: 16.5873 - accuracy: 0.442 - ETA: 3:15 - loss: 14.3185 - accuracy: 0.471 - ETA: 3:12 - loss: 12.6161 - accuracy: 0.474 - ETA: 3:09 - loss: 11.2905 - accuracy: 0.487 - ETA: 3:06 - loss: 10.2308 - accuracy: 0.484 - ETA: 3:03 - loss: 9.3638 - accuracy: 0.477 - ETA: 3:00 - loss: 8.6412 - accuracy: 0.48 - ETA: 2:58 - loss: 8.0298 - accuracy: 0.48 - ETA: 2:55 - loss: 7.5058 - accuracy: 0.48 - ETA: 2:53 - loss: 7.0516 - accuracy: 0.48 - ETA: 2:50 - loss: 6.6542 - accuracy: 0.48 - ETA: 2:48 - loss: 6.3036 - accuracy: 0.48 - ETA: 2:45 - loss: 5.9919 - accuracy: 0.48 - ETA: 2:43 - loss: 5.7130 - accuracy: 0.49 - ETA: 2:41 - loss: 5.4620 - accuracy: 0.49 - ETA: 2:38 - loss: 5.2349 - accuracy: 0.50 - ETA: 2:36 - loss: 5.0284 - accuracy: 0.50 - ETA: 2:34 - loss: 4.8399 - accuracy: 0.50 - ETA: 2:31 - loss: 4.6671 - accuracy: 0.50 - ETA: 2:29 - loss: 4.5081 - accuracy: 0.51 - ETA: 2:27 - loss: 4.3613 - accuracy: 0.51 - ETA: 2:24 - loss: 4.2255 - accuracy: 0.50 - ETA: 2:22 - loss: 4.0995 - accuracy: 0.50 - ETA: 2:20 - loss: 3.9819 - accuracy: 0.50 - ETA: 2:17 - loss: 3.8723 - accuracy: 0.50 - ETA: 2:15 - loss: 3.7698 - accuracy: 0.50 - ETA: 2:13 - loss: 3.6736 - accuracy: 0.50 - ETA: 2:11 - loss: 3.5833 - accuracy: 0.50 - ETA: 2:08 - loss: 3.4983 - accuracy: 0.50 - ETA: 2:06 - loss: 3.4182 - accuracy: 0.50 - ETA: 2:04 - loss: 3.3426 - accuracy: 0.50 - ETA: 2:01 - loss: 3.2711 - accuracy: 0.50 - ETA: 1:59 - loss: 3.2033 - accuracy: 0.50 - ETA: 1:56 - loss: 3.1390 - accuracy: 0.49 - ETA: 1:54 - loss: 3.0777 - accuracy: 0.50 - ETA: 1:52 - loss: 3.0196 - accuracy: 0.49 - ETA: 1:50 - loss: 2.9642 - accuracy: 0.49 - ETA: 1:47 - loss: 2.9114 - accuracy: 0.49 - ETA: 1:45 - loss: 2.8610 - accuracy: 0.49 - ETA: 1:43 - loss: 2.8129 - accuracy: 0.49 - ETA: 1:40 - loss: 2.7668 - accuracy: 0.49 - ETA: 1:38 - loss: 2.7227 - accuracy: 0.49 - ETA: 1:36 - loss: 2.6804 - accuracy: 0.49 - ETA: 1:33 - loss: 2.6398 - accuracy: 0.49 - ETA: 1:31 - loss: 2.6009 - accuracy: 0.49 - ETA: 1:29 - loss: 2.5635 - accuracy: 0.49 - ETA: 1:26 - loss: 2.5275 - accuracy: 0.49 - ETA: 1:24 - loss: 2.4929 - accuracy: 0.50 - ETA: 1:22 - loss: 2.4596 - accuracy: 0.50 - ETA: 1:19 - loss: 2.4274 - accuracy: 0.50 - ETA: 1:17 - loss: 2.3965 - accuracy: 0.49 - ETA: 1:15 - loss: 2.3666 - accuracy: 0.50 - ETA: 1:12 - loss: 2.3377 - accuracy: 0.50 - ETA: 1:10 - loss: 2.3099 - accuracy: 0.49 - ETA: 1:08 - loss: 2.2829 - accuracy: 0.50 - ETA: 1:06 - loss: 2.2569 - accuracy: 0.49 - ETA: 1:03 - loss: 2.2317 - accuracy: 0.49 - ETA: 1:01 - loss: 2.2072 - accuracy: 0.49 - ETA: 59s - loss: 2.1836 - accuracy: 0.4998 - ETA: 56s - loss: 2.1606 - accuracy: 0.500 - ETA: 54s - loss: 2.1384 - accuracy: 0.500 - ETA: 52s - loss: 2.1168 - accuracy: 0.501 - ETA: 50s - loss: 2.0959 - accuracy: 0.500 - ETA: 47s - loss: 2.0756 - accuracy: 0.500 - ETA: 45s - loss: 2.0558 - accuracy: 0.500 - ETA: 43s - loss: 2.0366 - accuracy: 0.500 - ETA: 40s - loss: 2.0180 - accuracy: 0.500 - ETA: 38s - loss: 1.9998 - accuracy: 0.499 - ETA: 36s - loss: 1.9822 - accuracy: 0.500 - ETA: 34s - loss: 1.9650 - accuracy: 0.500 - ETA: 31s - loss: 1.9483 - accuracy: 0.500 - ETA: 29s - loss: 1.9319 - accuracy: 0.500 - ETA: 27s - loss: 1.9161 - accuracy: 0.499 - ETA: 24s - loss: 1.9006 - accuracy: 0.500 - ETA: 22s - loss: 1.8855 - accuracy: 0.500 - ETA: 20s - loss: 1.8708 - accuracy: 0.501 - ETA: 18s - loss: 1.8564 - accuracy: 0.499 - ETA: 15s - loss: 1.8424 - accuracy: 0.499 - ETA: 13s - loss: 1.8287 - accuracy: 0.499 - ETA: 11s - loss: 1.8154 - accuracy: 0.498 - ETA: 9s - loss: 1.8023 - accuracy: 0.497 - ETA: 6s - loss: 1.7896 - accuracy: 0.49 - ETA: 4s - loss: 1.7771 - accuracy: 0.49 - ETA: 2s - loss: 1.7649 - accuracy: 0.49 - ETA: 0s - loss: 1.7530 - accuracy: 0.49 - 212s 2s/step - loss: 1.7530 - accuracy: 0.4964 - val_loss: 0.6932 - val_accuracy: 0.5000\n",
      "Epoch 2/2\n",
      "90/90 [==============================] - ETA: 3:37 - loss: 0.6935 - accuracy: 0.42 - ETA: 3:24 - loss: 0.6934 - accuracy: 0.43 - ETA: 3:18 - loss: 0.6933 - accuracy: 0.48 - ETA: 3:16 - loss: 0.6933 - accuracy: 0.48 - ETA: 3:14 - loss: 0.6932 - accuracy: 0.49 - ETA: 3:11 - loss: 0.6932 - accuracy: 0.49 - ETA: 3:09 - loss: 0.6932 - accuracy: 0.49 - ETA: 3:06 - loss: 0.6932 - accuracy: 0.49 - ETA: 3:04 - loss: 0.6932 - accuracy: 0.49 - ETA: 3:01 - loss: 0.6932 - accuracy: 0.48 - ETA: 2:59 - loss: 0.6932 - accuracy: 0.49 - ETA: 2:56 - loss: 0.6932 - accuracy: 0.49 - ETA: 2:54 - loss: 0.6931 - accuracy: 0.50 - ETA: 2:51 - loss: 0.6931 - accuracy: 0.50 - ETA: 2:49 - loss: 0.6931 - accuracy: 0.50 - ETA: 2:47 - loss: 0.6931 - accuracy: 0.50 - ETA: 2:44 - loss: 0.6931 - accuracy: 0.51 - ETA: 2:42 - loss: 0.6931 - accuracy: 0.50 - ETA: 2:40 - loss: 0.6931 - accuracy: 0.50 - ETA: 2:37 - loss: 0.6933 - accuracy: 0.50 - ETA: 2:35 - loss: 0.6935 - accuracy: 0.49 - ETA: 2:33 - loss: 0.6934 - accuracy: 0.49 - ETA: 2:31 - loss: 0.6933 - accuracy: 0.50 - ETA: 2:28 - loss: 0.6932 - accuracy: 0.50 - ETA: 2:26 - loss: 0.6932 - accuracy: 0.50 - ETA: 2:24 - loss: 0.6932 - accuracy: 0.50 - ETA: 2:21 - loss: 0.6933 - accuracy: 0.50 - ETA: 2:19 - loss: 0.6933 - accuracy: 0.50 - ETA: 2:17 - loss: 0.6933 - accuracy: 0.49 - ETA: 2:14 - loss: 0.6933 - accuracy: 0.50 - ETA: 2:12 - loss: 0.6933 - accuracy: 0.50 - ETA: 2:10 - loss: 0.6934 - accuracy: 0.49 - ETA: 2:08 - loss: 0.6934 - accuracy: 0.49 - ETA: 2:05 - loss: 0.6933 - accuracy: 0.49 - ETA: 2:03 - loss: 0.6933 - accuracy: 0.49 - ETA: 2:01 - loss: 0.6933 - accuracy: 0.49 - ETA: 1:59 - loss: 0.6933 - accuracy: 0.50 - ETA: 1:56 - loss: 0.6933 - accuracy: 0.49 - ETA: 1:54 - loss: 0.6933 - accuracy: 0.49 - ETA: 1:52 - loss: 0.6933 - accuracy: 0.49 - ETA: 1:50 - loss: 0.6933 - accuracy: 0.49 - ETA: 1:47 - loss: 0.6933 - accuracy: 0.49 - ETA: 1:45 - loss: 0.6933 - accuracy: 0.49 - ETA: 1:43 - loss: 0.6933 - accuracy: 0.49 - ETA: 1:41 - loss: 0.6933 - accuracy: 0.49 - ETA: 1:38 - loss: 0.6933 - accuracy: 0.49 - ETA: 1:36 - loss: 0.6933 - accuracy: 0.49 - ETA: 1:34 - loss: 0.6933 - accuracy: 0.49 - ETA: 1:32 - loss: 0.6933 - accuracy: 0.49 - ETA: 1:30 - loss: 0.6933 - accuracy: 0.49 - ETA: 1:27 - loss: 0.6932 - accuracy: 0.50 - ETA: 1:25 - loss: 0.6932 - accuracy: 0.50 - ETA: 1:23 - loss: 0.6932 - accuracy: 0.49 - ETA: 1:21 - loss: 0.6933 - accuracy: 0.49 - ETA: 1:18 - loss: 0.6933 - accuracy: 0.49 - ETA: 1:16 - loss: 0.6932 - accuracy: 0.50 - ETA: 1:14 - loss: 0.6932 - accuracy: 0.50 - ETA: 1:12 - loss: 0.6933 - accuracy: 0.49 - ETA: 1:09 - loss: 0.6934 - accuracy: 0.49 - ETA: 1:07 - loss: 0.6934 - accuracy: 0.49 - ETA: 1:05 - loss: 0.6934 - accuracy: 0.49 - ETA: 1:03 - loss: 0.6934 - accuracy: 0.49 - ETA: 1:00 - loss: 0.6934 - accuracy: 0.49 - ETA: 58s - loss: 0.6934 - accuracy: 0.4958 - ETA: 56s - loss: 0.6934 - accuracy: 0.496 - ETA: 54s - loss: 0.6934 - accuracy: 0.496 - ETA: 51s - loss: 0.6934 - accuracy: 0.497 - ETA: 49s - loss: 0.6934 - accuracy: 0.497 - ETA: 47s - loss: 0.6934 - accuracy: 0.497 - ETA: 45s - loss: 0.6933 - accuracy: 0.499 - ETA: 42s - loss: 0.6933 - accuracy: 0.498 - ETA: 40s - loss: 0.6933 - accuracy: 0.499 - ETA: 38s - loss: 0.6933 - accuracy: 0.499 - ETA: 36s - loss: 0.6933 - accuracy: 0.498 - ETA: 33s - loss: 0.6933 - accuracy: 0.497 - ETA: 31s - loss: 0.6933 - accuracy: 0.499 - ETA: 29s - loss: 0.6933 - accuracy: 0.498 - ETA: 27s - loss: 0.6933 - accuracy: 0.498 - ETA: 24s - loss: 0.6933 - accuracy: 0.498 - ETA: 22s - loss: 0.6933 - accuracy: 0.499 - ETA: 20s - loss: 0.6933 - accuracy: 0.499 - ETA: 18s - loss: 0.6933 - accuracy: 0.499 - ETA: 15s - loss: 0.6933 - accuracy: 0.499 - ETA: 13s - loss: 0.6933 - accuracy: 0.499 - ETA: 11s - loss: 0.6933 - accuracy: 0.498 - ETA: 9s - loss: 0.6933 - accuracy: 0.497 - ETA: 6s - loss: 0.6933 - accuracy: 0.49 - ETA: 4s - loss: 0.6933 - accuracy: 0.49 - ETA: 2s - loss: 0.6933 - accuracy: 0.49 - ETA: 0s - loss: 0.6933 - accuracy: 0.49 - 210s 2s/step - loss: 0.6933 - accuracy: 0.4976 - val_loss: 0.6931 - val_accuracy: 0.5000\n"
     ]
    },
    {
     "data": {
      "text/html": [
       "<span style=\"color:#4527A0\"><h1 style=\"font-size:18px\">Trial complete</h1></span>"
      ],
      "text/plain": [
       "<IPython.core.display.HTML object>"
      ]
     },
     "metadata": {},
     "output_type": "display_data"
    },
    {
     "data": {
      "text/html": [
       "<span style=\"color:#4527A0\"><h1 style=\"font-size:18px\">Trial summary</h1></span>"
      ],
      "text/plain": [
       "<IPython.core.display.HTML object>"
      ]
     },
     "metadata": {},
     "output_type": "display_data"
    },
    {
     "data": {
      "text/html": [
       "<span style=\"color:#7E57C2\"><h2 style=\"font-size:16px\">Hp values:</h2></span>"
      ],
      "text/plain": [
       "<IPython.core.display.HTML object>"
      ]
     },
     "metadata": {},
     "output_type": "display_data"
    },
    {
     "data": {
      "text/html": [
       "<span style=\"color:cyan\"> |-dropout_rate: 0.5</span>"
      ],
      "text/plain": [
       "<IPython.core.display.HTML object>"
      ]
     },
     "metadata": {},
     "output_type": "display_data"
    },
    {
     "data": {
      "text/html": [
       "<span style=\"color:blue\"> |-filters_1: 200</span>"
      ],
      "text/plain": [
       "<IPython.core.display.HTML object>"
      ]
     },
     "metadata": {},
     "output_type": "display_data"
    },
    {
     "data": {
      "text/html": [
       "<span style=\"color:cyan\"> |-filters_2: 50</span>"
      ],
      "text/plain": [
       "<IPython.core.display.HTML object>"
      ]
     },
     "metadata": {},
     "output_type": "display_data"
    },
    {
     "data": {
      "text/html": [
       "<span style=\"color:blue\"> |-lr: 0.01</span>"
      ],
      "text/plain": [
       "<IPython.core.display.HTML object>"
      ]
     },
     "metadata": {},
     "output_type": "display_data"
    },
    {
     "data": {
      "text/html": [
       "<span style=\"color:cyan\"> |-tuner/bracket: 3</span>"
      ],
      "text/plain": [
       "<IPython.core.display.HTML object>"
      ]
     },
     "metadata": {},
     "output_type": "display_data"
    },
    {
     "data": {
      "text/html": [
       "<span style=\"color:blue\"> |-tuner/epochs: 2</span>"
      ],
      "text/plain": [
       "<IPython.core.display.HTML object>"
      ]
     },
     "metadata": {},
     "output_type": "display_data"
    },
    {
     "data": {
      "text/html": [
       "<span style=\"color:cyan\"> |-tuner/initial_epoch: 0</span>"
      ],
      "text/plain": [
       "<IPython.core.display.HTML object>"
      ]
     },
     "metadata": {},
     "output_type": "display_data"
    },
    {
     "data": {
      "text/html": [
       "<span style=\"color:blue\"> |-tuner/round: 0</span>"
      ],
      "text/plain": [
       "<IPython.core.display.HTML object>"
      ]
     },
     "metadata": {},
     "output_type": "display_data"
    },
    {
     "data": {
      "text/html": [
       "<span style=\"color:cyan\"> |-Score: 0.5</span>"
      ],
      "text/plain": [
       "<IPython.core.display.HTML object>"
      ]
     },
     "metadata": {},
     "output_type": "display_data"
    },
    {
     "data": {
      "text/html": [
       "<span style=\"color:cyan\"> |-Best step: 0</span>"
      ],
      "text/plain": [
       "<IPython.core.display.HTML object>"
      ]
     },
     "metadata": {},
     "output_type": "display_data"
    },
    {
     "name": "stdout",
     "output_type": "stream",
     "text": [
      "Epoch 1/2\n",
      "90/90 [==============================] - ETA: 2:25 - loss: 0.6983 - accuracy: 0.46 - ETA: 1:54 - loss: 9.4405 - accuracy: 0.48 - ETA: 1:52 - loss: 14.7682 - accuracy: 0.484 - ETA: 1:49 - loss: 12.0106 - accuracy: 0.511 - ETA: 1:48 - loss: 9.7997 - accuracy: 0.453 - ETA: 1:46 - loss: 8.3300 - accuracy: 0.45 - ETA: 1:44 - loss: 7.2461 - accuracy: 0.46 - ETA: 1:42 - loss: 6.4262 - accuracy: 0.47 - ETA: 1:41 - loss: 5.7874 - accuracy: 0.51 - ETA: 1:40 - loss: 5.2745 - accuracy: 0.50 - ETA: 1:38 - loss: 4.8532 - accuracy: 0.51 - ETA: 1:37 - loss: 4.5015 - accuracy: 0.51 - ETA: 1:36 - loss: 4.2028 - accuracy: 0.51 - ETA: 1:34 - loss: 3.9421 - accuracy: 0.52 - ETA: 1:33 - loss: 3.7163 - accuracy: 0.52 - ETA: 1:32 - loss: 3.5216 - accuracy: 0.52 - ETA: 1:30 - loss: 3.3567 - accuracy: 0.51 - ETA: 1:29 - loss: 3.2017 - accuracy: 0.52 - ETA: 1:28 - loss: 3.0649 - accuracy: 0.53 - ETA: 1:26 - loss: 2.9413 - accuracy: 0.55 - ETA: 1:25 - loss: 2.8298 - accuracy: 0.57 - ETA: 1:24 - loss: 2.7264 - accuracy: 0.58 - ETA: 1:23 - loss: 2.6329 - accuracy: 0.59 - ETA: 1:21 - loss: 2.5412 - accuracy: 0.60 - ETA: 1:20 - loss: 2.4631 - accuracy: 0.60 - ETA: 1:19 - loss: 2.3890 - accuracy: 0.61 - ETA: 1:18 - loss: 2.3203 - accuracy: 0.61 - ETA: 1:17 - loss: 2.2571 - accuracy: 0.62 - ETA: 1:15 - loss: 2.1960 - accuracy: 0.62 - ETA: 1:14 - loss: 2.1399 - accuracy: 0.63 - ETA: 1:13 - loss: 2.0859 - accuracy: 0.64 - ETA: 1:12 - loss: 2.0357 - accuracy: 0.65 - ETA: 1:10 - loss: 1.9878 - accuracy: 0.65 - ETA: 1:09 - loss: 1.9437 - accuracy: 0.66 - ETA: 1:08 - loss: 1.9013 - accuracy: 0.66 - ETA: 1:06 - loss: 1.8594 - accuracy: 0.67 - ETA: 1:05 - loss: 1.8202 - accuracy: 0.68 - ETA: 1:04 - loss: 1.7835 - accuracy: 0.68 - ETA: 1:03 - loss: 1.7487 - accuracy: 0.68 - ETA: 1:01 - loss: 1.7195 - accuracy: 0.69 - ETA: 1:00 - loss: 1.6901 - accuracy: 0.69 - ETA: 59s - loss: 1.6602 - accuracy: 0.7005 - ETA: 58s - loss: 1.6315 - accuracy: 0.705 - ETA: 56s - loss: 1.6040 - accuracy: 0.710 - ETA: 55s - loss: 1.5770 - accuracy: 0.716 - ETA: 54s - loss: 1.5513 - accuracy: 0.721 - ETA: 53s - loss: 1.5274 - accuracy: 0.726 - ETA: 51s - loss: 1.5036 - accuracy: 0.730 - ETA: 50s - loss: 1.4808 - accuracy: 0.733 - ETA: 49s - loss: 1.4571 - accuracy: 0.737 - ETA: 48s - loss: 1.4358 - accuracy: 0.740 - ETA: 46s - loss: 1.4149 - accuracy: 0.743 - ETA: 45s - loss: 1.3958 - accuracy: 0.745 - ETA: 44s - loss: 1.3753 - accuracy: 0.748 - ETA: 43s - loss: 1.3561 - accuracy: 0.752 - ETA: 42s - loss: 1.3374 - accuracy: 0.756 - ETA: 40s - loss: 1.3207 - accuracy: 0.759 - ETA: 39s - loss: 1.3035 - accuracy: 0.762 - ETA: 38s - loss: 1.2856 - accuracy: 0.766 - ETA: 37s - loss: 1.2711 - accuracy: 0.768 - ETA: 35s - loss: 1.2564 - accuracy: 0.770 - ETA: 34s - loss: 1.2420 - accuracy: 0.773 - ETA: 33s - loss: 1.2287 - accuracy: 0.775 - ETA: 32s - loss: 1.2140 - accuracy: 0.778 - ETA: 30s - loss: 1.2007 - accuracy: 0.780 - ETA: 29s - loss: 1.1881 - accuracy: 0.782 - ETA: 28s - loss: 1.1761 - accuracy: 0.784 - ETA: 27s - loss: 1.1630 - accuracy: 0.786 - ETA: 25s - loss: 1.1505 - accuracy: 0.788 - ETA: 24s - loss: 1.1379 - accuracy: 0.791 - ETA: 23s - loss: 1.1282 - accuracy: 0.792 - ETA: 22s - loss: 1.1165 - accuracy: 0.793 - ETA: 20s - loss: 1.1070 - accuracy: 0.794 - ETA: 19s - loss: 1.0961 - accuracy: 0.796 - ETA: 18s - loss: 1.0854 - accuracy: 0.798 - ETA: 17s - loss: 1.0754 - accuracy: 0.800 - ETA: 16s - loss: 1.0648 - accuracy: 0.802 - ETA: 14s - loss: 1.0547 - accuracy: 0.805 - ETA: 13s - loss: 1.0444 - accuracy: 0.807 - ETA: 12s - loss: 1.0344 - accuracy: 0.808 - ETA: 11s - loss: 1.0240 - accuracy: 0.811 - ETA: 9s - loss: 1.0152 - accuracy: 0.812 - ETA: 8s - loss: 1.0065 - accuracy: 0.81 - ETA: 7s - loss: 0.9967 - accuracy: 0.81 - ETA: 6s - loss: 0.9884 - accuracy: 0.81 - ETA: 4s - loss: 0.9799 - accuracy: 0.81 - ETA: 3s - loss: 0.9711 - accuracy: 0.82 - ETA: 2s - loss: 0.9627 - accuracy: 0.82 - ETA: 1s - loss: 0.9549 - accuracy: 0.82 - ETA: 0s - loss: 0.9469 - accuracy: 0.82 - 115s 1s/step - loss: 0.9469 - accuracy: 0.8255 - val_loss: 0.2009 - val_accuracy: 0.9672\n",
      "Epoch 2/2\n",
      "90/90 [==============================] - ETA: 1:49 - loss: 0.1883 - accuracy: 1.00 - ETA: 1:51 - loss: 0.2026 - accuracy: 0.99 - ETA: 1:49 - loss: 0.1990 - accuracy: 0.98 - ETA: 1:46 - loss: 0.2062 - accuracy: 0.98 - ETA: 1:44 - loss: 0.2010 - accuracy: 0.98 - ETA: 1:43 - loss: 0.1958 - accuracy: 0.98 - ETA: 1:41 - loss: 0.1949 - accuracy: 0.98 - ETA: 1:40 - loss: 0.1908 - accuracy: 0.98 - ETA: 1:39 - loss: 0.1829 - accuracy: 0.98 - ETA: 1:38 - loss: 0.1775 - accuracy: 0.98 - ETA: 1:37 - loss: 0.1763 - accuracy: 0.98 - ETA: 1:35 - loss: 0.1743 - accuracy: 0.98 - ETA: 1:34 - loss: 0.1765 - accuracy: 0.98 - ETA: 1:33 - loss: 0.1785 - accuracy: 0.98 - ETA: 1:32 - loss: 0.1717 - accuracy: 0.98 - ETA: 1:31 - loss: 0.1677 - accuracy: 0.98 - ETA: 1:29 - loss: 0.1623 - accuracy: 0.97 - ETA: 1:28 - loss: 0.1563 - accuracy: 0.97 - ETA: 1:27 - loss: 0.1546 - accuracy: 0.97 - ETA: 1:26 - loss: 0.1489 - accuracy: 0.97 - ETA: 1:25 - loss: 0.1431 - accuracy: 0.97 - ETA: 1:23 - loss: 0.1374 - accuracy: 0.98 - ETA: 1:22 - loss: 0.1345 - accuracy: 0.98 - ETA: 1:21 - loss: 0.1297 - accuracy: 0.98 - ETA: 1:20 - loss: 0.1255 - accuracy: 0.98 - ETA: 1:18 - loss: 0.1210 - accuracy: 0.98 - ETA: 1:17 - loss: 0.1166 - accuracy: 0.98 - ETA: 1:16 - loss: 0.1139 - accuracy: 0.98 - ETA: 1:15 - loss: 0.1115 - accuracy: 0.98 - ETA: 1:14 - loss: 0.1088 - accuracy: 0.98 - ETA: 1:12 - loss: 0.1098 - accuracy: 0.98 - ETA: 1:11 - loss: 0.1064 - accuracy: 0.98 - ETA: 1:10 - loss: 0.1044 - accuracy: 0.98 - ETA: 1:09 - loss: 0.1017 - accuracy: 0.98 - ETA: 1:07 - loss: 0.1007 - accuracy: 0.98 - ETA: 1:06 - loss: 0.0981 - accuracy: 0.98 - ETA: 1:05 - loss: 0.0955 - accuracy: 0.98 - ETA: 1:04 - loss: 0.0974 - accuracy: 0.98 - ETA: 1:03 - loss: 0.0961 - accuracy: 0.98 - ETA: 1:01 - loss: 0.0942 - accuracy: 0.98 - ETA: 1:00 - loss: 0.0937 - accuracy: 0.98 - ETA: 59s - loss: 0.0927 - accuracy: 0.9829 - ETA: 58s - loss: 0.0924 - accuracy: 0.982 - ETA: 56s - loss: 0.0904 - accuracy: 0.983 - ETA: 55s - loss: 0.0885 - accuracy: 0.983 - ETA: 54s - loss: 0.0874 - accuracy: 0.983 - ETA: 53s - loss: 0.0869 - accuracy: 0.983 - ETA: 51s - loss: 0.0858 - accuracy: 0.983 - ETA: 50s - loss: 0.0844 - accuracy: 0.983 - ETA: 49s - loss: 0.0832 - accuracy: 0.983 - ETA: 48s - loss: 0.0821 - accuracy: 0.984 - ETA: 47s - loss: 0.0806 - accuracy: 0.984 - ETA: 45s - loss: 0.0797 - accuracy: 0.984 - ETA: 44s - loss: 0.0790 - accuracy: 0.984 - ETA: 43s - loss: 0.0783 - accuracy: 0.984 - ETA: 42s - loss: 0.0777 - accuracy: 0.984 - ETA: 40s - loss: 0.0769 - accuracy: 0.984 - ETA: 39s - loss: 0.0758 - accuracy: 0.984 - ETA: 38s - loss: 0.0766 - accuracy: 0.984 - ETA: 37s - loss: 0.0755 - accuracy: 0.984 - ETA: 35s - loss: 0.0744 - accuracy: 0.984 - ETA: 34s - loss: 0.0758 - accuracy: 0.984 - ETA: 33s - loss: 0.0747 - accuracy: 0.984 - ETA: 32s - loss: 0.0738 - accuracy: 0.985 - ETA: 30s - loss: 0.0745 - accuracy: 0.984 - ETA: 29s - loss: 0.0734 - accuracy: 0.984 - ETA: 28s - loss: 0.0724 - accuracy: 0.984 - ETA: 27s - loss: 0.0725 - accuracy: 0.984 - ETA: 25s - loss: 0.0716 - accuracy: 0.984 - ETA: 24s - loss: 0.0708 - accuracy: 0.985 - ETA: 23s - loss: 0.0704 - accuracy: 0.984 - ETA: 22s - loss: 0.0695 - accuracy: 0.985 - ETA: 21s - loss: 0.0689 - accuracy: 0.985 - ETA: 19s - loss: 0.0680 - accuracy: 0.985 - ETA: 18s - loss: 0.0678 - accuracy: 0.985 - ETA: 17s - loss: 0.0669 - accuracy: 0.985 - ETA: 16s - loss: 0.0662 - accuracy: 0.985 - ETA: 14s - loss: 0.0657 - accuracy: 0.985 - ETA: 13s - loss: 0.0649 - accuracy: 0.985 - ETA: 12s - loss: 0.0644 - accuracy: 0.985 - ETA: 11s - loss: 0.0636 - accuracy: 0.985 - ETA: 9s - loss: 0.0629 - accuracy: 0.986 - ETA: 8s - loss: 0.0623 - accuracy: 0.98 - ETA: 7s - loss: 0.0621 - accuracy: 0.98 - ETA: 6s - loss: 0.0618 - accuracy: 0.98 - ETA: 4s - loss: 0.0611 - accuracy: 0.98 - ETA: 3s - loss: 0.0607 - accuracy: 0.98 - ETA: 2s - loss: 0.0602 - accuracy: 0.98 - ETA: 1s - loss: 0.0598 - accuracy: 0.98 - ETA: 0s - loss: 0.0596 - accuracy: 0.98 - 116s 1s/step - loss: 0.0596 - accuracy: 0.9863 - val_loss: 0.0053 - val_accuracy: 0.9984\n"
     ]
    },
    {
     "data": {
      "text/html": [
       "<span style=\"color:#4527A0\"><h1 style=\"font-size:18px\">Trial complete</h1></span>"
      ],
      "text/plain": [
       "<IPython.core.display.HTML object>"
      ]
     },
     "metadata": {},
     "output_type": "display_data"
    },
    {
     "data": {
      "text/html": [
       "<span style=\"color:#4527A0\"><h1 style=\"font-size:18px\">Trial summary</h1></span>"
      ],
      "text/plain": [
       "<IPython.core.display.HTML object>"
      ]
     },
     "metadata": {},
     "output_type": "display_data"
    },
    {
     "data": {
      "text/html": [
       "<span style=\"color:#7E57C2\"><h2 style=\"font-size:16px\">Hp values:</h2></span>"
      ],
      "text/plain": [
       "<IPython.core.display.HTML object>"
      ]
     },
     "metadata": {},
     "output_type": "display_data"
    },
    {
     "data": {
      "text/html": [
       "<span style=\"color:cyan\"> |-dropout_rate: 0.5</span>"
      ],
      "text/plain": [
       "<IPython.core.display.HTML object>"
      ]
     },
     "metadata": {},
     "output_type": "display_data"
    },
    {
     "data": {
      "text/html": [
       "<span style=\"color:blue\"> |-filters_1: 100</span>"
      ],
      "text/plain": [
       "<IPython.core.display.HTML object>"
      ]
     },
     "metadata": {},
     "output_type": "display_data"
    },
    {
     "data": {
      "text/html": [
       "<span style=\"color:cyan\"> |-filters_2: 50</span>"
      ],
      "text/plain": [
       "<IPython.core.display.HTML object>"
      ]
     },
     "metadata": {},
     "output_type": "display_data"
    },
    {
     "data": {
      "text/html": [
       "<span style=\"color:blue\"> |-lr: 0.01</span>"
      ],
      "text/plain": [
       "<IPython.core.display.HTML object>"
      ]
     },
     "metadata": {},
     "output_type": "display_data"
    },
    {
     "data": {
      "text/html": [
       "<span style=\"color:cyan\"> |-tuner/bracket: 3</span>"
      ],
      "text/plain": [
       "<IPython.core.display.HTML object>"
      ]
     },
     "metadata": {},
     "output_type": "display_data"
    },
    {
     "data": {
      "text/html": [
       "<span style=\"color:blue\"> |-tuner/epochs: 2</span>"
      ],
      "text/plain": [
       "<IPython.core.display.HTML object>"
      ]
     },
     "metadata": {},
     "output_type": "display_data"
    },
    {
     "data": {
      "text/html": [
       "<span style=\"color:cyan\"> |-tuner/initial_epoch: 0</span>"
      ],
      "text/plain": [
       "<IPython.core.display.HTML object>"
      ]
     },
     "metadata": {},
     "output_type": "display_data"
    },
    {
     "data": {
      "text/html": [
       "<span style=\"color:blue\"> |-tuner/round: 0</span>"
      ],
      "text/plain": [
       "<IPython.core.display.HTML object>"
      ]
     },
     "metadata": {},
     "output_type": "display_data"
    },
    {
     "data": {
      "text/html": [
       "<span style=\"color:cyan\"> |-Score: 0.9984375238418579</span>"
      ],
      "text/plain": [
       "<IPython.core.display.HTML object>"
      ]
     },
     "metadata": {},
     "output_type": "display_data"
    },
    {
     "data": {
      "text/html": [
       "<span style=\"color:cyan\"> |-Best step: 0</span>"
      ],
      "text/plain": [
       "<IPython.core.display.HTML object>"
      ]
     },
     "metadata": {},
     "output_type": "display_data"
    },
    {
     "name": "stdout",
     "output_type": "stream",
     "text": [
      "Epoch 1/2\n",
      "90/90 [==============================] - ETA: 2:10 - loss: 0.6814 - accuracy: 0.59 - ETA: 1:37 - loss: 0.6834 - accuracy: 0.50 - ETA: 1:37 - loss: 0.6701 - accuracy: 0.53 - ETA: 1:36 - loss: 0.6383 - accuracy: 0.60 - ETA: 1:36 - loss: 0.6169 - accuracy: 0.64 - ETA: 1:35 - loss: 0.5809 - accuracy: 0.68 - ETA: 1:33 - loss: 0.5488 - accuracy: 0.72 - ETA: 1:32 - loss: 0.5255 - accuracy: 0.73 - ETA: 1:31 - loss: 0.5038 - accuracy: 0.75 - ETA: 1:30 - loss: 0.4819 - accuracy: 0.76 - ETA: 1:29 - loss: 0.4800 - accuracy: 0.76 - ETA: 1:27 - loss: 0.4621 - accuracy: 0.77 - ETA: 1:26 - loss: 0.4572 - accuracy: 0.78 - ETA: 1:26 - loss: 0.4585 - accuracy: 0.78 - ETA: 1:24 - loss: 0.4440 - accuracy: 0.78 - ETA: 1:23 - loss: 0.4455 - accuracy: 0.78 - ETA: 1:22 - loss: 0.4363 - accuracy: 0.79 - ETA: 1:21 - loss: 0.4289 - accuracy: 0.79 - ETA: 1:20 - loss: 0.4170 - accuracy: 0.80 - ETA: 1:19 - loss: 0.4118 - accuracy: 0.80 - ETA: 1:18 - loss: 0.4078 - accuracy: 0.80 - ETA: 1:16 - loss: 0.3983 - accuracy: 0.81 - ETA: 1:15 - loss: 0.3885 - accuracy: 0.82 - ETA: 1:14 - loss: 0.3824 - accuracy: 0.82 - ETA: 1:13 - loss: 0.3719 - accuracy: 0.82 - ETA: 1:12 - loss: 0.3667 - accuracy: 0.83 - ETA: 1:11 - loss: 0.3619 - accuracy: 0.83 - ETA: 1:10 - loss: 0.3544 - accuracy: 0.84 - ETA: 1:08 - loss: 0.3466 - accuracy: 0.84 - ETA: 1:07 - loss: 0.3401 - accuracy: 0.84 - ETA: 1:06 - loss: 0.3337 - accuracy: 0.85 - ETA: 1:05 - loss: 0.3308 - accuracy: 0.85 - ETA: 1:04 - loss: 0.3284 - accuracy: 0.85 - ETA: 1:03 - loss: 0.3250 - accuracy: 0.85 - ETA: 1:02 - loss: 0.3180 - accuracy: 0.85 - ETA: 1:01 - loss: 0.3127 - accuracy: 0.86 - ETA: 59s - loss: 0.3099 - accuracy: 0.8619 - ETA: 58s - loss: 0.3062 - accuracy: 0.863 - ETA: 57s - loss: 0.3024 - accuracy: 0.865 - ETA: 56s - loss: 0.2971 - accuracy: 0.868 - ETA: 55s - loss: 0.2910 - accuracy: 0.871 - ETA: 54s - loss: 0.2856 - accuracy: 0.874 - ETA: 53s - loss: 0.2822 - accuracy: 0.876 - ETA: 51s - loss: 0.2784 - accuracy: 0.877 - ETA: 50s - loss: 0.2762 - accuracy: 0.878 - ETA: 49s - loss: 0.2713 - accuracy: 0.881 - ETA: 48s - loss: 0.2668 - accuracy: 0.883 - ETA: 47s - loss: 0.2629 - accuracy: 0.885 - ETA: 46s - loss: 0.2588 - accuracy: 0.887 - ETA: 45s - loss: 0.2554 - accuracy: 0.889 - ETA: 44s - loss: 0.2521 - accuracy: 0.890 - ETA: 42s - loss: 0.2479 - accuracy: 0.892 - ETA: 41s - loss: 0.2445 - accuracy: 0.894 - ETA: 40s - loss: 0.2406 - accuracy: 0.895 - ETA: 39s - loss: 0.2368 - accuracy: 0.897 - ETA: 38s - loss: 0.2334 - accuracy: 0.899 - ETA: 37s - loss: 0.2304 - accuracy: 0.901 - ETA: 36s - loss: 0.2273 - accuracy: 0.902 - ETA: 35s - loss: 0.2247 - accuracy: 0.903 - ETA: 33s - loss: 0.2213 - accuracy: 0.904 - ETA: 32s - loss: 0.2179 - accuracy: 0.906 - ETA: 31s - loss: 0.2158 - accuracy: 0.907 - ETA: 30s - loss: 0.2133 - accuracy: 0.908 - ETA: 29s - loss: 0.2111 - accuracy: 0.909 - ETA: 28s - loss: 0.2087 - accuracy: 0.911 - ETA: 27s - loss: 0.2057 - accuracy: 0.912 - ETA: 25s - loss: 0.2029 - accuracy: 0.913 - ETA: 24s - loss: 0.2002 - accuracy: 0.915 - ETA: 23s - loss: 0.1976 - accuracy: 0.916 - ETA: 22s - loss: 0.1951 - accuracy: 0.917 - ETA: 21s - loss: 0.1930 - accuracy: 0.918 - ETA: 20s - loss: 0.1905 - accuracy: 0.919 - ETA: 19s - loss: 0.1881 - accuracy: 0.920 - ETA: 18s - loss: 0.1859 - accuracy: 0.921 - ETA: 16s - loss: 0.1838 - accuracy: 0.922 - ETA: 15s - loss: 0.1818 - accuracy: 0.923 - ETA: 14s - loss: 0.1808 - accuracy: 0.923 - ETA: 13s - loss: 0.1787 - accuracy: 0.924 - ETA: 12s - loss: 0.1766 - accuracy: 0.925 - ETA: 11s - loss: 0.1754 - accuracy: 0.926 - ETA: 10s - loss: 0.1737 - accuracy: 0.927 - ETA: 9s - loss: 0.1717 - accuracy: 0.928 - ETA: 7s - loss: 0.1703 - accuracy: 0.92 - ETA: 6s - loss: 0.1684 - accuracy: 0.92 - ETA: 5s - loss: 0.1666 - accuracy: 0.93 - ETA: 4s - loss: 0.1650 - accuracy: 0.93 - ETA: 3s - loss: 0.1632 - accuracy: 0.93 - ETA: 2s - loss: 0.1616 - accuracy: 0.93 - ETA: 1s - loss: 0.1599 - accuracy: 0.93 - ETA: 0s - loss: 0.1586 - accuracy: 0.93 - 105s 1s/step - loss: 0.1586 - accuracy: 0.9339 - val_loss: 0.0174 - val_accuracy: 0.9969\n",
      "Epoch 2/2\n",
      "90/90 [==============================] - ETA: 1:38 - loss: 0.0356 - accuracy: 0.98 - ETA: 1:42 - loss: 0.0392 - accuracy: 0.97 - ETA: 1:39 - loss: 0.0348 - accuracy: 0.98 - ETA: 1:37 - loss: 0.0323 - accuracy: 0.98 - ETA: 1:36 - loss: 0.0275 - accuracy: 0.99 - ETA: 1:34 - loss: 0.0235 - accuracy: 0.99 - ETA: 1:33 - loss: 0.0223 - accuracy: 0.99 - ETA: 1:34 - loss: 0.0211 - accuracy: 0.99 - ETA: 1:34 - loss: 0.0195 - accuracy: 0.99 - ETA: 1:33 - loss: 0.0180 - accuracy: 0.99 - ETA: 1:31 - loss: 0.0172 - accuracy: 0.99 - ETA: 1:30 - loss: 0.0177 - accuracy: 0.99 - ETA: 1:29 - loss: 0.0192 - accuracy: 0.99 - ETA: 1:27 - loss: 0.0188 - accuracy: 0.99 - ETA: 1:26 - loss: 0.0180 - accuracy: 0.99 - ETA: 1:25 - loss: 0.0177 - accuracy: 0.99 - ETA: 1:24 - loss: 0.0175 - accuracy: 0.99 - ETA: 1:22 - loss: 0.0175 - accuracy: 0.99 - ETA: 1:21 - loss: 0.0173 - accuracy: 0.99 - ETA: 1:20 - loss: 0.0173 - accuracy: 0.99 - ETA: 1:19 - loss: 0.0168 - accuracy: 0.99 - ETA: 1:17 - loss: 0.0172 - accuracy: 0.99 - ETA: 1:16 - loss: 0.0168 - accuracy: 0.99 - ETA: 1:15 - loss: 0.0175 - accuracy: 0.99 - ETA: 1:14 - loss: 0.0182 - accuracy: 0.99 - ETA: 1:13 - loss: 0.0184 - accuracy: 0.99 - ETA: 1:12 - loss: 0.0178 - accuracy: 0.99 - ETA: 1:10 - loss: 0.0173 - accuracy: 0.99 - ETA: 1:09 - loss: 0.0169 - accuracy: 0.99 - ETA: 1:08 - loss: 0.0168 - accuracy: 0.99 - ETA: 1:07 - loss: 0.0164 - accuracy: 0.99 - ETA: 1:06 - loss: 0.0159 - accuracy: 0.99 - ETA: 1:05 - loss: 0.0156 - accuracy: 0.99 - ETA: 1:03 - loss: 0.0153 - accuracy: 0.99 - ETA: 1:02 - loss: 0.0152 - accuracy: 0.99 - ETA: 1:01 - loss: 0.0151 - accuracy: 0.99 - ETA: 1:00 - loss: 0.0148 - accuracy: 0.99 - ETA: 59s - loss: 0.0145 - accuracy: 0.9963 - ETA: 58s - loss: 0.0144 - accuracy: 0.996 - ETA: 57s - loss: 0.0142 - accuracy: 0.996 - ETA: 55s - loss: 0.0141 - accuracy: 0.996 - ETA: 54s - loss: 0.0139 - accuracy: 0.996 - ETA: 53s - loss: 0.0136 - accuracy: 0.996 - ETA: 52s - loss: 0.0137 - accuracy: 0.996 - ETA: 51s - loss: 0.0134 - accuracy: 0.996 - ETA: 50s - loss: 0.0136 - accuracy: 0.996 - ETA: 48s - loss: 0.0137 - accuracy: 0.996 - ETA: 47s - loss: 0.0137 - accuracy: 0.996 - ETA: 46s - loss: 0.0137 - accuracy: 0.996 - ETA: 45s - loss: 0.0139 - accuracy: 0.996 - ETA: 44s - loss: 0.0138 - accuracy: 0.996 - ETA: 43s - loss: 0.0150 - accuracy: 0.996 - ETA: 42s - loss: 0.0148 - accuracy: 0.996 - ETA: 41s - loss: 0.0150 - accuracy: 0.996 - ETA: 39s - loss: 0.0149 - accuracy: 0.996 - ETA: 38s - loss: 0.0147 - accuracy: 0.996 - ETA: 37s - loss: 0.0145 - accuracy: 0.996 - ETA: 36s - loss: 0.0144 - accuracy: 0.996 - ETA: 35s - loss: 0.0142 - accuracy: 0.996 - ETA: 34s - loss: 0.0140 - accuracy: 0.996 - ETA: 33s - loss: 0.0139 - accuracy: 0.996 - ETA: 31s - loss: 0.0137 - accuracy: 0.996 - ETA: 30s - loss: 0.0135 - accuracy: 0.996 - ETA: 29s - loss: 0.0133 - accuracy: 0.996 - ETA: 28s - loss: 0.0134 - accuracy: 0.996 - ETA: 27s - loss: 0.0134 - accuracy: 0.996 - ETA: 26s - loss: 0.0135 - accuracy: 0.996 - ETA: 25s - loss: 0.0133 - accuracy: 0.996 - ETA: 23s - loss: 0.0132 - accuracy: 0.996 - ETA: 22s - loss: 0.0133 - accuracy: 0.996 - ETA: 21s - loss: 0.0132 - accuracy: 0.996 - ETA: 20s - loss: 0.0133 - accuracy: 0.995 - ETA: 19s - loss: 0.0131 - accuracy: 0.995 - ETA: 18s - loss: 0.0131 - accuracy: 0.996 - ETA: 17s - loss: 0.0130 - accuracy: 0.996 - ETA: 15s - loss: 0.0129 - accuracy: 0.996 - ETA: 14s - loss: 0.0128 - accuracy: 0.996 - ETA: 13s - loss: 0.0126 - accuracy: 0.996 - ETA: 12s - loss: 0.0132 - accuracy: 0.995 - ETA: 11s - loss: 0.0134 - accuracy: 0.995 - ETA: 10s - loss: 0.0133 - accuracy: 0.995 - ETA: 9s - loss: 0.0132 - accuracy: 0.996 - ETA: 7s - loss: 0.0133 - accuracy: 0.99 - ETA: 6s - loss: 0.0132 - accuracy: 0.99 - ETA: 5s - loss: 0.0131 - accuracy: 0.99 - ETA: 4s - loss: 0.0131 - accuracy: 0.99 - ETA: 3s - loss: 0.0131 - accuracy: 0.99 - ETA: 2s - loss: 0.0137 - accuracy: 0.99 - ETA: 1s - loss: 0.0141 - accuracy: 0.99 - ETA: 0s - loss: 0.0140 - accuracy: 0.99 - 105s 1s/step - loss: 0.0140 - accuracy: 0.9957 - val_loss: 0.0231 - val_accuracy: 0.9937\n"
     ]
    },
    {
     "data": {
      "text/html": [
       "<span style=\"color:#4527A0\"><h1 style=\"font-size:18px\">Trial complete</h1></span>"
      ],
      "text/plain": [
       "<IPython.core.display.HTML object>"
      ]
     },
     "metadata": {},
     "output_type": "display_data"
    },
    {
     "data": {
      "text/html": [
       "<span style=\"color:#4527A0\"><h1 style=\"font-size:18px\">Trial summary</h1></span>"
      ],
      "text/plain": [
       "<IPython.core.display.HTML object>"
      ]
     },
     "metadata": {},
     "output_type": "display_data"
    },
    {
     "data": {
      "text/html": [
       "<span style=\"color:#7E57C2\"><h2 style=\"font-size:16px\">Hp values:</h2></span>"
      ],
      "text/plain": [
       "<IPython.core.display.HTML object>"
      ]
     },
     "metadata": {},
     "output_type": "display_data"
    },
    {
     "data": {
      "text/html": [
       "<span style=\"color:cyan\"> |-dropout_rate: 0.7</span>"
      ],
      "text/plain": [
       "<IPython.core.display.HTML object>"
      ]
     },
     "metadata": {},
     "output_type": "display_data"
    },
    {
     "data": {
      "text/html": [
       "<span style=\"color:blue\"> |-filters_1: 100</span>"
      ],
      "text/plain": [
       "<IPython.core.display.HTML object>"
      ]
     },
     "metadata": {},
     "output_type": "display_data"
    },
    {
     "data": {
      "text/html": [
       "<span style=\"color:cyan\"> |-filters_2: 25</span>"
      ],
      "text/plain": [
       "<IPython.core.display.HTML object>"
      ]
     },
     "metadata": {},
     "output_type": "display_data"
    },
    {
     "data": {
      "text/html": [
       "<span style=\"color:blue\"> |-lr: 0.001</span>"
      ],
      "text/plain": [
       "<IPython.core.display.HTML object>"
      ]
     },
     "metadata": {},
     "output_type": "display_data"
    },
    {
     "data": {
      "text/html": [
       "<span style=\"color:cyan\"> |-tuner/bracket: 3</span>"
      ],
      "text/plain": [
       "<IPython.core.display.HTML object>"
      ]
     },
     "metadata": {},
     "output_type": "display_data"
    },
    {
     "data": {
      "text/html": [
       "<span style=\"color:blue\"> |-tuner/epochs: 2</span>"
      ],
      "text/plain": [
       "<IPython.core.display.HTML object>"
      ]
     },
     "metadata": {},
     "output_type": "display_data"
    },
    {
     "data": {
      "text/html": [
       "<span style=\"color:cyan\"> |-tuner/initial_epoch: 0</span>"
      ],
      "text/plain": [
       "<IPython.core.display.HTML object>"
      ]
     },
     "metadata": {},
     "output_type": "display_data"
    },
    {
     "data": {
      "text/html": [
       "<span style=\"color:blue\"> |-tuner/round: 0</span>"
      ],
      "text/plain": [
       "<IPython.core.display.HTML object>"
      ]
     },
     "metadata": {},
     "output_type": "display_data"
    },
    {
     "data": {
      "text/html": [
       "<span style=\"color:cyan\"> |-Score: 0.996874988079071</span>"
      ],
      "text/plain": [
       "<IPython.core.display.HTML object>"
      ]
     },
     "metadata": {},
     "output_type": "display_data"
    },
    {
     "data": {
      "text/html": [
       "<span style=\"color:cyan\"> |-Best step: 0</span>"
      ],
      "text/plain": [
       "<IPython.core.display.HTML object>"
      ]
     },
     "metadata": {},
     "output_type": "display_data"
    },
    {
     "name": "stdout",
     "output_type": "stream",
     "text": [
      "Epoch 1/2\n",
      "90/90 [==============================] - ETA: 2:04 - loss: 0.6951 - accuracy: 0.53 - ETA: 1:36 - loss: 3.1777 - accuracy: 0.53 - ETA: 1:35 - loss: 8.4848 - accuracy: 0.52 - ETA: 1:33 - loss: 7.2162 - accuracy: 0.53 - ETA: 1:32 - loss: 5.9096 - accuracy: 0.54 - ETA: 1:31 - loss: 5.0409 - accuracy: 0.52 - ETA: 1:30 - loss: 4.4202 - accuracy: 0.50 - ETA: 1:29 - loss: 3.9545 - accuracy: 0.49 - ETA: 1:28 - loss: 3.5920 - accuracy: 0.50 - ETA: 1:26 - loss: 3.3021 - accuracy: 0.50 - ETA: 1:25 - loss: 3.0635 - accuracy: 0.50 - ETA: 1:24 - loss: 2.8639 - accuracy: 0.49 - ETA: 1:23 - loss: 2.6891 - accuracy: 0.50 - ETA: 1:21 - loss: 2.5394 - accuracy: 0.50 - ETA: 1:20 - loss: 2.4065 - accuracy: 0.51 - ETA: 1:19 - loss: 2.2897 - accuracy: 0.51 - ETA: 1:18 - loss: 2.1838 - accuracy: 0.52 - ETA: 1:17 - loss: 2.0877 - accuracy: 0.54 - ETA: 1:16 - loss: 2.0001 - accuracy: 0.55 - ETA: 1:15 - loss: 1.9228 - accuracy: 0.57 - ETA: 1:14 - loss: 1.8521 - accuracy: 0.58 - ETA: 1:12 - loss: 1.7794 - accuracy: 0.59 - ETA: 1:11 - loss: 1.7103 - accuracy: 0.61 - ETA: 1:10 - loss: 1.6533 - accuracy: 0.62 - ETA: 1:09 - loss: 1.5969 - accuracy: 0.63 - ETA: 1:08 - loss: 1.5431 - accuracy: 0.64 - ETA: 1:07 - loss: 1.4944 - accuracy: 0.65 - ETA: 1:06 - loss: 1.4569 - accuracy: 0.66 - ETA: 1:05 - loss: 1.4211 - accuracy: 0.66 - ETA: 1:04 - loss: 1.3834 - accuracy: 0.67 - ETA: 1:03 - loss: 1.3486 - accuracy: 0.68 - ETA: 1:02 - loss: 1.3176 - accuracy: 0.68 - ETA: 1:01 - loss: 1.2891 - accuracy: 0.69 - ETA: 1:00 - loss: 1.2606 - accuracy: 0.69 - ETA: 58s - loss: 1.2336 - accuracy: 0.7013 - ETA: 57s - loss: 1.2056 - accuracy: 0.707 - ETA: 56s - loss: 1.1791 - accuracy: 0.712 - ETA: 55s - loss: 1.1554 - accuracy: 0.716 - ETA: 54s - loss: 1.1342 - accuracy: 0.720 - ETA: 53s - loss: 1.1126 - accuracy: 0.723 - ETA: 52s - loss: 1.0904 - accuracy: 0.728 - ETA: 51s - loss: 1.0686 - accuracy: 0.732 - ETA: 50s - loss: 1.0472 - accuracy: 0.737 - ETA: 49s - loss: 1.0288 - accuracy: 0.741 - ETA: 48s - loss: 1.0114 - accuracy: 0.746 - ETA: 47s - loss: 0.9942 - accuracy: 0.749 - ETA: 46s - loss: 0.9785 - accuracy: 0.753 - ETA: 45s - loss: 0.9637 - accuracy: 0.756 - ETA: 43s - loss: 0.9496 - accuracy: 0.760 - ETA: 42s - loss: 0.9346 - accuracy: 0.764 - ETA: 41s - loss: 0.9207 - accuracy: 0.767 - ETA: 40s - loss: 0.9082 - accuracy: 0.769 - ETA: 39s - loss: 0.8971 - accuracy: 0.771 - ETA: 38s - loss: 0.8855 - accuracy: 0.773 - ETA: 37s - loss: 0.8742 - accuracy: 0.775 - ETA: 36s - loss: 0.8649 - accuracy: 0.777 - ETA: 35s - loss: 0.8551 - accuracy: 0.779 - ETA: 34s - loss: 0.8431 - accuracy: 0.782 - ETA: 33s - loss: 0.8326 - accuracy: 0.784 - ETA: 32s - loss: 0.8224 - accuracy: 0.785 - ETA: 31s - loss: 0.8124 - accuracy: 0.787 - ETA: 29s - loss: 0.8017 - accuracy: 0.790 - ETA: 28s - loss: 0.7904 - accuracy: 0.793 - ETA: 27s - loss: 0.7815 - accuracy: 0.795 - ETA: 26s - loss: 0.7725 - accuracy: 0.798 - ETA: 25s - loss: 0.7647 - accuracy: 0.800 - ETA: 24s - loss: 0.7558 - accuracy: 0.802 - ETA: 23s - loss: 0.7468 - accuracy: 0.804 - ETA: 22s - loss: 0.7379 - accuracy: 0.806 - ETA: 21s - loss: 0.7301 - accuracy: 0.808 - ETA: 20s - loss: 0.7224 - accuracy: 0.810 - ETA: 19s - loss: 0.7140 - accuracy: 0.812 - ETA: 18s - loss: 0.7080 - accuracy: 0.813 - ETA: 17s - loss: 0.7005 - accuracy: 0.815 - ETA: 16s - loss: 0.6939 - accuracy: 0.816 - ETA: 14s - loss: 0.6866 - accuracy: 0.818 - ETA: 13s - loss: 0.6794 - accuracy: 0.820 - ETA: 12s - loss: 0.6731 - accuracy: 0.821 - ETA: 11s - loss: 0.6660 - accuracy: 0.823 - ETA: 10s - loss: 0.6605 - accuracy: 0.824 - ETA: 9s - loss: 0.6547 - accuracy: 0.826 - ETA: 8s - loss: 0.6483 - accuracy: 0.82 - ETA: 7s - loss: 0.6415 - accuracy: 0.82 - ETA: 6s - loss: 0.6356 - accuracy: 0.83 - ETA: 5s - loss: 0.6296 - accuracy: 0.83 - ETA: 4s - loss: 0.6241 - accuracy: 0.83 - ETA: 3s - loss: 0.6188 - accuracy: 0.83 - ETA: 2s - loss: 0.6129 - accuracy: 0.83 - ETA: 1s - loss: 0.6068 - accuracy: 0.83 - ETA: 0s - loss: 0.6015 - accuracy: 0.83 - 100s 1s/step - loss: 0.6015 - accuracy: 0.8387 - val_loss: 0.1160 - val_accuracy: 0.9531\n",
      "Epoch 2/2\n",
      "90/90 [==============================] - ETA: 1:33 - loss: 0.2042 - accuracy: 0.92 - ETA: 1:32 - loss: 0.1710 - accuracy: 0.92 - ETA: 1:30 - loss: 0.1780 - accuracy: 0.92 - ETA: 1:30 - loss: 0.1668 - accuracy: 0.93 - ETA: 1:29 - loss: 0.1442 - accuracy: 0.94 - ETA: 1:28 - loss: 0.1315 - accuracy: 0.94 - ETA: 1:27 - loss: 0.1522 - accuracy: 0.94 - ETA: 1:26 - loss: 0.1555 - accuracy: 0.93 - ETA: 1:25 - loss: 0.1555 - accuracy: 0.93 - ETA: 1:24 - loss: 0.1474 - accuracy: 0.93 - ETA: 1:23 - loss: 0.1427 - accuracy: 0.94 - ETA: 1:22 - loss: 0.1387 - accuracy: 0.94 - ETA: 1:21 - loss: 0.1395 - accuracy: 0.94 - ETA: 1:20 - loss: 0.1330 - accuracy: 0.94 - ETA: 1:19 - loss: 0.1292 - accuracy: 0.95 - ETA: 1:18 - loss: 0.1254 - accuracy: 0.95 - ETA: 1:17 - loss: 0.1232 - accuracy: 0.95 - ETA: 1:16 - loss: 0.1190 - accuracy: 0.95 - ETA: 1:15 - loss: 0.1209 - accuracy: 0.95 - ETA: 1:14 - loss: 0.1191 - accuracy: 0.95 - ETA: 1:13 - loss: 0.1157 - accuracy: 0.95 - ETA: 1:12 - loss: 0.1168 - accuracy: 0.95 - ETA: 1:11 - loss: 0.1177 - accuracy: 0.95 - ETA: 1:10 - loss: 0.1154 - accuracy: 0.95 - ETA: 1:09 - loss: 0.1129 - accuracy: 0.96 - ETA: 1:07 - loss: 0.1109 - accuracy: 0.96 - ETA: 1:06 - loss: 0.1106 - accuracy: 0.96 - ETA: 1:05 - loss: 0.1107 - accuracy: 0.96 - ETA: 1:04 - loss: 0.1085 - accuracy: 0.96 - ETA: 1:03 - loss: 0.1071 - accuracy: 0.96 - ETA: 1:02 - loss: 0.1051 - accuracy: 0.96 - ETA: 1:01 - loss: 0.1052 - accuracy: 0.96 - ETA: 1:00 - loss: 0.1029 - accuracy: 0.96 - ETA: 59s - loss: 0.1016 - accuracy: 0.9632 - ETA: 58s - loss: 0.1018 - accuracy: 0.962 - ETA: 57s - loss: 0.1011 - accuracy: 0.962 - ETA: 56s - loss: 0.1012 - accuracy: 0.962 - ETA: 55s - loss: 0.1021 - accuracy: 0.961 - ETA: 54s - loss: 0.1022 - accuracy: 0.961 - ETA: 53s - loss: 0.1022 - accuracy: 0.962 - ETA: 52s - loss: 0.1023 - accuracy: 0.962 - ETA: 51s - loss: 0.1024 - accuracy: 0.962 - ETA: 50s - loss: 0.1040 - accuracy: 0.961 - ETA: 48s - loss: 0.1029 - accuracy: 0.962 - ETA: 47s - loss: 0.1029 - accuracy: 0.962 - ETA: 46s - loss: 0.1031 - accuracy: 0.962 - ETA: 45s - loss: 0.1034 - accuracy: 0.962 - ETA: 44s - loss: 0.1026 - accuracy: 0.962 - ETA: 43s - loss: 0.1025 - accuracy: 0.963 - ETA: 42s - loss: 0.1035 - accuracy: 0.962 - ETA: 41s - loss: 0.1035 - accuracy: 0.962 - ETA: 40s - loss: 0.1019 - accuracy: 0.963 - ETA: 39s - loss: 0.1013 - accuracy: 0.963 - ETA: 38s - loss: 0.1015 - accuracy: 0.963 - ETA: 37s - loss: 0.1008 - accuracy: 0.963 - ETA: 36s - loss: 0.1015 - accuracy: 0.964 - ETA: 35s - loss: 0.1014 - accuracy: 0.964 - ETA: 34s - loss: 0.1005 - accuracy: 0.964 - ETA: 32s - loss: 0.1018 - accuracy: 0.964 - ETA: 31s - loss: 0.1016 - accuracy: 0.964 - ETA: 30s - loss: 0.1013 - accuracy: 0.964 - ETA: 29s - loss: 0.1013 - accuracy: 0.963 - ETA: 28s - loss: 0.1027 - accuracy: 0.963 - ETA: 27s - loss: 0.1043 - accuracy: 0.963 - ETA: 26s - loss: 0.1034 - accuracy: 0.963 - ETA: 25s - loss: 0.1028 - accuracy: 0.963 - ETA: 24s - loss: 0.1022 - accuracy: 0.964 - ETA: 23s - loss: 0.1012 - accuracy: 0.964 - ETA: 22s - loss: 0.1012 - accuracy: 0.964 - ETA: 21s - loss: 0.1005 - accuracy: 0.964 - ETA: 20s - loss: 0.0996 - accuracy: 0.965 - ETA: 19s - loss: 0.0986 - accuracy: 0.965 - ETA: 18s - loss: 0.0977 - accuracy: 0.966 - ETA: 16s - loss: 0.0972 - accuracy: 0.965 - ETA: 15s - loss: 0.0975 - accuracy: 0.965 - ETA: 14s - loss: 0.1000 - accuracy: 0.965 - ETA: 13s - loss: 0.0993 - accuracy: 0.965 - ETA: 12s - loss: 0.1002 - accuracy: 0.964 - ETA: 11s - loss: 0.1000 - accuracy: 0.965 - ETA: 10s - loss: 0.0996 - accuracy: 0.965 - ETA: 9s - loss: 0.0992 - accuracy: 0.965 - ETA: 8s - loss: 0.0985 - accuracy: 0.96 - ETA: 7s - loss: 0.0989 - accuracy: 0.96 - ETA: 6s - loss: 0.0998 - accuracy: 0.96 - ETA: 5s - loss: 0.0998 - accuracy: 0.96 - ETA: 4s - loss: 0.0996 - accuracy: 0.96 - ETA: 3s - loss: 0.0987 - accuracy: 0.96 - ETA: 2s - loss: 0.0992 - accuracy: 0.96 - ETA: 1s - loss: 0.1002 - accuracy: 0.96 - ETA: 0s - loss: 0.1011 - accuracy: 0.96 - 99s 1s/step - loss: 0.1011 - accuracy: 0.9641 - val_loss: 0.1277 - val_accuracy: 0.9516\n"
     ]
    },
    {
     "data": {
      "text/html": [
       "<span style=\"color:#4527A0\"><h1 style=\"font-size:18px\">Trial complete</h1></span>"
      ],
      "text/plain": [
       "<IPython.core.display.HTML object>"
      ]
     },
     "metadata": {},
     "output_type": "display_data"
    },
    {
     "data": {
      "text/html": [
       "<span style=\"color:#4527A0\"><h1 style=\"font-size:18px\">Trial summary</h1></span>"
      ],
      "text/plain": [
       "<IPython.core.display.HTML object>"
      ]
     },
     "metadata": {},
     "output_type": "display_data"
    },
    {
     "data": {
      "text/html": [
       "<span style=\"color:#7E57C2\"><h2 style=\"font-size:16px\">Hp values:</h2></span>"
      ],
      "text/plain": [
       "<IPython.core.display.HTML object>"
      ]
     },
     "metadata": {},
     "output_type": "display_data"
    },
    {
     "data": {
      "text/html": [
       "<span style=\"color:cyan\"> |-dropout_rate: 0.7</span>"
      ],
      "text/plain": [
       "<IPython.core.display.HTML object>"
      ]
     },
     "metadata": {},
     "output_type": "display_data"
    },
    {
     "data": {
      "text/html": [
       "<span style=\"color:blue\"> |-filters_1: 100</span>"
      ],
      "text/plain": [
       "<IPython.core.display.HTML object>"
      ]
     },
     "metadata": {},
     "output_type": "display_data"
    },
    {
     "data": {
      "text/html": [
       "<span style=\"color:cyan\"> |-filters_2: 25</span>"
      ],
      "text/plain": [
       "<IPython.core.display.HTML object>"
      ]
     },
     "metadata": {},
     "output_type": "display_data"
    },
    {
     "data": {
      "text/html": [
       "<span style=\"color:blue\"> |-lr: 0.01</span>"
      ],
      "text/plain": [
       "<IPython.core.display.HTML object>"
      ]
     },
     "metadata": {},
     "output_type": "display_data"
    },
    {
     "data": {
      "text/html": [
       "<span style=\"color:cyan\"> |-tuner/bracket: 3</span>"
      ],
      "text/plain": [
       "<IPython.core.display.HTML object>"
      ]
     },
     "metadata": {},
     "output_type": "display_data"
    },
    {
     "data": {
      "text/html": [
       "<span style=\"color:blue\"> |-tuner/epochs: 2</span>"
      ],
      "text/plain": [
       "<IPython.core.display.HTML object>"
      ]
     },
     "metadata": {},
     "output_type": "display_data"
    },
    {
     "data": {
      "text/html": [
       "<span style=\"color:cyan\"> |-tuner/initial_epoch: 0</span>"
      ],
      "text/plain": [
       "<IPython.core.display.HTML object>"
      ]
     },
     "metadata": {},
     "output_type": "display_data"
    },
    {
     "data": {
      "text/html": [
       "<span style=\"color:blue\"> |-tuner/round: 0</span>"
      ],
      "text/plain": [
       "<IPython.core.display.HTML object>"
      ]
     },
     "metadata": {},
     "output_type": "display_data"
    },
    {
     "data": {
      "text/html": [
       "<span style=\"color:cyan\"> |-Score: 0.953125</span>"
      ],
      "text/plain": [
       "<IPython.core.display.HTML object>"
      ]
     },
     "metadata": {},
     "output_type": "display_data"
    },
    {
     "data": {
      "text/html": [
       "<span style=\"color:cyan\"> |-Best step: 0</span>"
      ],
      "text/plain": [
       "<IPython.core.display.HTML object>"
      ]
     },
     "metadata": {},
     "output_type": "display_data"
    },
    {
     "name": "stdout",
     "output_type": "stream",
     "text": [
      "Epoch 1/2\n",
      "90/90 [==============================] - ETA: 3:36 - loss: 0.6781 - accuracy: 0.67 - ETA: 3:01 - loss: 4.8709 - accuracy: 0.57 - ETA: 3:00 - loss: 24.5659 - accuracy: 0.562 - ETA: 2:57 - loss: 21.2724 - accuracy: 0.546 - ETA: 2:53 - loss: 17.4572 - accuracy: 0.525 - ETA: 2:50 - loss: 14.7229 - accuracy: 0.544 - ETA: 2:47 - loss: 12.7613 - accuracy: 0.544 - ETA: 2:44 - loss: 11.2590 - accuracy: 0.541 - ETA: 2:42 - loss: 10.0827 - accuracy: 0.539 - ETA: 2:40 - loss: 9.1385 - accuracy: 0.532 - ETA: 2:38 - loss: 8.3615 - accuracy: 0.53 - ETA: 2:35 - loss: 7.7177 - accuracy: 0.53 - ETA: 2:33 - loss: 7.1690 - accuracy: 0.53 - ETA: 2:31 - loss: 6.7038 - accuracy: 0.52 - ETA: 2:29 - loss: 6.2988 - accuracy: 0.52 - ETA: 2:27 - loss: 5.9396 - accuracy: 0.52 - ETA: 2:25 - loss: 5.6311 - accuracy: 0.51 - ETA: 2:23 - loss: 5.3485 - accuracy: 0.51 - ETA: 2:21 - loss: 5.0994 - accuracy: 0.52 - ETA: 2:19 - loss: 4.8727 - accuracy: 0.52 - ETA: 2:17 - loss: 4.6599 - accuracy: 0.53 - ETA: 2:15 - loss: 4.4806 - accuracy: 0.53 - ETA: 2:13 - loss: 4.3053 - accuracy: 0.53 - ETA: 2:11 - loss: 4.1495 - accuracy: 0.53 - ETA: 2:09 - loss: 4.0061 - accuracy: 0.55 - ETA: 2:07 - loss: 3.8742 - accuracy: 0.55 - ETA: 2:05 - loss: 3.7523 - accuracy: 0.55 - ETA: 2:03 - loss: 3.6355 - accuracy: 0.55 - ETA: 2:00 - loss: 3.5284 - accuracy: 0.55 - ETA: 1:59 - loss: 3.4275 - accuracy: 0.55 - ETA: 1:57 - loss: 3.3358 - accuracy: 0.54 - ETA: 1:55 - loss: 3.2489 - accuracy: 0.56 - ETA: 1:53 - loss: 3.1672 - accuracy: 0.56 - ETA: 1:51 - loss: 3.0888 - accuracy: 0.57 - ETA: 1:49 - loss: 3.0145 - accuracy: 0.57 - ETA: 1:47 - loss: 2.9450 - accuracy: 0.57 - ETA: 1:45 - loss: 2.8785 - accuracy: 0.57 - ETA: 1:43 - loss: 2.8155 - accuracy: 0.57 - ETA: 1:41 - loss: 2.7553 - accuracy: 0.58 - ETA: 1:39 - loss: 2.6989 - accuracy: 0.59 - ETA: 1:37 - loss: 2.6446 - accuracy: 0.59 - ETA: 1:35 - loss: 2.5933 - accuracy: 0.60 - ETA: 1:33 - loss: 2.5434 - accuracy: 0.60 - ETA: 1:31 - loss: 2.4944 - accuracy: 0.61 - ETA: 1:30 - loss: 2.4493 - accuracy: 0.61 - ETA: 1:28 - loss: 2.4058 - accuracy: 0.61 - ETA: 1:26 - loss: 2.3635 - accuracy: 0.62 - ETA: 1:24 - loss: 2.3236 - accuracy: 0.62 - ETA: 1:22 - loss: 2.2853 - accuracy: 0.63 - ETA: 1:21 - loss: 2.2489 - accuracy: 0.63 - ETA: 1:19 - loss: 2.2129 - accuracy: 0.64 - ETA: 1:17 - loss: 2.1803 - accuracy: 0.64 - ETA: 1:14 - loss: 2.1484 - accuracy: 0.64 - ETA: 1:12 - loss: 2.1158 - accuracy: 0.64 - ETA: 1:10 - loss: 2.0848 - accuracy: 0.65 - ETA: 1:08 - loss: 2.0550 - accuracy: 0.65 - ETA: 1:06 - loss: 2.0271 - accuracy: 0.65 - ETA: 1:04 - loss: 1.9985 - accuracy: 0.66 - ETA: 1:02 - loss: 1.9708 - accuracy: 0.66 - ETA: 1:00 - loss: 1.9450 - accuracy: 0.67 - ETA: 58s - loss: 1.9189 - accuracy: 0.6732 - ETA: 56s - loss: 1.8945 - accuracy: 0.675 - ETA: 54s - loss: 1.8707 - accuracy: 0.679 - ETA: 52s - loss: 1.8477 - accuracy: 0.683 - ETA: 50s - loss: 1.8253 - accuracy: 0.686 - ETA: 48s - loss: 1.8037 - accuracy: 0.688 - ETA: 46s - loss: 1.7825 - accuracy: 0.691 - ETA: 44s - loss: 1.7639 - accuracy: 0.693 - ETA: 42s - loss: 1.7430 - accuracy: 0.696 - ETA: 40s - loss: 1.7239 - accuracy: 0.698 - ETA: 38s - loss: 1.7032 - accuracy: 0.701 - ETA: 36s - loss: 1.6844 - accuracy: 0.704 - ETA: 34s - loss: 1.6662 - accuracy: 0.706 - ETA: 32s - loss: 1.6476 - accuracy: 0.709 - ETA: 30s - loss: 1.6299 - accuracy: 0.712 - ETA: 28s - loss: 1.6118 - accuracy: 0.715 - ETA: 26s - loss: 1.5946 - accuracy: 0.717 - ETA: 24s - loss: 1.5766 - accuracy: 0.720 - ETA: 22s - loss: 1.5611 - accuracy: 0.722 - ETA: 20s - loss: 1.5430 - accuracy: 0.726 - ETA: 18s - loss: 1.5273 - accuracy: 0.728 - ETA: 16s - loss: 1.5111 - accuracy: 0.730 - ETA: 14s - loss: 1.4953 - accuracy: 0.733 - ETA: 12s - loss: 1.4803 - accuracy: 0.735 - ETA: 10s - loss: 1.4655 - accuracy: 0.738 - ETA: 8s - loss: 1.4501 - accuracy: 0.740 - ETA: 6s - loss: 1.4355 - accuracy: 0.74 - ETA: 4s - loss: 1.4216 - accuracy: 0.74 - ETA: 2s - loss: 1.4099 - accuracy: 0.74 - ETA: 0s - loss: 1.3959 - accuracy: 0.74 - 191s 2s/step - loss: 1.3959 - accuracy: 0.7481 - val_loss: 0.2288 - val_accuracy: 0.9109\n",
      "Epoch 2/2\n",
      "90/90 [==============================] - ETA: 3:23 - loss: 0.2209 - accuracy: 0.87 - ETA: 2:57 - loss: 0.2807 - accuracy: 0.85 - ETA: 2:57 - loss: 0.3163 - accuracy: 0.85 - ETA: 2:58 - loss: 0.2997 - accuracy: 0.87 - ETA: 2:54 - loss: 0.2842 - accuracy: 0.87 - ETA: 2:51 - loss: 0.2746 - accuracy: 0.88 - ETA: 2:50 - loss: 0.2863 - accuracy: 0.88 - ETA: 2:48 - loss: 0.2657 - accuracy: 0.89 - ETA: 2:46 - loss: 0.2676 - accuracy: 0.89 - ETA: 2:43 - loss: 0.2655 - accuracy: 0.89 - ETA: 2:41 - loss: 0.2534 - accuracy: 0.90 - ETA: 2:38 - loss: 0.2577 - accuracy: 0.90 - ETA: 2:36 - loss: 0.2492 - accuracy: 0.90 - ETA: 2:34 - loss: 0.2451 - accuracy: 0.90 - ETA: 2:32 - loss: 0.2405 - accuracy: 0.91 - ETA: 2:30 - loss: 0.2388 - accuracy: 0.91 - ETA: 2:28 - loss: 0.2339 - accuracy: 0.91 - ETA: 2:25 - loss: 0.2272 - accuracy: 0.91 - ETA: 2:23 - loss: 0.2205 - accuracy: 0.92 - ETA: 2:21 - loss: 0.2169 - accuracy: 0.92 - ETA: 2:20 - loss: 0.2106 - accuracy: 0.92 - ETA: 2:17 - loss: 0.2221 - accuracy: 0.91 - ETA: 2:15 - loss: 0.2168 - accuracy: 0.92 - ETA: 2:13 - loss: 0.2107 - accuracy: 0.92 - ETA: 2:11 - loss: 0.2100 - accuracy: 0.92 - ETA: 2:09 - loss: 0.2121 - accuracy: 0.92 - ETA: 2:07 - loss: 0.2092 - accuracy: 0.92 - ETA: 2:04 - loss: 0.2034 - accuracy: 0.92 - ETA: 2:02 - loss: 0.2034 - accuracy: 0.92 - ETA: 2:00 - loss: 0.1999 - accuracy: 0.92 - ETA: 1:58 - loss: 0.1993 - accuracy: 0.92 - ETA: 1:56 - loss: 0.1980 - accuracy: 0.92 - ETA: 1:54 - loss: 0.1956 - accuracy: 0.92 - ETA: 1:52 - loss: 0.1940 - accuracy: 0.93 - ETA: 1:50 - loss: 0.1906 - accuracy: 0.93 - ETA: 1:48 - loss: 0.1881 - accuracy: 0.93 - ETA: 1:46 - loss: 0.1855 - accuracy: 0.93 - ETA: 1:44 - loss: 0.1863 - accuracy: 0.93 - ETA: 1:42 - loss: 0.1825 - accuracy: 0.93 - ETA: 1:40 - loss: 0.1801 - accuracy: 0.93 - ETA: 1:38 - loss: 0.1783 - accuracy: 0.93 - ETA: 1:36 - loss: 0.1754 - accuracy: 0.93 - ETA: 1:34 - loss: 0.1732 - accuracy: 0.93 - ETA: 1:32 - loss: 0.1699 - accuracy: 0.94 - ETA: 1:30 - loss: 0.1685 - accuracy: 0.94 - ETA: 1:28 - loss: 0.1661 - accuracy: 0.94 - ETA: 1:26 - loss: 0.1628 - accuracy: 0.94 - ETA: 1:24 - loss: 0.1598 - accuracy: 0.94 - ETA: 1:22 - loss: 0.1574 - accuracy: 0.94 - ETA: 1:20 - loss: 0.1585 - accuracy: 0.94 - ETA: 1:18 - loss: 0.1558 - accuracy: 0.94 - ETA: 1:16 - loss: 0.1531 - accuracy: 0.94 - ETA: 1:14 - loss: 0.1509 - accuracy: 0.94 - ETA: 1:12 - loss: 0.1482 - accuracy: 0.94 - ETA: 1:10 - loss: 0.1471 - accuracy: 0.94 - ETA: 1:08 - loss: 0.1463 - accuracy: 0.94 - ETA: 1:06 - loss: 0.1454 - accuracy: 0.94 - ETA: 1:04 - loss: 0.1438 - accuracy: 0.94 - ETA: 1:02 - loss: 0.1423 - accuracy: 0.94 - ETA: 1:00 - loss: 0.1437 - accuracy: 0.94 - ETA: 58s - loss: 0.1419 - accuracy: 0.9501 - ETA: 56s - loss: 0.1398 - accuracy: 0.950 - ETA: 53s - loss: 0.1392 - accuracy: 0.950 - ETA: 51s - loss: 0.1375 - accuracy: 0.951 - ETA: 49s - loss: 0.1367 - accuracy: 0.951 - ETA: 47s - loss: 0.1358 - accuracy: 0.952 - ETA: 45s - loss: 0.1343 - accuracy: 0.952 - ETA: 43s - loss: 0.1331 - accuracy: 0.953 - ETA: 41s - loss: 0.1318 - accuracy: 0.953 - ETA: 39s - loss: 0.1302 - accuracy: 0.954 - ETA: 37s - loss: 0.1289 - accuracy: 0.954 - ETA: 35s - loss: 0.1294 - accuracy: 0.954 - ETA: 33s - loss: 0.1278 - accuracy: 0.955 - ETA: 31s - loss: 0.1267 - accuracy: 0.955 - ETA: 29s - loss: 0.1259 - accuracy: 0.955 - ETA: 27s - loss: 0.1251 - accuracy: 0.956 - ETA: 25s - loss: 0.1249 - accuracy: 0.955 - ETA: 23s - loss: 0.1235 - accuracy: 0.956 - ETA: 21s - loss: 0.1228 - accuracy: 0.956 - ETA: 19s - loss: 0.1217 - accuracy: 0.957 - ETA: 17s - loss: 0.1205 - accuracy: 0.957 - ETA: 15s - loss: 0.1192 - accuracy: 0.958 - ETA: 13s - loss: 0.1178 - accuracy: 0.958 - ETA: 11s - loss: 0.1166 - accuracy: 0.958 - ETA: 9s - loss: 0.1155 - accuracy: 0.959 - ETA: 7s - loss: 0.1147 - accuracy: 0.95 - ETA: 5s - loss: 0.1137 - accuracy: 0.95 - ETA: 3s - loss: 0.1128 - accuracy: 0.96 - ETA: 1s - loss: 0.1116 - accuracy: 0.96 - ETA: 0s - loss: 0.1107 - accuracy: 0.96 - 186s 2s/step - loss: 0.1107 - accuracy: 0.9609 - val_loss: 0.0278 - val_accuracy: 0.9891\n"
     ]
    },
    {
     "data": {
      "text/html": [
       "<span style=\"color:#4527A0\"><h1 style=\"font-size:18px\">Trial complete</h1></span>"
      ],
      "text/plain": [
       "<IPython.core.display.HTML object>"
      ]
     },
     "metadata": {},
     "output_type": "display_data"
    },
    {
     "data": {
      "text/html": [
       "<span style=\"color:#4527A0\"><h1 style=\"font-size:18px\">Trial summary</h1></span>"
      ],
      "text/plain": [
       "<IPython.core.display.HTML object>"
      ]
     },
     "metadata": {},
     "output_type": "display_data"
    },
    {
     "data": {
      "text/html": [
       "<span style=\"color:#7E57C2\"><h2 style=\"font-size:16px\">Hp values:</h2></span>"
      ],
      "text/plain": [
       "<IPython.core.display.HTML object>"
      ]
     },
     "metadata": {},
     "output_type": "display_data"
    },
    {
     "data": {
      "text/html": [
       "<span style=\"color:cyan\"> |-dropout_rate: 0.7</span>"
      ],
      "text/plain": [
       "<IPython.core.display.HTML object>"
      ]
     },
     "metadata": {},
     "output_type": "display_data"
    },
    {
     "data": {
      "text/html": [
       "<span style=\"color:blue\"> |-filters_1: 200</span>"
      ],
      "text/plain": [
       "<IPython.core.display.HTML object>"
      ]
     },
     "metadata": {},
     "output_type": "display_data"
    },
    {
     "data": {
      "text/html": [
       "<span style=\"color:cyan\"> |-filters_2: 25</span>"
      ],
      "text/plain": [
       "<IPython.core.display.HTML object>"
      ]
     },
     "metadata": {},
     "output_type": "display_data"
    },
    {
     "data": {
      "text/html": [
       "<span style=\"color:blue\"> |-lr: 0.01</span>"
      ],
      "text/plain": [
       "<IPython.core.display.HTML object>"
      ]
     },
     "metadata": {},
     "output_type": "display_data"
    },
    {
     "data": {
      "text/html": [
       "<span style=\"color:cyan\"> |-tuner/bracket: 3</span>"
      ],
      "text/plain": [
       "<IPython.core.display.HTML object>"
      ]
     },
     "metadata": {},
     "output_type": "display_data"
    },
    {
     "data": {
      "text/html": [
       "<span style=\"color:blue\"> |-tuner/epochs: 2</span>"
      ],
      "text/plain": [
       "<IPython.core.display.HTML object>"
      ]
     },
     "metadata": {},
     "output_type": "display_data"
    },
    {
     "data": {
      "text/html": [
       "<span style=\"color:cyan\"> |-tuner/initial_epoch: 0</span>"
      ],
      "text/plain": [
       "<IPython.core.display.HTML object>"
      ]
     },
     "metadata": {},
     "output_type": "display_data"
    },
    {
     "data": {
      "text/html": [
       "<span style=\"color:blue\"> |-tuner/round: 0</span>"
      ],
      "text/plain": [
       "<IPython.core.display.HTML object>"
      ]
     },
     "metadata": {},
     "output_type": "display_data"
    },
    {
     "data": {
      "text/html": [
       "<span style=\"color:cyan\"> |-Score: 0.989062488079071</span>"
      ],
      "text/plain": [
       "<IPython.core.display.HTML object>"
      ]
     },
     "metadata": {},
     "output_type": "display_data"
    },
    {
     "data": {
      "text/html": [
       "<span style=\"color:cyan\"> |-Best step: 0</span>"
      ],
      "text/plain": [
       "<IPython.core.display.HTML object>"
      ]
     },
     "metadata": {},
     "output_type": "display_data"
    },
    {
     "name": "stdout",
     "output_type": "stream",
     "text": [
      "Epoch 1/2\n",
      "90/90 [==============================] - ETA: 4:12 - loss: 0.7034 - accuracy: 0.43 - ETA: 3:37 - loss: 0.7844 - accuracy: 0.43 - ETA: 3:34 - loss: 0.7640 - accuracy: 0.45 - ETA: 3:31 - loss: 0.7359 - accuracy: 0.47 - ETA: 3:28 - loss: 0.7108 - accuracy: 0.55 - ETA: 3:26 - loss: 0.6893 - accuracy: 0.61 - ETA: 3:24 - loss: 0.6678 - accuracy: 0.66 - ETA: 3:21 - loss: 0.6520 - accuracy: 0.66 - ETA: 3:19 - loss: 0.6269 - accuracy: 0.69 - ETA: 3:16 - loss: 0.6080 - accuracy: 0.70 - ETA: 3:14 - loss: 0.5838 - accuracy: 0.72 - ETA: 3:12 - loss: 0.5556 - accuracy: 0.74 - ETA: 3:09 - loss: 0.5431 - accuracy: 0.74 - ETA: 3:07 - loss: 0.5183 - accuracy: 0.76 - ETA: 3:04 - loss: 0.5009 - accuracy: 0.77 - ETA: 3:02 - loss: 0.4798 - accuracy: 0.78 - ETA: 3:00 - loss: 0.4592 - accuracy: 0.79 - ETA: 2:57 - loss: 0.4403 - accuracy: 0.80 - ETA: 2:55 - loss: 0.4245 - accuracy: 0.81 - ETA: 2:52 - loss: 0.4087 - accuracy: 0.81 - ETA: 2:50 - loss: 0.3925 - accuracy: 0.82 - ETA: 2:47 - loss: 0.3835 - accuracy: 0.83 - ETA: 2:45 - loss: 0.3725 - accuracy: 0.83 - ETA: 2:42 - loss: 0.3631 - accuracy: 0.84 - ETA: 2:40 - loss: 0.3568 - accuracy: 0.84 - ETA: 2:37 - loss: 0.3458 - accuracy: 0.84 - ETA: 2:35 - loss: 0.3414 - accuracy: 0.85 - ETA: 2:33 - loss: 0.3305 - accuracy: 0.85 - ETA: 2:30 - loss: 0.3228 - accuracy: 0.85 - ETA: 2:28 - loss: 0.3160 - accuracy: 0.86 - ETA: 2:25 - loss: 0.3072 - accuracy: 0.86 - ETA: 2:23 - loss: 0.2993 - accuracy: 0.87 - ETA: 2:20 - loss: 0.2933 - accuracy: 0.87 - ETA: 2:18 - loss: 0.2852 - accuracy: 0.87 - ETA: 2:15 - loss: 0.2779 - accuracy: 0.88 - ETA: 2:13 - loss: 0.2724 - accuracy: 0.88 - ETA: 2:10 - loss: 0.2687 - accuracy: 0.88 - ETA: 2:08 - loss: 0.2625 - accuracy: 0.88 - ETA: 2:06 - loss: 0.2567 - accuracy: 0.88 - ETA: 2:03 - loss: 0.2507 - accuracy: 0.89 - ETA: 2:01 - loss: 0.2452 - accuracy: 0.89 - ETA: 1:58 - loss: 0.2399 - accuracy: 0.89 - ETA: 1:56 - loss: 0.2349 - accuracy: 0.90 - ETA: 1:53 - loss: 0.2300 - accuracy: 0.90 - ETA: 1:51 - loss: 0.2259 - accuracy: 0.90 - ETA: 1:48 - loss: 0.2212 - accuracy: 0.90 - ETA: 1:46 - loss: 0.2173 - accuracy: 0.90 - ETA: 1:43 - loss: 0.2136 - accuracy: 0.90 - ETA: 1:41 - loss: 0.2100 - accuracy: 0.91 - ETA: 1:38 - loss: 0.2064 - accuracy: 0.91 - ETA: 1:36 - loss: 0.2033 - accuracy: 0.91 - ETA: 1:33 - loss: 0.2008 - accuracy: 0.91 - ETA: 1:31 - loss: 0.1974 - accuracy: 0.91 - ETA: 1:28 - loss: 0.1940 - accuracy: 0.91 - ETA: 1:26 - loss: 0.1913 - accuracy: 0.91 - ETA: 1:23 - loss: 0.1887 - accuracy: 0.91 - ETA: 1:21 - loss: 0.1855 - accuracy: 0.92 - ETA: 1:18 - loss: 0.1825 - accuracy: 0.92 - ETA: 1:16 - loss: 0.1794 - accuracy: 0.92 - ETA: 1:13 - loss: 0.1768 - accuracy: 0.92 - ETA: 1:11 - loss: 0.1740 - accuracy: 0.92 - ETA: 1:09 - loss: 0.1714 - accuracy: 0.92 - ETA: 1:06 - loss: 0.1689 - accuracy: 0.92 - ETA: 1:04 - loss: 0.1673 - accuracy: 0.92 - ETA: 1:01 - loss: 0.1650 - accuracy: 0.93 - ETA: 59s - loss: 0.1630 - accuracy: 0.9313 - ETA: 56s - loss: 0.1608 - accuracy: 0.932 - ETA: 54s - loss: 0.1585 - accuracy: 0.933 - ETA: 51s - loss: 0.1583 - accuracy: 0.933 - ETA: 49s - loss: 0.1566 - accuracy: 0.934 - ETA: 46s - loss: 0.1545 - accuracy: 0.935 - ETA: 44s - loss: 0.1526 - accuracy: 0.936 - ETA: 41s - loss: 0.1509 - accuracy: 0.936 - ETA: 39s - loss: 0.1490 - accuracy: 0.937 - ETA: 36s - loss: 0.1472 - accuracy: 0.938 - ETA: 34s - loss: 0.1461 - accuracy: 0.938 - ETA: 32s - loss: 0.1443 - accuracy: 0.939 - ETA: 29s - loss: 0.1426 - accuracy: 0.940 - ETA: 27s - loss: 0.1409 - accuracy: 0.941 - ETA: 24s - loss: 0.1392 - accuracy: 0.941 - ETA: 22s - loss: 0.1376 - accuracy: 0.942 - ETA: 19s - loss: 0.1359 - accuracy: 0.943 - ETA: 17s - loss: 0.1344 - accuracy: 0.943 - ETA: 14s - loss: 0.1331 - accuracy: 0.944 - ETA: 12s - loss: 0.1316 - accuracy: 0.945 - ETA: 9s - loss: 0.1304 - accuracy: 0.945 - ETA: 7s - loss: 0.1290 - accuracy: 0.94 - ETA: 4s - loss: 0.1276 - accuracy: 0.94 - ETA: 2s - loss: 0.1262 - accuracy: 0.94 - ETA: 0s - loss: 0.1250 - accuracy: 0.94 - 229s 3s/step - loss: 0.1250 - accuracy: 0.9479 - val_loss: 0.0172 - val_accuracy: 0.9953\n",
      "Epoch 2/2\n",
      "90/90 [==============================] - ETA: 3:38 - loss: 0.0069 - accuracy: 1.00 - ETA: 3:30 - loss: 0.0059 - accuracy: 1.00 - ETA: 3:29 - loss: 0.0052 - accuracy: 1.00 - ETA: 3:28 - loss: 0.0081 - accuracy: 0.99 - ETA: 3:26 - loss: 0.0074 - accuracy: 0.99 - ETA: 3:24 - loss: 0.0092 - accuracy: 0.99 - ETA: 3:22 - loss: 0.0081 - accuracy: 0.99 - ETA: 3:20 - loss: 0.0077 - accuracy: 0.99 - ETA: 3:17 - loss: 0.0077 - accuracy: 0.99 - ETA: 3:15 - loss: 0.0073 - accuracy: 0.99 - ETA: 3:13 - loss: 0.0078 - accuracy: 0.99 - ETA: 3:10 - loss: 0.0081 - accuracy: 0.99 - ETA: 3:08 - loss: 0.0112 - accuracy: 0.99 - ETA: 3:06 - loss: 0.0107 - accuracy: 0.99 - ETA: 3:04 - loss: 0.0101 - accuracy: 0.99 - ETA: 3:01 - loss: 0.0096 - accuracy: 0.99 - ETA: 2:59 - loss: 0.0101 - accuracy: 0.99 - ETA: 2:56 - loss: 0.0099 - accuracy: 0.99 - ETA: 2:54 - loss: 0.0098 - accuracy: 0.99 - ETA: 2:51 - loss: 0.0095 - accuracy: 0.99 - ETA: 2:49 - loss: 0.0103 - accuracy: 0.99 - ETA: 2:47 - loss: 0.0105 - accuracy: 0.99 - ETA: 2:44 - loss: 0.0105 - accuracy: 0.99 - ETA: 2:42 - loss: 0.0102 - accuracy: 0.99 - ETA: 2:39 - loss: 0.0101 - accuracy: 0.99 - ETA: 2:37 - loss: 0.0099 - accuracy: 0.99 - ETA: 2:35 - loss: 0.0101 - accuracy: 0.99 - ETA: 2:33 - loss: 0.0103 - accuracy: 0.99 - ETA: 2:30 - loss: 0.0104 - accuracy: 0.99 - ETA: 2:28 - loss: 0.0108 - accuracy: 0.99 - ETA: 2:26 - loss: 0.0107 - accuracy: 0.99 - ETA: 2:23 - loss: 0.0105 - accuracy: 0.99 - ETA: 2:21 - loss: 0.0102 - accuracy: 0.99 - ETA: 2:18 - loss: 0.0102 - accuracy: 0.99 - ETA: 2:16 - loss: 0.0099 - accuracy: 0.99 - ETA: 2:13 - loss: 0.0097 - accuracy: 0.99 - ETA: 2:11 - loss: 0.0097 - accuracy: 0.99 - ETA: 2:09 - loss: 0.0096 - accuracy: 0.99 - ETA: 2:06 - loss: 0.0093 - accuracy: 0.99 - ETA: 2:04 - loss: 0.0092 - accuracy: 0.99 - ETA: 2:01 - loss: 0.0090 - accuracy: 0.99 - ETA: 1:59 - loss: 0.0088 - accuracy: 0.99 - ETA: 1:56 - loss: 0.0088 - accuracy: 0.99 - ETA: 1:54 - loss: 0.0092 - accuracy: 0.99 - ETA: 1:51 - loss: 0.0090 - accuracy: 0.99 - ETA: 1:49 - loss: 0.0088 - accuracy: 0.99 - ETA: 1:46 - loss: 0.0089 - accuracy: 0.99 - ETA: 1:44 - loss: 0.0090 - accuracy: 0.99 - ETA: 1:41 - loss: 0.0088 - accuracy: 0.99 - ETA: 1:39 - loss: 0.0088 - accuracy: 0.99 - ETA: 1:36 - loss: 0.0086 - accuracy: 0.99 - ETA: 1:34 - loss: 0.0085 - accuracy: 0.99 - ETA: 1:31 - loss: 0.0084 - accuracy: 0.99 - ETA: 1:29 - loss: 0.0083 - accuracy: 0.99 - ETA: 1:26 - loss: 0.0082 - accuracy: 0.99 - ETA: 1:24 - loss: 0.0082 - accuracy: 0.99 - ETA: 1:21 - loss: 0.0085 - accuracy: 0.99 - ETA: 1:19 - loss: 0.0084 - accuracy: 0.99 - ETA: 1:16 - loss: 0.0084 - accuracy: 0.99 - ETA: 1:14 - loss: 0.0083 - accuracy: 0.99 - ETA: 1:11 - loss: 0.0083 - accuracy: 0.99 - ETA: 1:09 - loss: 0.0085 - accuracy: 0.99 - ETA: 1:06 - loss: 0.0084 - accuracy: 0.99 - ETA: 1:04 - loss: 0.0084 - accuracy: 0.99 - ETA: 1:01 - loss: 0.0084 - accuracy: 0.99 - ETA: 59s - loss: 0.0089 - accuracy: 0.9972 - ETA: 57s - loss: 0.0088 - accuracy: 0.997 - ETA: 54s - loss: 0.0087 - accuracy: 0.997 - ETA: 52s - loss: 0.0086 - accuracy: 0.997 - ETA: 49s - loss: 0.0086 - accuracy: 0.997 - ETA: 47s - loss: 0.0085 - accuracy: 0.997 - ETA: 44s - loss: 0.0084 - accuracy: 0.997 - ETA: 42s - loss: 0.0084 - accuracy: 0.997 - ETA: 39s - loss: 0.0084 - accuracy: 0.997 - ETA: 37s - loss: 0.0083 - accuracy: 0.997 - ETA: 34s - loss: 0.0083 - accuracy: 0.997 - ETA: 32s - loss: 0.0084 - accuracy: 0.997 - ETA: 29s - loss: 0.0084 - accuracy: 0.997 - ETA: 27s - loss: 0.0083 - accuracy: 0.997 - ETA: 24s - loss: 0.0082 - accuracy: 0.997 - ETA: 22s - loss: 0.0081 - accuracy: 0.997 - ETA: 19s - loss: 0.0081 - accuracy: 0.997 - ETA: 17s - loss: 0.0081 - accuracy: 0.997 - ETA: 14s - loss: 0.0080 - accuracy: 0.997 - ETA: 12s - loss: 0.0079 - accuracy: 0.997 - ETA: 9s - loss: 0.0078 - accuracy: 0.997 - ETA: 7s - loss: 0.0078 - accuracy: 0.99 - ETA: 4s - loss: 0.0077 - accuracy: 0.99 - ETA: 2s - loss: 0.0076 - accuracy: 0.99 - ETA: 0s - loss: 0.0077 - accuracy: 0.99 - 231s 3s/step - loss: 0.0077 - accuracy: 0.9977 - val_loss: 0.0081 - val_accuracy: 0.9969\n"
     ]
    },
    {
     "data": {
      "text/html": [
       "<span style=\"color:#4527A0\"><h1 style=\"font-size:18px\">Trial complete</h1></span>"
      ],
      "text/plain": [
       "<IPython.core.display.HTML object>"
      ]
     },
     "metadata": {},
     "output_type": "display_data"
    },
    {
     "data": {
      "text/html": [
       "<span style=\"color:#4527A0\"><h1 style=\"font-size:18px\">Trial summary</h1></span>"
      ],
      "text/plain": [
       "<IPython.core.display.HTML object>"
      ]
     },
     "metadata": {},
     "output_type": "display_data"
    },
    {
     "data": {
      "text/html": [
       "<span style=\"color:#7E57C2\"><h2 style=\"font-size:16px\">Hp values:</h2></span>"
      ],
      "text/plain": [
       "<IPython.core.display.HTML object>"
      ]
     },
     "metadata": {},
     "output_type": "display_data"
    },
    {
     "data": {
      "text/html": [
       "<span style=\"color:cyan\"> |-dropout_rate: 0.5</span>"
      ],
      "text/plain": [
       "<IPython.core.display.HTML object>"
      ]
     },
     "metadata": {},
     "output_type": "display_data"
    },
    {
     "data": {
      "text/html": [
       "<span style=\"color:blue\"> |-filters_1: 200</span>"
      ],
      "text/plain": [
       "<IPython.core.display.HTML object>"
      ]
     },
     "metadata": {},
     "output_type": "display_data"
    },
    {
     "data": {
      "text/html": [
       "<span style=\"color:cyan\"> |-filters_2: 50</span>"
      ],
      "text/plain": [
       "<IPython.core.display.HTML object>"
      ]
     },
     "metadata": {},
     "output_type": "display_data"
    },
    {
     "data": {
      "text/html": [
       "<span style=\"color:blue\"> |-lr: 0.001</span>"
      ],
      "text/plain": [
       "<IPython.core.display.HTML object>"
      ]
     },
     "metadata": {},
     "output_type": "display_data"
    },
    {
     "data": {
      "text/html": [
       "<span style=\"color:cyan\"> |-tuner/bracket: 3</span>"
      ],
      "text/plain": [
       "<IPython.core.display.HTML object>"
      ]
     },
     "metadata": {},
     "output_type": "display_data"
    },
    {
     "data": {
      "text/html": [
       "<span style=\"color:blue\"> |-tuner/epochs: 2</span>"
      ],
      "text/plain": [
       "<IPython.core.display.HTML object>"
      ]
     },
     "metadata": {},
     "output_type": "display_data"
    },
    {
     "data": {
      "text/html": [
       "<span style=\"color:cyan\"> |-tuner/initial_epoch: 0</span>"
      ],
      "text/plain": [
       "<IPython.core.display.HTML object>"
      ]
     },
     "metadata": {},
     "output_type": "display_data"
    },
    {
     "data": {
      "text/html": [
       "<span style=\"color:blue\"> |-tuner/round: 0</span>"
      ],
      "text/plain": [
       "<IPython.core.display.HTML object>"
      ]
     },
     "metadata": {},
     "output_type": "display_data"
    },
    {
     "data": {
      "text/html": [
       "<span style=\"color:cyan\"> |-Score: 0.996874988079071</span>"
      ],
      "text/plain": [
       "<IPython.core.display.HTML object>"
      ]
     },
     "metadata": {},
     "output_type": "display_data"
    },
    {
     "data": {
      "text/html": [
       "<span style=\"color:cyan\"> |-Best step: 0</span>"
      ],
      "text/plain": [
       "<IPython.core.display.HTML object>"
      ]
     },
     "metadata": {},
     "output_type": "display_data"
    },
    {
     "name": "stdout",
     "output_type": "stream",
     "text": [
      "Epoch 1/2\n",
      "90/90 [==============================] - ETA: 3:36 - loss: 0.6820 - accuracy: 0.64 - ETA: 3:06 - loss: 0.7165 - accuracy: 0.57 - ETA: 3:03 - loss: 0.6844 - accuracy: 0.63 - ETA: 3:02 - loss: 0.6587 - accuracy: 0.62 - ETA: 2:59 - loss: 0.6680 - accuracy: 0.57 - ETA: 2:56 - loss: 0.6465 - accuracy: 0.61 - ETA: 2:55 - loss: 0.6373 - accuracy: 0.61 - ETA: 2:53 - loss: 0.6283 - accuracy: 0.61 - ETA: 2:50 - loss: 0.6068 - accuracy: 0.64 - ETA: 2:48 - loss: 0.5891 - accuracy: 0.66 - ETA: 2:46 - loss: 0.5710 - accuracy: 0.67 - ETA: 2:44 - loss: 0.5495 - accuracy: 0.69 - ETA: 2:42 - loss: 0.5286 - accuracy: 0.71 - ETA: 2:40 - loss: 0.5056 - accuracy: 0.73 - ETA: 2:38 - loss: 0.4878 - accuracy: 0.74 - ETA: 2:36 - loss: 0.4659 - accuracy: 0.75 - ETA: 2:34 - loss: 0.4511 - accuracy: 0.76 - ETA: 2:32 - loss: 0.4416 - accuracy: 0.77 - ETA: 2:30 - loss: 0.4426 - accuracy: 0.77 - ETA: 2:28 - loss: 0.4255 - accuracy: 0.78 - ETA: 2:26 - loss: 0.4120 - accuracy: 0.79 - ETA: 2:24 - loss: 0.4058 - accuracy: 0.79 - ETA: 2:22 - loss: 0.3938 - accuracy: 0.80 - ETA: 2:20 - loss: 0.3843 - accuracy: 0.80 - ETA: 2:18 - loss: 0.3739 - accuracy: 0.81 - ETA: 2:16 - loss: 0.3713 - accuracy: 0.81 - ETA: 2:14 - loss: 0.3600 - accuracy: 0.82 - ETA: 2:12 - loss: 0.3518 - accuracy: 0.82 - ETA: 2:09 - loss: 0.3431 - accuracy: 0.83 - ETA: 2:07 - loss: 0.3355 - accuracy: 0.83 - ETA: 2:05 - loss: 0.3287 - accuracy: 0.84 - ETA: 2:03 - loss: 0.3214 - accuracy: 0.84 - ETA: 2:01 - loss: 0.3131 - accuracy: 0.84 - ETA: 1:59 - loss: 0.3065 - accuracy: 0.85 - ETA: 1:57 - loss: 0.2992 - accuracy: 0.85 - ETA: 1:55 - loss: 0.2917 - accuracy: 0.86 - ETA: 1:52 - loss: 0.2857 - accuracy: 0.86 - ETA: 1:50 - loss: 0.2786 - accuracy: 0.86 - ETA: 1:48 - loss: 0.2725 - accuracy: 0.87 - ETA: 1:46 - loss: 0.2690 - accuracy: 0.87 - ETA: 1:44 - loss: 0.2650 - accuracy: 0.87 - ETA: 1:42 - loss: 0.2597 - accuracy: 0.87 - ETA: 1:40 - loss: 0.2543 - accuracy: 0.88 - ETA: 1:37 - loss: 0.2503 - accuracy: 0.88 - ETA: 1:35 - loss: 0.2462 - accuracy: 0.88 - ETA: 1:33 - loss: 0.2427 - accuracy: 0.88 - ETA: 1:31 - loss: 0.2378 - accuracy: 0.88 - ETA: 1:29 - loss: 0.2347 - accuracy: 0.89 - ETA: 1:27 - loss: 0.2309 - accuracy: 0.89 - ETA: 1:25 - loss: 0.2265 - accuracy: 0.89 - ETA: 1:22 - loss: 0.2225 - accuracy: 0.89 - ETA: 1:20 - loss: 0.2185 - accuracy: 0.89 - ETA: 1:18 - loss: 0.2154 - accuracy: 0.90 - ETA: 1:16 - loss: 0.2120 - accuracy: 0.90 - ETA: 1:14 - loss: 0.2087 - accuracy: 0.90 - ETA: 1:12 - loss: 0.2053 - accuracy: 0.90 - ETA: 1:10 - loss: 0.2019 - accuracy: 0.90 - ETA: 1:08 - loss: 0.1989 - accuracy: 0.90 - ETA: 1:06 - loss: 0.1964 - accuracy: 0.91 - ETA: 1:03 - loss: 0.1934 - accuracy: 0.91 - ETA: 1:01 - loss: 0.1907 - accuracy: 0.91 - ETA: 59s - loss: 0.1886 - accuracy: 0.9143 - ETA: 57s - loss: 0.1874 - accuracy: 0.914 - ETA: 55s - loss: 0.1849 - accuracy: 0.915 - ETA: 53s - loss: 0.1824 - accuracy: 0.916 - ETA: 51s - loss: 0.1798 - accuracy: 0.918 - ETA: 48s - loss: 0.1773 - accuracy: 0.919 - ETA: 46s - loss: 0.1750 - accuracy: 0.920 - ETA: 44s - loss: 0.1733 - accuracy: 0.921 - ETA: 42s - loss: 0.1709 - accuracy: 0.922 - ETA: 40s - loss: 0.1686 - accuracy: 0.923 - ETA: 38s - loss: 0.1665 - accuracy: 0.924 - ETA: 36s - loss: 0.1646 - accuracy: 0.925 - ETA: 34s - loss: 0.1625 - accuracy: 0.926 - ETA: 31s - loss: 0.1612 - accuracy: 0.927 - ETA: 29s - loss: 0.1591 - accuracy: 0.928 - ETA: 27s - loss: 0.1575 - accuracy: 0.928 - ETA: 25s - loss: 0.1556 - accuracy: 0.929 - ETA: 23s - loss: 0.1537 - accuracy: 0.930 - ETA: 21s - loss: 0.1518 - accuracy: 0.931 - ETA: 19s - loss: 0.1502 - accuracy: 0.932 - ETA: 17s - loss: 0.1484 - accuracy: 0.932 - ETA: 14s - loss: 0.1469 - accuracy: 0.933 - ETA: 12s - loss: 0.1452 - accuracy: 0.934 - ETA: 10s - loss: 0.1439 - accuracy: 0.934 - ETA: 8s - loss: 0.1423 - accuracy: 0.935 - ETA: 6s - loss: 0.1412 - accuracy: 0.93 - ETA: 4s - loss: 0.1398 - accuracy: 0.93 - ETA: 2s - loss: 0.1385 - accuracy: 0.93 - ETA: 0s - loss: 0.1371 - accuracy: 0.93 - 199s 2s/step - loss: 0.1371 - accuracy: 0.9378 - val_loss: 0.0282 - val_accuracy: 0.9906\n",
      "Epoch 2/2\n",
      "90/90 [==============================] - ETA: 3:14 - loss: 0.0572 - accuracy: 0.96 - ETA: 3:07 - loss: 0.0578 - accuracy: 0.97 - ETA: 3:08 - loss: 0.0400 - accuracy: 0.98 - ETA: 3:07 - loss: 0.0306 - accuracy: 0.98 - ETA: 3:04 - loss: 0.0316 - accuracy: 0.98 - ETA: 3:02 - loss: 0.0322 - accuracy: 0.98 - ETA: 2:59 - loss: 0.0296 - accuracy: 0.98 - ETA: 2:57 - loss: 0.0279 - accuracy: 0.98 - ETA: 2:55 - loss: 0.0283 - accuracy: 0.98 - ETA: 2:53 - loss: 0.0270 - accuracy: 0.98 - ETA: 2:50 - loss: 0.0297 - accuracy: 0.98 - ETA: 2:48 - loss: 0.0326 - accuracy: 0.98 - ETA: 2:46 - loss: 0.0309 - accuracy: 0.98 - ETA: 2:43 - loss: 0.0292 - accuracy: 0.99 - ETA: 2:41 - loss: 0.0282 - accuracy: 0.99 - ETA: 2:39 - loss: 0.0272 - accuracy: 0.99 - ETA: 2:37 - loss: 0.0273 - accuracy: 0.99 - ETA: 2:35 - loss: 0.0259 - accuracy: 0.99 - ETA: 2:33 - loss: 0.0246 - accuracy: 0.99 - ETA: 2:31 - loss: 0.0241 - accuracy: 0.99 - ETA: 2:30 - loss: 0.0231 - accuracy: 0.99 - ETA: 2:29 - loss: 0.0223 - accuracy: 0.99 - ETA: 2:27 - loss: 0.0216 - accuracy: 0.99 - ETA: 2:26 - loss: 0.0208 - accuracy: 0.99 - ETA: 2:25 - loss: 0.0201 - accuracy: 0.99 - ETA: 2:24 - loss: 0.0195 - accuracy: 0.99 - ETA: 2:23 - loss: 0.0189 - accuracy: 0.99 - ETA: 2:21 - loss: 0.0184 - accuracy: 0.99 - ETA: 2:19 - loss: 0.0179 - accuracy: 0.99 - ETA: 2:16 - loss: 0.0174 - accuracy: 0.99 - ETA: 2:14 - loss: 0.0174 - accuracy: 0.99 - ETA: 2:11 - loss: 0.0171 - accuracy: 0.99 - ETA: 2:09 - loss: 0.0169 - accuracy: 0.99 - ETA: 2:06 - loss: 0.0165 - accuracy: 0.99 - ETA: 2:04 - loss: 0.0163 - accuracy: 0.99 - ETA: 2:02 - loss: 0.0161 - accuracy: 0.99 - ETA: 2:00 - loss: 0.0157 - accuracy: 0.99 - ETA: 1:57 - loss: 0.0160 - accuracy: 0.99 - ETA: 1:55 - loss: 0.0156 - accuracy: 0.99 - ETA: 1:53 - loss: 0.0152 - accuracy: 0.99 - ETA: 1:50 - loss: 0.0152 - accuracy: 0.99 - ETA: 1:48 - loss: 0.0151 - accuracy: 0.99 - ETA: 1:45 - loss: 0.0148 - accuracy: 0.99 - ETA: 1:43 - loss: 0.0146 - accuracy: 0.99 - ETA: 1:41 - loss: 0.0143 - accuracy: 0.99 - ETA: 1:38 - loss: 0.0142 - accuracy: 0.99 - ETA: 1:36 - loss: 0.0140 - accuracy: 0.99 - ETA: 1:34 - loss: 0.0137 - accuracy: 0.99 - ETA: 1:31 - loss: 0.0136 - accuracy: 0.99 - ETA: 1:29 - loss: 0.0134 - accuracy: 0.99 - ETA: 1:27 - loss: 0.0132 - accuracy: 0.99 - ETA: 1:24 - loss: 0.0132 - accuracy: 0.99 - ETA: 1:22 - loss: 0.0131 - accuracy: 0.99 - ETA: 1:20 - loss: 0.0131 - accuracy: 0.99 - ETA: 1:17 - loss: 0.0129 - accuracy: 0.99 - ETA: 1:15 - loss: 0.0132 - accuracy: 0.99 - ETA: 1:13 - loss: 0.0130 - accuracy: 0.99 - ETA: 1:11 - loss: 0.0129 - accuracy: 0.99 - ETA: 1:08 - loss: 0.0128 - accuracy: 0.99 - ETA: 1:06 - loss: 0.0127 - accuracy: 0.99 - ETA: 1:04 - loss: 0.0125 - accuracy: 0.99 - ETA: 1:02 - loss: 0.0124 - accuracy: 0.99 - ETA: 59s - loss: 0.0122 - accuracy: 0.9973 - ETA: 57s - loss: 0.0121 - accuracy: 0.997 - ETA: 55s - loss: 0.0119 - accuracy: 0.997 - ETA: 53s - loss: 0.0118 - accuracy: 0.997 - ETA: 50s - loss: 0.0117 - accuracy: 0.997 - ETA: 48s - loss: 0.0116 - accuracy: 0.997 - ETA: 46s - loss: 0.0119 - accuracy: 0.997 - ETA: 44s - loss: 0.0118 - accuracy: 0.997 - ETA: 41s - loss: 0.0117 - accuracy: 0.997 - ETA: 39s - loss: 0.0119 - accuracy: 0.997 - ETA: 37s - loss: 0.0118 - accuracy: 0.997 - ETA: 35s - loss: 0.0117 - accuracy: 0.997 - ETA: 33s - loss: 0.0116 - accuracy: 0.997 - ETA: 30s - loss: 0.0115 - accuracy: 0.997 - ETA: 28s - loss: 0.0114 - accuracy: 0.997 - ETA: 26s - loss: 0.0113 - accuracy: 0.997 - ETA: 24s - loss: 0.0114 - accuracy: 0.997 - ETA: 21s - loss: 0.0113 - accuracy: 0.997 - ETA: 19s - loss: 0.0112 - accuracy: 0.997 - ETA: 17s - loss: 0.0110 - accuracy: 0.997 - ETA: 15s - loss: 0.0109 - accuracy: 0.997 - ETA: 13s - loss: 0.0108 - accuracy: 0.997 - ETA: 10s - loss: 0.0107 - accuracy: 0.997 - ETA: 8s - loss: 0.0106 - accuracy: 0.997 - ETA: 6s - loss: 0.0105 - accuracy: 0.99 - ETA: 4s - loss: 0.0105 - accuracy: 0.99 - ETA: 2s - loss: 0.0105 - accuracy: 0.99 - ETA: 0s - loss: 0.0104 - accuracy: 0.99 - 206s 2s/step - loss: 0.0104 - accuracy: 0.9976 - val_loss: 0.0080 - val_accuracy: 0.9984\n"
     ]
    },
    {
     "data": {
      "text/html": [
       "<span style=\"color:#4527A0\"><h1 style=\"font-size:18px\">Trial complete</h1></span>"
      ],
      "text/plain": [
       "<IPython.core.display.HTML object>"
      ]
     },
     "metadata": {},
     "output_type": "display_data"
    },
    {
     "data": {
      "text/html": [
       "<span style=\"color:#4527A0\"><h1 style=\"font-size:18px\">Trial summary</h1></span>"
      ],
      "text/plain": [
       "<IPython.core.display.HTML object>"
      ]
     },
     "metadata": {},
     "output_type": "display_data"
    },
    {
     "data": {
      "text/html": [
       "<span style=\"color:#7E57C2\"><h2 style=\"font-size:16px\">Hp values:</h2></span>"
      ],
      "text/plain": [
       "<IPython.core.display.HTML object>"
      ]
     },
     "metadata": {},
     "output_type": "display_data"
    },
    {
     "data": {
      "text/html": [
       "<span style=\"color:cyan\"> |-dropout_rate: 0.5</span>"
      ],
      "text/plain": [
       "<IPython.core.display.HTML object>"
      ]
     },
     "metadata": {},
     "output_type": "display_data"
    },
    {
     "data": {
      "text/html": [
       "<span style=\"color:blue\"> |-filters_1: 200</span>"
      ],
      "text/plain": [
       "<IPython.core.display.HTML object>"
      ]
     },
     "metadata": {},
     "output_type": "display_data"
    },
    {
     "data": {
      "text/html": [
       "<span style=\"color:cyan\"> |-filters_2: 25</span>"
      ],
      "text/plain": [
       "<IPython.core.display.HTML object>"
      ]
     },
     "metadata": {},
     "output_type": "display_data"
    },
    {
     "data": {
      "text/html": [
       "<span style=\"color:blue\"> |-lr: 0.001</span>"
      ],
      "text/plain": [
       "<IPython.core.display.HTML object>"
      ]
     },
     "metadata": {},
     "output_type": "display_data"
    },
    {
     "data": {
      "text/html": [
       "<span style=\"color:cyan\"> |-tuner/bracket: 3</span>"
      ],
      "text/plain": [
       "<IPython.core.display.HTML object>"
      ]
     },
     "metadata": {},
     "output_type": "display_data"
    },
    {
     "data": {
      "text/html": [
       "<span style=\"color:blue\"> |-tuner/epochs: 2</span>"
      ],
      "text/plain": [
       "<IPython.core.display.HTML object>"
      ]
     },
     "metadata": {},
     "output_type": "display_data"
    },
    {
     "data": {
      "text/html": [
       "<span style=\"color:cyan\"> |-tuner/initial_epoch: 0</span>"
      ],
      "text/plain": [
       "<IPython.core.display.HTML object>"
      ]
     },
     "metadata": {},
     "output_type": "display_data"
    },
    {
     "data": {
      "text/html": [
       "<span style=\"color:blue\"> |-tuner/round: 0</span>"
      ],
      "text/plain": [
       "<IPython.core.display.HTML object>"
      ]
     },
     "metadata": {},
     "output_type": "display_data"
    },
    {
     "data": {
      "text/html": [
       "<span style=\"color:cyan\"> |-Score: 0.9984375238418579</span>"
      ],
      "text/plain": [
       "<IPython.core.display.HTML object>"
      ]
     },
     "metadata": {},
     "output_type": "display_data"
    },
    {
     "data": {
      "text/html": [
       "<span style=\"color:cyan\"> |-Best step: 0</span>"
      ],
      "text/plain": [
       "<IPython.core.display.HTML object>"
      ]
     },
     "metadata": {},
     "output_type": "display_data"
    },
    {
     "name": "stdout",
     "output_type": "stream",
     "text": [
      "Epoch 1/2\n",
      "90/90 [==============================] - ETA: 2:38 - loss: 0.7004 - accuracy: 0.48 - ETA: 2:01 - loss: 4.1546 - accuracy: 0.46 - ETA: 1:59 - loss: 17.7808 - accuracy: 0.489 - ETA: 1:58 - loss: 15.8347 - accuracy: 0.488 - ETA: 1:56 - loss: 12.7740 - accuracy: 0.559 - ETA: 1:55 - loss: 10.8201 - accuracy: 0.531 - ETA: 1:52 - loss: 9.3613 - accuracy: 0.562 - ETA: 1:50 - loss: 8.3010 - accuracy: 0.56 - ETA: 1:48 - loss: 7.4822 - accuracy: 0.54 - ETA: 1:46 - loss: 6.8009 - accuracy: 0.55 - ETA: 1:44 - loss: 6.2434 - accuracy: 0.54 - ETA: 1:43 - loss: 5.7777 - accuracy: 0.56 - ETA: 1:41 - loss: 5.3837 - accuracy: 0.55 - ETA: 1:39 - loss: 5.0442 - accuracy: 0.55 - ETA: 1:38 - loss: 4.7463 - accuracy: 0.56 - ETA: 1:36 - loss: 4.4785 - accuracy: 0.58 - ETA: 1:35 - loss: 4.2425 - accuracy: 0.59 - ETA: 1:33 - loss: 4.0278 - accuracy: 0.61 - ETA: 1:32 - loss: 3.8643 - accuracy: 0.60 - ETA: 1:31 - loss: 3.6897 - accuracy: 0.61 - ETA: 1:29 - loss: 3.5645 - accuracy: 0.60 - ETA: 1:28 - loss: 3.4375 - accuracy: 0.60 - ETA: 1:26 - loss: 3.2985 - accuracy: 0.61 - ETA: 1:25 - loss: 3.1839 - accuracy: 0.62 - ETA: 1:23 - loss: 3.0737 - accuracy: 0.63 - ETA: 1:22 - loss: 2.9719 - accuracy: 0.63 - ETA: 1:21 - loss: 2.8733 - accuracy: 0.64 - ETA: 1:19 - loss: 2.7807 - accuracy: 0.65 - ETA: 1:18 - loss: 2.7000 - accuracy: 0.65 - ETA: 1:17 - loss: 2.6247 - accuracy: 0.66 - ETA: 1:15 - loss: 2.5556 - accuracy: 0.66 - ETA: 1:14 - loss: 2.4906 - accuracy: 0.66 - ETA: 1:13 - loss: 2.4269 - accuracy: 0.67 - ETA: 1:11 - loss: 2.3653 - accuracy: 0.67 - ETA: 1:10 - loss: 2.3059 - accuracy: 0.68 - ETA: 1:09 - loss: 2.2508 - accuracy: 0.68 - ETA: 1:07 - loss: 2.2002 - accuracy: 0.69 - ETA: 1:06 - loss: 2.1518 - accuracy: 0.69 - ETA: 1:05 - loss: 2.1061 - accuracy: 0.70 - ETA: 1:04 - loss: 2.0601 - accuracy: 0.70 - ETA: 1:02 - loss: 2.0157 - accuracy: 0.71 - ETA: 1:01 - loss: 1.9735 - accuracy: 0.71 - ETA: 1:00 - loss: 1.9341 - accuracy: 0.72 - ETA: 58s - loss: 1.8981 - accuracy: 0.7259 - ETA: 57s - loss: 1.8611 - accuracy: 0.729 - ETA: 56s - loss: 1.8249 - accuracy: 0.734 - ETA: 54s - loss: 1.7905 - accuracy: 0.738 - ETA: 53s - loss: 1.7578 - accuracy: 0.742 - ETA: 52s - loss: 1.7255 - accuracy: 0.747 - ETA: 51s - loss: 1.6953 - accuracy: 0.750 - ETA: 49s - loss: 1.6676 - accuracy: 0.754 - ETA: 48s - loss: 1.6386 - accuracy: 0.758 - ETA: 47s - loss: 1.6110 - accuracy: 0.762 - ETA: 45s - loss: 1.5837 - accuracy: 0.766 - ETA: 44s - loss: 1.5571 - accuracy: 0.770 - ETA: 43s - loss: 1.5321 - accuracy: 0.773 - ETA: 42s - loss: 1.5085 - accuracy: 0.776 - ETA: 40s - loss: 1.4846 - accuracy: 0.779 - ETA: 39s - loss: 1.4608 - accuracy: 0.783 - ETA: 38s - loss: 1.4397 - accuracy: 0.784 - ETA: 36s - loss: 1.4188 - accuracy: 0.786 - ETA: 35s - loss: 1.3984 - accuracy: 0.789 - ETA: 34s - loss: 1.3794 - accuracy: 0.791 - ETA: 33s - loss: 1.3589 - accuracy: 0.794 - ETA: 31s - loss: 1.3389 - accuracy: 0.797 - ETA: 30s - loss: 1.3206 - accuracy: 0.800 - ETA: 29s - loss: 1.3027 - accuracy: 0.802 - ETA: 28s - loss: 1.2844 - accuracy: 0.804 - ETA: 26s - loss: 1.2686 - accuracy: 0.806 - ETA: 25s - loss: 1.2524 - accuracy: 0.808 - ETA: 24s - loss: 1.2358 - accuracy: 0.811 - ETA: 22s - loss: 1.2204 - accuracy: 0.812 - ETA: 21s - loss: 1.2051 - accuracy: 0.814 - ETA: 20s - loss: 1.1920 - accuracy: 0.816 - ETA: 19s - loss: 1.1775 - accuracy: 0.818 - ETA: 17s - loss: 1.1626 - accuracy: 0.820 - ETA: 16s - loss: 1.1494 - accuracy: 0.822 - ETA: 15s - loss: 1.1351 - accuracy: 0.824 - ETA: 13s - loss: 1.1222 - accuracy: 0.826 - ETA: 12s - loss: 1.1092 - accuracy: 0.828 - ETA: 11s - loss: 1.0961 - accuracy: 0.830 - ETA: 10s - loss: 1.0845 - accuracy: 0.831 - ETA: 8s - loss: 1.0725 - accuracy: 0.833 - ETA: 7s - loss: 1.0610 - accuracy: 0.83 - ETA: 6s - loss: 1.0499 - accuracy: 0.83 - ETA: 5s - loss: 1.0391 - accuracy: 0.83 - ETA: 3s - loss: 1.0284 - accuracy: 0.83 - ETA: 2s - loss: 1.0180 - accuracy: 0.84 - ETA: 1s - loss: 1.0077 - accuracy: 0.84 - ETA: 0s - loss: 0.9976 - accuracy: 0.84 - 119s 1s/step - loss: 0.9976 - accuracy: 0.8422 - val_loss: 0.0704 - val_accuracy: 0.9797\n",
      "Epoch 2/2\n",
      "90/90 [==============================] - ETA: 1:49 - loss: 0.0739 - accuracy: 0.96 - ETA: 1:52 - loss: 0.0722 - accuracy: 0.96 - ETA: 1:50 - loss: 0.0733 - accuracy: 0.96 - ETA: 1:48 - loss: 0.0854 - accuracy: 0.96 - ETA: 1:47 - loss: 0.0757 - accuracy: 0.96 - ETA: 1:45 - loss: 0.0707 - accuracy: 0.96 - ETA: 1:44 - loss: 0.0728 - accuracy: 0.96 - ETA: 1:43 - loss: 0.0773 - accuracy: 0.96 - ETA: 1:42 - loss: 0.0752 - accuracy: 0.96 - ETA: 1:41 - loss: 0.0704 - accuracy: 0.96 - ETA: 1:40 - loss: 0.0711 - accuracy: 0.96 - ETA: 1:38 - loss: 0.0669 - accuracy: 0.97 - ETA: 1:37 - loss: 0.0649 - accuracy: 0.97 - ETA: 1:36 - loss: 0.0671 - accuracy: 0.97 - ETA: 1:35 - loss: 0.0665 - accuracy: 0.97 - ETA: 1:33 - loss: 0.0651 - accuracy: 0.97 - ETA: 1:32 - loss: 0.0671 - accuracy: 0.97 - ETA: 1:31 - loss: 0.0680 - accuracy: 0.97 - ETA: 1:29 - loss: 0.0655 - accuracy: 0.97 - ETA: 1:28 - loss: 0.0628 - accuracy: 0.97 - ETA: 1:27 - loss: 0.0619 - accuracy: 0.97 - ETA: 1:25 - loss: 0.0675 - accuracy: 0.97 - ETA: 1:24 - loss: 0.0650 - accuracy: 0.97 - ETA: 1:23 - loss: 0.0631 - accuracy: 0.97 - ETA: 1:22 - loss: 0.0613 - accuracy: 0.97 - ETA: 1:21 - loss: 0.0655 - accuracy: 0.97 - ETA: 1:19 - loss: 0.0640 - accuracy: 0.97 - ETA: 1:18 - loss: 0.0637 - accuracy: 0.97 - ETA: 1:17 - loss: 0.0626 - accuracy: 0.97 - ETA: 1:16 - loss: 0.0626 - accuracy: 0.97 - ETA: 1:14 - loss: 0.0644 - accuracy: 0.97 - ETA: 1:13 - loss: 0.0656 - accuracy: 0.97 - ETA: 1:12 - loss: 0.0644 - accuracy: 0.97 - ETA: 1:11 - loss: 0.0650 - accuracy: 0.97 - ETA: 1:09 - loss: 0.0688 - accuracy: 0.97 - ETA: 1:08 - loss: 0.0674 - accuracy: 0.97 - ETA: 1:07 - loss: 0.0666 - accuracy: 0.97 - ETA: 1:06 - loss: 0.0671 - accuracy: 0.97 - ETA: 1:04 - loss: 0.0677 - accuracy: 0.97 - ETA: 1:03 - loss: 0.0708 - accuracy: 0.97 - ETA: 1:02 - loss: 0.0696 - accuracy: 0.97 - ETA: 1:00 - loss: 0.0700 - accuracy: 0.97 - ETA: 59s - loss: 0.0691 - accuracy: 0.9767 - ETA: 58s - loss: 0.0685 - accuracy: 0.976 - ETA: 57s - loss: 0.0671 - accuracy: 0.977 - ETA: 55s - loss: 0.0662 - accuracy: 0.977 - ETA: 54s - loss: 0.0658 - accuracy: 0.978 - ETA: 53s - loss: 0.0662 - accuracy: 0.977 - ETA: 52s - loss: 0.0654 - accuracy: 0.978 - ETA: 50s - loss: 0.0652 - accuracy: 0.977 - ETA: 49s - loss: 0.0644 - accuracy: 0.977 - ETA: 48s - loss: 0.0654 - accuracy: 0.977 - ETA: 46s - loss: 0.0659 - accuracy: 0.977 - ETA: 45s - loss: 0.0653 - accuracy: 0.977 - ETA: 44s - loss: 0.0649 - accuracy: 0.977 - ETA: 43s - loss: 0.0655 - accuracy: 0.977 - ETA: 41s - loss: 0.0649 - accuracy: 0.977 - ETA: 40s - loss: 0.0644 - accuracy: 0.977 - ETA: 39s - loss: 0.0639 - accuracy: 0.978 - ETA: 38s - loss: 0.0632 - accuracy: 0.978 - ETA: 36s - loss: 0.0626 - accuracy: 0.978 - ETA: 35s - loss: 0.0630 - accuracy: 0.978 - ETA: 34s - loss: 0.0626 - accuracy: 0.978 - ETA: 32s - loss: 0.0622 - accuracy: 0.979 - ETA: 31s - loss: 0.0614 - accuracy: 0.979 - ETA: 30s - loss: 0.0606 - accuracy: 0.979 - ETA: 29s - loss: 0.0615 - accuracy: 0.979 - ETA: 27s - loss: 0.0609 - accuracy: 0.980 - ETA: 26s - loss: 0.0604 - accuracy: 0.980 - ETA: 25s - loss: 0.0606 - accuracy: 0.979 - ETA: 24s - loss: 0.0601 - accuracy: 0.980 - ETA: 22s - loss: 0.0595 - accuracy: 0.980 - ETA: 21s - loss: 0.0594 - accuracy: 0.980 - ETA: 20s - loss: 0.0593 - accuracy: 0.980 - ETA: 19s - loss: 0.0590 - accuracy: 0.980 - ETA: 17s - loss: 0.0583 - accuracy: 0.980 - ETA: 16s - loss: 0.0581 - accuracy: 0.980 - ETA: 15s - loss: 0.0575 - accuracy: 0.981 - ETA: 13s - loss: 0.0570 - accuracy: 0.981 - ETA: 12s - loss: 0.0571 - accuracy: 0.980 - ETA: 11s - loss: 0.0565 - accuracy: 0.981 - ETA: 10s - loss: 0.0561 - accuracy: 0.981 - ETA: 8s - loss: 0.0558 - accuracy: 0.981 - ETA: 7s - loss: 0.0558 - accuracy: 0.98 - ETA: 6s - loss: 0.0560 - accuracy: 0.98 - ETA: 5s - loss: 0.0562 - accuracy: 0.98 - ETA: 3s - loss: 0.0560 - accuracy: 0.98 - ETA: 2s - loss: 0.0561 - accuracy: 0.98 - ETA: 1s - loss: 0.0558 - accuracy: 0.98 - ETA: 0s - loss: 0.0560 - accuracy: 0.98 - 118s 1s/step - loss: 0.0560 - accuracy: 0.9807 - val_loss: 0.0352 - val_accuracy: 0.9891\n"
     ]
    },
    {
     "data": {
      "text/html": [
       "<span style=\"color:#4527A0\"><h1 style=\"font-size:18px\">Trial complete</h1></span>"
      ],
      "text/plain": [
       "<IPython.core.display.HTML object>"
      ]
     },
     "metadata": {},
     "output_type": "display_data"
    },
    {
     "data": {
      "text/html": [
       "<span style=\"color:#4527A0\"><h1 style=\"font-size:18px\">Trial summary</h1></span>"
      ],
      "text/plain": [
       "<IPython.core.display.HTML object>"
      ]
     },
     "metadata": {},
     "output_type": "display_data"
    },
    {
     "data": {
      "text/html": [
       "<span style=\"color:#7E57C2\"><h2 style=\"font-size:16px\">Hp values:</h2></span>"
      ],
      "text/plain": [
       "<IPython.core.display.HTML object>"
      ]
     },
     "metadata": {},
     "output_type": "display_data"
    },
    {
     "data": {
      "text/html": [
       "<span style=\"color:cyan\"> |-dropout_rate: 0.7</span>"
      ],
      "text/plain": [
       "<IPython.core.display.HTML object>"
      ]
     },
     "metadata": {},
     "output_type": "display_data"
    },
    {
     "data": {
      "text/html": [
       "<span style=\"color:blue\"> |-filters_1: 100</span>"
      ],
      "text/plain": [
       "<IPython.core.display.HTML object>"
      ]
     },
     "metadata": {},
     "output_type": "display_data"
    },
    {
     "data": {
      "text/html": [
       "<span style=\"color:cyan\"> |-filters_2: 50</span>"
      ],
      "text/plain": [
       "<IPython.core.display.HTML object>"
      ]
     },
     "metadata": {},
     "output_type": "display_data"
    },
    {
     "data": {
      "text/html": [
       "<span style=\"color:blue\"> |-lr: 0.01</span>"
      ],
      "text/plain": [
       "<IPython.core.display.HTML object>"
      ]
     },
     "metadata": {},
     "output_type": "display_data"
    },
    {
     "data": {
      "text/html": [
       "<span style=\"color:cyan\"> |-tuner/bracket: 3</span>"
      ],
      "text/plain": [
       "<IPython.core.display.HTML object>"
      ]
     },
     "metadata": {},
     "output_type": "display_data"
    },
    {
     "data": {
      "text/html": [
       "<span style=\"color:blue\"> |-tuner/epochs: 2</span>"
      ],
      "text/plain": [
       "<IPython.core.display.HTML object>"
      ]
     },
     "metadata": {},
     "output_type": "display_data"
    },
    {
     "data": {
      "text/html": [
       "<span style=\"color:cyan\"> |-tuner/initial_epoch: 0</span>"
      ],
      "text/plain": [
       "<IPython.core.display.HTML object>"
      ]
     },
     "metadata": {},
     "output_type": "display_data"
    },
    {
     "data": {
      "text/html": [
       "<span style=\"color:blue\"> |-tuner/round: 0</span>"
      ],
      "text/plain": [
       "<IPython.core.display.HTML object>"
      ]
     },
     "metadata": {},
     "output_type": "display_data"
    },
    {
     "data": {
      "text/html": [
       "<span style=\"color:cyan\"> |-Score: 0.989062488079071</span>"
      ],
      "text/plain": [
       "<IPython.core.display.HTML object>"
      ]
     },
     "metadata": {},
     "output_type": "display_data"
    },
    {
     "data": {
      "text/html": [
       "<span style=\"color:cyan\"> |-Best step: 0</span>"
      ],
      "text/plain": [
       "<IPython.core.display.HTML object>"
      ]
     },
     "metadata": {},
     "output_type": "display_data"
    },
    {
     "name": "stdout",
     "output_type": "stream",
     "text": [
      "Epoch 1/2\n",
      "90/90 [==============================] - ETA: 2:27 - loss: 0.7148 - accuracy: 0.45 - ETA: 1:58 - loss: 0.8207 - accuracy: 0.49 - ETA: 1:56 - loss: 0.7838 - accuracy: 0.47 - ETA: 1:54 - loss: 0.7639 - accuracy: 0.48 - ETA: 1:53 - loss: 0.7430 - accuracy: 0.48 - ETA: 1:52 - loss: 0.7229 - accuracy: 0.52 - ETA: 1:50 - loss: 0.7039 - accuracy: 0.58 - ETA: 1:49 - loss: 0.6838 - accuracy: 0.62 - ETA: 1:48 - loss: 0.6630 - accuracy: 0.65 - ETA: 1:47 - loss: 0.6503 - accuracy: 0.66 - ETA: 1:45 - loss: 0.6322 - accuracy: 0.68 - ETA: 1:44 - loss: 0.6078 - accuracy: 0.70 - ETA: 1:42 - loss: 0.5916 - accuracy: 0.71 - ETA: 1:41 - loss: 0.5672 - accuracy: 0.72 - ETA: 1:40 - loss: 0.5492 - accuracy: 0.73 - ETA: 1:38 - loss: 0.5260 - accuracy: 0.74 - ETA: 1:37 - loss: 0.5154 - accuracy: 0.75 - ETA: 1:36 - loss: 0.4945 - accuracy: 0.76 - ETA: 1:34 - loss: 0.4749 - accuracy: 0.77 - ETA: 1:33 - loss: 0.4551 - accuracy: 0.78 - ETA: 1:32 - loss: 0.4433 - accuracy: 0.79 - ETA: 1:31 - loss: 0.4313 - accuracy: 0.79 - ETA: 1:29 - loss: 0.4176 - accuracy: 0.80 - ETA: 1:28 - loss: 0.4099 - accuracy: 0.80 - ETA: 1:27 - loss: 0.4001 - accuracy: 0.81 - ETA: 1:25 - loss: 0.3887 - accuracy: 0.81 - ETA: 1:24 - loss: 0.3796 - accuracy: 0.82 - ETA: 1:23 - loss: 0.3721 - accuracy: 0.82 - ETA: 1:21 - loss: 0.3615 - accuracy: 0.83 - ETA: 1:20 - loss: 0.3563 - accuracy: 0.83 - ETA: 1:19 - loss: 0.3465 - accuracy: 0.83 - ETA: 1:17 - loss: 0.3379 - accuracy: 0.84 - ETA: 1:16 - loss: 0.3286 - accuracy: 0.84 - ETA: 1:15 - loss: 0.3210 - accuracy: 0.85 - ETA: 1:13 - loss: 0.3124 - accuracy: 0.85 - ETA: 1:12 - loss: 0.3048 - accuracy: 0.86 - ETA: 1:11 - loss: 0.2979 - accuracy: 0.86 - ETA: 1:09 - loss: 0.2912 - accuracy: 0.86 - ETA: 1:08 - loss: 0.2842 - accuracy: 0.86 - ETA: 1:07 - loss: 0.2782 - accuracy: 0.87 - ETA: 1:05 - loss: 0.2721 - accuracy: 0.87 - ETA: 1:04 - loss: 0.2672 - accuracy: 0.87 - ETA: 1:03 - loss: 0.2613 - accuracy: 0.88 - ETA: 1:01 - loss: 0.2563 - accuracy: 0.88 - ETA: 1:00 - loss: 0.2511 - accuracy: 0.88 - ETA: 59s - loss: 0.2465 - accuracy: 0.8876 - ETA: 57s - loss: 0.2416 - accuracy: 0.890 - ETA: 56s - loss: 0.2371 - accuracy: 0.891 - ETA: 55s - loss: 0.2325 - accuracy: 0.894 - ETA: 53s - loss: 0.2281 - accuracy: 0.896 - ETA: 52s - loss: 0.2240 - accuracy: 0.898 - ETA: 51s - loss: 0.2199 - accuracy: 0.899 - ETA: 49s - loss: 0.2159 - accuracy: 0.901 - ETA: 48s - loss: 0.2120 - accuracy: 0.903 - ETA: 47s - loss: 0.2085 - accuracy: 0.905 - ETA: 45s - loss: 0.2050 - accuracy: 0.907 - ETA: 44s - loss: 0.2021 - accuracy: 0.908 - ETA: 43s - loss: 0.1990 - accuracy: 0.909 - ETA: 41s - loss: 0.1958 - accuracy: 0.911 - ETA: 40s - loss: 0.1926 - accuracy: 0.912 - ETA: 39s - loss: 0.1897 - accuracy: 0.913 - ETA: 37s - loss: 0.1867 - accuracy: 0.915 - ETA: 36s - loss: 0.1838 - accuracy: 0.916 - ETA: 34s - loss: 0.1820 - accuracy: 0.917 - ETA: 33s - loss: 0.1794 - accuracy: 0.918 - ETA: 32s - loss: 0.1768 - accuracy: 0.920 - ETA: 30s - loss: 0.1746 - accuracy: 0.921 - ETA: 29s - loss: 0.1722 - accuracy: 0.922 - ETA: 28s - loss: 0.1699 - accuracy: 0.923 - ETA: 26s - loss: 0.1676 - accuracy: 0.924 - ETA: 25s - loss: 0.1653 - accuracy: 0.925 - ETA: 24s - loss: 0.1630 - accuracy: 0.926 - ETA: 22s - loss: 0.1608 - accuracy: 0.927 - ETA: 21s - loss: 0.1596 - accuracy: 0.928 - ETA: 20s - loss: 0.1575 - accuracy: 0.929 - ETA: 18s - loss: 0.1555 - accuracy: 0.930 - ETA: 17s - loss: 0.1535 - accuracy: 0.931 - ETA: 16s - loss: 0.1516 - accuracy: 0.931 - ETA: 14s - loss: 0.1497 - accuracy: 0.932 - ETA: 13s - loss: 0.1480 - accuracy: 0.933 - ETA: 12s - loss: 0.1466 - accuracy: 0.934 - ETA: 10s - loss: 0.1449 - accuracy: 0.935 - ETA: 9s - loss: 0.1432 - accuracy: 0.935 - ETA: 8s - loss: 0.1418 - accuracy: 0.93 - ETA: 6s - loss: 0.1413 - accuracy: 0.93 - ETA: 5s - loss: 0.1399 - accuracy: 0.93 - ETA: 4s - loss: 0.1384 - accuracy: 0.93 - ETA: 2s - loss: 0.1371 - accuracy: 0.93 - ETA: 1s - loss: 0.1362 - accuracy: 0.93 - ETA: 0s - loss: 0.1347 - accuracy: 0.93 - 125s 1s/step - loss: 0.1347 - accuracy: 0.9398 - val_loss: 0.0172 - val_accuracy: 0.9953\n",
      "Epoch 2/2\n",
      "90/90 [==============================] - ETA: 1:58 - loss: 0.0103 - accuracy: 1.00 - ETA: 2:02 - loss: 0.0058 - accuracy: 1.00 - ETA: 1:57 - loss: 0.0087 - accuracy: 1.00 - ETA: 1:56 - loss: 0.0074 - accuracy: 1.00 - ETA: 2:01 - loss: 0.0099 - accuracy: 0.99 - ETA: 2:01 - loss: 0.0094 - accuracy: 0.99 - ETA: 1:59 - loss: 0.0097 - accuracy: 0.99 - ETA: 1:57 - loss: 0.0103 - accuracy: 0.99 - ETA: 1:54 - loss: 0.0099 - accuracy: 0.99 - ETA: 1:52 - loss: 0.0090 - accuracy: 0.99 - ETA: 1:51 - loss: 0.0089 - accuracy: 0.99 - ETA: 1:49 - loss: 0.0103 - accuracy: 0.99 - ETA: 1:47 - loss: 0.0105 - accuracy: 0.99 - ETA: 1:46 - loss: 0.0114 - accuracy: 0.99 - ETA: 1:44 - loss: 0.0108 - accuracy: 0.99 - ETA: 1:43 - loss: 0.0103 - accuracy: 0.99 - ETA: 1:41 - loss: 0.0103 - accuracy: 0.99 - ETA: 1:41 - loss: 0.0101 - accuracy: 0.99 - ETA: 1:39 - loss: 0.0100 - accuracy: 0.99 - ETA: 1:38 - loss: 0.0109 - accuracy: 0.99 - ETA: 1:36 - loss: 0.0108 - accuracy: 0.99 - ETA: 1:35 - loss: 0.0104 - accuracy: 0.99 - ETA: 1:33 - loss: 0.0105 - accuracy: 0.99 - ETA: 1:32 - loss: 0.0101 - accuracy: 0.99 - ETA: 1:30 - loss: 0.0100 - accuracy: 0.99 - ETA: 1:29 - loss: 0.0100 - accuracy: 0.99 - ETA: 1:27 - loss: 0.0102 - accuracy: 0.99 - ETA: 1:26 - loss: 0.0100 - accuracy: 0.99 - ETA: 1:25 - loss: 0.0105 - accuracy: 0.99 - ETA: 1:23 - loss: 0.0104 - accuracy: 0.99 - ETA: 1:22 - loss: 0.0102 - accuracy: 0.99 - ETA: 1:20 - loss: 0.0105 - accuracy: 0.99 - ETA: 1:19 - loss: 0.0112 - accuracy: 0.99 - ETA: 1:17 - loss: 0.0109 - accuracy: 0.99 - ETA: 1:16 - loss: 0.0106 - accuracy: 0.99 - ETA: 1:15 - loss: 0.0107 - accuracy: 0.99 - ETA: 1:13 - loss: 0.0109 - accuracy: 0.99 - ETA: 1:12 - loss: 0.0109 - accuracy: 0.99 - ETA: 1:10 - loss: 0.0107 - accuracy: 0.99 - ETA: 1:09 - loss: 0.0105 - accuracy: 0.99 - ETA: 1:08 - loss: 0.0103 - accuracy: 0.99 - ETA: 1:06 - loss: 0.0111 - accuracy: 0.99 - ETA: 1:05 - loss: 0.0109 - accuracy: 0.99 - ETA: 1:03 - loss: 0.0107 - accuracy: 0.99 - ETA: 1:02 - loss: 0.0105 - accuracy: 0.99 - ETA: 1:00 - loss: 0.0105 - accuracy: 0.99 - ETA: 59s - loss: 0.0106 - accuracy: 0.9967 - ETA: 58s - loss: 0.0105 - accuracy: 0.996 - ETA: 56s - loss: 0.0104 - accuracy: 0.996 - ETA: 55s - loss: 0.0102 - accuracy: 0.996 - ETA: 54s - loss: 0.0113 - accuracy: 0.996 - ETA: 52s - loss: 0.0112 - accuracy: 0.996 - ETA: 51s - loss: 0.0110 - accuracy: 0.996 - ETA: 49s - loss: 0.0108 - accuracy: 0.996 - ETA: 48s - loss: 0.0108 - accuracy: 0.996 - ETA: 47s - loss: 0.0107 - accuracy: 0.996 - ETA: 45s - loss: 0.0111 - accuracy: 0.996 - ETA: 44s - loss: 0.0109 - accuracy: 0.996 - ETA: 42s - loss: 0.0108 - accuracy: 0.996 - ETA: 41s - loss: 0.0107 - accuracy: 0.996 - ETA: 40s - loss: 0.0105 - accuracy: 0.996 - ETA: 38s - loss: 0.0106 - accuracy: 0.996 - ETA: 37s - loss: 0.0110 - accuracy: 0.996 - ETA: 36s - loss: 0.0109 - accuracy: 0.996 - ETA: 34s - loss: 0.0107 - accuracy: 0.996 - ETA: 33s - loss: 0.0107 - accuracy: 0.996 - ETA: 31s - loss: 0.0106 - accuracy: 0.996 - ETA: 30s - loss: 0.0105 - accuracy: 0.996 - ETA: 29s - loss: 0.0104 - accuracy: 0.996 - ETA: 27s - loss: 0.0102 - accuracy: 0.996 - ETA: 26s - loss: 0.0101 - accuracy: 0.996 - ETA: 24s - loss: 0.0107 - accuracy: 0.996 - ETA: 23s - loss: 0.0109 - accuracy: 0.996 - ETA: 22s - loss: 0.0108 - accuracy: 0.996 - ETA: 20s - loss: 0.0111 - accuracy: 0.996 - ETA: 19s - loss: 0.0113 - accuracy: 0.996 - ETA: 18s - loss: 0.0113 - accuracy: 0.996 - ETA: 16s - loss: 0.0114 - accuracy: 0.996 - ETA: 15s - loss: 0.0114 - accuracy: 0.996 - ETA: 13s - loss: 0.0113 - accuracy: 0.996 - ETA: 12s - loss: 0.0112 - accuracy: 0.996 - ETA: 11s - loss: 0.0111 - accuracy: 0.996 - ETA: 9s - loss: 0.0114 - accuracy: 0.996 - ETA: 8s - loss: 0.0114 - accuracy: 0.99 - ETA: 6s - loss: 0.0115 - accuracy: 0.99 - ETA: 5s - loss: 0.0114 - accuracy: 0.99 - ETA: 4s - loss: 0.0115 - accuracy: 0.99 - ETA: 2s - loss: 0.0115 - accuracy: 0.99 - ETA: 1s - loss: 0.0120 - accuracy: 0.99 - ETA: 0s - loss: 0.0120 - accuracy: 0.99 - 129s 1s/step - loss: 0.0120 - accuracy: 0.9957 - val_loss: 0.0110 - val_accuracy: 0.9969\n"
     ]
    },
    {
     "data": {
      "text/html": [
       "<span style=\"color:#4527A0\"><h1 style=\"font-size:18px\">Trial complete</h1></span>"
      ],
      "text/plain": [
       "<IPython.core.display.HTML object>"
      ]
     },
     "metadata": {},
     "output_type": "display_data"
    },
    {
     "data": {
      "text/html": [
       "<span style=\"color:#4527A0\"><h1 style=\"font-size:18px\">Trial summary</h1></span>"
      ],
      "text/plain": [
       "<IPython.core.display.HTML object>"
      ]
     },
     "metadata": {},
     "output_type": "display_data"
    },
    {
     "data": {
      "text/html": [
       "<span style=\"color:#7E57C2\"><h2 style=\"font-size:16px\">Hp values:</h2></span>"
      ],
      "text/plain": [
       "<IPython.core.display.HTML object>"
      ]
     },
     "metadata": {},
     "output_type": "display_data"
    },
    {
     "data": {
      "text/html": [
       "<span style=\"color:cyan\"> |-dropout_rate: 0.5</span>"
      ],
      "text/plain": [
       "<IPython.core.display.HTML object>"
      ]
     },
     "metadata": {},
     "output_type": "display_data"
    },
    {
     "data": {
      "text/html": [
       "<span style=\"color:blue\"> |-filters_1: 100</span>"
      ],
      "text/plain": [
       "<IPython.core.display.HTML object>"
      ]
     },
     "metadata": {},
     "output_type": "display_data"
    },
    {
     "data": {
      "text/html": [
       "<span style=\"color:cyan\"> |-filters_2: 50</span>"
      ],
      "text/plain": [
       "<IPython.core.display.HTML object>"
      ]
     },
     "metadata": {},
     "output_type": "display_data"
    },
    {
     "data": {
      "text/html": [
       "<span style=\"color:blue\"> |-lr: 0.001</span>"
      ],
      "text/plain": [
       "<IPython.core.display.HTML object>"
      ]
     },
     "metadata": {},
     "output_type": "display_data"
    },
    {
     "data": {
      "text/html": [
       "<span style=\"color:cyan\"> |-tuner/bracket: 3</span>"
      ],
      "text/plain": [
       "<IPython.core.display.HTML object>"
      ]
     },
     "metadata": {},
     "output_type": "display_data"
    },
    {
     "data": {
      "text/html": [
       "<span style=\"color:blue\"> |-tuner/epochs: 2</span>"
      ],
      "text/plain": [
       "<IPython.core.display.HTML object>"
      ]
     },
     "metadata": {},
     "output_type": "display_data"
    },
    {
     "data": {
      "text/html": [
       "<span style=\"color:cyan\"> |-tuner/initial_epoch: 0</span>"
      ],
      "text/plain": [
       "<IPython.core.display.HTML object>"
      ]
     },
     "metadata": {},
     "output_type": "display_data"
    },
    {
     "data": {
      "text/html": [
       "<span style=\"color:blue\"> |-tuner/round: 0</span>"
      ],
      "text/plain": [
       "<IPython.core.display.HTML object>"
      ]
     },
     "metadata": {},
     "output_type": "display_data"
    },
    {
     "data": {
      "text/html": [
       "<span style=\"color:cyan\"> |-Score: 0.996874988079071</span>"
      ],
      "text/plain": [
       "<IPython.core.display.HTML object>"
      ]
     },
     "metadata": {},
     "output_type": "display_data"
    },
    {
     "data": {
      "text/html": [
       "<span style=\"color:cyan\"> |-Best step: 0</span>"
      ],
      "text/plain": [
       "<IPython.core.display.HTML object>"
      ]
     },
     "metadata": {},
     "output_type": "display_data"
    },
    {
     "name": "stdout",
     "output_type": "stream",
     "text": [
      "Epoch 1/2\n",
      "90/90 [==============================] - ETA: 4:25 - loss: 0.6893 - accuracy: 0.53 - ETA: 4:13 - loss: 1.1445 - accuracy: 0.60 - ETA: 4:19 - loss: 20.8167 - accuracy: 0.572 - ETA: 4:19 - loss: 18.8727 - accuracy: 0.543 - ETA: 4:16 - loss: 15.1752 - accuracy: 0.606 - ETA: 4:15 - loss: 12.8773 - accuracy: 0.578 - ETA: 4:13 - loss: 11.1425 - accuracy: 0.573 - ETA: 4:07 - loss: 9.8364 - accuracy: 0.554 - ETA: 3:59 - loss: 8.8124 - accuracy: 0.55 - ETA: 3:51 - loss: 7.9875 - accuracy: 0.55 - ETA: 3:45 - loss: 7.3051 - accuracy: 0.57 - ETA: 3:39 - loss: 6.7407 - accuracy: 0.58 - ETA: 3:34 - loss: 6.2552 - accuracy: 0.61 - ETA: 3:29 - loss: 5.8328 - accuracy: 0.63 - ETA: 3:25 - loss: 5.4632 - accuracy: 0.65 - ETA: 3:21 - loss: 5.1401 - accuracy: 0.66 - ETA: 3:16 - loss: 4.8467 - accuracy: 0.68 - ETA: 3:13 - loss: 4.5853 - accuracy: 0.69 - ETA: 3:09 - loss: 4.3521 - accuracy: 0.70 - ETA: 3:05 - loss: 4.1387 - accuracy: 0.72 - ETA: 3:02 - loss: 3.9484 - accuracy: 0.73 - ETA: 2:59 - loss: 3.7726 - accuracy: 0.74 - ETA: 2:55 - loss: 3.6158 - accuracy: 0.75 - ETA: 2:52 - loss: 3.4667 - accuracy: 0.76 - ETA: 2:49 - loss: 3.3312 - accuracy: 0.77 - ETA: 2:46 - loss: 3.2050 - accuracy: 0.77 - ETA: 2:43 - loss: 3.0875 - accuracy: 0.78 - ETA: 2:40 - loss: 2.9811 - accuracy: 0.79 - ETA: 2:37 - loss: 2.8793 - accuracy: 0.80 - ETA: 2:34 - loss: 2.7858 - accuracy: 0.80 - ETA: 2:31 - loss: 2.6971 - accuracy: 0.81 - ETA: 2:28 - loss: 2.6161 - accuracy: 0.81 - ETA: 2:25 - loss: 2.5387 - accuracy: 0.82 - ETA: 2:22 - loss: 2.4656 - accuracy: 0.82 - ETA: 2:20 - loss: 2.3961 - accuracy: 0.83 - ETA: 2:17 - loss: 2.3296 - accuracy: 0.83 - ETA: 2:14 - loss: 2.2669 - accuracy: 0.83 - ETA: 2:11 - loss: 2.2094 - accuracy: 0.84 - ETA: 2:09 - loss: 2.1532 - accuracy: 0.84 - ETA: 2:06 - loss: 2.0995 - accuracy: 0.85 - ETA: 2:03 - loss: 2.0486 - accuracy: 0.85 - ETA: 2:01 - loss: 2.0008 - accuracy: 0.85 - ETA: 1:58 - loss: 1.9543 - accuracy: 0.86 - ETA: 1:55 - loss: 1.9100 - accuracy: 0.86 - ETA: 1:53 - loss: 1.8676 - accuracy: 0.86 - ETA: 1:51 - loss: 1.8288 - accuracy: 0.86 - ETA: 1:49 - loss: 1.7901 - accuracy: 0.87 - ETA: 1:47 - loss: 1.7562 - accuracy: 0.87 - ETA: 1:45 - loss: 1.7204 - accuracy: 0.87 - ETA: 1:42 - loss: 1.6873 - accuracy: 0.87 - ETA: 1:40 - loss: 1.6576 - accuracy: 0.87 - ETA: 1:38 - loss: 1.6260 - accuracy: 0.88 - ETA: 1:35 - loss: 1.5965 - accuracy: 0.88 - ETA: 1:33 - loss: 1.5699 - accuracy: 0.88 - ETA: 1:31 - loss: 1.5419 - accuracy: 0.88 - ETA: 1:28 - loss: 1.5144 - accuracy: 0.88 - ETA: 1:26 - loss: 1.4904 - accuracy: 0.88 - ETA: 1:24 - loss: 1.4653 - accuracy: 0.88 - ETA: 1:21 - loss: 1.4406 - accuracy: 0.89 - ETA: 1:19 - loss: 1.4167 - accuracy: 0.89 - ETA: 1:16 - loss: 1.3939 - accuracy: 0.89 - ETA: 1:14 - loss: 1.3717 - accuracy: 0.89 - ETA: 1:11 - loss: 1.3501 - accuracy: 0.89 - ETA: 1:09 - loss: 1.3295 - accuracy: 0.89 - ETA: 1:06 - loss: 1.3093 - accuracy: 0.90 - ETA: 1:04 - loss: 1.2896 - accuracy: 0.90 - ETA: 1:01 - loss: 1.2704 - accuracy: 0.90 - ETA: 58s - loss: 1.2521 - accuracy: 0.9056 - ETA: 56s - loss: 1.2357 - accuracy: 0.906 - ETA: 53s - loss: 1.2186 - accuracy: 0.907 - ETA: 51s - loss: 1.2017 - accuracy: 0.908 - ETA: 48s - loss: 1.1850 - accuracy: 0.910 - ETA: 45s - loss: 1.1691 - accuracy: 0.911 - ETA: 43s - loss: 1.1534 - accuracy: 0.912 - ETA: 40s - loss: 1.1386 - accuracy: 0.913 - ETA: 37s - loss: 1.1237 - accuracy: 0.914 - ETA: 35s - loss: 1.1092 - accuracy: 0.915 - ETA: 32s - loss: 1.0950 - accuracy: 0.916 - ETA: 29s - loss: 1.0813 - accuracy: 0.917 - ETA: 27s - loss: 1.0679 - accuracy: 0.918 - ETA: 24s - loss: 1.0548 - accuracy: 0.919 - ETA: 21s - loss: 1.0424 - accuracy: 0.920 - ETA: 19s - loss: 1.0301 - accuracy: 0.921 - ETA: 16s - loss: 1.0178 - accuracy: 0.922 - ETA: 13s - loss: 1.0058 - accuracy: 0.923 - ETA: 10s - loss: 0.9942 - accuracy: 0.924 - ETA: 8s - loss: 0.9829 - accuracy: 0.924 - ETA: 5s - loss: 0.9718 - accuracy: 0.92 - ETA: 2s - loss: 0.9609 - accuracy: 0.92 - ETA: 0s - loss: 0.9505 - accuracy: 0.92 - 257s 3s/step - loss: 0.9505 - accuracy: 0.9273 - val_loss: 0.0110 - val_accuracy: 0.9984\n",
      "Epoch 2/2\n",
      "90/90 [==============================] - ETA: 3:51 - loss: 0.0235 - accuracy: 0.98 - ETA: 3:35 - loss: 0.0121 - accuracy: 0.99 - ETA: 3:35 - loss: 0.0120 - accuracy: 0.99 - ETA: 3:37 - loss: 0.0103 - accuracy: 0.99 - ETA: 3:35 - loss: 0.0088 - accuracy: 0.99 - ETA: 3:32 - loss: 0.0074 - accuracy: 0.99 - ETA: 3:29 - loss: 0.0073 - accuracy: 0.99 - ETA: 3:27 - loss: 0.0064 - accuracy: 0.99 - ETA: 3:23 - loss: 0.0163 - accuracy: 0.99 - ETA: 3:21 - loss: 0.0147 - accuracy: 0.99 - ETA: 3:18 - loss: 0.0168 - accuracy: 0.99 - ETA: 3:15 - loss: 0.0154 - accuracy: 0.99 - ETA: 3:12 - loss: 0.0143 - accuracy: 0.99 - ETA: 3:09 - loss: 0.0140 - accuracy: 0.99 - ETA: 3:06 - loss: 0.0132 - accuracy: 0.99 - ETA: 3:03 - loss: 0.0126 - accuracy: 0.99 - ETA: 3:03 - loss: 0.0121 - accuracy: 0.99 - ETA: 3:04 - loss: 0.0121 - accuracy: 0.99 - ETA: 3:03 - loss: 0.0115 - accuracy: 0.99 - ETA: 3:03 - loss: 0.0109 - accuracy: 0.99 - ETA: 3:01 - loss: 0.0106 - accuracy: 0.99 - ETA: 3:00 - loss: 0.0105 - accuracy: 0.99 - ETA: 2:58 - loss: 0.0108 - accuracy: 0.99 - ETA: 2:56 - loss: 0.0108 - accuracy: 0.99 - ETA: 2:54 - loss: 0.0106 - accuracy: 0.99 - ETA: 2:52 - loss: 0.0103 - accuracy: 0.99 - ETA: 2:50 - loss: 0.0108 - accuracy: 0.99 - ETA: 2:48 - loss: 0.0110 - accuracy: 0.99 - ETA: 2:45 - loss: 0.0117 - accuracy: 0.99 - ETA: 2:43 - loss: 0.0114 - accuracy: 0.99 - ETA: 2:41 - loss: 0.0114 - accuracy: 0.99 - ETA: 2:38 - loss: 0.0112 - accuracy: 0.99 - ETA: 2:36 - loss: 0.0109 - accuracy: 0.99 - ETA: 2:33 - loss: 0.0107 - accuracy: 0.99 - ETA: 2:31 - loss: 0.0105 - accuracy: 0.99 - ETA: 2:29 - loss: 0.0111 - accuracy: 0.99 - ETA: 2:26 - loss: 0.0108 - accuracy: 0.99 - ETA: 2:24 - loss: 0.0105 - accuracy: 0.99 - ETA: 2:21 - loss: 0.0103 - accuracy: 0.99 - ETA: 2:18 - loss: 0.0108 - accuracy: 0.99 - ETA: 2:16 - loss: 0.0108 - accuracy: 0.99 - ETA: 2:14 - loss: 0.0106 - accuracy: 0.99 - ETA: 2:11 - loss: 0.0105 - accuracy: 0.99 - ETA: 2:07 - loss: 0.0103 - accuracy: 0.99 - ETA: 2:04 - loss: 0.0102 - accuracy: 0.99 - ETA: 2:01 - loss: 0.0100 - accuracy: 0.99 - ETA: 1:58 - loss: 0.0098 - accuracy: 0.99 - ETA: 1:55 - loss: 0.0098 - accuracy: 0.99 - ETA: 1:52 - loss: 0.0103 - accuracy: 0.99 - ETA: 1:49 - loss: 0.0101 - accuracy: 0.99 - ETA: 1:46 - loss: 0.0101 - accuracy: 0.99 - ETA: 1:43 - loss: 0.0099 - accuracy: 0.99 - ETA: 1:40 - loss: 0.0103 - accuracy: 0.99 - ETA: 1:38 - loss: 0.0128 - accuracy: 0.99 - ETA: 1:35 - loss: 0.0130 - accuracy: 0.99 - ETA: 1:32 - loss: 0.0135 - accuracy: 0.99 - ETA: 1:29 - loss: 0.0147 - accuracy: 0.99 - ETA: 1:26 - loss: 0.0153 - accuracy: 0.99 - ETA: 1:23 - loss: 0.0151 - accuracy: 0.99 - ETA: 1:20 - loss: 0.0148 - accuracy: 0.99 - ETA: 1:18 - loss: 0.0158 - accuracy: 0.99 - ETA: 1:15 - loss: 0.0157 - accuracy: 0.99 - ETA: 1:12 - loss: 0.0162 - accuracy: 0.99 - ETA: 1:09 - loss: 0.0161 - accuracy: 0.99 - ETA: 1:06 - loss: 0.0159 - accuracy: 0.99 - ETA: 1:04 - loss: 0.0157 - accuracy: 0.99 - ETA: 1:01 - loss: 0.0155 - accuracy: 0.99 - ETA: 58s - loss: 0.0153 - accuracy: 0.9947 - ETA: 55s - loss: 0.0162 - accuracy: 0.994 - ETA: 53s - loss: 0.0166 - accuracy: 0.994 - ETA: 50s - loss: 0.0169 - accuracy: 0.994 - ETA: 47s - loss: 0.0167 - accuracy: 0.994 - ETA: 45s - loss: 0.0165 - accuracy: 0.994 - ETA: 42s - loss: 0.0177 - accuracy: 0.994 - ETA: 39s - loss: 0.0176 - accuracy: 0.994 - ETA: 36s - loss: 0.0174 - accuracy: 0.994 - ETA: 34s - loss: 0.0175 - accuracy: 0.994 - ETA: 31s - loss: 0.0173 - accuracy: 0.994 - ETA: 28s - loss: 0.0171 - accuracy: 0.994 - ETA: 26s - loss: 0.0169 - accuracy: 0.994 - ETA: 23s - loss: 0.0167 - accuracy: 0.994 - ETA: 21s - loss: 0.0166 - accuracy: 0.994 - ETA: 18s - loss: 0.0164 - accuracy: 0.994 - ETA: 15s - loss: 0.0162 - accuracy: 0.994 - ETA: 13s - loss: 0.0160 - accuracy: 0.994 - ETA: 10s - loss: 0.0158 - accuracy: 0.994 - ETA: 7s - loss: 0.0157 - accuracy: 0.995 - ETA: 5s - loss: 0.0160 - accuracy: 0.99 - ETA: 2s - loss: 0.0158 - accuracy: 0.99 - ETA: 0s - loss: 0.0157 - accuracy: 0.99 - 242s 3s/step - loss: 0.0157 - accuracy: 0.9948 - val_loss: 0.0132 - val_accuracy: 0.9937\n"
     ]
    },
    {
     "data": {
      "text/html": [
       "<span style=\"color:#4527A0\"><h1 style=\"font-size:18px\">Trial complete</h1></span>"
      ],
      "text/plain": [
       "<IPython.core.display.HTML object>"
      ]
     },
     "metadata": {},
     "output_type": "display_data"
    },
    {
     "data": {
      "text/html": [
       "<span style=\"color:#4527A0\"><h1 style=\"font-size:18px\">Trial summary</h1></span>"
      ],
      "text/plain": [
       "<IPython.core.display.HTML object>"
      ]
     },
     "metadata": {},
     "output_type": "display_data"
    },
    {
     "data": {
      "text/html": [
       "<span style=\"color:#7E57C2\"><h2 style=\"font-size:16px\">Hp values:</h2></span>"
      ],
      "text/plain": [
       "<IPython.core.display.HTML object>"
      ]
     },
     "metadata": {},
     "output_type": "display_data"
    },
    {
     "data": {
      "text/html": [
       "<span style=\"color:cyan\"> |-dropout_rate: 0.7</span>"
      ],
      "text/plain": [
       "<IPython.core.display.HTML object>"
      ]
     },
     "metadata": {},
     "output_type": "display_data"
    },
    {
     "data": {
      "text/html": [
       "<span style=\"color:blue\"> |-filters_1: 200</span>"
      ],
      "text/plain": [
       "<IPython.core.display.HTML object>"
      ]
     },
     "metadata": {},
     "output_type": "display_data"
    },
    {
     "data": {
      "text/html": [
       "<span style=\"color:cyan\"> |-filters_2: 50</span>"
      ],
      "text/plain": [
       "<IPython.core.display.HTML object>"
      ]
     },
     "metadata": {},
     "output_type": "display_data"
    },
    {
     "data": {
      "text/html": [
       "<span style=\"color:blue\"> |-lr: 0.01</span>"
      ],
      "text/plain": [
       "<IPython.core.display.HTML object>"
      ]
     },
     "metadata": {},
     "output_type": "display_data"
    },
    {
     "data": {
      "text/html": [
       "<span style=\"color:cyan\"> |-tuner/bracket: 3</span>"
      ],
      "text/plain": [
       "<IPython.core.display.HTML object>"
      ]
     },
     "metadata": {},
     "output_type": "display_data"
    },
    {
     "data": {
      "text/html": [
       "<span style=\"color:blue\"> |-tuner/epochs: 2</span>"
      ],
      "text/plain": [
       "<IPython.core.display.HTML object>"
      ]
     },
     "metadata": {},
     "output_type": "display_data"
    },
    {
     "data": {
      "text/html": [
       "<span style=\"color:cyan\"> |-tuner/initial_epoch: 0</span>"
      ],
      "text/plain": [
       "<IPython.core.display.HTML object>"
      ]
     },
     "metadata": {},
     "output_type": "display_data"
    },
    {
     "data": {
      "text/html": [
       "<span style=\"color:blue\"> |-tuner/round: 0</span>"
      ],
      "text/plain": [
       "<IPython.core.display.HTML object>"
      ]
     },
     "metadata": {},
     "output_type": "display_data"
    },
    {
     "data": {
      "text/html": [
       "<span style=\"color:cyan\"> |-Score: 0.9984375238418579</span>"
      ],
      "text/plain": [
       "<IPython.core.display.HTML object>"
      ]
     },
     "metadata": {},
     "output_type": "display_data"
    },
    {
     "data": {
      "text/html": [
       "<span style=\"color:cyan\"> |-Best step: 0</span>"
      ],
      "text/plain": [
       "<IPython.core.display.HTML object>"
      ]
     },
     "metadata": {},
     "output_type": "display_data"
    },
    {
     "name": "stdout",
     "output_type": "stream",
     "text": [
      "Epoch 1/2\n",
      "90/90 [==============================] - ETA: 2:17 - loss: 0.6894 - accuracy: 0.53 - ETA: 1:43 - loss: 0.6503 - accuracy: 0.54 - ETA: 1:42 - loss: 0.6437 - accuracy: 0.54 - ETA: 1:42 - loss: 0.6015 - accuracy: 0.61 - ETA: 1:41 - loss: 0.6636 - accuracy: 0.58 - ETA: 1:40 - loss: 0.6210 - accuracy: 0.63 - ETA: 1:39 - loss: 0.6004 - accuracy: 0.64 - ETA: 1:38 - loss: 0.5919 - accuracy: 0.64 - ETA: 1:37 - loss: 0.5628 - accuracy: 0.67 - ETA: 1:36 - loss: 0.5442 - accuracy: 0.69 - ETA: 1:35 - loss: 0.5259 - accuracy: 0.71 - ETA: 1:33 - loss: 0.5094 - accuracy: 0.72 - ETA: 1:32 - loss: 0.4925 - accuracy: 0.74 - ETA: 1:31 - loss: 0.4778 - accuracy: 0.75 - ETA: 1:30 - loss: 0.4662 - accuracy: 0.75 - ETA: 1:29 - loss: 0.4598 - accuracy: 0.76 - ETA: 1:28 - loss: 0.4449 - accuracy: 0.77 - ETA: 1:26 - loss: 0.4347 - accuracy: 0.77 - ETA: 1:25 - loss: 0.4263 - accuracy: 0.78 - ETA: 1:24 - loss: 0.4144 - accuracy: 0.79 - ETA: 1:23 - loss: 0.4090 - accuracy: 0.79 - ETA: 1:22 - loss: 0.3998 - accuracy: 0.79 - ETA: 1:21 - loss: 0.3955 - accuracy: 0.80 - ETA: 1:19 - loss: 0.3909 - accuracy: 0.80 - ETA: 1:18 - loss: 0.3856 - accuracy: 0.81 - ETA: 1:17 - loss: 0.3789 - accuracy: 0.81 - ETA: 1:16 - loss: 0.3723 - accuracy: 0.81 - ETA: 1:15 - loss: 0.3679 - accuracy: 0.81 - ETA: 1:14 - loss: 0.3655 - accuracy: 0.82 - ETA: 1:12 - loss: 0.3595 - accuracy: 0.82 - ETA: 1:11 - loss: 0.3526 - accuracy: 0.82 - ETA: 1:10 - loss: 0.3449 - accuracy: 0.83 - ETA: 1:09 - loss: 0.3391 - accuracy: 0.83 - ETA: 1:07 - loss: 0.3342 - accuracy: 0.84 - ETA: 1:06 - loss: 0.3268 - accuracy: 0.84 - ETA: 1:05 - loss: 0.3200 - accuracy: 0.84 - ETA: 1:04 - loss: 0.3134 - accuracy: 0.85 - ETA: 1:03 - loss: 0.3091 - accuracy: 0.85 - ETA: 1:02 - loss: 0.3033 - accuracy: 0.85 - ETA: 1:00 - loss: 0.2980 - accuracy: 0.86 - ETA: 59s - loss: 0.2932 - accuracy: 0.8643 - ETA: 58s - loss: 0.2871 - accuracy: 0.867 - ETA: 57s - loss: 0.2833 - accuracy: 0.869 - ETA: 55s - loss: 0.2781 - accuracy: 0.872 - ETA: 54s - loss: 0.2733 - accuracy: 0.875 - ETA: 53s - loss: 0.2683 - accuracy: 0.877 - ETA: 52s - loss: 0.2655 - accuracy: 0.879 - ETA: 51s - loss: 0.2616 - accuracy: 0.881 - ETA: 49s - loss: 0.2573 - accuracy: 0.883 - ETA: 48s - loss: 0.2526 - accuracy: 0.885 - ETA: 47s - loss: 0.2483 - accuracy: 0.887 - ETA: 46s - loss: 0.2445 - accuracy: 0.890 - ETA: 45s - loss: 0.2406 - accuracy: 0.892 - ETA: 43s - loss: 0.2363 - accuracy: 0.894 - ETA: 42s - loss: 0.2331 - accuracy: 0.895 - ETA: 41s - loss: 0.2300 - accuracy: 0.896 - ETA: 40s - loss: 0.2268 - accuracy: 0.898 - ETA: 39s - loss: 0.2232 - accuracy: 0.900 - ETA: 37s - loss: 0.2197 - accuracy: 0.901 - ETA: 36s - loss: 0.2162 - accuracy: 0.903 - ETA: 35s - loss: 0.2135 - accuracy: 0.904 - ETA: 34s - loss: 0.2105 - accuracy: 0.906 - ETA: 33s - loss: 0.2074 - accuracy: 0.907 - ETA: 31s - loss: 0.2046 - accuracy: 0.909 - ETA: 30s - loss: 0.2024 - accuracy: 0.910 - ETA: 29s - loss: 0.1997 - accuracy: 0.911 - ETA: 28s - loss: 0.1970 - accuracy: 0.912 - ETA: 26s - loss: 0.1942 - accuracy: 0.914 - ETA: 25s - loss: 0.1915 - accuracy: 0.915 - ETA: 24s - loss: 0.1890 - accuracy: 0.916 - ETA: 23s - loss: 0.1865 - accuracy: 0.917 - ETA: 22s - loss: 0.1841 - accuracy: 0.918 - ETA: 20s - loss: 0.1817 - accuracy: 0.919 - ETA: 19s - loss: 0.1795 - accuracy: 0.921 - ETA: 18s - loss: 0.1775 - accuracy: 0.921 - ETA: 17s - loss: 0.1754 - accuracy: 0.922 - ETA: 15s - loss: 0.1734 - accuracy: 0.923 - ETA: 14s - loss: 0.1715 - accuracy: 0.924 - ETA: 13s - loss: 0.1696 - accuracy: 0.925 - ETA: 12s - loss: 0.1677 - accuracy: 0.926 - ETA: 11s - loss: 0.1659 - accuracy: 0.926 - ETA: 9s - loss: 0.1640 - accuracy: 0.927 - ETA: 8s - loss: 0.1622 - accuracy: 0.92 - ETA: 7s - loss: 0.1605 - accuracy: 0.92 - ETA: 6s - loss: 0.1586 - accuracy: 0.93 - ETA: 4s - loss: 0.1569 - accuracy: 0.93 - ETA: 3s - loss: 0.1552 - accuracy: 0.93 - ETA: 2s - loss: 0.1543 - accuracy: 0.93 - ETA: 1s - loss: 0.1526 - accuracy: 0.93 - ETA: 0s - loss: 0.1513 - accuracy: 0.93 - 114s 1s/step - loss: 0.1513 - accuracy: 0.9337 - val_loss: 0.0161 - val_accuracy: 0.9969\n",
      "Epoch 2/2\n",
      "90/90 [==============================] - ETA: 1:47 - loss: 0.0037 - accuracy: 1.00 - ETA: 1:46 - loss: 0.0073 - accuracy: 1.00 - ETA: 1:45 - loss: 0.0059 - accuracy: 1.00 - ETA: 1:45 - loss: 0.0082 - accuracy: 0.99 - ETA: 1:43 - loss: 0.0124 - accuracy: 0.99 - ETA: 1:42 - loss: 0.0121 - accuracy: 0.99 - ETA: 1:41 - loss: 0.0111 - accuracy: 0.99 - ETA: 1:40 - loss: 0.0102 - accuracy: 0.99 - ETA: 1:39 - loss: 0.0114 - accuracy: 0.99 - ETA: 1:37 - loss: 0.0105 - accuracy: 0.99 - ETA: 1:36 - loss: 0.0108 - accuracy: 0.99 - ETA: 1:35 - loss: 0.0104 - accuracy: 0.99 - ETA: 1:33 - loss: 0.0103 - accuracy: 0.99 - ETA: 1:32 - loss: 0.0104 - accuracy: 0.99 - ETA: 1:31 - loss: 0.0099 - accuracy: 0.99 - ETA: 1:30 - loss: 0.0120 - accuracy: 0.99 - ETA: 1:28 - loss: 0.0116 - accuracy: 0.99 - ETA: 1:27 - loss: 0.0120 - accuracy: 0.99 - ETA: 1:26 - loss: 0.0119 - accuracy: 0.99 - ETA: 1:25 - loss: 0.0125 - accuracy: 0.99 - ETA: 1:25 - loss: 0.0123 - accuracy: 0.99 - ETA: 1:24 - loss: 0.0119 - accuracy: 0.99 - ETA: 1:23 - loss: 0.0117 - accuracy: 0.99 - ETA: 1:22 - loss: 0.0118 - accuracy: 0.99 - ETA: 1:21 - loss: 0.0116 - accuracy: 0.99 - ETA: 1:20 - loss: 0.0128 - accuracy: 0.99 - ETA: 1:19 - loss: 0.0134 - accuracy: 0.99 - ETA: 1:17 - loss: 0.0136 - accuracy: 0.99 - ETA: 1:16 - loss: 0.0132 - accuracy: 0.99 - ETA: 1:15 - loss: 0.0130 - accuracy: 0.99 - ETA: 1:14 - loss: 0.0138 - accuracy: 0.99 - ETA: 1:12 - loss: 0.0137 - accuracy: 0.99 - ETA: 1:11 - loss: 0.0136 - accuracy: 0.99 - ETA: 1:10 - loss: 0.0135 - accuracy: 0.99 - ETA: 1:09 - loss: 0.0134 - accuracy: 0.99 - ETA: 1:07 - loss: 0.0131 - accuracy: 0.99 - ETA: 1:06 - loss: 0.0128 - accuracy: 0.99 - ETA: 1:05 - loss: 0.0149 - accuracy: 0.99 - ETA: 1:03 - loss: 0.0146 - accuracy: 0.99 - ETA: 1:02 - loss: 0.0145 - accuracy: 0.99 - ETA: 1:01 - loss: 0.0142 - accuracy: 0.99 - ETA: 59s - loss: 0.0145 - accuracy: 0.9959 - ETA: 58s - loss: 0.0146 - accuracy: 0.995 - ETA: 57s - loss: 0.0146 - accuracy: 0.995 - ETA: 56s - loss: 0.0144 - accuracy: 0.995 - ETA: 54s - loss: 0.0143 - accuracy: 0.995 - ETA: 53s - loss: 0.0141 - accuracy: 0.996 - ETA: 52s - loss: 0.0142 - accuracy: 0.995 - ETA: 51s - loss: 0.0143 - accuracy: 0.995 - ETA: 49s - loss: 0.0142 - accuracy: 0.995 - ETA: 48s - loss: 0.0141 - accuracy: 0.995 - ETA: 47s - loss: 0.0139 - accuracy: 0.995 - ETA: 45s - loss: 0.0137 - accuracy: 0.995 - ETA: 44s - loss: 0.0135 - accuracy: 0.995 - ETA: 43s - loss: 0.0134 - accuracy: 0.996 - ETA: 42s - loss: 0.0132 - accuracy: 0.996 - ETA: 40s - loss: 0.0132 - accuracy: 0.995 - ETA: 39s - loss: 0.0130 - accuracy: 0.996 - ETA: 38s - loss: 0.0128 - accuracy: 0.996 - ETA: 37s - loss: 0.0127 - accuracy: 0.996 - ETA: 35s - loss: 0.0125 - accuracy: 0.996 - ETA: 34s - loss: 0.0125 - accuracy: 0.996 - ETA: 33s - loss: 0.0132 - accuracy: 0.995 - ETA: 32s - loss: 0.0131 - accuracy: 0.995 - ETA: 30s - loss: 0.0129 - accuracy: 0.995 - ETA: 29s - loss: 0.0128 - accuracy: 0.996 - ETA: 28s - loss: 0.0130 - accuracy: 0.995 - ETA: 27s - loss: 0.0134 - accuracy: 0.995 - ETA: 25s - loss: 0.0141 - accuracy: 0.995 - ETA: 24s - loss: 0.0139 - accuracy: 0.995 - ETA: 23s - loss: 0.0137 - accuracy: 0.995 - ETA: 22s - loss: 0.0140 - accuracy: 0.995 - ETA: 20s - loss: 0.0142 - accuracy: 0.995 - ETA: 19s - loss: 0.0141 - accuracy: 0.995 - ETA: 18s - loss: 0.0159 - accuracy: 0.994 - ETA: 17s - loss: 0.0164 - accuracy: 0.994 - ETA: 16s - loss: 0.0162 - accuracy: 0.994 - ETA: 14s - loss: 0.0162 - accuracy: 0.994 - ETA: 13s - loss: 0.0162 - accuracy: 0.994 - ETA: 12s - loss: 0.0168 - accuracy: 0.994 - ETA: 11s - loss: 0.0174 - accuracy: 0.994 - ETA: 9s - loss: 0.0175 - accuracy: 0.993 - ETA: 8s - loss: 0.0176 - accuracy: 0.99 - ETA: 7s - loss: 0.0176 - accuracy: 0.99 - ETA: 6s - loss: 0.0193 - accuracy: 0.99 - ETA: 4s - loss: 0.0196 - accuracy: 0.99 - ETA: 3s - loss: 0.0197 - accuracy: 0.99 - ETA: 2s - loss: 0.0197 - accuracy: 0.99 - ETA: 1s - loss: 0.0195 - accuracy: 0.99 - ETA: 0s - loss: 0.0193 - accuracy: 0.99 - 115s 1s/step - loss: 0.0193 - accuracy: 0.9927 - val_loss: 0.0126 - val_accuracy: 0.9969\n"
     ]
    },
    {
     "data": {
      "text/html": [
       "<span style=\"color:#4527A0\"><h1 style=\"font-size:18px\">Trial complete</h1></span>"
      ],
      "text/plain": [
       "<IPython.core.display.HTML object>"
      ]
     },
     "metadata": {},
     "output_type": "display_data"
    },
    {
     "data": {
      "text/html": [
       "<span style=\"color:#4527A0\"><h1 style=\"font-size:18px\">Trial summary</h1></span>"
      ],
      "text/plain": [
       "<IPython.core.display.HTML object>"
      ]
     },
     "metadata": {},
     "output_type": "display_data"
    },
    {
     "data": {
      "text/html": [
       "<span style=\"color:#7E57C2\"><h2 style=\"font-size:16px\">Hp values:</h2></span>"
      ],
      "text/plain": [
       "<IPython.core.display.HTML object>"
      ]
     },
     "metadata": {},
     "output_type": "display_data"
    },
    {
     "data": {
      "text/html": [
       "<span style=\"color:cyan\"> |-dropout_rate: 0.5</span>"
      ],
      "text/plain": [
       "<IPython.core.display.HTML object>"
      ]
     },
     "metadata": {},
     "output_type": "display_data"
    },
    {
     "data": {
      "text/html": [
       "<span style=\"color:blue\"> |-filters_1: 100</span>"
      ],
      "text/plain": [
       "<IPython.core.display.HTML object>"
      ]
     },
     "metadata": {},
     "output_type": "display_data"
    },
    {
     "data": {
      "text/html": [
       "<span style=\"color:cyan\"> |-filters_2: 25</span>"
      ],
      "text/plain": [
       "<IPython.core.display.HTML object>"
      ]
     },
     "metadata": {},
     "output_type": "display_data"
    },
    {
     "data": {
      "text/html": [
       "<span style=\"color:blue\"> |-lr: 0.001</span>"
      ],
      "text/plain": [
       "<IPython.core.display.HTML object>"
      ]
     },
     "metadata": {},
     "output_type": "display_data"
    },
    {
     "data": {
      "text/html": [
       "<span style=\"color:cyan\"> |-tuner/bracket: 3</span>"
      ],
      "text/plain": [
       "<IPython.core.display.HTML object>"
      ]
     },
     "metadata": {},
     "output_type": "display_data"
    },
    {
     "data": {
      "text/html": [
       "<span style=\"color:blue\"> |-tuner/epochs: 2</span>"
      ],
      "text/plain": [
       "<IPython.core.display.HTML object>"
      ]
     },
     "metadata": {},
     "output_type": "display_data"
    },
    {
     "data": {
      "text/html": [
       "<span style=\"color:cyan\"> |-tuner/initial_epoch: 0</span>"
      ],
      "text/plain": [
       "<IPython.core.display.HTML object>"
      ]
     },
     "metadata": {},
     "output_type": "display_data"
    },
    {
     "data": {
      "text/html": [
       "<span style=\"color:blue\"> |-tuner/round: 0</span>"
      ],
      "text/plain": [
       "<IPython.core.display.HTML object>"
      ]
     },
     "metadata": {},
     "output_type": "display_data"
    },
    {
     "data": {
      "text/html": [
       "<span style=\"color:cyan\"> |-Score: 0.996874988079071</span>"
      ],
      "text/plain": [
       "<IPython.core.display.HTML object>"
      ]
     },
     "metadata": {},
     "output_type": "display_data"
    },
    {
     "data": {
      "text/html": [
       "<span style=\"color:cyan\"> |-Best step: 0</span>"
      ],
      "text/plain": [
       "<IPython.core.display.HTML object>"
      ]
     },
     "metadata": {},
     "output_type": "display_data"
    },
    {
     "name": "stdout",
     "output_type": "stream",
     "text": [
      "INFO:tensorflow:Oracle triggered exit\n"
     ]
    }
   ],
   "source": [
    "tuner.search(x=x_train,\n",
    "             y=y_train,\n",
    "             epochs=30,\n",
    "             batch_size=64,\n",
    "             use_multiprocessing=True,\n",
    "             validation_data=(x_val, y_val),\n",
    "             callbacks=[early_stop])"
   ]
  },
  {
   "cell_type": "code",
   "execution_count": 68,
   "metadata": {},
   "outputs": [
    {
     "name": "stdout",
     "output_type": "stream",
     "text": [
      "Hyperparameter for Convolutional layer 1: 200\n",
      "Hyperparameter for Convolutional layer 2: 50\n",
      "Hyperparameter for Dropout rate: 0.7\n",
      "Hyperparameter for learning rate: 0.001\n"
     ]
    }
   ],
   "source": [
    "# Get the optimal hyperparameters\n",
    "best_hps=tuner.get_best_hyperparameters(num_trials=1)[0]\n",
    "\n",
    "print(\"Hyperparameter for Convolutional layer 1:\", best_hps.get('filters_1'))\n",
    "print(\"Hyperparameter for Convolutional layer 2:\", best_hps.get('filters_2'))\n",
    "print(\"Hyperparameter for Dropout rate:\", best_hps.get('dropout_rate'))\n",
    "print(\"Hyperparameter for learning rate:\", best_hps.get('lr'))"
   ]
  },
  {
   "cell_type": "code",
   "execution_count": 70,
   "metadata": {},
   "outputs": [
    {
     "name": "stdout",
     "output_type": "stream",
     "text": [
      "Epoch 1/10\n",
      "180/180 [==============================] - ETA: 4:11 - loss: 0.7188 - accuracy: 0.40 - ETA: 3:30 - loss: 0.6747 - accuracy: 0.51 - ETA: 3:31 - loss: 0.6570 - accuracy: 0.54 - ETA: 3:30 - loss: 0.6377 - accuracy: 0.57 - ETA: 3:30 - loss: 0.6202 - accuracy: 0.62 - ETA: 3:30 - loss: 0.5902 - accuracy: 0.67 - ETA: 3:30 - loss: 0.5930 - accuracy: 0.65 - ETA: 3:30 - loss: 0.5635 - accuracy: 0.68 - ETA: 3:30 - loss: 0.5599 - accuracy: 0.68 - ETA: 3:30 - loss: 0.5329 - accuracy: 0.71 - ETA: 3:30 - loss: 0.5030 - accuracy: 0.73 - ETA: 3:28 - loss: 0.4788 - accuracy: 0.75 - ETA: 3:28 - loss: 0.4571 - accuracy: 0.76 - ETA: 3:27 - loss: 0.4417 - accuracy: 0.77 - ETA: 3:26 - loss: 0.4260 - accuracy: 0.78 - ETA: 3:26 - loss: 0.4168 - accuracy: 0.79 - ETA: 3:25 - loss: 0.3946 - accuracy: 0.80 - ETA: 3:24 - loss: 0.3862 - accuracy: 0.80 - ETA: 3:23 - loss: 0.3761 - accuracy: 0.81 - ETA: 3:22 - loss: 0.3634 - accuracy: 0.82 - ETA: 3:22 - loss: 0.3552 - accuracy: 0.82 - ETA: 3:21 - loss: 0.3481 - accuracy: 0.83 - ETA: 3:20 - loss: 0.3397 - accuracy: 0.83 - ETA: 3:19 - loss: 0.3336 - accuracy: 0.84 - ETA: 3:17 - loss: 0.3287 - accuracy: 0.84 - ETA: 3:16 - loss: 0.3174 - accuracy: 0.84 - ETA: 3:15 - loss: 0.3119 - accuracy: 0.85 - ETA: 3:14 - loss: 0.3037 - accuracy: 0.85 - ETA: 3:13 - loss: 0.2949 - accuracy: 0.85 - ETA: 3:12 - loss: 0.2856 - accuracy: 0.86 - ETA: 3:11 - loss: 0.2788 - accuracy: 0.86 - ETA: 3:10 - loss: 0.2712 - accuracy: 0.87 - ETA: 3:09 - loss: 0.2656 - accuracy: 0.87 - ETA: 3:08 - loss: 0.2591 - accuracy: 0.87 - ETA: 3:07 - loss: 0.2525 - accuracy: 0.88 - ETA: 3:06 - loss: 0.2489 - accuracy: 0.88 - ETA: 3:05 - loss: 0.2431 - accuracy: 0.88 - ETA: 3:04 - loss: 0.2383 - accuracy: 0.88 - ETA: 3:02 - loss: 0.2331 - accuracy: 0.89 - ETA: 3:01 - loss: 0.2277 - accuracy: 0.89 - ETA: 3:00 - loss: 0.2231 - accuracy: 0.89 - ETA: 2:59 - loss: 0.2193 - accuracy: 0.89 - ETA: 2:58 - loss: 0.2147 - accuracy: 0.90 - ETA: 2:56 - loss: 0.2106 - accuracy: 0.90 - ETA: 2:55 - loss: 0.2067 - accuracy: 0.90 - ETA: 2:54 - loss: 0.2026 - accuracy: 0.90 - ETA: 2:53 - loss: 0.1990 - accuracy: 0.90 - ETA: 2:52 - loss: 0.1967 - accuracy: 0.91 - ETA: 2:50 - loss: 0.1932 - accuracy: 0.91 - ETA: 2:49 - loss: 0.1903 - accuracy: 0.91 - ETA: 2:48 - loss: 0.1866 - accuracy: 0.91 - ETA: 2:47 - loss: 0.1840 - accuracy: 0.91 - ETA: 2:45 - loss: 0.1806 - accuracy: 0.91 - ETA: 2:44 - loss: 0.1776 - accuracy: 0.92 - ETA: 2:43 - loss: 0.1753 - accuracy: 0.92 - ETA: 2:42 - loss: 0.1735 - accuracy: 0.92 - ETA: 2:41 - loss: 0.1705 - accuracy: 0.92 - ETA: 2:39 - loss: 0.1680 - accuracy: 0.92 - ETA: 2:38 - loss: 0.1654 - accuracy: 0.92 - ETA: 2:37 - loss: 0.1627 - accuracy: 0.92 - ETA: 2:36 - loss: 0.1605 - accuracy: 0.92 - ETA: 2:34 - loss: 0.1582 - accuracy: 0.92 - ETA: 2:33 - loss: 0.1564 - accuracy: 0.93 - ETA: 2:32 - loss: 0.1540 - accuracy: 0.93 - ETA: 2:31 - loss: 0.1521 - accuracy: 0.93 - ETA: 2:29 - loss: 0.1524 - accuracy: 0.93 - ETA: 2:28 - loss: 0.1502 - accuracy: 0.93 - ETA: 2:27 - loss: 0.1494 - accuracy: 0.93 - ETA: 2:25 - loss: 0.1472 - accuracy: 0.93 - ETA: 2:24 - loss: 0.1451 - accuracy: 0.93 - ETA: 2:23 - loss: 0.1432 - accuracy: 0.93 - ETA: 2:22 - loss: 0.1415 - accuracy: 0.93 - ETA: 2:20 - loss: 0.1398 - accuracy: 0.93 - ETA: 2:19 - loss: 0.1380 - accuracy: 0.93 - ETA: 2:18 - loss: 0.1373 - accuracy: 0.93 - ETA: 2:17 - loss: 0.1357 - accuracy: 0.93 - ETA: 2:15 - loss: 0.1340 - accuracy: 0.94 - ETA: 2:14 - loss: 0.1324 - accuracy: 0.94 - ETA: 2:13 - loss: 0.1308 - accuracy: 0.94 - ETA: 2:11 - loss: 0.1292 - accuracy: 0.94 - ETA: 2:10 - loss: 0.1277 - accuracy: 0.94 - ETA: 2:09 - loss: 0.1262 - accuracy: 0.94 - ETA: 2:07 - loss: 0.1248 - accuracy: 0.94 - ETA: 2:06 - loss: 0.1236 - accuracy: 0.94 - ETA: 2:05 - loss: 0.1222 - accuracy: 0.94 - ETA: 2:04 - loss: 0.1209 - accuracy: 0.94 - ETA: 2:02 - loss: 0.1196 - accuracy: 0.94 - ETA: 2:01 - loss: 0.1182 - accuracy: 0.94 - ETA: 2:00 - loss: 0.1170 - accuracy: 0.94 - ETA: 1:58 - loss: 0.1164 - accuracy: 0.94 - ETA: 1:57 - loss: 0.1153 - accuracy: 0.94 - ETA: 1:56 - loss: 0.1142 - accuracy: 0.95 - ETA: 1:54 - loss: 0.1130 - accuracy: 0.95 - ETA: 1:53 - loss: 0.1130 - accuracy: 0.95 - ETA: 1:52 - loss: 0.1119 - accuracy: 0.95 - ETA: 1:51 - loss: 0.1108 - accuracy: 0.95 - ETA: 1:49 - loss: 0.1097 - accuracy: 0.95 - ETA: 1:48 - loss: 0.1087 - accuracy: 0.95 - ETA: 1:47 - loss: 0.1079 - accuracy: 0.95 - ETA: 1:45 - loss: 0.1068 - accuracy: 0.95 - ETA: 1:44 - loss: 0.1059 - accuracy: 0.95 - ETA: 1:43 - loss: 0.1049 - accuracy: 0.95 - ETA: 1:41 - loss: 0.1039 - accuracy: 0.95 - ETA: 1:40 - loss: 0.1033 - accuracy: 0.95 - ETA: 1:39 - loss: 0.1024 - accuracy: 0.95 - ETA: 1:38 - loss: 0.1015 - accuracy: 0.95 - ETA: 1:36 - loss: 0.1005 - accuracy: 0.95 - ETA: 1:35 - loss: 0.0997 - accuracy: 0.95 - ETA: 1:34 - loss: 0.1002 - accuracy: 0.95 - ETA: 1:32 - loss: 0.0994 - accuracy: 0.95 - ETA: 1:31 - loss: 0.0986 - accuracy: 0.95 - ETA: 1:30 - loss: 0.0977 - accuracy: 0.95 - ETA: 1:28 - loss: 0.0972 - accuracy: 0.95 - ETA: 1:27 - loss: 0.0963 - accuracy: 0.95 - ETA: 1:26 - loss: 0.0955 - accuracy: 0.95 - ETA: 1:24 - loss: 0.0948 - accuracy: 0.95 - ETA: 1:23 - loss: 0.0940 - accuracy: 0.95 - ETA: 1:22 - loss: 0.0933 - accuracy: 0.96 - ETA: 1:21 - loss: 0.0926 - accuracy: 0.96 - ETA: 1:19 - loss: 0.0919 - accuracy: 0.96 - ETA: 1:18 - loss: 0.0912 - accuracy: 0.96 - ETA: 1:17 - loss: 0.0906 - accuracy: 0.96 - ETA: 1:15 - loss: 0.0898 - accuracy: 0.96 - ETA: 1:14 - loss: 0.0895 - accuracy: 0.96 - ETA: 1:13 - loss: 0.0891 - accuracy: 0.96 - ETA: 1:11 - loss: 0.0885 - accuracy: 0.96 - ETA: 1:10 - loss: 0.0878 - accuracy: 0.96 - ETA: 1:09 - loss: 0.0872 - accuracy: 0.96 - ETA: 1:07 - loss: 0.0868 - accuracy: 0.96 - ETA: 1:06 - loss: 0.0868 - accuracy: 0.96 - ETA: 1:05 - loss: 0.0862 - accuracy: 0.96 - ETA: 1:03 - loss: 0.0856 - accuracy: 0.96 - ETA: 1:02 - loss: 0.0849 - accuracy: 0.96 - ETA: 1:01 - loss: 0.0847 - accuracy: 0.96 - ETA: 1:00 - loss: 0.0850 - accuracy: 0.96 - ETA: 58s - loss: 0.0845 - accuracy: 0.9639 - ETA: 57s - loss: 0.0839 - accuracy: 0.964 - ETA: 56s - loss: 0.0834 - accuracy: 0.964 - ETA: 54s - loss: 0.0828 - accuracy: 0.964 - ETA: 53s - loss: 0.0825 - accuracy: 0.964 - ETA: 52s - loss: 0.0821 - accuracy: 0.965 - ETA: 50s - loss: 0.0815 - accuracy: 0.965 - ETA: 49s - loss: 0.0810 - accuracy: 0.965 - ETA: 48s - loss: 0.0804 - accuracy: 0.965 - ETA: 46s - loss: 0.0799 - accuracy: 0.965 - ETA: 45s - loss: 0.0794 - accuracy: 0.966 - ETA: 44s - loss: 0.0790 - accuracy: 0.966 - ETA: 42s - loss: 0.0786 - accuracy: 0.966 - ETA: 41s - loss: 0.0781 - accuracy: 0.966 - ETA: 40s - loss: 0.0780 - accuracy: 0.966 - ETA: 38s - loss: 0.0782 - accuracy: 0.966 - ETA: 37s - loss: 0.0777 - accuracy: 0.966 - ETA: 36s - loss: 0.0773 - accuracy: 0.967 - ETA: 34s - loss: 0.0768 - accuracy: 0.967 - ETA: 33s - loss: 0.0764 - accuracy: 0.967 - ETA: 32s - loss: 0.0759 - accuracy: 0.967 - ETA: 30s - loss: 0.0756 - accuracy: 0.968 - ETA: 29s - loss: 0.0751 - accuracy: 0.968 - ETA: 28s - loss: 0.0746 - accuracy: 0.968 - ETA: 26s - loss: 0.0742 - accuracy: 0.968 - ETA: 25s - loss: 0.0738 - accuracy: 0.968 - ETA: 24s - loss: 0.0734 - accuracy: 0.968 - ETA: 22s - loss: 0.0730 - accuracy: 0.969 - ETA: 21s - loss: 0.0725 - accuracy: 0.969 - ETA: 20s - loss: 0.0721 - accuracy: 0.969 - ETA: 18s - loss: 0.0717 - accuracy: 0.969 - ETA: 17s - loss: 0.0713 - accuracy: 0.969 - ETA: 16s - loss: 0.0710 - accuracy: 0.970 - ETA: 14s - loss: 0.0706 - accuracy: 0.970 - ETA: 13s - loss: 0.0702 - accuracy: 0.970 - ETA: 12s - loss: 0.0698 - accuracy: 0.970 - ETA: 10s - loss: 0.0694 - accuracy: 0.970 - ETA: 9s - loss: 0.0692 - accuracy: 0.970 - ETA: 8s - loss: 0.0689 - accuracy: 0.97 - ETA: 6s - loss: 0.0686 - accuracy: 0.97 - ETA: 5s - loss: 0.0685 - accuracy: 0.97 - ETA: 4s - loss: 0.0682 - accuracy: 0.97 - ETA: 2s - loss: 0.0678 - accuracy: 0.97 - ETA: 1s - loss: 0.0676 - accuracy: 0.97 - ETA: 0s - loss: 0.0672 - accuracy: 0.97 - 248s 1s/step - loss: 0.0672 - accuracy: 0.9719 - val_loss: 0.0097 - val_accuracy: 0.9969\n",
      "Epoch 2/10\n"
     ]
    },
    {
     "name": "stdout",
     "output_type": "stream",
     "text": [
      "180/180 [==============================] - ETA: 3:54 - loss: 0.0021 - accuracy: 1.00 - ETA: 3:50 - loss: 0.0020 - accuracy: 1.00 - ETA: 3:52 - loss: 0.0019 - accuracy: 1.00 - ETA: 3:51 - loss: 0.0137 - accuracy: 0.98 - ETA: 3:50 - loss: 0.0110 - accuracy: 0.98 - ETA: 3:48 - loss: 0.0106 - accuracy: 0.98 - ETA: 3:48 - loss: 0.0092 - accuracy: 0.99 - ETA: 3:47 - loss: 0.0081 - accuracy: 0.99 - ETA: 3:46 - loss: 0.0077 - accuracy: 0.99 - ETA: 3:45 - loss: 0.0086 - accuracy: 0.99 - ETA: 3:43 - loss: 0.0101 - accuracy: 0.99 - ETA: 3:42 - loss: 0.0129 - accuracy: 0.99 - ETA: 3:41 - loss: 0.0120 - accuracy: 0.99 - ETA: 3:40 - loss: 0.0112 - accuracy: 0.99 - ETA: 3:39 - loss: 0.0105 - accuracy: 0.99 - ETA: 3:38 - loss: 0.0100 - accuracy: 0.99 - ETA: 3:36 - loss: 0.0096 - accuracy: 0.99 - ETA: 3:35 - loss: 0.0098 - accuracy: 0.99 - ETA: 3:34 - loss: 0.0098 - accuracy: 0.99 - ETA: 3:32 - loss: 0.0139 - accuracy: 0.99 - ETA: 3:31 - loss: 0.0136 - accuracy: 0.99 - ETA: 3:30 - loss: 0.0134 - accuracy: 0.99 - ETA: 3:28 - loss: 0.0129 - accuracy: 0.99 - ETA: 3:27 - loss: 0.0124 - accuracy: 0.99 - ETA: 3:26 - loss: 0.0125 - accuracy: 0.99 - ETA: 3:24 - loss: 0.0125 - accuracy: 0.99 - ETA: 3:23 - loss: 0.0137 - accuracy: 0.99 - ETA: 3:22 - loss: 0.0135 - accuracy: 0.99 - ETA: 3:21 - loss: 0.0131 - accuracy: 0.99 - ETA: 3:20 - loss: 0.0128 - accuracy: 0.99 - ETA: 3:18 - loss: 0.0124 - accuracy: 0.99 - ETA: 3:17 - loss: 0.0120 - accuracy: 0.99 - ETA: 3:16 - loss: 0.0117 - accuracy: 0.99 - ETA: 3:14 - loss: 0.0114 - accuracy: 0.99 - ETA: 3:13 - loss: 0.0116 - accuracy: 0.99 - ETA: 3:12 - loss: 0.0128 - accuracy: 0.99 - ETA: 3:11 - loss: 0.0128 - accuracy: 0.99 - ETA: 3:09 - loss: 0.0125 - accuracy: 0.99 - ETA: 3:08 - loss: 0.0122 - accuracy: 0.99 - ETA: 3:07 - loss: 0.0119 - accuracy: 0.99 - ETA: 3:05 - loss: 0.0116 - accuracy: 0.99 - ETA: 3:04 - loss: 0.0124 - accuracy: 0.99 - ETA: 3:03 - loss: 0.0122 - accuracy: 0.99 - ETA: 3:01 - loss: 0.0120 - accuracy: 0.99 - ETA: 3:00 - loss: 0.0117 - accuracy: 0.99 - ETA: 2:59 - loss: 0.0115 - accuracy: 0.99 - ETA: 2:57 - loss: 0.0113 - accuracy: 0.99 - ETA: 2:56 - loss: 0.0111 - accuracy: 0.99 - ETA: 2:55 - loss: 0.0109 - accuracy: 0.99 - ETA: 2:53 - loss: 0.0120 - accuracy: 0.99 - ETA: 2:52 - loss: 0.0118 - accuracy: 0.99 - ETA: 2:50 - loss: 0.0116 - accuracy: 0.99 - ETA: 2:49 - loss: 0.0114 - accuracy: 0.99 - ETA: 2:48 - loss: 0.0113 - accuracy: 0.99 - ETA: 2:47 - loss: 0.0111 - accuracy: 0.99 - ETA: 2:45 - loss: 0.0117 - accuracy: 0.99 - ETA: 2:44 - loss: 0.0115 - accuracy: 0.99 - ETA: 2:43 - loss: 0.0113 - accuracy: 0.99 - ETA: 2:41 - loss: 0.0112 - accuracy: 0.99 - ETA: 2:40 - loss: 0.0111 - accuracy: 0.99 - ETA: 2:38 - loss: 0.0109 - accuracy: 0.99 - ETA: 2:37 - loss: 0.0109 - accuracy: 0.99 - ETA: 2:36 - loss: 0.0107 - accuracy: 0.99 - ETA: 2:34 - loss: 0.0106 - accuracy: 0.99 - ETA: 2:33 - loss: 0.0105 - accuracy: 0.99 - ETA: 2:32 - loss: 0.0113 - accuracy: 0.99 - ETA: 2:30 - loss: 0.0113 - accuracy: 0.99 - ETA: 2:29 - loss: 0.0111 - accuracy: 0.99 - ETA: 2:28 - loss: 0.0110 - accuracy: 0.99 - ETA: 2:26 - loss: 0.0109 - accuracy: 0.99 - ETA: 2:25 - loss: 0.0107 - accuracy: 0.99 - ETA: 2:24 - loss: 0.0106 - accuracy: 0.99 - ETA: 2:22 - loss: 0.0110 - accuracy: 0.99 - ETA: 2:21 - loss: 0.0117 - accuracy: 0.99 - ETA: 2:20 - loss: 0.0116 - accuracy: 0.99 - ETA: 2:18 - loss: 0.0114 - accuracy: 0.99 - ETA: 2:17 - loss: 0.0114 - accuracy: 0.99 - ETA: 2:16 - loss: 0.0113 - accuracy: 0.99 - ETA: 2:14 - loss: 0.0118 - accuracy: 0.99 - ETA: 2:13 - loss: 0.0117 - accuracy: 0.99 - ETA: 2:11 - loss: 0.0116 - accuracy: 0.99 - ETA: 2:10 - loss: 0.0114 - accuracy: 0.99 - ETA: 2:09 - loss: 0.0113 - accuracy: 0.99 - ETA: 2:07 - loss: 0.0112 - accuracy: 0.99 - ETA: 2:06 - loss: 0.0111 - accuracy: 0.99 - ETA: 2:05 - loss: 0.0109 - accuracy: 0.99 - ETA: 2:03 - loss: 0.0108 - accuracy: 0.99 - ETA: 2:02 - loss: 0.0108 - accuracy: 0.99 - ETA: 2:01 - loss: 0.0107 - accuracy: 0.99 - ETA: 1:59 - loss: 0.0107 - accuracy: 0.99 - ETA: 1:58 - loss: 0.0108 - accuracy: 0.99 - ETA: 1:57 - loss: 0.0106 - accuracy: 0.99 - ETA: 1:55 - loss: 0.0105 - accuracy: 0.99 - ETA: 1:54 - loss: 0.0104 - accuracy: 0.99 - ETA: 1:53 - loss: 0.0103 - accuracy: 0.99 - ETA: 1:51 - loss: 0.0102 - accuracy: 0.99 - ETA: 1:50 - loss: 0.0102 - accuracy: 0.99 - ETA: 1:49 - loss: 0.0101 - accuracy: 0.99 - ETA: 1:47 - loss: 0.0107 - accuracy: 0.99 - ETA: 1:46 - loss: 0.0106 - accuracy: 0.99 - ETA: 1:45 - loss: 0.0105 - accuracy: 0.99 - ETA: 1:43 - loss: 0.0104 - accuracy: 0.99 - ETA: 1:42 - loss: 0.0103 - accuracy: 0.99 - ETA: 1:41 - loss: 0.0102 - accuracy: 0.99 - ETA: 1:39 - loss: 0.0102 - accuracy: 0.99 - ETA: 1:38 - loss: 0.0101 - accuracy: 0.99 - ETA: 1:37 - loss: 0.0100 - accuracy: 0.99 - ETA: 1:35 - loss: 0.0100 - accuracy: 0.99 - ETA: 1:34 - loss: 0.0105 - accuracy: 0.99 - ETA: 1:33 - loss: 0.0104 - accuracy: 0.99 - ETA: 1:31 - loss: 0.0103 - accuracy: 0.99 - ETA: 1:30 - loss: 0.0102 - accuracy: 0.99 - ETA: 1:29 - loss: 0.0101 - accuracy: 0.99 - ETA: 1:27 - loss: 0.0101 - accuracy: 0.99 - ETA: 1:26 - loss: 0.0100 - accuracy: 0.99 - ETA: 1:25 - loss: 0.0099 - accuracy: 0.99 - ETA: 1:23 - loss: 0.0098 - accuracy: 0.99 - ETA: 1:22 - loss: 0.0098 - accuracy: 0.99 - ETA: 1:21 - loss: 0.0097 - accuracy: 0.99 - ETA: 1:19 - loss: 0.0097 - accuracy: 0.99 - ETA: 1:18 - loss: 0.0096 - accuracy: 0.99 - ETA: 1:17 - loss: 0.0096 - accuracy: 0.99 - ETA: 1:15 - loss: 0.0096 - accuracy: 0.99 - ETA: 1:14 - loss: 0.0096 - accuracy: 0.99 - ETA: 1:13 - loss: 0.0098 - accuracy: 0.99 - ETA: 1:11 - loss: 0.0097 - accuracy: 0.99 - ETA: 1:10 - loss: 0.0096 - accuracy: 0.99 - ETA: 1:09 - loss: 0.0101 - accuracy: 0.99 - ETA: 1:07 - loss: 0.0100 - accuracy: 0.99 - ETA: 1:06 - loss: 0.0099 - accuracy: 0.99 - ETA: 1:05 - loss: 0.0098 - accuracy: 0.99 - ETA: 1:03 - loss: 0.0098 - accuracy: 0.99 - ETA: 1:02 - loss: 0.0097 - accuracy: 0.99 - ETA: 1:01 - loss: 0.0096 - accuracy: 0.99 - ETA: 59s - loss: 0.0096 - accuracy: 0.9965 - ETA: 58s - loss: 0.0095 - accuracy: 0.996 - ETA: 57s - loss: 0.0094 - accuracy: 0.996 - ETA: 55s - loss: 0.0094 - accuracy: 0.996 - ETA: 54s - loss: 0.0093 - accuracy: 0.996 - ETA: 53s - loss: 0.0093 - accuracy: 0.996 - ETA: 51s - loss: 0.0092 - accuracy: 0.996 - ETA: 50s - loss: 0.0092 - accuracy: 0.996 - ETA: 49s - loss: 0.0091 - accuracy: 0.996 - ETA: 47s - loss: 0.0091 - accuracy: 0.996 - ETA: 46s - loss: 0.0090 - accuracy: 0.996 - ETA: 45s - loss: 0.0089 - accuracy: 0.996 - ETA: 43s - loss: 0.0089 - accuracy: 0.996 - ETA: 42s - loss: 0.0088 - accuracy: 0.996 - ETA: 41s - loss: 0.0088 - accuracy: 0.996 - ETA: 39s - loss: 0.0087 - accuracy: 0.996 - ETA: 38s - loss: 0.0087 - accuracy: 0.996 - ETA: 37s - loss: 0.0086 - accuracy: 0.996 - ETA: 35s - loss: 0.0086 - accuracy: 0.996 - ETA: 34s - loss: 0.0085 - accuracy: 0.997 - ETA: 33s - loss: 0.0085 - accuracy: 0.997 - ETA: 31s - loss: 0.0084 - accuracy: 0.997 - ETA: 30s - loss: 0.0084 - accuracy: 0.997 - ETA: 29s - loss: 0.0083 - accuracy: 0.997 - ETA: 27s - loss: 0.0083 - accuracy: 0.997 - ETA: 26s - loss: 0.0082 - accuracy: 0.997 - ETA: 25s - loss: 0.0082 - accuracy: 0.997 - ETA: 23s - loss: 0.0082 - accuracy: 0.997 - ETA: 22s - loss: 0.0082 - accuracy: 0.997 - ETA: 21s - loss: 0.0081 - accuracy: 0.997 - ETA: 19s - loss: 0.0081 - accuracy: 0.997 - ETA: 18s - loss: 0.0081 - accuracy: 0.997 - ETA: 17s - loss: 0.0080 - accuracy: 0.997 - ETA: 15s - loss: 0.0080 - accuracy: 0.997 - ETA: 14s - loss: 0.0087 - accuracy: 0.997 - ETA: 13s - loss: 0.0090 - accuracy: 0.996 - ETA: 11s - loss: 0.0089 - accuracy: 0.996 - ETA: 10s - loss: 0.0091 - accuracy: 0.996 - ETA: 9s - loss: 0.0090 - accuracy: 0.996 - ETA: 7s - loss: 0.0090 - accuracy: 0.99 - ETA: 6s - loss: 0.0097 - accuracy: 0.99 - ETA: 5s - loss: 0.0097 - accuracy: 0.99 - ETA: 3s - loss: 0.0097 - accuracy: 0.99 - ETA: 2s - loss: 0.0097 - accuracy: 0.99 - ETA: 1s - loss: 0.0098 - accuracy: 0.99 - ETA: 0s - loss: 0.0100 - accuracy: 0.99 - 248s 1s/step - loss: 0.0100 - accuracy: 0.9962 - val_loss: 0.0463 - val_accuracy: 0.9797\n",
      "Epoch 3/10\n"
     ]
    },
    {
     "name": "stdout",
     "output_type": "stream",
     "text": [
      "180/180 [==============================] - ETA: 4:41 - loss: 0.0069 - accuracy: 1.00 - ETA: 5:25 - loss: 0.0103 - accuracy: 1.00 - ETA: 5:09 - loss: 0.0137 - accuracy: 1.00 - ETA: 4:50 - loss: 0.0245 - accuracy: 0.99 - ETA: 4:55 - loss: 0.0231 - accuracy: 0.99 - ETA: 5:03 - loss: 0.0195 - accuracy: 0.99 - ETA: 5:05 - loss: 0.0169 - accuracy: 0.99 - ETA: 4:58 - loss: 0.0151 - accuracy: 0.99 - ETA: 4:48 - loss: 0.0150 - accuracy: 0.99 - ETA: 4:40 - loss: 0.0149 - accuracy: 0.99 - ETA: 4:34 - loss: 0.0229 - accuracy: 0.99 - ETA: 4:28 - loss: 0.0225 - accuracy: 0.99 - ETA: 4:23 - loss: 0.0208 - accuracy: 0.99 - ETA: 4:18 - loss: 0.0194 - accuracy: 0.99 - ETA: 4:14 - loss: 0.0211 - accuracy: 0.99 - ETA: 4:11 - loss: 0.0198 - accuracy: 0.99 - ETA: 4:07 - loss: 0.0187 - accuracy: 0.99 - ETA: 4:05 - loss: 0.0180 - accuracy: 0.99 - ETA: 4:03 - loss: 0.0193 - accuracy: 0.99 - ETA: 4:01 - loss: 0.0186 - accuracy: 0.99 - ETA: 3:58 - loss: 0.0187 - accuracy: 0.99 - ETA: 3:56 - loss: 0.0182 - accuracy: 0.99 - ETA: 3:53 - loss: 0.0175 - accuracy: 0.99 - ETA: 3:51 - loss: 0.0167 - accuracy: 0.99 - ETA: 3:48 - loss: 0.0161 - accuracy: 0.99 - ETA: 3:46 - loss: 0.0155 - accuracy: 0.99 - ETA: 3:43 - loss: 0.0151 - accuracy: 0.99 - ETA: 3:41 - loss: 0.0170 - accuracy: 0.99 - ETA: 3:39 - loss: 0.0164 - accuracy: 0.99 - ETA: 3:37 - loss: 0.0159 - accuracy: 0.99 - ETA: 3:35 - loss: 0.0154 - accuracy: 0.99 - ETA: 3:33 - loss: 0.0149 - accuracy: 0.99 - ETA: 3:31 - loss: 0.0145 - accuracy: 0.99 - ETA: 3:29 - loss: 0.0141 - accuracy: 0.99 - ETA: 3:28 - loss: 0.0137 - accuracy: 0.99 - ETA: 3:26 - loss: 0.0133 - accuracy: 0.99 - ETA: 3:24 - loss: 0.0130 - accuracy: 0.99 - ETA: 3:23 - loss: 0.0126 - accuracy: 0.99 - ETA: 3:21 - loss: 0.0123 - accuracy: 0.99 - ETA: 3:19 - loss: 0.0120 - accuracy: 0.99 - ETA: 3:18 - loss: 0.0117 - accuracy: 0.99 - ETA: 3:16 - loss: 0.0115 - accuracy: 0.99 - ETA: 3:15 - loss: 0.0112 - accuracy: 0.99 - ETA: 3:13 - loss: 0.0110 - accuracy: 0.99 - ETA: 3:12 - loss: 0.0107 - accuracy: 0.99 - ETA: 3:10 - loss: 0.0105 - accuracy: 0.99 - ETA: 3:09 - loss: 0.0103 - accuracy: 0.99 - ETA: 3:07 - loss: 0.0101 - accuracy: 0.99 - ETA: 3:05 - loss: 0.0099 - accuracy: 0.99 - ETA: 3:04 - loss: 0.0098 - accuracy: 0.99 - ETA: 3:02 - loss: 0.0098 - accuracy: 0.99 - ETA: 3:00 - loss: 0.0097 - accuracy: 0.99 - ETA: 2:59 - loss: 0.0095 - accuracy: 0.99 - ETA: 2:57 - loss: 0.0093 - accuracy: 0.99 - ETA: 2:56 - loss: 0.0092 - accuracy: 0.99 - ETA: 2:54 - loss: 0.0090 - accuracy: 0.99 - ETA: 2:53 - loss: 0.0089 - accuracy: 0.99 - ETA: 2:51 - loss: 0.0087 - accuracy: 0.99 - ETA: 2:50 - loss: 0.0086 - accuracy: 0.99 - ETA: 2:48 - loss: 0.0084 - accuracy: 0.99 - ETA: 2:47 - loss: 0.0083 - accuracy: 0.99 - ETA: 2:45 - loss: 0.0082 - accuracy: 0.99 - ETA: 2:44 - loss: 0.0081 - accuracy: 0.99 - ETA: 2:42 - loss: 0.0080 - accuracy: 0.99 - ETA: 2:41 - loss: 0.0079 - accuracy: 0.99 - ETA: 2:39 - loss: 0.0078 - accuracy: 0.99 - ETA: 2:38 - loss: 0.0077 - accuracy: 0.99 - ETA: 2:37 - loss: 0.0076 - accuracy: 0.99 - ETA: 2:35 - loss: 0.0075 - accuracy: 0.99 - ETA: 2:34 - loss: 0.0074 - accuracy: 0.99 - ETA: 2:32 - loss: 0.0073 - accuracy: 0.99 - ETA: 2:31 - loss: 0.0072 - accuracy: 0.99 - ETA: 2:30 - loss: 0.0071 - accuracy: 0.99 - ETA: 2:29 - loss: 0.0070 - accuracy: 0.99 - ETA: 2:28 - loss: 0.0069 - accuracy: 0.99 - ETA: 2:27 - loss: 0.0068 - accuracy: 0.99 - ETA: 2:26 - loss: 0.0068 - accuracy: 0.99 - ETA: 2:25 - loss: 0.0067 - accuracy: 0.99 - ETA: 2:24 - loss: 0.0066 - accuracy: 0.99 - ETA: 2:23 - loss: 0.0066 - accuracy: 0.99 - ETA: 2:22 - loss: 0.0065 - accuracy: 0.99 - ETA: 2:21 - loss: 0.0064 - accuracy: 0.99 - ETA: 2:19 - loss: 0.0064 - accuracy: 0.99 - ETA: 2:18 - loss: 0.0064 - accuracy: 0.99 - ETA: 2:16 - loss: 0.0063 - accuracy: 0.99 - ETA: 2:15 - loss: 0.0062 - accuracy: 0.99 - ETA: 2:13 - loss: 0.0062 - accuracy: 0.99 - ETA: 2:12 - loss: 0.0061 - accuracy: 0.99 - ETA: 2:10 - loss: 0.0060 - accuracy: 0.99 - ETA: 2:09 - loss: 0.0063 - accuracy: 0.99 - ETA: 2:07 - loss: 0.0062 - accuracy: 0.99 - ETA: 2:06 - loss: 0.0061 - accuracy: 0.99 - ETA: 2:04 - loss: 0.0061 - accuracy: 0.99 - ETA: 2:03 - loss: 0.0060 - accuracy: 0.99 - ETA: 2:01 - loss: 0.0059 - accuracy: 0.99 - ETA: 2:00 - loss: 0.0059 - accuracy: 0.99 - ETA: 1:58 - loss: 0.0059 - accuracy: 0.99 - ETA: 1:57 - loss: 0.0058 - accuracy: 0.99 - ETA: 1:55 - loss: 0.0058 - accuracy: 0.99 - ETA: 1:54 - loss: 0.0058 - accuracy: 0.99 - ETA: 1:52 - loss: 0.0058 - accuracy: 0.99 - ETA: 1:51 - loss: 0.0057 - accuracy: 0.99 - ETA: 1:49 - loss: 0.0057 - accuracy: 0.99 - ETA: 1:48 - loss: 0.0057 - accuracy: 0.99 - ETA: 1:46 - loss: 0.0056 - accuracy: 0.99 - ETA: 1:45 - loss: 0.0056 - accuracy: 0.99 - ETA: 1:44 - loss: 0.0064 - accuracy: 0.99 - ETA: 1:42 - loss: 0.0064 - accuracy: 0.99 - ETA: 1:41 - loss: 0.0063 - accuracy: 0.99 - ETA: 1:39 - loss: 0.0064 - accuracy: 0.99 - ETA: 1:38 - loss: 0.0064 - accuracy: 0.99 - ETA: 1:36 - loss: 0.0063 - accuracy: 0.99 - ETA: 1:35 - loss: 0.0063 - accuracy: 0.99 - ETA: 1:33 - loss: 0.0063 - accuracy: 0.99 - ETA: 1:32 - loss: 0.0063 - accuracy: 0.99 - ETA: 1:30 - loss: 0.0062 - accuracy: 0.99 - ETA: 1:29 - loss: 0.0062 - accuracy: 0.99 - ETA: 1:27 - loss: 0.0062 - accuracy: 0.99 - ETA: 1:26 - loss: 0.0061 - accuracy: 0.99 - ETA: 1:24 - loss: 0.0061 - accuracy: 0.99 - ETA: 1:23 - loss: 0.0061 - accuracy: 0.99 - ETA: 1:22 - loss: 0.0060 - accuracy: 0.99 - ETA: 1:20 - loss: 0.0060 - accuracy: 0.99 - ETA: 1:19 - loss: 0.0059 - accuracy: 0.99 - ETA: 1:17 - loss: 0.0059 - accuracy: 0.99 - ETA: 1:16 - loss: 0.0058 - accuracy: 0.99 - ETA: 1:14 - loss: 0.0058 - accuracy: 0.99 - ETA: 1:13 - loss: 0.0058 - accuracy: 0.99 - ETA: 1:11 - loss: 0.0057 - accuracy: 0.99 - ETA: 1:10 - loss: 0.0057 - accuracy: 0.99 - ETA: 1:09 - loss: 0.0056 - accuracy: 0.99 - ETA: 1:07 - loss: 0.0056 - accuracy: 0.99 - ETA: 1:06 - loss: 0.0056 - accuracy: 0.99 - ETA: 1:04 - loss: 0.0055 - accuracy: 0.99 - ETA: 1:03 - loss: 0.0055 - accuracy: 0.99 - ETA: 1:01 - loss: 0.0055 - accuracy: 0.99 - ETA: 1:00 - loss: 0.0055 - accuracy: 0.99 - ETA: 59s - loss: 0.0054 - accuracy: 0.9984 - ETA: 57s - loss: 0.0054 - accuracy: 0.998 - ETA: 56s - loss: 0.0053 - accuracy: 0.998 - ETA: 54s - loss: 0.0053 - accuracy: 0.998 - ETA: 53s - loss: 0.0053 - accuracy: 0.998 - ETA: 51s - loss: 0.0053 - accuracy: 0.998 - ETA: 50s - loss: 0.0053 - accuracy: 0.998 - ETA: 49s - loss: 0.0052 - accuracy: 0.998 - ETA: 47s - loss: 0.0052 - accuracy: 0.998 - ETA: 46s - loss: 0.0052 - accuracy: 0.998 - ETA: 44s - loss: 0.0051 - accuracy: 0.998 - ETA: 43s - loss: 0.0051 - accuracy: 0.998 - ETA: 41s - loss: 0.0051 - accuracy: 0.998 - ETA: 40s - loss: 0.0050 - accuracy: 0.998 - ETA: 39s - loss: 0.0050 - accuracy: 0.998 - ETA: 37s - loss: 0.0050 - accuracy: 0.998 - ETA: 36s - loss: 0.0050 - accuracy: 0.998 - ETA: 34s - loss: 0.0049 - accuracy: 0.998 - ETA: 33s - loss: 0.0049 - accuracy: 0.998 - ETA: 32s - loss: 0.0049 - accuracy: 0.998 - ETA: 30s - loss: 0.0049 - accuracy: 0.998 - ETA: 29s - loss: 0.0048 - accuracy: 0.998 - ETA: 27s - loss: 0.0048 - accuracy: 0.998 - ETA: 26s - loss: 0.0050 - accuracy: 0.998 - ETA: 25s - loss: 0.0049 - accuracy: 0.998 - ETA: 23s - loss: 0.0049 - accuracy: 0.998 - ETA: 22s - loss: 0.0050 - accuracy: 0.998 - ETA: 20s - loss: 0.0050 - accuracy: 0.998 - ETA: 19s - loss: 0.0050 - accuracy: 0.998 - ETA: 18s - loss: 0.0050 - accuracy: 0.998 - ETA: 16s - loss: 0.0049 - accuracy: 0.998 - ETA: 15s - loss: 0.0049 - accuracy: 0.998 - ETA: 13s - loss: 0.0049 - accuracy: 0.998 - ETA: 12s - loss: 0.0048 - accuracy: 0.998 - ETA: 11s - loss: 0.0048 - accuracy: 0.998 - ETA: 9s - loss: 0.0048 - accuracy: 0.998 - ETA: 8s - loss: 0.0048 - accuracy: 0.99 - ETA: 6s - loss: 0.0047 - accuracy: 0.99 - ETA: 5s - loss: 0.0047 - accuracy: 0.99 - ETA: 4s - loss: 0.0047 - accuracy: 0.99 - ETA: 2s - loss: 0.0047 - accuracy: 0.99 - ETA: 1s - loss: 0.0047 - accuracy: 0.99 - ETA: 0s - loss: 0.0046 - accuracy: 0.99 - 259s 1s/step - loss: 0.0046 - accuracy: 0.9986 - val_loss: 0.0026 - val_accuracy: 1.0000\n",
      "Epoch 4/10\n"
     ]
    },
    {
     "name": "stdout",
     "output_type": "stream",
     "text": [
      "180/180 [==============================] - ETA: 3:56 - loss: 2.9936e-04 - accuracy: 1.00 - ETA: 3:53 - loss: 0.0043 - accuracy: 1.0000   - ETA: 3:53 - loss: 0.0029 - accuracy: 1.00 - ETA: 3:53 - loss: 0.0023 - accuracy: 1.00 - ETA: 3:51 - loss: 0.0018 - accuracy: 1.00 - ETA: 3:50 - loss: 0.0016 - accuracy: 1.00 - ETA: 3:51 - loss: 0.0014 - accuracy: 1.00 - ETA: 3:50 - loss: 0.0012 - accuracy: 1.00 - ETA: 3:49 - loss: 0.0011 - accuracy: 1.00 - ETA: 3:47 - loss: 9.9301e-04 - accuracy: 1.00 - ETA: 3:46 - loss: 9.0566e-04 - accuracy: 1.00 - ETA: 3:44 - loss: 8.4054e-04 - accuracy: 1.00 - ETA: 3:43 - loss: 7.7795e-04 - accuracy: 1.00 - ETA: 3:41 - loss: 7.6451e-04 - accuracy: 1.00 - ETA: 3:40 - loss: 7.1786e-04 - accuracy: 1.00 - ETA: 3:38 - loss: 6.8754e-04 - accuracy: 1.00 - ETA: 3:37 - loss: 6.6402e-04 - accuracy: 1.00 - ETA: 3:36 - loss: 6.2966e-04 - accuracy: 1.00 - ETA: 3:35 - loss: 6.1773e-04 - accuracy: 1.00 - ETA: 3:34 - loss: 6.3080e-04 - accuracy: 1.00 - ETA: 3:32 - loss: 6.1429e-04 - accuracy: 1.00 - ETA: 3:31 - loss: 5.8682e-04 - accuracy: 1.00 - ETA: 3:30 - loss: 5.8978e-04 - accuracy: 1.00 - ETA: 3:28 - loss: 5.6874e-04 - accuracy: 1.00 - ETA: 3:27 - loss: 5.6109e-04 - accuracy: 1.00 - ETA: 3:26 - loss: 5.4209e-04 - accuracy: 1.00 - ETA: 3:25 - loss: 5.4047e-04 - accuracy: 1.00 - ETA: 3:24 - loss: 5.2525e-04 - accuracy: 1.00 - ETA: 3:22 - loss: 5.0805e-04 - accuracy: 1.00 - ETA: 3:21 - loss: 8.5120e-04 - accuracy: 1.00 - ETA: 3:20 - loss: 8.2573e-04 - accuracy: 1.00 - ETA: 3:18 - loss: 8.3095e-04 - accuracy: 1.00 - ETA: 3:17 - loss: 8.1683e-04 - accuracy: 1.00 - ETA: 3:16 - loss: 8.0781e-04 - accuracy: 1.00 - ETA: 3:14 - loss: 7.9999e-04 - accuracy: 1.00 - ETA: 3:13 - loss: 7.9091e-04 - accuracy: 1.00 - ETA: 3:12 - loss: 7.6993e-04 - accuracy: 1.00 - ETA: 3:10 - loss: 7.5126e-04 - accuracy: 1.00 - ETA: 3:09 - loss: 7.3557e-04 - accuracy: 1.00 - ETA: 3:07 - loss: 7.2123e-04 - accuracy: 1.00 - ETA: 3:06 - loss: 7.0386e-04 - accuracy: 1.00 - ETA: 3:05 - loss: 7.5408e-04 - accuracy: 1.00 - ETA: 3:03 - loss: 7.4584e-04 - accuracy: 1.00 - ETA: 3:02 - loss: 7.2906e-04 - accuracy: 1.00 - ETA: 3:01 - loss: 7.5449e-04 - accuracy: 1.00 - ETA: 3:00 - loss: 7.5391e-04 - accuracy: 1.00 - ETA: 2:59 - loss: 7.3868e-04 - accuracy: 1.00 - ETA: 2:58 - loss: 9.0733e-04 - accuracy: 1.00 - ETA: 2:57 - loss: 8.9358e-04 - accuracy: 1.00 - ETA: 2:55 - loss: 8.7659e-04 - accuracy: 1.00 - ETA: 2:54 - loss: 9.9416e-04 - accuracy: 1.00 - ETA: 2:53 - loss: 9.7600e-04 - accuracy: 1.00 - ETA: 2:51 - loss: 9.6319e-04 - accuracy: 1.00 - ETA: 2:50 - loss: 9.6696e-04 - accuracy: 1.00 - ETA: 2:49 - loss: 9.5542e-04 - accuracy: 1.00 - ETA: 2:47 - loss: 9.3839e-04 - accuracy: 1.00 - ETA: 2:46 - loss: 0.0012 - accuracy: 1.0000   - ETA: 2:44 - loss: 0.0012 - accuracy: 1.00 - ETA: 2:43 - loss: 0.0012 - accuracy: 1.00 - ETA: 2:42 - loss: 0.0012 - accuracy: 1.00 - ETA: 2:41 - loss: 0.0012 - accuracy: 1.00 - ETA: 2:39 - loss: 0.0012 - accuracy: 1.00 - ETA: 2:38 - loss: 0.0012 - accuracy: 1.00 - ETA: 2:37 - loss: 0.0012 - accuracy: 1.00 - ETA: 2:35 - loss: 0.0013 - accuracy: 1.00 - ETA: 2:34 - loss: 0.0013 - accuracy: 1.00 - ETA: 2:32 - loss: 0.0013 - accuracy: 1.00 - ETA: 2:31 - loss: 0.0013 - accuracy: 1.00 - ETA: 2:30 - loss: 0.0014 - accuracy: 1.00 - ETA: 2:28 - loss: 0.0013 - accuracy: 1.00 - ETA: 2:27 - loss: 0.0014 - accuracy: 1.00 - ETA: 2:26 - loss: 0.0016 - accuracy: 1.00 - ETA: 2:24 - loss: 0.0016 - accuracy: 1.00 - ETA: 2:23 - loss: 0.0016 - accuracy: 1.00 - ETA: 2:21 - loss: 0.0016 - accuracy: 1.00 - ETA: 2:20 - loss: 0.0018 - accuracy: 1.00 - ETA: 2:19 - loss: 0.0018 - accuracy: 1.00 - ETA: 2:17 - loss: 0.0018 - accuracy: 1.00 - ETA: 2:16 - loss: 0.0020 - accuracy: 1.00 - ETA: 2:15 - loss: 0.0020 - accuracy: 1.00 - ETA: 2:13 - loss: 0.0020 - accuracy: 1.00 - ETA: 2:12 - loss: 0.0019 - accuracy: 1.00 - ETA: 2:10 - loss: 0.0019 - accuracy: 1.00 - ETA: 2:09 - loss: 0.0019 - accuracy: 1.00 - ETA: 2:08 - loss: 0.0019 - accuracy: 1.00 - ETA: 2:06 - loss: 0.0019 - accuracy: 1.00 - ETA: 2:05 - loss: 0.0019 - accuracy: 1.00 - ETA: 2:04 - loss: 0.0018 - accuracy: 1.00 - ETA: 2:02 - loss: 0.0018 - accuracy: 1.00 - ETA: 2:01 - loss: 0.0018 - accuracy: 1.00 - ETA: 1:59 - loss: 0.0018 - accuracy: 1.00 - ETA: 1:58 - loss: 0.0018 - accuracy: 1.00 - ETA: 1:57 - loss: 0.0017 - accuracy: 1.00 - ETA: 1:55 - loss: 0.0018 - accuracy: 1.00 - ETA: 1:54 - loss: 0.0018 - accuracy: 1.00 - ETA: 1:53 - loss: 0.0018 - accuracy: 1.00 - ETA: 1:52 - loss: 0.0020 - accuracy: 1.00 - ETA: 1:50 - loss: 0.0020 - accuracy: 1.00 - ETA: 1:49 - loss: 0.0019 - accuracy: 1.00 - ETA: 1:48 - loss: 0.0019 - accuracy: 1.00 - ETA: 1:46 - loss: 0.0019 - accuracy: 1.00 - ETA: 1:45 - loss: 0.0020 - accuracy: 1.00 - ETA: 1:44 - loss: 0.0020 - accuracy: 1.00 - ETA: 1:42 - loss: 0.0021 - accuracy: 1.00 - ETA: 1:41 - loss: 0.0021 - accuracy: 1.00 - ETA: 1:40 - loss: 0.0020 - accuracy: 1.00 - ETA: 1:38 - loss: 0.0020 - accuracy: 1.00 - ETA: 1:37 - loss: 0.0020 - accuracy: 1.00 - ETA: 1:36 - loss: 0.0020 - accuracy: 1.00 - ETA: 1:34 - loss: 0.0020 - accuracy: 1.00 - ETA: 1:33 - loss: 0.0020 - accuracy: 1.00 - ETA: 1:32 - loss: 0.0020 - accuracy: 1.00 - ETA: 1:30 - loss: 0.0019 - accuracy: 1.00 - ETA: 1:29 - loss: 0.0019 - accuracy: 1.00 - ETA: 1:27 - loss: 0.0019 - accuracy: 1.00 - ETA: 1:26 - loss: 0.0019 - accuracy: 1.00 - ETA: 1:25 - loss: 0.0019 - accuracy: 1.00 - ETA: 1:23 - loss: 0.0019 - accuracy: 1.00 - ETA: 1:22 - loss: 0.0018 - accuracy: 1.00 - ETA: 1:21 - loss: 0.0018 - accuracy: 1.00 - ETA: 1:19 - loss: 0.0018 - accuracy: 1.00 - ETA: 1:18 - loss: 0.0018 - accuracy: 1.00 - ETA: 1:17 - loss: 0.0018 - accuracy: 1.00 - ETA: 1:15 - loss: 0.0018 - accuracy: 1.00 - ETA: 1:14 - loss: 0.0018 - accuracy: 1.00 - ETA: 1:13 - loss: 0.0018 - accuracy: 1.00 - ETA: 1:11 - loss: 0.0018 - accuracy: 1.00 - ETA: 1:10 - loss: 0.0018 - accuracy: 1.00 - ETA: 1:09 - loss: 0.0017 - accuracy: 1.00 - ETA: 1:08 - loss: 0.0017 - accuracy: 1.00 - ETA: 1:06 - loss: 0.0017 - accuracy: 1.00 - ETA: 1:05 - loss: 0.0017 - accuracy: 1.00 - ETA: 1:03 - loss: 0.0017 - accuracy: 1.00 - ETA: 1:02 - loss: 0.0017 - accuracy: 1.00 - ETA: 1:01 - loss: 0.0017 - accuracy: 1.00 - ETA: 59s - loss: 0.0017 - accuracy: 1.0000 - ETA: 58s - loss: 0.0017 - accuracy: 1.000 - ETA: 57s - loss: 0.0016 - accuracy: 1.000 - ETA: 55s - loss: 0.0016 - accuracy: 1.000 - ETA: 54s - loss: 0.0016 - accuracy: 1.000 - ETA: 53s - loss: 0.0016 - accuracy: 1.000 - ETA: 51s - loss: 0.0016 - accuracy: 1.000 - ETA: 50s - loss: 0.0016 - accuracy: 1.000 - ETA: 49s - loss: 0.0016 - accuracy: 1.000 - ETA: 47s - loss: 0.0016 - accuracy: 1.000 - ETA: 46s - loss: 0.0016 - accuracy: 1.000 - ETA: 45s - loss: 0.0016 - accuracy: 1.000 - ETA: 44s - loss: 0.0016 - accuracy: 1.000 - ETA: 42s - loss: 0.0016 - accuracy: 1.000 - ETA: 41s - loss: 0.0015 - accuracy: 1.000 - ETA: 40s - loss: 0.0015 - accuracy: 1.000 - ETA: 38s - loss: 0.0015 - accuracy: 1.000 - ETA: 37s - loss: 0.0015 - accuracy: 1.000 - ETA: 36s - loss: 0.0015 - accuracy: 1.000 - ETA: 34s - loss: 0.0015 - accuracy: 1.000 - ETA: 33s - loss: 0.0015 - accuracy: 1.000 - ETA: 32s - loss: 0.0015 - accuracy: 1.000 - ETA: 30s - loss: 0.0015 - accuracy: 1.000 - ETA: 29s - loss: 0.0015 - accuracy: 1.000 - ETA: 27s - loss: 0.0015 - accuracy: 1.000 - ETA: 26s - loss: 0.0016 - accuracy: 0.999 - ETA: 25s - loss: 0.0016 - accuracy: 0.999 - ETA: 23s - loss: 0.0016 - accuracy: 0.999 - ETA: 22s - loss: 0.0016 - accuracy: 0.999 - ETA: 21s - loss: 0.0016 - accuracy: 0.999 - ETA: 19s - loss: 0.0018 - accuracy: 0.999 - ETA: 18s - loss: 0.0018 - accuracy: 0.999 - ETA: 16s - loss: 0.0018 - accuracy: 0.999 - ETA: 15s - loss: 0.0018 - accuracy: 0.999 - ETA: 14s - loss: 0.0018 - accuracy: 0.999 - ETA: 12s - loss: 0.0018 - accuracy: 0.999 - ETA: 11s - loss: 0.0018 - accuracy: 0.999 - ETA: 9s - loss: 0.0018 - accuracy: 0.999 - ETA: 8s - loss: 0.0018 - accuracy: 0.99 - ETA: 7s - loss: 0.0018 - accuracy: 0.99 - ETA: 5s - loss: 0.0018 - accuracy: 0.99 - ETA: 4s - loss: 0.0018 - accuracy: 0.99 - ETA: 2s - loss: 0.0030 - accuracy: 0.99 - ETA: 1s - loss: 0.0030 - accuracy: 0.99 - ETA: 0s - loss: 0.0030 - accuracy: 0.99 - 264s 1s/step - loss: 0.0030 - accuracy: 0.9991 - val_loss: 0.0916 - val_accuracy: 0.9703\n"
     ]
    },
    {
     "name": "stdout",
     "output_type": "stream",
     "text": [
      "Epoch 5/10\n",
      "180/180 [==============================] - ETA: 4:00 - loss: 0.1642 - accuracy: 0.96 - ETA: 4:04 - loss: 0.1797 - accuracy: 0.93 - ETA: 4:01 - loss: 0.1218 - accuracy: 0.95 - ETA: 3:58 - loss: 0.0916 - accuracy: 0.96 - ETA: 3:55 - loss: 0.0735 - accuracy: 0.97 - ETA: 3:52 - loss: 0.0613 - accuracy: 0.97 - ETA: 3:50 - loss: 0.0528 - accuracy: 0.98 - ETA: 3:48 - loss: 0.0463 - accuracy: 0.98 - ETA: 3:46 - loss: 0.0421 - accuracy: 0.98 - ETA: 3:45 - loss: 0.0379 - accuracy: 0.98 - ETA: 3:44 - loss: 0.0348 - accuracy: 0.98 - ETA: 3:42 - loss: 0.0398 - accuracy: 0.98 - ETA: 3:41 - loss: 0.0369 - accuracy: 0.98 - ETA: 3:39 - loss: 0.0343 - accuracy: 0.98 - ETA: 3:38 - loss: 0.0331 - accuracy: 0.98 - ETA: 3:37 - loss: 0.0329 - accuracy: 0.98 - ETA: 3:35 - loss: 0.0311 - accuracy: 0.98 - ETA: 3:34 - loss: 0.0294 - accuracy: 0.98 - ETA: 3:33 - loss: 0.0279 - accuracy: 0.99 - ETA: 3:31 - loss: 0.0273 - accuracy: 0.99 - ETA: 3:30 - loss: 0.0264 - accuracy: 0.99 - ETA: 3:28 - loss: 0.0256 - accuracy: 0.99 - ETA: 3:27 - loss: 0.0255 - accuracy: 0.99 - ETA: 3:26 - loss: 0.0245 - accuracy: 0.99 - ETA: 3:24 - loss: 0.0241 - accuracy: 0.99 - ETA: 3:23 - loss: 0.0232 - accuracy: 0.99 - ETA: 3:21 - loss: 0.0223 - accuracy: 0.99 - ETA: 3:20 - loss: 0.0216 - accuracy: 0.99 - ETA: 3:18 - loss: 0.0210 - accuracy: 0.99 - ETA: 3:17 - loss: 0.0204 - accuracy: 0.99 - ETA: 3:16 - loss: 0.0198 - accuracy: 0.99 - ETA: 3:14 - loss: 0.0192 - accuracy: 0.99 - ETA: 3:13 - loss: 0.0187 - accuracy: 0.99 - ETA: 3:12 - loss: 0.0183 - accuracy: 0.99 - ETA: 3:10 - loss: 0.0179 - accuracy: 0.99 - ETA: 3:09 - loss: 0.0175 - accuracy: 0.99 - ETA: 3:08 - loss: 0.0170 - accuracy: 0.99 - ETA: 3:06 - loss: 0.0166 - accuracy: 0.99 - ETA: 3:05 - loss: 0.0163 - accuracy: 0.99 - ETA: 3:04 - loss: 0.0159 - accuracy: 0.99 - ETA: 3:02 - loss: 0.0155 - accuracy: 0.99 - ETA: 3:01 - loss: 0.0152 - accuracy: 0.99 - ETA: 3:00 - loss: 0.0148 - accuracy: 0.99 - ETA: 2:59 - loss: 0.0149 - accuracy: 0.99 - ETA: 2:57 - loss: 0.0146 - accuracy: 0.99 - ETA: 2:56 - loss: 0.0143 - accuracy: 0.99 - ETA: 2:54 - loss: 0.0140 - accuracy: 0.99 - ETA: 2:53 - loss: 0.0139 - accuracy: 0.99 - ETA: 2:52 - loss: 0.0137 - accuracy: 0.99 - ETA: 2:51 - loss: 0.0135 - accuracy: 0.99 - ETA: 2:49 - loss: 0.0132 - accuracy: 0.99 - ETA: 2:48 - loss: 0.0130 - accuracy: 0.99 - ETA: 2:47 - loss: 0.0128 - accuracy: 0.99 - ETA: 2:46 - loss: 0.0126 - accuracy: 0.99 - ETA: 2:45 - loss: 0.0124 - accuracy: 0.99 - ETA: 2:43 - loss: 0.0122 - accuracy: 0.99 - ETA: 2:42 - loss: 0.0120 - accuracy: 0.99 - ETA: 2:41 - loss: 0.0120 - accuracy: 0.99 - ETA: 2:40 - loss: 0.0119 - accuracy: 0.99 - ETA: 2:38 - loss: 0.0122 - accuracy: 0.99 - ETA: 2:37 - loss: 0.0120 - accuracy: 0.99 - ETA: 2:36 - loss: 0.0118 - accuracy: 0.99 - ETA: 2:34 - loss: 0.0116 - accuracy: 0.99 - ETA: 2:33 - loss: 0.0115 - accuracy: 0.99 - ETA: 2:32 - loss: 0.0114 - accuracy: 0.99 - ETA: 2:31 - loss: 0.0112 - accuracy: 0.99 - ETA: 2:29 - loss: 0.0111 - accuracy: 0.99 - ETA: 2:28 - loss: 0.0109 - accuracy: 0.99 - ETA: 2:27 - loss: 0.0108 - accuracy: 0.99 - ETA: 2:25 - loss: 0.0106 - accuracy: 0.99 - ETA: 2:24 - loss: 0.0105 - accuracy: 0.99 - ETA: 2:23 - loss: 0.0104 - accuracy: 0.99 - ETA: 2:21 - loss: 0.0102 - accuracy: 0.99 - ETA: 2:20 - loss: 0.0101 - accuracy: 0.99 - ETA: 2:19 - loss: 0.0100 - accuracy: 0.99 - ETA: 2:17 - loss: 0.0098 - accuracy: 0.99 - ETA: 2:16 - loss: 0.0097 - accuracy: 0.99 - ETA: 2:15 - loss: 0.0097 - accuracy: 0.99 - ETA: 2:14 - loss: 0.0096 - accuracy: 0.99 - ETA: 2:13 - loss: 0.0095 - accuracy: 0.99 - ETA: 2:11 - loss: 0.0094 - accuracy: 0.99 - ETA: 2:10 - loss: 0.0092 - accuracy: 0.99 - ETA: 2:09 - loss: 0.0091 - accuracy: 0.99 - ETA: 2:08 - loss: 0.0090 - accuracy: 0.99 - ETA: 2:06 - loss: 0.0089 - accuracy: 0.99 - ETA: 2:05 - loss: 0.0088 - accuracy: 0.99 - ETA: 2:04 - loss: 0.0087 - accuracy: 0.99 - ETA: 2:02 - loss: 0.0086 - accuracy: 0.99 - ETA: 2:01 - loss: 0.0085 - accuracy: 0.99 - ETA: 2:00 - loss: 0.0084 - accuracy: 0.99 - ETA: 1:58 - loss: 0.0084 - accuracy: 0.99 - ETA: 1:57 - loss: 0.0083 - accuracy: 0.99 - ETA: 1:56 - loss: 0.0082 - accuracy: 0.99 - ETA: 1:55 - loss: 0.0081 - accuracy: 0.99 - ETA: 1:53 - loss: 0.0080 - accuracy: 0.99 - ETA: 1:52 - loss: 0.0080 - accuracy: 0.99 - ETA: 1:51 - loss: 0.0079 - accuracy: 0.99 - ETA: 1:49 - loss: 0.0079 - accuracy: 0.99 - ETA: 1:48 - loss: 0.0078 - accuracy: 0.99 - ETA: 1:47 - loss: 0.0077 - accuracy: 0.99 - ETA: 1:45 - loss: 0.0077 - accuracy: 0.99 - ETA: 1:44 - loss: 0.0076 - accuracy: 0.99 - ETA: 1:43 - loss: 0.0075 - accuracy: 0.99 - ETA: 1:41 - loss: 0.0074 - accuracy: 0.99 - ETA: 1:40 - loss: 0.0074 - accuracy: 0.99 - ETA: 1:39 - loss: 0.0073 - accuracy: 0.99 - ETA: 1:37 - loss: 0.0073 - accuracy: 0.99 - ETA: 1:36 - loss: 0.0072 - accuracy: 0.99 - ETA: 1:35 - loss: 0.0071 - accuracy: 0.99 - ETA: 1:33 - loss: 0.0071 - accuracy: 0.99 - ETA: 1:32 - loss: 0.0071 - accuracy: 0.99 - ETA: 1:31 - loss: 0.0070 - accuracy: 0.99 - ETA: 1:29 - loss: 0.0069 - accuracy: 0.99 - ETA: 1:28 - loss: 0.0069 - accuracy: 0.99 - ETA: 1:27 - loss: 0.0068 - accuracy: 0.99 - ETA: 1:25 - loss: 0.0068 - accuracy: 0.99 - ETA: 1:24 - loss: 0.0068 - accuracy: 0.99 - ETA: 1:23 - loss: 0.0067 - accuracy: 0.99 - ETA: 1:21 - loss: 0.0066 - accuracy: 0.99 - ETA: 1:20 - loss: 0.0066 - accuracy: 0.99 - ETA: 1:19 - loss: 0.0066 - accuracy: 0.99 - ETA: 1:17 - loss: 0.0065 - accuracy: 0.99 - ETA: 1:16 - loss: 0.0065 - accuracy: 0.99 - ETA: 1:15 - loss: 0.0064 - accuracy: 0.99 - ETA: 1:14 - loss: 0.0064 - accuracy: 0.99 - ETA: 1:12 - loss: 0.0064 - accuracy: 0.99 - ETA: 1:11 - loss: 0.0063 - accuracy: 0.99 - ETA: 1:10 - loss: 0.0063 - accuracy: 0.99 - ETA: 1:09 - loss: 0.0062 - accuracy: 0.99 - ETA: 1:08 - loss: 0.0062 - accuracy: 0.99 - ETA: 1:07 - loss: 0.0061 - accuracy: 0.99 - ETA: 1:05 - loss: 0.0061 - accuracy: 0.99 - ETA: 1:04 - loss: 0.0061 - accuracy: 0.99 - ETA: 1:03 - loss: 0.0060 - accuracy: 0.99 - ETA: 1:01 - loss: 0.0060 - accuracy: 0.99 - ETA: 1:00 - loss: 0.0059 - accuracy: 0.99 - ETA: 58s - loss: 0.0059 - accuracy: 0.9984 - ETA: 57s - loss: 0.0058 - accuracy: 0.998 - ETA: 56s - loss: 0.0058 - accuracy: 0.998 - ETA: 54s - loss: 0.0058 - accuracy: 0.998 - ETA: 53s - loss: 0.0057 - accuracy: 0.998 - ETA: 52s - loss: 0.0057 - accuracy: 0.998 - ETA: 50s - loss: 0.0056 - accuracy: 0.998 - ETA: 49s - loss: 0.0056 - accuracy: 0.998 - ETA: 47s - loss: 0.0056 - accuracy: 0.998 - ETA: 46s - loss: 0.0055 - accuracy: 0.998 - ETA: 45s - loss: 0.0055 - accuracy: 0.998 - ETA: 43s - loss: 0.0055 - accuracy: 0.998 - ETA: 42s - loss: 0.0054 - accuracy: 0.998 - ETA: 41s - loss: 0.0054 - accuracy: 0.998 - ETA: 39s - loss: 0.0054 - accuracy: 0.998 - ETA: 38s - loss: 0.0053 - accuracy: 0.998 - ETA: 36s - loss: 0.0053 - accuracy: 0.998 - ETA: 35s - loss: 0.0053 - accuracy: 0.998 - ETA: 34s - loss: 0.0052 - accuracy: 0.998 - ETA: 32s - loss: 0.0052 - accuracy: 0.998 - ETA: 31s - loss: 0.0052 - accuracy: 0.998 - ETA: 30s - loss: 0.0052 - accuracy: 0.998 - ETA: 28s - loss: 0.0052 - accuracy: 0.998 - ETA: 27s - loss: 0.0051 - accuracy: 0.998 - ETA: 25s - loss: 0.0051 - accuracy: 0.998 - ETA: 24s - loss: 0.0051 - accuracy: 0.998 - ETA: 23s - loss: 0.0051 - accuracy: 0.998 - ETA: 21s - loss: 0.0050 - accuracy: 0.998 - ETA: 20s - loss: 0.0050 - accuracy: 0.998 - ETA: 19s - loss: 0.0050 - accuracy: 0.998 - ETA: 17s - loss: 0.0050 - accuracy: 0.998 - ETA: 16s - loss: 0.0049 - accuracy: 0.998 - ETA: 14s - loss: 0.0049 - accuracy: 0.998 - ETA: 13s - loss: 0.0049 - accuracy: 0.998 - ETA: 12s - loss: 0.0049 - accuracy: 0.998 - ETA: 10s - loss: 0.0049 - accuracy: 0.998 - ETA: 9s - loss: 0.0048 - accuracy: 0.998 - ETA: 8s - loss: 0.0048 - accuracy: 0.99 - ETA: 6s - loss: 0.0048 - accuracy: 0.99 - ETA: 5s - loss: 0.0048 - accuracy: 0.99 - ETA: 4s - loss: 0.0048 - accuracy: 0.99 - ETA: 2s - loss: 0.0048 - accuracy: 0.99 - ETA: 1s - loss: 0.0047 - accuracy: 0.99 - ETA: 0s - loss: 0.0047 - accuracy: 0.99 - 252s 1s/step - loss: 0.0047 - accuracy: 0.9988 - val_loss: 0.0010 - val_accuracy: 1.0000\n",
      "Epoch 6/10\n"
     ]
    },
    {
     "name": "stdout",
     "output_type": "stream",
     "text": [
      "180/180 [==============================] - ETA: 3:50 - loss: 4.0642e-06 - accuracy: 1.00 - ETA: 3:56 - loss: 1.0109e-04 - accuracy: 1.00 - ETA: 3:52 - loss: 7.4187e-05 - accuracy: 1.00 - ETA: 3:52 - loss: 7.8283e-05 - accuracy: 1.00 - ETA: 3:49 - loss: 1.0864e-04 - accuracy: 1.00 - ETA: 3:47 - loss: 1.1062e-04 - accuracy: 1.00 - ETA: 3:47 - loss: 1.3023e-04 - accuracy: 1.00 - ETA: 3:45 - loss: 2.6161e-04 - accuracy: 1.00 - ETA: 3:44 - loss: 2.3294e-04 - accuracy: 1.00 - ETA: 3:43 - loss: 2.1109e-04 - accuracy: 1.00 - ETA: 3:41 - loss: 2.6040e-04 - accuracy: 1.00 - ETA: 3:40 - loss: 2.4388e-04 - accuracy: 1.00 - ETA: 3:38 - loss: 2.3749e-04 - accuracy: 1.00 - ETA: 3:37 - loss: 2.2150e-04 - accuracy: 1.00 - ETA: 3:35 - loss: 2.7817e-04 - accuracy: 1.00 - ETA: 3:34 - loss: 2.6107e-04 - accuracy: 1.00 - ETA: 3:32 - loss: 2.4994e-04 - accuracy: 1.00 - ETA: 3:31 - loss: 2.3837e-04 - accuracy: 1.00 - ETA: 3:32 - loss: 2.2660e-04 - accuracy: 1.00 - ETA: 3:32 - loss: 2.2740e-04 - accuracy: 1.00 - ETA: 3:31 - loss: 2.1765e-04 - accuracy: 1.00 - ETA: 3:31 - loss: 2.0811e-04 - accuracy: 1.00 - ETA: 3:29 - loss: 1.9915e-04 - accuracy: 1.00 - ETA: 3:28 - loss: 2.0525e-04 - accuracy: 1.00 - ETA: 3:27 - loss: 2.0332e-04 - accuracy: 1.00 - ETA: 3:26 - loss: 2.0021e-04 - accuracy: 1.00 - ETA: 3:24 - loss: 1.9282e-04 - accuracy: 1.00 - ETA: 3:24 - loss: 1.8613e-04 - accuracy: 1.00 - ETA: 3:23 - loss: 1.8001e-04 - accuracy: 1.00 - ETA: 3:21 - loss: 1.7554e-04 - accuracy: 1.00 - ETA: 3:20 - loss: 1.7000e-04 - accuracy: 1.00 - ETA: 3:18 - loss: 1.6785e-04 - accuracy: 1.00 - ETA: 3:17 - loss: 1.6319e-04 - accuracy: 1.00 - ETA: 3:16 - loss: 1.5870e-04 - accuracy: 1.00 - ETA: 3:14 - loss: 1.5494e-04 - accuracy: 1.00 - ETA: 3:13 - loss: 1.5065e-04 - accuracy: 1.00 - ETA: 3:11 - loss: 1.6789e-04 - accuracy: 1.00 - ETA: 3:10 - loss: 3.3481e-04 - accuracy: 1.00 - ETA: 3:09 - loss: 4.3105e-04 - accuracy: 1.00 - ETA: 3:07 - loss: 4.2030e-04 - accuracy: 1.00 - ETA: 3:06 - loss: 4.1029e-04 - accuracy: 1.00 - ETA: 3:04 - loss: 4.1851e-04 - accuracy: 1.00 - ETA: 3:03 - loss: 4.0907e-04 - accuracy: 1.00 - ETA: 3:02 - loss: 4.0074e-04 - accuracy: 1.00 - ETA: 3:00 - loss: 0.0010 - accuracy: 0.9993   - ETA: 2:59 - loss: 9.9972e-04 - accuracy: 0.99 - ETA: 2:59 - loss: 9.7939e-04 - accuracy: 0.99 - ETA: 2:58 - loss: 9.7352e-04 - accuracy: 0.99 - ETA: 2:56 - loss: 0.0010 - accuracy: 0.9994   - ETA: 2:55 - loss: 0.0012 - accuracy: 0.99 - ETA: 2:53 - loss: 0.0012 - accuracy: 0.99 - ETA: 2:52 - loss: 0.0012 - accuracy: 0.99 - ETA: 2:51 - loss: 0.0012 - accuracy: 0.99 - ETA: 2:49 - loss: 0.0012 - accuracy: 0.99 - ETA: 2:48 - loss: 0.0012 - accuracy: 0.99 - ETA: 2:46 - loss: 0.0012 - accuracy: 0.99 - ETA: 2:45 - loss: 0.0014 - accuracy: 0.99 - ETA: 2:43 - loss: 0.0014 - accuracy: 0.99 - ETA: 2:42 - loss: 0.0016 - accuracy: 0.99 - ETA: 2:41 - loss: 0.0015 - accuracy: 0.99 - ETA: 2:39 - loss: 0.0015 - accuracy: 0.99 - ETA: 2:38 - loss: 0.0015 - accuracy: 0.99 - ETA: 2:36 - loss: 0.0024 - accuracy: 0.99 - ETA: 2:35 - loss: 0.0024 - accuracy: 0.99 - ETA: 2:33 - loss: 0.0023 - accuracy: 0.99 - ETA: 2:32 - loss: 0.0023 - accuracy: 0.99 - ETA: 2:31 - loss: 0.0023 - accuracy: 0.99 - ETA: 2:29 - loss: 0.0023 - accuracy: 0.99 - ETA: 2:28 - loss: 0.0023 - accuracy: 0.99 - ETA: 2:26 - loss: 0.0022 - accuracy: 0.99 - ETA: 2:25 - loss: 0.0022 - accuracy: 0.99 - ETA: 2:24 - loss: 0.0022 - accuracy: 0.99 - ETA: 2:22 - loss: 0.0021 - accuracy: 0.99 - ETA: 2:21 - loss: 0.0021 - accuracy: 0.99 - ETA: 2:20 - loss: 0.0021 - accuracy: 0.99 - ETA: 2:18 - loss: 0.0021 - accuracy: 0.99 - ETA: 2:17 - loss: 0.0021 - accuracy: 0.99 - ETA: 2:16 - loss: 0.0021 - accuracy: 0.99 - ETA: 2:14 - loss: 0.0021 - accuracy: 0.99 - ETA: 2:13 - loss: 0.0021 - accuracy: 0.99 - ETA: 2:11 - loss: 0.0021 - accuracy: 0.99 - ETA: 2:10 - loss: 0.0020 - accuracy: 0.99 - ETA: 2:09 - loss: 0.0027 - accuracy: 0.99 - ETA: 2:07 - loss: 0.0027 - accuracy: 0.99 - ETA: 2:06 - loss: 0.0033 - accuracy: 0.99 - ETA: 2:05 - loss: 0.0032 - accuracy: 0.99 - ETA: 2:03 - loss: 0.0032 - accuracy: 0.99 - ETA: 2:02 - loss: 0.0032 - accuracy: 0.99 - ETA: 2:01 - loss: 0.0031 - accuracy: 0.99 - ETA: 1:59 - loss: 0.0032 - accuracy: 0.99 - ETA: 1:58 - loss: 0.0031 - accuracy: 0.99 - ETA: 1:57 - loss: 0.0032 - accuracy: 0.99 - ETA: 1:55 - loss: 0.0032 - accuracy: 0.99 - ETA: 1:54 - loss: 0.0032 - accuracy: 0.99 - ETA: 1:53 - loss: 0.0031 - accuracy: 0.99 - ETA: 1:51 - loss: 0.0031 - accuracy: 0.99 - ETA: 1:50 - loss: 0.0031 - accuracy: 0.99 - ETA: 1:49 - loss: 0.0030 - accuracy: 0.99 - ETA: 1:47 - loss: 0.0030 - accuracy: 0.99 - ETA: 1:46 - loss: 0.0030 - accuracy: 0.99 - ETA: 1:45 - loss: 0.0030 - accuracy: 0.99 - ETA: 1:43 - loss: 0.0029 - accuracy: 0.99 - ETA: 1:42 - loss: 0.0030 - accuracy: 0.99 - ETA: 1:41 - loss: 0.0030 - accuracy: 0.99 - ETA: 1:40 - loss: 0.0029 - accuracy: 0.99 - ETA: 1:39 - loss: 0.0029 - accuracy: 0.99 - ETA: 1:37 - loss: 0.0029 - accuracy: 0.99 - ETA: 1:36 - loss: 0.0028 - accuracy: 0.99 - ETA: 1:35 - loss: 0.0028 - accuracy: 0.99 - ETA: 1:34 - loss: 0.0028 - accuracy: 0.99 - ETA: 1:32 - loss: 0.0028 - accuracy: 0.99 - ETA: 1:31 - loss: 0.0028 - accuracy: 0.99 - ETA: 1:29 - loss: 0.0027 - accuracy: 0.99 - ETA: 1:28 - loss: 0.0027 - accuracy: 0.99 - ETA: 1:27 - loss: 0.0027 - accuracy: 0.99 - ETA: 1:25 - loss: 0.0027 - accuracy: 0.99 - ETA: 1:24 - loss: 0.0027 - accuracy: 0.99 - ETA: 1:23 - loss: 0.0027 - accuracy: 0.99 - ETA: 1:21 - loss: 0.0026 - accuracy: 0.99 - ETA: 1:20 - loss: 0.0026 - accuracy: 0.99 - ETA: 1:19 - loss: 0.0026 - accuracy: 0.99 - ETA: 1:17 - loss: 0.0026 - accuracy: 0.99 - ETA: 1:16 - loss: 0.0026 - accuracy: 0.99 - ETA: 1:14 - loss: 0.0026 - accuracy: 0.99 - ETA: 1:13 - loss: 0.0025 - accuracy: 0.99 - ETA: 1:12 - loss: 0.0025 - accuracy: 0.99 - ETA: 1:10 - loss: 0.0025 - accuracy: 0.99 - ETA: 1:09 - loss: 0.0025 - accuracy: 0.99 - ETA: 1:08 - loss: 0.0025 - accuracy: 0.99 - ETA: 1:06 - loss: 0.0025 - accuracy: 0.99 - ETA: 1:05 - loss: 0.0025 - accuracy: 0.99 - ETA: 1:04 - loss: 0.0024 - accuracy: 0.99 - ETA: 1:02 - loss: 0.0024 - accuracy: 0.99 - ETA: 1:01 - loss: 0.0024 - accuracy: 0.99 - ETA: 1:00 - loss: 0.0024 - accuracy: 0.99 - ETA: 58s - loss: 0.0024 - accuracy: 0.9991 - ETA: 57s - loss: 0.0024 - accuracy: 0.999 - ETA: 55s - loss: 0.0024 - accuracy: 0.999 - ETA: 54s - loss: 0.0023 - accuracy: 0.999 - ETA: 53s - loss: 0.0023 - accuracy: 0.999 - ETA: 51s - loss: 0.0023 - accuracy: 0.999 - ETA: 50s - loss: 0.0023 - accuracy: 0.999 - ETA: 49s - loss: 0.0023 - accuracy: 0.999 - ETA: 47s - loss: 0.0023 - accuracy: 0.999 - ETA: 46s - loss: 0.0023 - accuracy: 0.999 - ETA: 45s - loss: 0.0023 - accuracy: 0.999 - ETA: 43s - loss: 0.0023 - accuracy: 0.999 - ETA: 42s - loss: 0.0022 - accuracy: 0.999 - ETA: 41s - loss: 0.0022 - accuracy: 0.999 - ETA: 39s - loss: 0.0022 - accuracy: 0.999 - ETA: 38s - loss: 0.0022 - accuracy: 0.999 - ETA: 37s - loss: 0.0022 - accuracy: 0.999 - ETA: 35s - loss: 0.0022 - accuracy: 0.999 - ETA: 34s - loss: 0.0022 - accuracy: 0.999 - ETA: 33s - loss: 0.0022 - accuracy: 0.999 - ETA: 31s - loss: 0.0021 - accuracy: 0.999 - ETA: 30s - loss: 0.0021 - accuracy: 0.999 - ETA: 29s - loss: 0.0021 - accuracy: 0.999 - ETA: 27s - loss: 0.0021 - accuracy: 0.999 - ETA: 26s - loss: 0.0021 - accuracy: 0.999 - ETA: 25s - loss: 0.0021 - accuracy: 0.999 - ETA: 23s - loss: 0.0023 - accuracy: 0.999 - ETA: 22s - loss: 0.0023 - accuracy: 0.999 - ETA: 21s - loss: 0.0022 - accuracy: 0.999 - ETA: 19s - loss: 0.0022 - accuracy: 0.999 - ETA: 18s - loss: 0.0022 - accuracy: 0.999 - ETA: 17s - loss: 0.0022 - accuracy: 0.999 - ETA: 15s - loss: 0.0024 - accuracy: 0.998 - ETA: 14s - loss: 0.0023 - accuracy: 0.998 - ETA: 13s - loss: 0.0023 - accuracy: 0.998 - ETA: 11s - loss: 0.0024 - accuracy: 0.998 - ETA: 10s - loss: 0.0024 - accuracy: 0.998 - ETA: 9s - loss: 0.0023 - accuracy: 0.998 - ETA: 7s - loss: 0.0023 - accuracy: 0.99 - ETA: 6s - loss: 0.0023 - accuracy: 0.99 - ETA: 5s - loss: 0.0023 - accuracy: 0.99 - ETA: 3s - loss: 0.0023 - accuracy: 0.99 - ETA: 2s - loss: 0.0023 - accuracy: 0.99 - ETA: 1s - loss: 0.0023 - accuracy: 0.99 - ETA: 0s - loss: 0.0023 - accuracy: 0.99 - 246s 1s/step - loss: 0.0023 - accuracy: 0.9990 - val_loss: 0.0056 - val_accuracy: 0.9984\n"
     ]
    },
    {
     "name": "stdout",
     "output_type": "stream",
     "text": [
      "Epoch 7/10\n",
      "180/180 [==============================] - ETA: 3:44 - loss: 2.9183e-04 - accuracy: 1.00 - ETA: 3:52 - loss: 1.4787e-04 - accuracy: 1.00 - ETA: 3:49 - loss: 1.1736e-04 - accuracy: 1.00 - ETA: 3:46 - loss: 2.0106e-04 - accuracy: 1.00 - ETA: 3:45 - loss: 2.0472e-04 - accuracy: 1.00 - ETA: 3:44 - loss: 2.4966e-04 - accuracy: 1.00 - ETA: 3:42 - loss: 0.0020 - accuracy: 1.0000   - ETA: 3:41 - loss: 0.0018 - accuracy: 1.00 - ETA: 3:39 - loss: 0.0016 - accuracy: 1.00 - ETA: 3:38 - loss: 0.0033 - accuracy: 1.00 - ETA: 3:36 - loss: 0.0030 - accuracy: 1.00 - ETA: 3:35 - loss: 0.0028 - accuracy: 1.00 - ETA: 3:34 - loss: 0.0026 - accuracy: 1.00 - ETA: 3:32 - loss: 0.0052 - accuracy: 0.99 - ETA: 3:31 - loss: 0.0059 - accuracy: 0.99 - ETA: 3:29 - loss: 0.0056 - accuracy: 0.99 - ETA: 3:28 - loss: 0.0053 - accuracy: 0.99 - ETA: 3:27 - loss: 0.0050 - accuracy: 0.99 - ETA: 3:26 - loss: 0.0047 - accuracy: 0.99 - ETA: 3:24 - loss: 0.0045 - accuracy: 0.99 - ETA: 3:23 - loss: 0.0043 - accuracy: 0.99 - ETA: 3:22 - loss: 0.0041 - accuracy: 0.99 - ETA: 3:20 - loss: 0.0039 - accuracy: 0.99 - ETA: 3:19 - loss: 0.0037 - accuracy: 0.99 - ETA: 3:18 - loss: 0.0036 - accuracy: 0.99 - ETA: 3:16 - loss: 0.0035 - accuracy: 0.99 - ETA: 3:15 - loss: 0.0034 - accuracy: 0.99 - ETA: 3:14 - loss: 0.0033 - accuracy: 0.99 - ETA: 3:13 - loss: 0.0032 - accuracy: 0.99 - ETA: 3:11 - loss: 0.0031 - accuracy: 0.99 - ETA: 3:10 - loss: 0.0030 - accuracy: 0.99 - ETA: 3:09 - loss: 0.0051 - accuracy: 0.99 - ETA: 3:07 - loss: 0.0050 - accuracy: 0.99 - ETA: 3:06 - loss: 0.0048 - accuracy: 0.99 - ETA: 3:05 - loss: 0.0047 - accuracy: 0.99 - ETA: 3:04 - loss: 0.0046 - accuracy: 0.99 - ETA: 3:02 - loss: 0.0045 - accuracy: 0.99 - ETA: 3:01 - loss: 0.0044 - accuracy: 0.99 - ETA: 3:00 - loss: 0.0072 - accuracy: 0.99 - ETA: 2:59 - loss: 0.0073 - accuracy: 0.99 - ETA: 2:57 - loss: 0.0071 - accuracy: 0.99 - ETA: 2:56 - loss: 0.0069 - accuracy: 0.99 - ETA: 2:55 - loss: 0.0068 - accuracy: 0.99 - ETA: 2:53 - loss: 0.0066 - accuracy: 0.99 - ETA: 2:52 - loss: 0.0065 - accuracy: 0.99 - ETA: 2:51 - loss: 0.0063 - accuracy: 0.99 - ETA: 2:49 - loss: 0.0062 - accuracy: 0.99 - ETA: 2:48 - loss: 0.0061 - accuracy: 0.99 - ETA: 2:47 - loss: 0.0060 - accuracy: 0.99 - ETA: 2:46 - loss: 0.0058 - accuracy: 0.99 - ETA: 2:45 - loss: 0.0058 - accuracy: 0.99 - ETA: 2:43 - loss: 0.0066 - accuracy: 0.99 - ETA: 2:42 - loss: 0.0066 - accuracy: 0.99 - ETA: 2:41 - loss: 0.0065 - accuracy: 0.99 - ETA: 2:39 - loss: 0.0064 - accuracy: 0.99 - ETA: 2:38 - loss: 0.0063 - accuracy: 0.99 - ETA: 2:37 - loss: 0.0062 - accuracy: 0.99 - ETA: 2:36 - loss: 0.0061 - accuracy: 0.99 - ETA: 2:34 - loss: 0.0060 - accuracy: 0.99 - ETA: 2:33 - loss: 0.0059 - accuracy: 0.99 - ETA: 2:32 - loss: 0.0058 - accuracy: 0.99 - ETA: 2:31 - loss: 0.0057 - accuracy: 0.99 - ETA: 2:29 - loss: 0.0057 - accuracy: 0.99 - ETA: 2:28 - loss: 0.0056 - accuracy: 0.99 - ETA: 2:27 - loss: 0.0055 - accuracy: 0.99 - ETA: 2:26 - loss: 0.0066 - accuracy: 0.99 - ETA: 2:24 - loss: 0.0065 - accuracy: 0.99 - ETA: 2:23 - loss: 0.0064 - accuracy: 0.99 - ETA: 2:22 - loss: 0.0063 - accuracy: 0.99 - ETA: 2:21 - loss: 0.0069 - accuracy: 0.99 - ETA: 2:20 - loss: 0.0068 - accuracy: 0.99 - ETA: 2:18 - loss: 0.0067 - accuracy: 0.99 - ETA: 2:17 - loss: 0.0068 - accuracy: 0.99 - ETA: 2:16 - loss: 0.0067 - accuracy: 0.99 - ETA: 2:14 - loss: 0.0067 - accuracy: 0.99 - ETA: 2:13 - loss: 0.0066 - accuracy: 0.99 - ETA: 2:12 - loss: 0.0065 - accuracy: 0.99 - ETA: 2:11 - loss: 0.0064 - accuracy: 0.99 - ETA: 2:09 - loss: 0.0063 - accuracy: 0.99 - ETA: 2:08 - loss: 0.0063 - accuracy: 0.99 - ETA: 2:07 - loss: 0.0062 - accuracy: 0.99 - ETA: 2:06 - loss: 0.0061 - accuracy: 0.99 - ETA: 2:04 - loss: 0.0061 - accuracy: 0.99 - ETA: 2:03 - loss: 0.0060 - accuracy: 0.99 - ETA: 2:02 - loss: 0.0059 - accuracy: 0.99 - ETA: 2:00 - loss: 0.0059 - accuracy: 0.99 - ETA: 1:59 - loss: 0.0062 - accuracy: 0.99 - ETA: 1:58 - loss: 0.0061 - accuracy: 0.99 - ETA: 1:57 - loss: 0.0061 - accuracy: 0.99 - ETA: 1:55 - loss: 0.0060 - accuracy: 0.99 - ETA: 1:54 - loss: 0.0059 - accuracy: 0.99 - ETA: 1:53 - loss: 0.0059 - accuracy: 0.99 - ETA: 1:52 - loss: 0.0058 - accuracy: 0.99 - ETA: 1:50 - loss: 0.0057 - accuracy: 0.99 - ETA: 1:49 - loss: 0.0057 - accuracy: 0.99 - ETA: 1:48 - loss: 0.0057 - accuracy: 0.99 - ETA: 1:46 - loss: 0.0056 - accuracy: 0.99 - ETA: 1:45 - loss: 0.0056 - accuracy: 0.99 - ETA: 1:44 - loss: 0.0055 - accuracy: 0.99 - ETA: 1:43 - loss: 0.0055 - accuracy: 0.99 - ETA: 1:42 - loss: 0.0054 - accuracy: 0.99 - ETA: 1:40 - loss: 0.0054 - accuracy: 0.99 - ETA: 1:39 - loss: 0.0053 - accuracy: 0.99 - ETA: 1:38 - loss: 0.0053 - accuracy: 0.99 - ETA: 1:37 - loss: 0.0052 - accuracy: 0.99 - ETA: 1:35 - loss: 0.0052 - accuracy: 0.99 - ETA: 1:34 - loss: 0.0051 - accuracy: 0.99 - ETA: 1:33 - loss: 0.0051 - accuracy: 0.99 - ETA: 1:31 - loss: 0.0050 - accuracy: 0.99 - ETA: 1:30 - loss: 0.0050 - accuracy: 0.99 - ETA: 1:29 - loss: 0.0049 - accuracy: 0.99 - ETA: 1:27 - loss: 0.0049 - accuracy: 0.99 - ETA: 1:26 - loss: 0.0049 - accuracy: 0.99 - ETA: 1:25 - loss: 0.0052 - accuracy: 0.99 - ETA: 1:24 - loss: 0.0052 - accuracy: 0.99 - ETA: 1:22 - loss: 0.0051 - accuracy: 0.99 - ETA: 1:21 - loss: 0.0051 - accuracy: 0.99 - ETA: 1:20 - loss: 0.0051 - accuracy: 0.99 - ETA: 1:18 - loss: 0.0050 - accuracy: 0.99 - ETA: 1:17 - loss: 0.0050 - accuracy: 0.99 - ETA: 1:16 - loss: 0.0049 - accuracy: 0.99 - ETA: 1:15 - loss: 0.0049 - accuracy: 0.99 - ETA: 1:13 - loss: 0.0053 - accuracy: 0.99 - ETA: 1:12 - loss: 0.0053 - accuracy: 0.99 - ETA: 1:11 - loss: 0.0053 - accuracy: 0.99 - ETA: 1:09 - loss: 0.0052 - accuracy: 0.99 - ETA: 1:08 - loss: 0.0052 - accuracy: 0.99 - ETA: 1:07 - loss: 0.0052 - accuracy: 0.99 - ETA: 1:05 - loss: 0.0051 - accuracy: 0.99 - ETA: 1:04 - loss: 0.0051 - accuracy: 0.99 - ETA: 1:03 - loss: 0.0050 - accuracy: 0.99 - ETA: 1:02 - loss: 0.0050 - accuracy: 0.99 - ETA: 1:00 - loss: 0.0050 - accuracy: 0.99 - ETA: 59s - loss: 0.0049 - accuracy: 0.9979 - ETA: 58s - loss: 0.0049 - accuracy: 0.997 - ETA: 56s - loss: 0.0049 - accuracy: 0.997 - ETA: 55s - loss: 0.0048 - accuracy: 0.997 - ETA: 54s - loss: 0.0048 - accuracy: 0.998 - ETA: 53s - loss: 0.0048 - accuracy: 0.998 - ETA: 51s - loss: 0.0047 - accuracy: 0.998 - ETA: 50s - loss: 0.0047 - accuracy: 0.998 - ETA: 49s - loss: 0.0047 - accuracy: 0.998 - ETA: 47s - loss: 0.0046 - accuracy: 0.998 - ETA: 46s - loss: 0.0046 - accuracy: 0.998 - ETA: 45s - loss: 0.0046 - accuracy: 0.998 - ETA: 44s - loss: 0.0045 - accuracy: 0.998 - ETA: 42s - loss: 0.0045 - accuracy: 0.998 - ETA: 41s - loss: 0.0045 - accuracy: 0.998 - ETA: 40s - loss: 0.0046 - accuracy: 0.998 - ETA: 38s - loss: 0.0045 - accuracy: 0.998 - ETA: 37s - loss: 0.0045 - accuracy: 0.998 - ETA: 36s - loss: 0.0045 - accuracy: 0.998 - ETA: 35s - loss: 0.0045 - accuracy: 0.998 - ETA: 33s - loss: 0.0044 - accuracy: 0.998 - ETA: 32s - loss: 0.0044 - accuracy: 0.998 - ETA: 31s - loss: 0.0044 - accuracy: 0.998 - ETA: 29s - loss: 0.0044 - accuracy: 0.998 - ETA: 28s - loss: 0.0044 - accuracy: 0.998 - ETA: 27s - loss: 0.0044 - accuracy: 0.998 - ETA: 25s - loss: 0.0043 - accuracy: 0.998 - ETA: 24s - loss: 0.0043 - accuracy: 0.998 - ETA: 23s - loss: 0.0043 - accuracy: 0.998 - ETA: 22s - loss: 0.0043 - accuracy: 0.998 - ETA: 20s - loss: 0.0042 - accuracy: 0.998 - ETA: 19s - loss: 0.0042 - accuracy: 0.998 - ETA: 18s - loss: 0.0042 - accuracy: 0.998 - ETA: 16s - loss: 0.0042 - accuracy: 0.998 - ETA: 15s - loss: 0.0041 - accuracy: 0.998 - ETA: 14s - loss: 0.0041 - accuracy: 0.998 - ETA: 12s - loss: 0.0041 - accuracy: 0.998 - ETA: 11s - loss: 0.0041 - accuracy: 0.998 - ETA: 10s - loss: 0.0040 - accuracy: 0.998 - ETA: 9s - loss: 0.0040 - accuracy: 0.998 - ETA: 7s - loss: 0.0040 - accuracy: 0.99 - ETA: 6s - loss: 0.0040 - accuracy: 0.99 - ETA: 5s - loss: 0.0040 - accuracy: 0.99 - ETA: 3s - loss: 0.0039 - accuracy: 0.99 - ETA: 2s - loss: 0.0039 - accuracy: 0.99 - ETA: 1s - loss: 0.0039 - accuracy: 0.99 - ETA: 0s - loss: 0.0039 - accuracy: 0.99 - 241s 1s/step - loss: 0.0039 - accuracy: 0.9984 - val_loss: 1.6656e-04 - val_accuracy: 1.0000\n",
      "Epoch 8/10\n"
     ]
    },
    {
     "name": "stdout",
     "output_type": "stream",
     "text": [
      "174/180 [============================>.] - ETA: 3:47 - loss: 4.0642e-06 - accuracy: 1.00 - ETA: 3:58 - loss: 1.7710e-04 - accuracy: 1.00 - ETA: 3:53 - loss: 1.1980e-04 - accuracy: 1.00 - ETA: 3:50 - loss: 2.5781e-04 - accuracy: 1.00 - ETA: 3:49 - loss: 2.1096e-04 - accuracy: 1.00 - ETA: 3:47 - loss: 1.7715e-04 - accuracy: 1.00 - ETA: 3:46 - loss: 1.5415e-04 - accuracy: 1.00 - ETA: 3:44 - loss: 1.7598e-04 - accuracy: 1.00 - ETA: 3:42 - loss: 1.8541e-04 - accuracy: 1.00 - ETA: 3:41 - loss: 8.0618e-04 - accuracy: 1.00 - ETA: 3:39 - loss: 7.3456e-04 - accuracy: 1.00 - ETA: 3:38 - loss: 6.7412e-04 - accuracy: 1.00 - ETA: 3:37 - loss: 6.2793e-04 - accuracy: 1.00 - ETA: 3:35 - loss: 5.8396e-04 - accuracy: 1.00 - ETA: 3:34 - loss: 5.4647e-04 - accuracy: 1.00 - ETA: 3:32 - loss: 5.1402e-04 - accuracy: 1.00 - ETA: 3:31 - loss: 4.8500e-04 - accuracy: 1.00 - ETA: 3:30 - loss: 4.5927e-04 - accuracy: 1.00 - ETA: 3:28 - loss: 4.3945e-04 - accuracy: 1.00 - ETA: 3:27 - loss: 4.1994e-04 - accuracy: 1.00 - ETA: 3:26 - loss: 4.0036e-04 - accuracy: 1.00 - ETA: 3:25 - loss: 3.8247e-04 - accuracy: 1.00 - ETA: 3:23 - loss: 3.6923e-04 - accuracy: 1.00 - ETA: 3:22 - loss: 3.5392e-04 - accuracy: 1.00 - ETA: 3:21 - loss: 3.4959e-04 - accuracy: 1.00 - ETA: 3:19 - loss: 3.7559e-04 - accuracy: 1.00 - ETA: 3:18 - loss: 4.2774e-04 - accuracy: 1.00 - ETA: 3:17 - loss: 4.2888e-04 - accuracy: 1.00 - ETA: 3:16 - loss: 4.1452e-04 - accuracy: 1.00 - ETA: 3:14 - loss: 4.0268e-04 - accuracy: 1.00 - ETA: 3:13 - loss: 4.0211e-04 - accuracy: 1.00 - ETA: 3:12 - loss: 3.9042e-04 - accuracy: 1.00 - ETA: 3:10 - loss: 3.7910e-04 - accuracy: 1.00 - ETA: 3:09 - loss: 3.6861e-04 - accuracy: 1.00 - ETA: 3:08 - loss: 3.5908e-04 - accuracy: 1.00 - ETA: 3:06 - loss: 3.4925e-04 - accuracy: 1.00 - ETA: 3:05 - loss: 3.3987e-04 - accuracy: 1.00 - ETA: 3:04 - loss: 4.3818e-04 - accuracy: 1.00 - ETA: 3:03 - loss: 4.2903e-04 - accuracy: 1.00 - ETA: 3:01 - loss: 4.1834e-04 - accuracy: 1.00 - ETA: 3:00 - loss: 4.0901e-04 - accuracy: 1.00 - ETA: 2:59 - loss: 4.0431e-04 - accuracy: 1.00 - ETA: 2:58 - loss: 3.9592e-04 - accuracy: 1.00 - ETA: 2:56 - loss: 3.8716e-04 - accuracy: 1.00 - ETA: 2:55 - loss: 3.7905e-04 - accuracy: 1.00 - ETA: 2:54 - loss: 6.7814e-04 - accuracy: 1.00 - ETA: 2:54 - loss: 6.6387e-04 - accuracy: 1.00 - ETA: 2:53 - loss: 6.5018e-04 - accuracy: 1.00 - ETA: 2:52 - loss: 6.3888e-04 - accuracy: 1.00 - ETA: 2:51 - loss: 6.2738e-04 - accuracy: 1.00 - ETA: 2:50 - loss: 6.1540e-04 - accuracy: 1.00 - ETA: 2:49 - loss: 6.0369e-04 - accuracy: 1.00 - ETA: 2:47 - loss: 5.9251e-04 - accuracy: 1.00 - ETA: 2:46 - loss: 5.8158e-04 - accuracy: 1.00 - ETA: 2:45 - loss: 5.7169e-04 - accuracy: 1.00 - ETA: 2:44 - loss: 5.6167e-04 - accuracy: 1.00 - ETA: 2:43 - loss: 6.5547e-04 - accuracy: 1.00 - ETA: 2:42 - loss: 6.4423e-04 - accuracy: 1.00 - ETA: 2:41 - loss: 6.3613e-04 - accuracy: 1.00 - ETA: 2:40 - loss: 6.2649e-04 - accuracy: 1.00 - ETA: 2:39 - loss: 6.2702e-04 - accuracy: 1.00 - ETA: 2:37 - loss: 6.1725e-04 - accuracy: 1.00 - ETA: 2:36 - loss: 6.1541e-04 - accuracy: 1.00 - ETA: 2:35 - loss: 6.0583e-04 - accuracy: 1.00 - ETA: 2:34 - loss: 7.3148e-04 - accuracy: 1.00 - ETA: 2:33 - loss: 7.2732e-04 - accuracy: 1.00 - ETA: 2:32 - loss: 7.1650e-04 - accuracy: 1.00 - ETA: 2:32 - loss: 7.0604e-04 - accuracy: 1.00 - ETA: 2:30 - loss: 6.9583e-04 - accuracy: 1.00 - ETA: 2:29 - loss: 6.8773e-04 - accuracy: 1.00 - ETA: 2:28 - loss: 6.7810e-04 - accuracy: 1.00 - ETA: 2:27 - loss: 7.0762e-04 - accuracy: 1.00 - ETA: 2:26 - loss: 6.9880e-04 - accuracy: 1.00 - ETA: 2:25 - loss: 6.9337e-04 - accuracy: 1.00 - ETA: 2:23 - loss: 8.3293e-04 - accuracy: 1.00 - ETA: 2:22 - loss: 8.2273e-04 - accuracy: 1.00 - ETA: 2:21 - loss: 8.1227e-04 - accuracy: 1.00 - ETA: 2:19 - loss: 8.0202e-04 - accuracy: 1.00 - ETA: 2:18 - loss: 7.9242e-04 - accuracy: 1.00 - ETA: 2:16 - loss: 7.8262e-04 - accuracy: 1.00 - ETA: 2:15 - loss: 7.7307e-04 - accuracy: 1.00 - ETA: 2:13 - loss: 7.6416e-04 - accuracy: 1.00 - ETA: 2:12 - loss: 7.5520e-04 - accuracy: 1.00 - ETA: 2:11 - loss: 7.4629e-04 - accuracy: 1.00 - ETA: 2:09 - loss: 7.4096e-04 - accuracy: 1.00 - ETA: 2:08 - loss: 7.3235e-04 - accuracy: 1.00 - ETA: 2:06 - loss: 7.2872e-04 - accuracy: 1.00 - ETA: 2:05 - loss: 7.2049e-04 - accuracy: 1.00 - ETA: 2:03 - loss: 7.1249e-04 - accuracy: 1.00 - ETA: 2:02 - loss: 7.0458e-04 - accuracy: 1.00 - ETA: 2:01 - loss: 6.9710e-04 - accuracy: 1.00 - ETA: 1:59 - loss: 6.8981e-04 - accuracy: 1.00 - ETA: 1:58 - loss: 6.8293e-04 - accuracy: 1.00 - ETA: 1:56 - loss: 6.7575e-04 - accuracy: 1.00 - ETA: 1:55 - loss: 6.7141e-04 - accuracy: 1.00 - ETA: 1:54 - loss: 6.6463e-04 - accuracy: 1.00 - ETA: 1:52 - loss: 6.5782e-04 - accuracy: 1.00 - ETA: 1:51 - loss: 6.5133e-04 - accuracy: 1.00 - ETA: 1:49 - loss: 6.4505e-04 - accuracy: 1.00 - ETA: 1:48 - loss: 6.3871e-04 - accuracy: 1.00 - ETA: 1:46 - loss: 6.3241e-04 - accuracy: 1.00 - ETA: 1:45 - loss: 6.2622e-04 - accuracy: 1.00 - ETA: 1:44 - loss: 6.2015e-04 - accuracy: 1.00 - ETA: 1:42 - loss: 6.1886e-04 - accuracy: 1.00 - ETA: 1:41 - loss: 6.1298e-04 - accuracy: 1.00 - ETA: 1:40 - loss: 6.0896e-04 - accuracy: 1.00 - ETA: 1:38 - loss: 6.1664e-04 - accuracy: 1.00 - ETA: 1:37 - loss: 6.1200e-04 - accuracy: 1.00 - ETA: 1:35 - loss: 6.0643e-04 - accuracy: 1.00 - ETA: 1:34 - loss: 6.0103e-04 - accuracy: 1.00 - ETA: 1:33 - loss: 5.9996e-04 - accuracy: 1.00 - ETA: 1:31 - loss: 5.9465e-04 - accuracy: 1.00 - ETA: 1:30 - loss: 5.8996e-04 - accuracy: 1.00 - ETA: 1:28 - loss: 5.8487e-04 - accuracy: 1.00 - ETA: 1:27 - loss: 5.7983e-04 - accuracy: 1.00 - ETA: 1:26 - loss: 5.7496e-04 - accuracy: 1.00 - ETA: 1:24 - loss: 6.7461e-04 - accuracy: 1.00 - ETA: 1:23 - loss: 6.6924e-04 - accuracy: 1.00 - ETA: 1:22 - loss: 6.6362e-04 - accuracy: 1.00 - ETA: 1:20 - loss: 6.5810e-04 - accuracy: 1.00 - ETA: 1:19 - loss: 6.5277e-04 - accuracy: 1.00 - ETA: 1:17 - loss: 6.6192e-04 - accuracy: 1.00 - ETA: 1:16 - loss: 6.5866e-04 - accuracy: 1.00 - ETA: 1:15 - loss: 6.5643e-04 - accuracy: 1.00 - ETA: 1:13 - loss: 6.5160e-04 - accuracy: 1.00 - ETA: 1:12 - loss: 6.5029e-04 - accuracy: 1.00 - ETA: 1:11 - loss: 6.4894e-04 - accuracy: 1.00 - ETA: 1:09 - loss: 6.4388e-04 - accuracy: 1.00 - ETA: 1:08 - loss: 6.3901e-04 - accuracy: 1.00 - ETA: 1:07 - loss: 6.3561e-04 - accuracy: 1.00 - ETA: 1:05 - loss: 6.3131e-04 - accuracy: 1.00 - ETA: 1:04 - loss: 6.2775e-04 - accuracy: 1.00 - ETA: 1:02 - loss: 0.0019 - accuracy: 0.9998   - ETA: 1:01 - loss: 0.0019 - accuracy: 0.99 - ETA: 1:00 - loss: 0.0019 - accuracy: 0.99 - ETA: 58s - loss: 0.0019 - accuracy: 0.9998 - ETA: 57s - loss: 0.0018 - accuracy: 0.999 - ETA: 56s - loss: 0.0018 - accuracy: 0.999 - ETA: 54s - loss: 0.0018 - accuracy: 0.999 - ETA: 53s - loss: 0.0018 - accuracy: 0.999 - ETA: 52s - loss: 0.0018 - accuracy: 0.999 - ETA: 50s - loss: 0.0018 - accuracy: 0.999 - ETA: 49s - loss: 0.0018 - accuracy: 0.999 - ETA: 48s - loss: 0.0019 - accuracy: 0.999 - ETA: 46s - loss: 0.0022 - accuracy: 0.999 - ETA: 45s - loss: 0.0026 - accuracy: 0.999 - ETA: 44s - loss: 0.0025 - accuracy: 0.999 - ETA: 42s - loss: 0.0025 - accuracy: 0.999 - ETA: 41s - loss: 0.0025 - accuracy: 0.999 - ETA: 40s - loss: 0.0026 - accuracy: 0.999 - ETA: 38s - loss: 0.0027 - accuracy: 0.999 - ETA: 37s - loss: 0.0027 - accuracy: 0.999 - ETA: 35s - loss: 0.0043 - accuracy: 0.999 - ETA: 34s - loss: 0.0043 - accuracy: 0.999 - ETA: 33s - loss: 0.0043 - accuracy: 0.999 - ETA: 31s - loss: 0.0043 - accuracy: 0.999 - ETA: 30s - loss: 0.0042 - accuracy: 0.999 - ETA: 29s - loss: 0.0042 - accuracy: 0.999 - ETA: 27s - loss: 0.0042 - accuracy: 0.999 - ETA: 26s - loss: 0.0056 - accuracy: 0.998 - ETA: 25s - loss: 0.0056 - accuracy: 0.998 - ETA: 23s - loss: 0.0057 - accuracy: 0.998 - ETA: 22s - loss: 0.0057 - accuracy: 0.998 - ETA: 21s - loss: 0.0057 - accuracy: 0.998 - ETA: 19s - loss: 0.0057 - accuracy: 0.998 - ETA: 18s - loss: 0.0057 - accuracy: 0.998 - ETA: 17s - loss: 0.0067 - accuracy: 0.998 - ETA: 15s - loss: 0.0067 - accuracy: 0.998 - ETA: 14s - loss: 0.0066 - accuracy: 0.998 - ETA: 13s - loss: 0.0066 - accuracy: 0.998 - ETA: 11s - loss: 0.0067 - accuracy: 0.998 - ETA: 10s - loss: 0.0066 - accuracy: 0.998 - ETA: 9s - loss: 0.0075 - accuracy: 0.998 - ETA: 7s - loss: 0.0074 - accuracy: 0.9986"
     ]
    },
    {
     "name": "stdout",
     "output_type": "stream",
     "text": [
      "180/180 [==============================] - ETA: 6s - loss: 0.0074 - accuracy: 0.99 - ETA: 5s - loss: 0.0073 - accuracy: 0.99 - ETA: 3s - loss: 0.0073 - accuracy: 0.99 - ETA: 2s - loss: 0.0073 - accuracy: 0.99 - ETA: 1s - loss: 0.0072 - accuracy: 0.99 - ETA: 0s - loss: 0.0072 - accuracy: 0.99 - 246s 1s/step - loss: 0.0072 - accuracy: 0.9986 - val_loss: 0.0011 - val_accuracy: 1.0000\n",
      "Epoch 9/10\n"
     ]
    },
    {
     "name": "stdout",
     "output_type": "stream",
     "text": [
      "180/180 [==============================] - ETA: 3:43 - loss: 0.0016 - accuracy: 1.00 - ETA: 3:46 - loss: 8.8059e-04 - accuracy: 1.00 - ETA: 3:45 - loss: 7.8533e-04 - accuracy: 1.00 - ETA: 3:43 - loss: 0.0011 - accuracy: 1.0000   - ETA: 3:43 - loss: 0.0115 - accuracy: 0.99 - ETA: 3:41 - loss: 0.0124 - accuracy: 0.99 - ETA: 3:39 - loss: 0.0106 - accuracy: 0.99 - ETA: 3:38 - loss: 0.0093 - accuracy: 0.99 - ETA: 3:37 - loss: 0.0087 - accuracy: 0.99 - ETA: 3:35 - loss: 0.0078 - accuracy: 0.99 - ETA: 3:34 - loss: 0.0071 - accuracy: 0.99 - ETA: 3:32 - loss: 0.0065 - accuracy: 0.99 - ETA: 3:31 - loss: 0.0066 - accuracy: 0.99 - ETA: 3:30 - loss: 0.0061 - accuracy: 0.99 - ETA: 3:29 - loss: 0.0057 - accuracy: 0.99 - ETA: 3:27 - loss: 0.0053 - accuracy: 0.99 - ETA: 3:26 - loss: 0.0051 - accuracy: 0.99 - ETA: 3:25 - loss: 0.0048 - accuracy: 0.99 - ETA: 3:24 - loss: 0.0046 - accuracy: 0.99 - ETA: 3:22 - loss: 0.0044 - accuracy: 0.99 - ETA: 3:21 - loss: 0.0041 - accuracy: 0.99 - ETA: 3:20 - loss: 0.0040 - accuracy: 0.99 - ETA: 3:19 - loss: 0.0038 - accuracy: 0.99 - ETA: 3:17 - loss: 0.0053 - accuracy: 0.99 - ETA: 3:16 - loss: 0.0051 - accuracy: 0.99 - ETA: 3:15 - loss: 0.0049 - accuracy: 0.99 - ETA: 3:14 - loss: 0.0047 - accuracy: 0.99 - ETA: 3:12 - loss: 0.0046 - accuracy: 0.99 - ETA: 3:11 - loss: 0.0045 - accuracy: 0.99 - ETA: 3:10 - loss: 0.0044 - accuracy: 0.99 - ETA: 3:08 - loss: 0.0043 - accuracy: 0.99 - ETA: 3:07 - loss: 0.0041 - accuracy: 0.99 - ETA: 3:06 - loss: 0.0040 - accuracy: 0.99 - ETA: 3:05 - loss: 0.0039 - accuracy: 0.99 - ETA: 3:03 - loss: 0.0038 - accuracy: 0.99 - ETA: 3:02 - loss: 0.0037 - accuracy: 0.99 - ETA: 3:01 - loss: 0.0036 - accuracy: 0.99 - ETA: 2:59 - loss: 0.0035 - accuracy: 0.99 - ETA: 2:59 - loss: 0.0035 - accuracy: 0.99 - ETA: 2:58 - loss: 0.0034 - accuracy: 0.99 - ETA: 2:57 - loss: 0.0034 - accuracy: 0.99 - ETA: 2:56 - loss: 0.0033 - accuracy: 0.99 - ETA: 2:54 - loss: 0.0032 - accuracy: 0.99 - ETA: 2:53 - loss: 0.0031 - accuracy: 0.99 - ETA: 2:52 - loss: 0.0031 - accuracy: 0.99 - ETA: 2:51 - loss: 0.0030 - accuracy: 0.99 - ETA: 2:50 - loss: 0.0030 - accuracy: 0.99 - ETA: 2:49 - loss: 0.0029 - accuracy: 0.99 - ETA: 2:48 - loss: 0.0029 - accuracy: 0.99 - ETA: 2:46 - loss: 0.0028 - accuracy: 0.99 - ETA: 2:45 - loss: 0.0028 - accuracy: 0.99 - ETA: 2:44 - loss: 0.0027 - accuracy: 0.99 - ETA: 2:42 - loss: 0.0027 - accuracy: 0.99 - ETA: 2:41 - loss: 0.0029 - accuracy: 0.99 - ETA: 2:40 - loss: 0.0029 - accuracy: 0.99 - ETA: 2:39 - loss: 0.0028 - accuracy: 0.99 - ETA: 2:37 - loss: 0.0028 - accuracy: 0.99 - ETA: 2:36 - loss: 0.0028 - accuracy: 0.99 - ETA: 2:35 - loss: 0.0027 - accuracy: 0.99 - ETA: 2:33 - loss: 0.0027 - accuracy: 0.99 - ETA: 2:32 - loss: 0.0027 - accuracy: 0.99 - ETA: 2:31 - loss: 0.0026 - accuracy: 0.99 - ETA: 2:30 - loss: 0.0026 - accuracy: 0.99 - ETA: 2:28 - loss: 0.0026 - accuracy: 0.99 - ETA: 2:28 - loss: 0.0025 - accuracy: 0.99 - ETA: 2:27 - loss: 0.0025 - accuracy: 0.99 - ETA: 2:25 - loss: 0.0024 - accuracy: 0.99 - ETA: 2:24 - loss: 0.0024 - accuracy: 0.99 - ETA: 2:23 - loss: 0.0024 - accuracy: 0.99 - ETA: 2:22 - loss: 0.0023 - accuracy: 0.99 - ETA: 2:20 - loss: 0.0023 - accuracy: 0.99 - ETA: 2:19 - loss: 0.0023 - accuracy: 0.99 - ETA: 2:18 - loss: 0.0022 - accuracy: 0.99 - ETA: 2:16 - loss: 0.0023 - accuracy: 0.99 - ETA: 2:15 - loss: 0.0023 - accuracy: 0.99 - ETA: 2:14 - loss: 0.0023 - accuracy: 0.99 - ETA: 2:12 - loss: 0.0022 - accuracy: 0.99 - ETA: 2:11 - loss: 0.0022 - accuracy: 0.99 - ETA: 2:10 - loss: 0.0022 - accuracy: 0.99 - ETA: 2:08 - loss: 0.0022 - accuracy: 0.99 - ETA: 2:07 - loss: 0.0021 - accuracy: 0.99 - ETA: 2:06 - loss: 0.0021 - accuracy: 0.99 - ETA: 2:05 - loss: 0.0021 - accuracy: 0.99 - ETA: 2:03 - loss: 0.0021 - accuracy: 0.99 - ETA: 2:02 - loss: 0.0020 - accuracy: 0.99 - ETA: 2:01 - loss: 0.0020 - accuracy: 0.99 - ETA: 1:59 - loss: 0.0020 - accuracy: 0.99 - ETA: 1:58 - loss: 0.0020 - accuracy: 0.99 - ETA: 1:57 - loss: 0.0020 - accuracy: 0.99 - ETA: 1:56 - loss: 0.0020 - accuracy: 0.99 - ETA: 1:54 - loss: 0.0020 - accuracy: 0.99 - ETA: 1:53 - loss: 0.0020 - accuracy: 0.99 - ETA: 1:52 - loss: 0.0020 - accuracy: 0.99 - ETA: 1:50 - loss: 0.0020 - accuracy: 0.99 - ETA: 1:49 - loss: 0.0019 - accuracy: 0.99 - ETA: 1:48 - loss: 0.0019 - accuracy: 0.99 - ETA: 1:47 - loss: 0.0019 - accuracy: 0.99 - ETA: 1:45 - loss: 0.0019 - accuracy: 0.99 - ETA: 1:44 - loss: 0.0019 - accuracy: 0.99 - ETA: 1:43 - loss: 0.0018 - accuracy: 0.99 - ETA: 1:41 - loss: 0.0018 - accuracy: 0.99 - ETA: 1:40 - loss: 0.0018 - accuracy: 0.99 - ETA: 1:39 - loss: 0.0018 - accuracy: 0.99 - ETA: 1:37 - loss: 0.0018 - accuracy: 0.99 - ETA: 1:36 - loss: 0.0018 - accuracy: 0.99 - ETA: 1:35 - loss: 0.0018 - accuracy: 0.99 - ETA: 1:34 - loss: 0.0017 - accuracy: 0.99 - ETA: 1:32 - loss: 0.0017 - accuracy: 0.99 - ETA: 1:31 - loss: 0.0017 - accuracy: 0.99 - ETA: 1:30 - loss: 0.0017 - accuracy: 0.99 - ETA: 1:28 - loss: 0.0017 - accuracy: 0.99 - ETA: 1:27 - loss: 0.0017 - accuracy: 0.99 - ETA: 1:26 - loss: 0.0017 - accuracy: 0.99 - ETA: 1:24 - loss: 0.0016 - accuracy: 0.99 - ETA: 1:23 - loss: 0.0016 - accuracy: 0.99 - ETA: 1:22 - loss: 0.0017 - accuracy: 0.99 - ETA: 1:21 - loss: 0.0017 - accuracy: 0.99 - ETA: 1:19 - loss: 0.0017 - accuracy: 0.99 - ETA: 1:18 - loss: 0.0017 - accuracy: 0.99 - ETA: 1:17 - loss: 0.0017 - accuracy: 0.99 - ETA: 1:15 - loss: 0.0016 - accuracy: 0.99 - ETA: 1:14 - loss: 0.0016 - accuracy: 0.99 - ETA: 1:13 - loss: 0.0016 - accuracy: 0.99 - ETA: 1:12 - loss: 0.0016 - accuracy: 0.99 - ETA: 1:10 - loss: 0.0016 - accuracy: 0.99 - ETA: 1:09 - loss: 0.0016 - accuracy: 0.99 - ETA: 1:08 - loss: 0.0016 - accuracy: 0.99 - ETA: 1:07 - loss: 0.0016 - accuracy: 0.99 - ETA: 1:05 - loss: 0.0016 - accuracy: 0.99 - ETA: 1:04 - loss: 0.0015 - accuracy: 0.99 - ETA: 1:03 - loss: 0.0015 - accuracy: 0.99 - ETA: 1:01 - loss: 0.0015 - accuracy: 0.99 - ETA: 1:00 - loss: 0.0015 - accuracy: 0.99 - ETA: 59s - loss: 0.0015 - accuracy: 0.9995 - ETA: 57s - loss: 0.0015 - accuracy: 0.999 - ETA: 56s - loss: 0.0015 - accuracy: 0.999 - ETA: 55s - loss: 0.0015 - accuracy: 0.999 - ETA: 54s - loss: 0.0015 - accuracy: 0.999 - ETA: 52s - loss: 0.0015 - accuracy: 0.999 - ETA: 51s - loss: 0.0014 - accuracy: 0.999 - ETA: 50s - loss: 0.0014 - accuracy: 0.999 - ETA: 49s - loss: 0.0014 - accuracy: 0.999 - ETA: 47s - loss: 0.0014 - accuracy: 0.999 - ETA: 46s - loss: 0.0014 - accuracy: 0.999 - ETA: 45s - loss: 0.0014 - accuracy: 0.999 - ETA: 43s - loss: 0.0014 - accuracy: 0.999 - ETA: 42s - loss: 0.0014 - accuracy: 0.999 - ETA: 41s - loss: 0.0014 - accuracy: 0.999 - ETA: 40s - loss: 0.0014 - accuracy: 0.999 - ETA: 38s - loss: 0.0014 - accuracy: 0.999 - ETA: 37s - loss: 0.0014 - accuracy: 0.999 - ETA: 36s - loss: 0.0014 - accuracy: 0.999 - ETA: 34s - loss: 0.0014 - accuracy: 0.999 - ETA: 33s - loss: 0.0014 - accuracy: 0.999 - ETA: 32s - loss: 0.0014 - accuracy: 0.999 - ETA: 31s - loss: 0.0014 - accuracy: 0.999 - ETA: 29s - loss: 0.0014 - accuracy: 0.999 - ETA: 28s - loss: 0.0014 - accuracy: 0.999 - ETA: 27s - loss: 0.0013 - accuracy: 0.999 - ETA: 25s - loss: 0.0013 - accuracy: 0.999 - ETA: 24s - loss: 0.0013 - accuracy: 0.999 - ETA: 23s - loss: 0.0013 - accuracy: 0.999 - ETA: 22s - loss: 0.0013 - accuracy: 0.999 - ETA: 20s - loss: 0.0013 - accuracy: 0.999 - ETA: 19s - loss: 0.0013 - accuracy: 0.999 - ETA: 18s - loss: 0.0013 - accuracy: 0.999 - ETA: 16s - loss: 0.0013 - accuracy: 0.999 - ETA: 15s - loss: 0.0013 - accuracy: 0.999 - ETA: 14s - loss: 0.0013 - accuracy: 0.999 - ETA: 12s - loss: 0.0013 - accuracy: 0.999 - ETA: 11s - loss: 0.0013 - accuracy: 0.999 - ETA: 10s - loss: 0.0013 - accuracy: 0.999 - ETA: 9s - loss: 0.0012 - accuracy: 0.999 - ETA: 7s - loss: 0.0012 - accuracy: 0.99 - ETA: 6s - loss: 0.0012 - accuracy: 0.99 - ETA: 5s - loss: 0.0012 - accuracy: 0.99 - ETA: 3s - loss: 0.0012 - accuracy: 0.99 - ETA: 2s - loss: 0.0012 - accuracy: 0.99 - ETA: 1s - loss: 0.0012 - accuracy: 0.99 - ETA: 0s - loss: 0.0012 - accuracy: 0.99 - 241s 1s/step - loss: 0.0012 - accuracy: 0.9997 - val_loss: 0.0039 - val_accuracy: 0.9984\n",
      "Epoch 10/10\n"
     ]
    },
    {
     "name": "stdout",
     "output_type": "stream",
     "text": [
      "180/180 [==============================] - ETA: 3:53 - loss: 2.2277e-06 - accuracy: 1.00 - ETA: 3:47 - loss: 1.5013e-06 - accuracy: 1.00 - ETA: 3:46 - loss: 6.3518e-05 - accuracy: 1.00 - ETA: 3:46 - loss: 4.7766e-05 - accuracy: 1.00 - ETA: 3:43 - loss: 6.0744e-05 - accuracy: 1.00 - ETA: 3:42 - loss: 1.5089e-04 - accuracy: 1.00 - ETA: 3:40 - loss: 0.0024 - accuracy: 1.0000   - ETA: 3:39 - loss: 0.0021 - accuracy: 1.00 - ETA: 3:37 - loss: 0.0019 - accuracy: 1.00 - ETA: 3:36 - loss: 0.0017 - accuracy: 1.00 - ETA: 3:34 - loss: 0.0016 - accuracy: 1.00 - ETA: 3:33 - loss: 0.0014 - accuracy: 1.00 - ETA: 3:32 - loss: 0.0013 - accuracy: 1.00 - ETA: 3:30 - loss: 0.0012 - accuracy: 1.00 - ETA: 3:30 - loss: 0.0012 - accuracy: 1.00 - ETA: 3:30 - loss: 0.0015 - accuracy: 1.00 - ETA: 3:29 - loss: 0.0014 - accuracy: 1.00 - ETA: 3:27 - loss: 0.0014 - accuracy: 1.00 - ETA: 3:28 - loss: 0.0036 - accuracy: 0.99 - ETA: 3:27 - loss: 0.0034 - accuracy: 0.99 - ETA: 3:26 - loss: 0.0033 - accuracy: 0.99 - ETA: 3:25 - loss: 0.0031 - accuracy: 0.99 - ETA: 3:24 - loss: 0.0030 - accuracy: 0.99 - ETA: 3:23 - loss: 0.0029 - accuracy: 0.99 - ETA: 3:21 - loss: 0.0028 - accuracy: 0.99 - ETA: 3:20 - loss: 0.0027 - accuracy: 0.99 - ETA: 3:19 - loss: 0.0026 - accuracy: 0.99 - ETA: 3:17 - loss: 0.0025 - accuracy: 0.99 - ETA: 3:16 - loss: 0.0053 - accuracy: 0.99 - ETA: 3:15 - loss: 0.0052 - accuracy: 0.99 - ETA: 3:13 - loss: 0.0050 - accuracy: 0.99 - ETA: 3:12 - loss: 0.0048 - accuracy: 0.99 - ETA: 3:10 - loss: 0.0047 - accuracy: 0.99 - ETA: 3:09 - loss: 0.0046 - accuracy: 0.99 - ETA: 3:08 - loss: 0.0044 - accuracy: 0.99 - ETA: 3:06 - loss: 0.0043 - accuracy: 0.99 - ETA: 3:05 - loss: 0.0042 - accuracy: 0.99 - ETA: 3:04 - loss: 0.0041 - accuracy: 0.99 - ETA: 3:03 - loss: 0.0040 - accuracy: 0.99 - ETA: 3:01 - loss: 0.0040 - accuracy: 0.99 - ETA: 3:00 - loss: 0.0039 - accuracy: 0.99 - ETA: 2:59 - loss: 0.0038 - accuracy: 0.99 - ETA: 2:57 - loss: 0.0037 - accuracy: 0.99 - ETA: 2:56 - loss: 0.0037 - accuracy: 0.99 - ETA: 2:55 - loss: 0.0036 - accuracy: 0.99 - ETA: 2:53 - loss: 0.0042 - accuracy: 0.99 - ETA: 2:52 - loss: 0.0041 - accuracy: 0.99 - ETA: 2:51 - loss: 0.0041 - accuracy: 0.99 - ETA: 2:49 - loss: 0.0040 - accuracy: 0.99 - ETA: 2:48 - loss: 0.0039 - accuracy: 0.99 - ETA: 2:47 - loss: 0.0038 - accuracy: 0.99 - ETA: 2:46 - loss: 0.0038 - accuracy: 0.99 - ETA: 2:45 - loss: 0.0037 - accuracy: 0.99 - ETA: 2:44 - loss: 0.0036 - accuracy: 0.99 - ETA: 2:42 - loss: 0.0036 - accuracy: 0.99 - ETA: 2:41 - loss: 0.0035 - accuracy: 0.99 - ETA: 2:40 - loss: 0.0034 - accuracy: 0.99 - ETA: 2:39 - loss: 0.0034 - accuracy: 0.99 - ETA: 2:37 - loss: 0.0033 - accuracy: 0.99 - ETA: 2:36 - loss: 0.0033 - accuracy: 0.99 - ETA: 2:35 - loss: 0.0032 - accuracy: 0.99 - ETA: 2:33 - loss: 0.0032 - accuracy: 0.99 - ETA: 2:32 - loss: 0.0031 - accuracy: 0.99 - ETA: 2:31 - loss: 0.0031 - accuracy: 0.99 - ETA: 2:29 - loss: 0.0030 - accuracy: 0.99 - ETA: 2:28 - loss: 0.0030 - accuracy: 0.99 - ETA: 2:27 - loss: 0.0029 - accuracy: 0.99 - ETA: 2:25 - loss: 0.0029 - accuracy: 0.99 - ETA: 2:24 - loss: 0.0028 - accuracy: 0.99 - ETA: 2:23 - loss: 0.0028 - accuracy: 0.99 - ETA: 2:21 - loss: 0.0028 - accuracy: 0.99 - ETA: 2:20 - loss: 0.0027 - accuracy: 0.99 - ETA: 2:19 - loss: 0.0027 - accuracy: 0.99 - ETA: 2:17 - loss: 0.0027 - accuracy: 0.99 - ETA: 2:16 - loss: 0.0026 - accuracy: 0.99 - ETA: 2:15 - loss: 0.0026 - accuracy: 0.99 - ETA: 2:13 - loss: 0.0026 - accuracy: 0.99 - ETA: 2:12 - loss: 0.0025 - accuracy: 0.99 - ETA: 2:11 - loss: 0.0025 - accuracy: 0.99 - ETA: 2:10 - loss: 0.0025 - accuracy: 0.99 - ETA: 2:08 - loss: 0.0024 - accuracy: 0.99 - ETA: 2:07 - loss: 0.0024 - accuracy: 0.99 - ETA: 2:06 - loss: 0.0024 - accuracy: 0.99 - ETA: 2:04 - loss: 0.0023 - accuracy: 0.99 - ETA: 2:03 - loss: 0.0023 - accuracy: 0.99 - ETA: 2:02 - loss: 0.0023 - accuracy: 0.99 - ETA: 2:00 - loss: 0.0023 - accuracy: 0.99 - ETA: 1:59 - loss: 0.0022 - accuracy: 0.99 - ETA: 1:58 - loss: 0.0022 - accuracy: 0.99 - ETA: 1:56 - loss: 0.0022 - accuracy: 0.99 - ETA: 1:55 - loss: 0.0023 - accuracy: 0.99 - ETA: 1:54 - loss: 0.0023 - accuracy: 0.99 - ETA: 1:52 - loss: 0.0023 - accuracy: 0.99 - ETA: 1:51 - loss: 0.0023 - accuracy: 0.99 - ETA: 1:50 - loss: 0.0022 - accuracy: 0.99 - ETA: 1:48 - loss: 0.0022 - accuracy: 0.99 - ETA: 1:47 - loss: 0.0022 - accuracy: 0.99 - ETA: 1:46 - loss: 0.0022 - accuracy: 0.99 - ETA: 1:45 - loss: 0.0021 - accuracy: 0.99 - ETA: 1:43 - loss: 0.0021 - accuracy: 0.99 - ETA: 1:42 - loss: 0.0021 - accuracy: 0.99 - ETA: 1:41 - loss: 0.0021 - accuracy: 0.99 - ETA: 1:39 - loss: 0.0021 - accuracy: 0.99 - ETA: 1:38 - loss: 0.0020 - accuracy: 0.99 - ETA: 1:37 - loss: 0.0020 - accuracy: 0.99 - ETA: 1:36 - loss: 0.0020 - accuracy: 0.99 - ETA: 1:35 - loss: 0.0020 - accuracy: 0.99 - ETA: 1:33 - loss: 0.0020 - accuracy: 0.99 - ETA: 1:32 - loss: 0.0020 - accuracy: 0.99 - ETA: 1:31 - loss: 0.0020 - accuracy: 0.99 - ETA: 1:29 - loss: 0.0019 - accuracy: 0.99 - ETA: 1:28 - loss: 0.0019 - accuracy: 0.99 - ETA: 1:27 - loss: 0.0019 - accuracy: 0.99 - ETA: 1:26 - loss: 0.0019 - accuracy: 0.99 - ETA: 1:24 - loss: 0.0019 - accuracy: 0.99 - ETA: 1:23 - loss: 0.0019 - accuracy: 0.99 - ETA: 1:22 - loss: 0.0019 - accuracy: 0.99 - ETA: 1:20 - loss: 0.0019 - accuracy: 0.99 - ETA: 1:19 - loss: 0.0019 - accuracy: 0.99 - ETA: 1:18 - loss: 0.0019 - accuracy: 0.99 - ETA: 1:16 - loss: 0.0018 - accuracy: 0.99 - ETA: 1:15 - loss: 0.0018 - accuracy: 0.99 - ETA: 1:14 - loss: 0.0018 - accuracy: 0.99 - ETA: 1:12 - loss: 0.0018 - accuracy: 0.99 - ETA: 1:11 - loss: 0.0018 - accuracy: 0.99 - ETA: 1:10 - loss: 0.0018 - accuracy: 0.99 - ETA: 1:08 - loss: 0.0018 - accuracy: 0.99 - ETA: 1:07 - loss: 0.0017 - accuracy: 0.99 - ETA: 1:06 - loss: 0.0017 - accuracy: 0.99 - ETA: 1:05 - loss: 0.0017 - accuracy: 0.99 - ETA: 1:03 - loss: 0.0017 - accuracy: 0.99 - ETA: 1:02 - loss: 0.0017 - accuracy: 0.99 - ETA: 1:01 - loss: 0.0017 - accuracy: 0.99 - ETA: 59s - loss: 0.0017 - accuracy: 0.9993 - ETA: 58s - loss: 0.0018 - accuracy: 0.999 - ETA: 57s - loss: 0.0018 - accuracy: 0.999 - ETA: 56s - loss: 0.0017 - accuracy: 0.999 - ETA: 54s - loss: 0.0017 - accuracy: 0.999 - ETA: 53s - loss: 0.0017 - accuracy: 0.999 - ETA: 52s - loss: 0.0017 - accuracy: 0.999 - ETA: 50s - loss: 0.0017 - accuracy: 0.999 - ETA: 49s - loss: 0.0017 - accuracy: 0.999 - ETA: 48s - loss: 0.0017 - accuracy: 0.999 - ETA: 46s - loss: 0.0017 - accuracy: 0.999 - ETA: 45s - loss: 0.0017 - accuracy: 0.999 - ETA: 44s - loss: 0.0017 - accuracy: 0.999 - ETA: 43s - loss: 0.0016 - accuracy: 0.999 - ETA: 41s - loss: 0.0016 - accuracy: 0.999 - ETA: 40s - loss: 0.0016 - accuracy: 0.999 - ETA: 39s - loss: 0.0016 - accuracy: 0.999 - ETA: 37s - loss: 0.0016 - accuracy: 0.999 - ETA: 36s - loss: 0.0016 - accuracy: 0.999 - ETA: 35s - loss: 0.0016 - accuracy: 0.999 - ETA: 33s - loss: 0.0016 - accuracy: 0.999 - ETA: 32s - loss: 0.0016 - accuracy: 0.999 - ETA: 31s - loss: 0.0016 - accuracy: 0.999 - ETA: 29s - loss: 0.0015 - accuracy: 0.999 - ETA: 28s - loss: 0.0015 - accuracy: 0.999 - ETA: 27s - loss: 0.0015 - accuracy: 0.999 - ETA: 26s - loss: 0.0015 - accuracy: 0.999 - ETA: 24s - loss: 0.0015 - accuracy: 0.999 - ETA: 23s - loss: 0.0015 - accuracy: 0.999 - ETA: 22s - loss: 0.0015 - accuracy: 0.999 - ETA: 20s - loss: 0.0015 - accuracy: 0.999 - ETA: 19s - loss: 0.0015 - accuracy: 0.999 - ETA: 18s - loss: 0.0016 - accuracy: 0.999 - ETA: 16s - loss: 0.0016 - accuracy: 0.999 - ETA: 15s - loss: 0.0016 - accuracy: 0.999 - ETA: 14s - loss: 0.0016 - accuracy: 0.999 - ETA: 13s - loss: 0.0016 - accuracy: 0.999 - ETA: 11s - loss: 0.0016 - accuracy: 0.999 - ETA: 10s - loss: 0.0016 - accuracy: 0.999 - ETA: 9s - loss: 0.0016 - accuracy: 0.999 - ETA: 7s - loss: 0.0016 - accuracy: 0.99 - ETA: 6s - loss: 0.0016 - accuracy: 0.99 - ETA: 5s - loss: 0.0016 - accuracy: 0.99 - ETA: 3s - loss: 0.0016 - accuracy: 0.99 - ETA: 2s - loss: 0.0016 - accuracy: 0.99 - ETA: 1s - loss: 0.0016 - accuracy: 0.99 - ETA: 0s - loss: 0.0016 - accuracy: 0.99 - 242s 1s/step - loss: 0.0016 - accuracy: 0.9993 - val_loss: 0.0051 - val_accuracy: 0.9984\n"
     ]
    }
   ],
   "source": [
    "model = tuner.hypermodel.build(best_hps)\n",
    "history = model.fit(x_train, y_train, epochs=10, validation_data=(x_val, y_val))"
   ]
  },
  {
   "cell_type": "code",
   "execution_count": 71,
   "metadata": {},
   "outputs": [
    {
     "data": {
      "image/png": "[encoded data removed]",
      "text/plain": [
       "<Figure size 1080x360 with 2 Axes>"
      ]
     },
     "metadata": {
      "needs_background": "light"
     },
     "output_type": "display_data"
    },
    {
     "data": {
      "image/png": "[encoded data removed]",
      "text/plain": [
       "<Figure size 1080x720 with 2 Axes>"
      ]
     },
     "metadata": {
      "needs_background": "light"
     },
     "output_type": "display_data"
    }
   ],
   "source": [
    "# summarize history for accuracy\n",
    "plt.figure(1, figsize=(15, 5))\n",
    "plt.subplot(121)\n",
    "plt.plot(history.history['accuracy'])\n",
    "plt.plot(history.history['val_accuracy'])\n",
    "plt.title('model accuracy')\n",
    "plt.ylabel('accuracy')\n",
    "plt.xlabel('epoch')\n",
    "plt.legend(['train', 'validation'], loc='lower right')\n",
    "plt.grid()\n",
    "\n",
    "# summarize history for loss\n",
    "plt.subplot(122)\n",
    "plt.plot(history.history['loss'])\n",
    "plt.plot(history.history['val_loss'])\n",
    "plt.title('model loss')\n",
    "plt.ylabel('loss')\n",
    "plt.xlabel('epoch')\n",
    "plt.legend(['train', 'validation'], loc='upper right')\n",
    "plt.grid()\n",
    "plt.show()\n",
    "\n",
    "##################################################### Why not to zoom a bit?\n",
    "zoom = 3\n",
    "\n",
    "plt.figure(1, figsize=(15, 10))\n",
    "# summarize history for accuracy\n",
    "plt.subplot(221)\n",
    "plt.plot(history.history['accuracy'][zoom:])\n",
    "plt.plot(history.history['val_accuracy'][zoom:])\n",
    "plt.title('model accuracy')\n",
    "plt.ylabel('accuracy')\n",
    "plt.xlabel('epoch')\n",
    "plt.legend(['train', 'validation'], loc='lower right')\n",
    "plt.grid()\n",
    "plt.axis([2, epochs-zoom, 0.95, 1.01])\n",
    "\n",
    "# summarize history for loss\n",
    "plt.subplot(222)\n",
    "plt.plot(history.history['loss'][zoom:])\n",
    "plt.plot(history.history['val_loss'][zoom:])\n",
    "plt.title('model loss')\n",
    "plt.ylabel('loss')\n",
    "plt.xlabel('epoch')\n",
    "plt.legend(['train', 'validation'], loc='upper right')\n",
    "plt.grid()\n",
    "plt.axis([2, epochs-zoom, 0.0, 0.01])\n",
    "\n",
    "\n",
    "plt.show()"
   ]
  },
  {
   "cell_type": "code",
   "execution_count": 72,
   "metadata": {},
   "outputs": [
    {
     "name": "stdout",
     "output_type": "stream",
     "text": [
      "Best epoch: 3\n"
     ]
    }
   ],
   "source": [
    "val_acc_per_epoch = history.history['val_accuracy']\n",
    "best_number_of_epoch = val_acc_per_epoch.index(max(val_acc_per_epoch)) + 1\n",
    "print('Best epoch: %d' % (best_number_of_epoch,))"
   ]
  },
  {
   "cell_type": "code",
   "execution_count": 73,
   "metadata": {},
   "outputs": [
    {
     "name": "stdout",
     "output_type": "stream",
     "text": [
      "Epoch 1/3\n",
      "180/180 [==============================] - ETA: 2:53 - loss: 0.7104 - accuracy: 0.40 - ETA: 2:18 - loss: 0.6659 - accuracy: 0.59 - ETA: 2:19 - loss: 0.7260 - accuracy: 0.56 - ETA: 2:19 - loss: 0.7086 - accuracy: 0.53 - ETA: 2:19 - loss: 0.6911 - accuracy: 0.55 - ETA: 2:19 - loss: 0.6855 - accuracy: 0.55 - ETA: 2:18 - loss: 0.6707 - accuracy: 0.57 - ETA: 2:18 - loss: 0.6570 - accuracy: 0.61 - ETA: 2:18 - loss: 0.6458 - accuracy: 0.64 - ETA: 2:17 - loss: 0.6260 - accuracy: 0.67 - ETA: 2:18 - loss: 0.6101 - accuracy: 0.69 - ETA: 2:18 - loss: 0.5914 - accuracy: 0.71 - ETA: 2:18 - loss: 0.5768 - accuracy: 0.71 - ETA: 2:18 - loss: 0.5543 - accuracy: 0.73 - ETA: 2:18 - loss: 0.5328 - accuracy: 0.74 - ETA: 2:18 - loss: 0.5155 - accuracy: 0.75 - ETA: 2:18 - loss: 0.5064 - accuracy: 0.76 - ETA: 2:18 - loss: 0.4921 - accuracy: 0.77 - ETA: 2:18 - loss: 0.4709 - accuracy: 0.78 - ETA: 2:18 - loss: 0.4650 - accuracy: 0.78 - ETA: 2:18 - loss: 0.4525 - accuracy: 0.79 - ETA: 2:18 - loss: 0.4353 - accuracy: 0.79 - ETA: 2:18 - loss: 0.4236 - accuracy: 0.80 - ETA: 2:18 - loss: 0.4111 - accuracy: 0.80 - ETA: 2:18 - loss: 0.4035 - accuracy: 0.81 - ETA: 2:18 - loss: 0.3890 - accuracy: 0.82 - ETA: 2:18 - loss: 0.3831 - accuracy: 0.82 - ETA: 2:18 - loss: 0.3793 - accuracy: 0.82 - ETA: 2:18 - loss: 0.3714 - accuracy: 0.82 - ETA: 2:18 - loss: 0.3605 - accuracy: 0.83 - ETA: 2:18 - loss: 0.3523 - accuracy: 0.83 - ETA: 2:18 - loss: 0.3419 - accuracy: 0.84 - ETA: 2:18 - loss: 0.3343 - accuracy: 0.84 - ETA: 2:18 - loss: 0.3261 - accuracy: 0.85 - ETA: 2:18 - loss: 0.3184 - accuracy: 0.85 - ETA: 2:17 - loss: 0.3108 - accuracy: 0.86 - ETA: 2:17 - loss: 0.3030 - accuracy: 0.86 - ETA: 2:17 - loss: 0.2953 - accuracy: 0.86 - ETA: 2:17 - loss: 0.2903 - accuracy: 0.86 - ETA: 2:16 - loss: 0.2833 - accuracy: 0.87 - ETA: 2:16 - loss: 0.2769 - accuracy: 0.87 - ETA: 2:16 - loss: 0.2707 - accuracy: 0.87 - ETA: 2:15 - loss: 0.2660 - accuracy: 0.88 - ETA: 2:15 - loss: 0.2618 - accuracy: 0.88 - ETA: 2:14 - loss: 0.2562 - accuracy: 0.88 - ETA: 2:14 - loss: 0.2510 - accuracy: 0.88 - ETA: 2:13 - loss: 0.2461 - accuracy: 0.88 - ETA: 2:13 - loss: 0.2411 - accuracy: 0.89 - ETA: 2:12 - loss: 0.2368 - accuracy: 0.89 - ETA: 2:12 - loss: 0.2323 - accuracy: 0.89 - ETA: 2:11 - loss: 0.2286 - accuracy: 0.89 - ETA: 2:11 - loss: 0.2244 - accuracy: 0.89 - ETA: 2:10 - loss: 0.2213 - accuracy: 0.90 - ETA: 2:10 - loss: 0.2177 - accuracy: 0.90 - ETA: 2:09 - loss: 0.2140 - accuracy: 0.90 - ETA: 2:09 - loss: 0.2109 - accuracy: 0.90 - ETA: 2:08 - loss: 0.2085 - accuracy: 0.90 - ETA: 2:07 - loss: 0.2066 - accuracy: 0.90 - ETA: 2:07 - loss: 0.2032 - accuracy: 0.90 - ETA: 2:06 - loss: 0.1999 - accuracy: 0.91 - ETA: 2:05 - loss: 0.1968 - accuracy: 0.91 - ETA: 2:05 - loss: 0.1943 - accuracy: 0.91 - ETA: 2:04 - loss: 0.1916 - accuracy: 0.91 - ETA: 2:03 - loss: 0.1898 - accuracy: 0.91 - ETA: 2:03 - loss: 0.1870 - accuracy: 0.91 - ETA: 2:02 - loss: 0.1847 - accuracy: 0.91 - ETA: 2:01 - loss: 0.1820 - accuracy: 0.91 - ETA: 2:00 - loss: 0.1794 - accuracy: 0.91 - ETA: 2:00 - loss: 0.1769 - accuracy: 0.92 - ETA: 1:59 - loss: 0.1745 - accuracy: 0.92 - ETA: 1:58 - loss: 0.1724 - accuracy: 0.92 - ETA: 1:57 - loss: 0.1703 - accuracy: 0.92 - ETA: 1:57 - loss: 0.1681 - accuracy: 0.92 - ETA: 1:56 - loss: 0.1659 - accuracy: 0.92 - ETA: 1:55 - loss: 0.1639 - accuracy: 0.92 - ETA: 1:54 - loss: 0.1617 - accuracy: 0.92 - ETA: 1:53 - loss: 0.1602 - accuracy: 0.92 - ETA: 1:52 - loss: 0.1581 - accuracy: 0.92 - ETA: 1:52 - loss: 0.1571 - accuracy: 0.93 - ETA: 1:51 - loss: 0.1553 - accuracy: 0.93 - ETA: 1:50 - loss: 0.1537 - accuracy: 0.93 - ETA: 1:49 - loss: 0.1520 - accuracy: 0.93 - ETA: 1:48 - loss: 0.1503 - accuracy: 0.93 - ETA: 1:47 - loss: 0.1486 - accuracy: 0.93 - ETA: 1:46 - loss: 0.1471 - accuracy: 0.93 - ETA: 1:45 - loss: 0.1465 - accuracy: 0.93 - ETA: 1:45 - loss: 0.1449 - accuracy: 0.93 - ETA: 1:44 - loss: 0.1437 - accuracy: 0.93 - ETA: 1:43 - loss: 0.1422 - accuracy: 0.93 - ETA: 1:42 - loss: 0.1411 - accuracy: 0.93 - ETA: 1:41 - loss: 0.1399 - accuracy: 0.93 - ETA: 1:40 - loss: 0.1385 - accuracy: 0.93 - ETA: 1:39 - loss: 0.1371 - accuracy: 0.93 - ETA: 1:38 - loss: 0.1357 - accuracy: 0.93 - ETA: 1:37 - loss: 0.1343 - accuracy: 0.94 - ETA: 1:36 - loss: 0.1330 - accuracy: 0.94 - ETA: 1:35 - loss: 0.1319 - accuracy: 0.94 - ETA: 1:34 - loss: 0.1309 - accuracy: 0.94 - ETA: 1:33 - loss: 0.1300 - accuracy: 0.94 - ETA: 1:32 - loss: 0.1288 - accuracy: 0.94 - ETA: 1:31 - loss: 0.1275 - accuracy: 0.94 - ETA: 1:30 - loss: 0.1265 - accuracy: 0.94 - ETA: 1:29 - loss: 0.1255 - accuracy: 0.94 - ETA: 1:28 - loss: 0.1244 - accuracy: 0.94 - ETA: 1:27 - loss: 0.1243 - accuracy: 0.94 - ETA: 1:26 - loss: 0.1231 - accuracy: 0.94 - ETA: 1:25 - loss: 0.1220 - accuracy: 0.94 - ETA: 1:24 - loss: 0.1211 - accuracy: 0.94 - ETA: 1:23 - loss: 0.1200 - accuracy: 0.94 - ETA: 1:22 - loss: 0.1191 - accuracy: 0.94 - ETA: 1:21 - loss: 0.1180 - accuracy: 0.94 - ETA: 1:19 - loss: 0.1173 - accuracy: 0.94 - ETA: 1:18 - loss: 0.1163 - accuracy: 0.94 - ETA: 1:17 - loss: 0.1157 - accuracy: 0.94 - ETA: 1:16 - loss: 0.1150 - accuracy: 0.95 - ETA: 1:15 - loss: 0.1154 - accuracy: 0.94 - ETA: 1:14 - loss: 0.1144 - accuracy: 0.95 - ETA: 1:13 - loss: 0.1135 - accuracy: 0.95 - ETA: 1:12 - loss: 0.1126 - accuracy: 0.95 - ETA: 1:11 - loss: 0.1117 - accuracy: 0.95 - ETA: 1:10 - loss: 0.1110 - accuracy: 0.95 - ETA: 1:09 - loss: 0.1101 - accuracy: 0.95 - ETA: 1:07 - loss: 0.1094 - accuracy: 0.95 - ETA: 1:06 - loss: 0.1086 - accuracy: 0.95 - ETA: 1:05 - loss: 0.1090 - accuracy: 0.95 - ETA: 1:04 - loss: 0.1082 - accuracy: 0.95 - ETA: 1:03 - loss: 0.1074 - accuracy: 0.95 - ETA: 1:02 - loss: 0.1069 - accuracy: 0.95 - ETA: 1:01 - loss: 0.1064 - accuracy: 0.95 - ETA: 1:00 - loss: 0.1057 - accuracy: 0.95 - ETA: 59s - loss: 0.1050 - accuracy: 0.9549 - ETA: 58s - loss: 0.1042 - accuracy: 0.955 - ETA: 56s - loss: 0.1035 - accuracy: 0.955 - ETA: 55s - loss: 0.1027 - accuracy: 0.955 - ETA: 54s - loss: 0.1020 - accuracy: 0.956 - ETA: 53s - loss: 0.1014 - accuracy: 0.956 - ETA: 52s - loss: 0.1010 - accuracy: 0.956 - ETA: 51s - loss: 0.1006 - accuracy: 0.956 - ETA: 50s - loss: 0.0999 - accuracy: 0.957 - ETA: 48s - loss: 0.0992 - accuracy: 0.957 - ETA: 47s - loss: 0.0986 - accuracy: 0.957 - ETA: 46s - loss: 0.0980 - accuracy: 0.958 - ETA: 45s - loss: 0.0976 - accuracy: 0.958 - ETA: 44s - loss: 0.0970 - accuracy: 0.958 - ETA: 42s - loss: 0.0963 - accuracy: 0.958 - ETA: 41s - loss: 0.0957 - accuracy: 0.958 - ETA: 40s - loss: 0.0952 - accuracy: 0.959 - ETA: 39s - loss: 0.0945 - accuracy: 0.959 - ETA: 38s - loss: 0.0940 - accuracy: 0.959 - ETA: 36s - loss: 0.0936 - accuracy: 0.960 - ETA: 35s - loss: 0.0930 - accuracy: 0.960 - ETA: 34s - loss: 0.0924 - accuracy: 0.960 - ETA: 33s - loss: 0.0920 - accuracy: 0.960 - ETA: 32s - loss: 0.0914 - accuracy: 0.961 - ETA: 30s - loss: 0.0908 - accuracy: 0.961 - ETA: 29s - loss: 0.0908 - accuracy: 0.961 - ETA: 28s - loss: 0.0903 - accuracy: 0.961 - ETA: 27s - loss: 0.0900 - accuracy: 0.961 - ETA: 26s - loss: 0.0895 - accuracy: 0.961 - ETA: 24s - loss: 0.0889 - accuracy: 0.962 - ETA: 23s - loss: 0.0884 - accuracy: 0.962 - ETA: 22s - loss: 0.0878 - accuracy: 0.962 - ETA: 21s - loss: 0.0877 - accuracy: 0.962 - ETA: 19s - loss: 0.0872 - accuracy: 0.962 - ETA: 18s - loss: 0.0867 - accuracy: 0.963 - ETA: 17s - loss: 0.0862 - accuracy: 0.963 - ETA: 16s - loss: 0.0857 - accuracy: 0.963 - ETA: 14s - loss: 0.0852 - accuracy: 0.963 - ETA: 13s - loss: 0.0848 - accuracy: 0.963 - ETA: 12s - loss: 0.0847 - accuracy: 0.963 - ETA: 11s - loss: 0.0842 - accuracy: 0.964 - ETA: 10s - loss: 0.0839 - accuracy: 0.964 - ETA: 8s - loss: 0.0835 - accuracy: 0.964 - ETA: 7s - loss: 0.0831 - accuracy: 0.96 - ETA: 6s - loss: 0.0826 - accuracy: 0.96 - ETA: 5s - loss: 0.0822 - accuracy: 0.96 - ETA: 3s - loss: 0.0817 - accuracy: 0.96 - ETA: 2s - loss: 0.0812 - accuracy: 0.96 - ETA: 1s - loss: 0.0808 - accuracy: 0.96 - ETA: 0s - loss: 0.0804 - accuracy: 0.96 - 234s 1s/step - loss: 0.0804 - accuracy: 0.9656 - val_loss: 0.0043 - val_accuracy: 1.0000\n",
      "Epoch 2/3\n"
     ]
    },
    {
     "name": "stdout",
     "output_type": "stream",
     "text": [
      "180/180 [==============================] - ETA: 4:00 - loss: 0.0139 - accuracy: 1.00 - ETA: 3:59 - loss: 0.0098 - accuracy: 1.00 - ETA: 4:00 - loss: 0.0072 - accuracy: 1.00 - ETA: 3:58 - loss: 0.0064 - accuracy: 1.00 - ETA: 3:58 - loss: 0.0053 - accuracy: 1.00 - ETA: 3:56 - loss: 0.0050 - accuracy: 1.00 - ETA: 3:57 - loss: 0.0045 - accuracy: 1.00 - ETA: 3:56 - loss: 0.0041 - accuracy: 1.00 - ETA: 3:54 - loss: 0.0037 - accuracy: 1.00 - ETA: 3:52 - loss: 0.0034 - accuracy: 1.00 - ETA: 3:51 - loss: 0.0051 - accuracy: 1.00 - ETA: 3:49 - loss: 0.0048 - accuracy: 1.00 - ETA: 3:48 - loss: 0.0045 - accuracy: 1.00 - ETA: 3:46 - loss: 0.0042 - accuracy: 1.00 - ETA: 3:45 - loss: 0.0039 - accuracy: 1.00 - ETA: 3:43 - loss: 0.0065 - accuracy: 0.99 - ETA: 3:42 - loss: 0.0061 - accuracy: 0.99 - ETA: 3:40 - loss: 0.0057 - accuracy: 0.99 - ETA: 3:39 - loss: 0.0055 - accuracy: 0.99 - ETA: 3:37 - loss: 0.0053 - accuracy: 0.99 - ETA: 3:36 - loss: 0.0051 - accuracy: 0.99 - ETA: 3:35 - loss: 0.0049 - accuracy: 0.99 - ETA: 3:33 - loss: 0.0051 - accuracy: 0.99 - ETA: 3:32 - loss: 0.0052 - accuracy: 0.99 - ETA: 3:30 - loss: 0.0050 - accuracy: 0.99 - ETA: 3:29 - loss: 0.0049 - accuracy: 0.99 - ETA: 3:28 - loss: 0.0048 - accuracy: 0.99 - ETA: 3:26 - loss: 0.0046 - accuracy: 0.99 - ETA: 3:25 - loss: 0.0048 - accuracy: 0.99 - ETA: 3:23 - loss: 0.0047 - accuracy: 0.99 - ETA: 3:22 - loss: 0.0045 - accuracy: 0.99 - ETA: 3:21 - loss: 0.0059 - accuracy: 0.99 - ETA: 3:19 - loss: 0.0058 - accuracy: 0.99 - ETA: 3:18 - loss: 0.0057 - accuracy: 0.99 - ETA: 3:17 - loss: 0.0061 - accuracy: 0.99 - ETA: 3:15 - loss: 0.0062 - accuracy: 0.99 - ETA: 3:14 - loss: 0.0062 - accuracy: 0.99 - ETA: 3:13 - loss: 0.0061 - accuracy: 0.99 - ETA: 3:11 - loss: 0.0059 - accuracy: 0.99 - ETA: 3:10 - loss: 0.0059 - accuracy: 0.99 - ETA: 3:08 - loss: 0.0058 - accuracy: 0.99 - ETA: 3:07 - loss: 0.0057 - accuracy: 0.99 - ETA: 3:06 - loss: 0.0058 - accuracy: 0.99 - ETA: 3:04 - loss: 0.0058 - accuracy: 0.99 - ETA: 3:03 - loss: 0.0057 - accuracy: 0.99 - ETA: 3:01 - loss: 0.0057 - accuracy: 0.99 - ETA: 3:00 - loss: 0.0058 - accuracy: 0.99 - ETA: 2:59 - loss: 0.0065 - accuracy: 0.99 - ETA: 2:57 - loss: 0.0064 - accuracy: 0.99 - ETA: 2:56 - loss: 0.0064 - accuracy: 0.99 - ETA: 2:54 - loss: 0.0064 - accuracy: 0.99 - ETA: 2:53 - loss: 0.0063 - accuracy: 0.99 - ETA: 2:52 - loss: 0.0063 - accuracy: 0.99 - ETA: 2:51 - loss: 0.0064 - accuracy: 0.99 - ETA: 2:49 - loss: 0.0064 - accuracy: 0.99 - ETA: 2:48 - loss: 0.0076 - accuracy: 0.99 - ETA: 2:46 - loss: 0.0084 - accuracy: 0.99 - ETA: 2:45 - loss: 0.0082 - accuracy: 0.99 - ETA: 2:44 - loss: 0.0083 - accuracy: 0.99 - ETA: 2:42 - loss: 0.0097 - accuracy: 0.99 - ETA: 2:41 - loss: 0.0125 - accuracy: 0.99 - ETA: 2:40 - loss: 0.0125 - accuracy: 0.99 - ETA: 2:38 - loss: 0.0123 - accuracy: 0.99 - ETA: 2:37 - loss: 0.0124 - accuracy: 0.99 - ETA: 2:36 - loss: 0.0125 - accuracy: 0.99 - ETA: 2:34 - loss: 0.0124 - accuracy: 0.99 - ETA: 2:33 - loss: 0.0157 - accuracy: 0.99 - ETA: 2:31 - loss: 0.0180 - accuracy: 0.99 - ETA: 2:30 - loss: 0.0179 - accuracy: 0.99 - ETA: 2:29 - loss: 0.0176 - accuracy: 0.99 - ETA: 2:27 - loss: 0.0174 - accuracy: 0.99 - ETA: 2:26 - loss: 0.0172 - accuracy: 0.99 - ETA: 2:24 - loss: 0.0171 - accuracy: 0.99 - ETA: 2:23 - loss: 0.0179 - accuracy: 0.99 - ETA: 2:22 - loss: 0.0203 - accuracy: 0.99 - ETA: 2:20 - loss: 0.0215 - accuracy: 0.99 - ETA: 2:19 - loss: 0.0222 - accuracy: 0.99 - ETA: 2:18 - loss: 0.0219 - accuracy: 0.99 - ETA: 2:16 - loss: 0.0218 - accuracy: 0.99 - ETA: 2:15 - loss: 0.0218 - accuracy: 0.99 - ETA: 2:13 - loss: 0.0224 - accuracy: 0.99 - ETA: 2:12 - loss: 0.0225 - accuracy: 0.99 - ETA: 2:11 - loss: 0.0234 - accuracy: 0.99 - ETA: 2:09 - loss: 0.0245 - accuracy: 0.99 - ETA: 2:08 - loss: 0.0249 - accuracy: 0.99 - ETA: 2:06 - loss: 0.0249 - accuracy: 0.99 - ETA: 2:05 - loss: 0.0247 - accuracy: 0.99 - ETA: 2:03 - loss: 0.0245 - accuracy: 0.99 - ETA: 2:02 - loss: 0.0248 - accuracy: 0.99 - ETA: 2:01 - loss: 0.0254 - accuracy: 0.99 - ETA: 1:59 - loss: 0.0277 - accuracy: 0.99 - ETA: 1:58 - loss: 0.0274 - accuracy: 0.99 - ETA: 1:56 - loss: 0.0271 - accuracy: 0.99 - ETA: 1:55 - loss: 0.0269 - accuracy: 0.99 - ETA: 1:54 - loss: 0.0270 - accuracy: 0.99 - ETA: 1:52 - loss: 0.0268 - accuracy: 0.99 - ETA: 1:51 - loss: 0.0266 - accuracy: 0.99 - ETA: 1:50 - loss: 0.0278 - accuracy: 0.98 - ETA: 1:48 - loss: 0.0275 - accuracy: 0.98 - ETA: 1:47 - loss: 0.0275 - accuracy: 0.99 - ETA: 1:45 - loss: 0.0273 - accuracy: 0.99 - ETA: 1:44 - loss: 0.0271 - accuracy: 0.99 - ETA: 1:43 - loss: 0.0268 - accuracy: 0.99 - ETA: 1:41 - loss: 0.0267 - accuracy: 0.99 - ETA: 1:40 - loss: 0.0264 - accuracy: 0.99 - ETA: 1:38 - loss: 0.0262 - accuracy: 0.99 - ETA: 1:37 - loss: 0.0260 - accuracy: 0.99 - ETA: 1:36 - loss: 0.0258 - accuracy: 0.99 - ETA: 1:34 - loss: 0.0258 - accuracy: 0.99 - ETA: 1:33 - loss: 0.0256 - accuracy: 0.99 - ETA: 1:32 - loss: 0.0255 - accuracy: 0.99 - ETA: 1:30 - loss: 0.0253 - accuracy: 0.99 - ETA: 1:29 - loss: 0.0251 - accuracy: 0.99 - ETA: 1:27 - loss: 0.0249 - accuracy: 0.99 - ETA: 1:26 - loss: 0.0248 - accuracy: 0.99 - ETA: 1:25 - loss: 0.0246 - accuracy: 0.99 - ETA: 1:23 - loss: 0.0244 - accuracy: 0.99 - ETA: 1:22 - loss: 0.0242 - accuracy: 0.99 - ETA: 1:21 - loss: 0.0240 - accuracy: 0.99 - ETA: 1:19 - loss: 0.0240 - accuracy: 0.99 - ETA: 1:18 - loss: 0.0238 - accuracy: 0.99 - ETA: 1:17 - loss: 0.0238 - accuracy: 0.99 - ETA: 1:15 - loss: 0.0236 - accuracy: 0.99 - ETA: 1:14 - loss: 0.0242 - accuracy: 0.99 - ETA: 1:13 - loss: 0.0240 - accuracy: 0.99 - ETA: 1:11 - loss: 0.0239 - accuracy: 0.99 - ETA: 1:10 - loss: 0.0239 - accuracy: 0.99 - ETA: 1:09 - loss: 0.0237 - accuracy: 0.99 - ETA: 1:08 - loss: 0.0235 - accuracy: 0.99 - ETA: 1:06 - loss: 0.0234 - accuracy: 0.99 - ETA: 1:05 - loss: 0.0232 - accuracy: 0.99 - ETA: 1:04 - loss: 0.0231 - accuracy: 0.99 - ETA: 1:02 - loss: 0.0233 - accuracy: 0.99 - ETA: 1:01 - loss: 0.0232 - accuracy: 0.99 - ETA: 1:00 - loss: 0.0230 - accuracy: 0.99 - ETA: 59s - loss: 0.0228 - accuracy: 0.9917 - ETA: 57s - loss: 0.0227 - accuracy: 0.991 - ETA: 56s - loss: 0.0227 - accuracy: 0.991 - ETA: 55s - loss: 0.0225 - accuracy: 0.991 - ETA: 54s - loss: 0.0224 - accuracy: 0.992 - ETA: 52s - loss: 0.0223 - accuracy: 0.992 - ETA: 51s - loss: 0.0225 - accuracy: 0.991 - ETA: 50s - loss: 0.0224 - accuracy: 0.991 - ETA: 48s - loss: 0.0223 - accuracy: 0.992 - ETA: 47s - loss: 0.0221 - accuracy: 0.992 - ETA: 46s - loss: 0.0220 - accuracy: 0.992 - ETA: 44s - loss: 0.0220 - accuracy: 0.992 - ETA: 43s - loss: 0.0219 - accuracy: 0.992 - ETA: 42s - loss: 0.0219 - accuracy: 0.992 - ETA: 40s - loss: 0.0218 - accuracy: 0.992 - ETA: 39s - loss: 0.0216 - accuracy: 0.992 - ETA: 38s - loss: 0.0217 - accuracy: 0.992 - ETA: 36s - loss: 0.0216 - accuracy: 0.992 - ETA: 35s - loss: 0.0215 - accuracy: 0.992 - ETA: 34s - loss: 0.0214 - accuracy: 0.992 - ETA: 32s - loss: 0.0212 - accuracy: 0.992 - ETA: 31s - loss: 0.0211 - accuracy: 0.992 - ETA: 30s - loss: 0.0210 - accuracy: 0.992 - ETA: 28s - loss: 0.0209 - accuracy: 0.992 - ETA: 27s - loss: 0.0208 - accuracy: 0.992 - ETA: 26s - loss: 0.0208 - accuracy: 0.992 - ETA: 24s - loss: 0.0207 - accuracy: 0.992 - ETA: 23s - loss: 0.0206 - accuracy: 0.992 - ETA: 22s - loss: 0.0204 - accuracy: 0.992 - ETA: 20s - loss: 0.0203 - accuracy: 0.992 - ETA: 19s - loss: 0.0202 - accuracy: 0.992 - ETA: 18s - loss: 0.0201 - accuracy: 0.992 - ETA: 16s - loss: 0.0200 - accuracy: 0.992 - ETA: 15s - loss: 0.0199 - accuracy: 0.993 - ETA: 13s - loss: 0.0198 - accuracy: 0.993 - ETA: 12s - loss: 0.0198 - accuracy: 0.993 - ETA: 11s - loss: 0.0197 - accuracy: 0.993 - ETA: 9s - loss: 0.0196 - accuracy: 0.993 - ETA: 8s - loss: 0.0195 - accuracy: 0.99 - ETA: 7s - loss: 0.0195 - accuracy: 0.99 - ETA: 5s - loss: 0.0193 - accuracy: 0.99 - ETA: 4s - loss: 0.0193 - accuracy: 0.99 - ETA: 2s - loss: 0.0192 - accuracy: 0.99 - ETA: 1s - loss: 0.0191 - accuracy: 0.99 - ETA: 0s - loss: 0.0190 - accuracy: 0.99 - 263s 1s/step - loss: 0.0190 - accuracy: 0.9934 - val_loss: 0.0061 - val_accuracy: 0.9984\n",
      "Epoch 3/3\n"
     ]
    },
    {
     "name": "stdout",
     "output_type": "stream",
     "text": [
      "180/180 [==============================] - ETA: 5:03 - loss: 1.0351e-04 - accuracy: 1.00 - ETA: 4:44 - loss: 0.0019 - accuracy: 1.0000   - ETA: 4:34 - loss: 0.0017 - accuracy: 1.00 - ETA: 4:23 - loss: 0.0016 - accuracy: 1.00 - ETA: 4:15 - loss: 0.0014 - accuracy: 1.00 - ETA: 4:08 - loss: 0.0214 - accuracy: 0.99 - ETA: 4:04 - loss: 0.0186 - accuracy: 0.99 - ETA: 4:01 - loss: 0.0166 - accuracy: 0.99 - ETA: 3:59 - loss: 0.0150 - accuracy: 0.99 - ETA: 3:57 - loss: 0.0135 - accuracy: 0.99 - ETA: 3:57 - loss: 0.0123 - accuracy: 0.99 - ETA: 3:54 - loss: 0.0113 - accuracy: 0.99 - ETA: 3:51 - loss: 0.0104 - accuracy: 0.99 - ETA: 3:49 - loss: 0.0098 - accuracy: 0.99 - ETA: 3:47 - loss: 0.0095 - accuracy: 0.99 - ETA: 3:45 - loss: 0.0089 - accuracy: 0.99 - ETA: 3:43 - loss: 0.0085 - accuracy: 0.99 - ETA: 3:41 - loss: 0.0080 - accuracy: 0.99 - ETA: 3:39 - loss: 0.0076 - accuracy: 0.99 - ETA: 3:37 - loss: 0.0075 - accuracy: 0.99 - ETA: 3:35 - loss: 0.0073 - accuracy: 0.99 - ETA: 3:33 - loss: 0.0070 - accuracy: 0.99 - ETA: 3:32 - loss: 0.0067 - accuracy: 0.99 - ETA: 3:30 - loss: 0.0064 - accuracy: 0.99 - ETA: 3:28 - loss: 0.0066 - accuracy: 0.99 - ETA: 3:27 - loss: 0.0064 - accuracy: 0.99 - ETA: 3:25 - loss: 0.0087 - accuracy: 0.99 - ETA: 3:24 - loss: 0.0088 - accuracy: 0.99 - ETA: 3:23 - loss: 0.0086 - accuracy: 0.99 - ETA: 3:21 - loss: 0.0084 - accuracy: 0.99 - ETA: 3:20 - loss: 0.0081 - accuracy: 0.99 - ETA: 3:18 - loss: 0.0080 - accuracy: 0.99 - ETA: 3:17 - loss: 0.0085 - accuracy: 0.99 - ETA: 3:15 - loss: 0.0086 - accuracy: 0.99 - ETA: 3:14 - loss: 0.0092 - accuracy: 0.99 - ETA: 3:12 - loss: 0.0090 - accuracy: 0.99 - ETA: 3:11 - loss: 0.0088 - accuracy: 0.99 - ETA: 3:10 - loss: 0.0086 - accuracy: 0.99 - ETA: 3:08 - loss: 0.0084 - accuracy: 0.99 - ETA: 3:07 - loss: 0.0082 - accuracy: 0.99 - ETA: 3:06 - loss: 0.0080 - accuracy: 0.99 - ETA: 3:05 - loss: 0.0078 - accuracy: 0.99 - ETA: 3:03 - loss: 0.0082 - accuracy: 0.99 - ETA: 3:02 - loss: 0.0080 - accuracy: 0.99 - ETA: 3:00 - loss: 0.0079 - accuracy: 0.99 - ETA: 2:59 - loss: 0.0077 - accuracy: 0.99 - ETA: 2:58 - loss: 0.0076 - accuracy: 0.99 - ETA: 2:56 - loss: 0.0077 - accuracy: 0.99 - ETA: 2:55 - loss: 0.0076 - accuracy: 0.99 - ETA: 2:54 - loss: 0.0075 - accuracy: 0.99 - ETA: 2:53 - loss: 0.0073 - accuracy: 0.99 - ETA: 2:52 - loss: 0.0073 - accuracy: 0.99 - ETA: 2:50 - loss: 0.0075 - accuracy: 0.99 - ETA: 2:49 - loss: 0.0073 - accuracy: 0.99 - ETA: 2:47 - loss: 0.0072 - accuracy: 0.99 - ETA: 2:46 - loss: 0.0071 - accuracy: 0.99 - ETA: 2:45 - loss: 0.0070 - accuracy: 0.99 - ETA: 2:43 - loss: 0.0069 - accuracy: 0.99 - ETA: 2:42 - loss: 0.0068 - accuracy: 0.99 - ETA: 2:41 - loss: 0.0067 - accuracy: 0.99 - ETA: 2:39 - loss: 0.0066 - accuracy: 0.99 - ETA: 2:38 - loss: 0.0065 - accuracy: 0.99 - ETA: 2:36 - loss: 0.0064 - accuracy: 0.99 - ETA: 2:35 - loss: 0.0063 - accuracy: 0.99 - ETA: 2:34 - loss: 0.0062 - accuracy: 0.99 - ETA: 2:32 - loss: 0.0061 - accuracy: 0.99 - ETA: 2:31 - loss: 0.0060 - accuracy: 0.99 - ETA: 2:29 - loss: 0.0059 - accuracy: 0.99 - ETA: 2:28 - loss: 0.0059 - accuracy: 0.99 - ETA: 2:27 - loss: 0.0058 - accuracy: 0.99 - ETA: 2:25 - loss: 0.0058 - accuracy: 0.99 - ETA: 2:24 - loss: 0.0057 - accuracy: 0.99 - ETA: 2:23 - loss: 0.0056 - accuracy: 0.99 - ETA: 2:21 - loss: 0.0055 - accuracy: 0.99 - ETA: 2:20 - loss: 0.0055 - accuracy: 0.99 - ETA: 2:18 - loss: 0.0054 - accuracy: 0.99 - ETA: 2:17 - loss: 0.0054 - accuracy: 0.99 - ETA: 2:16 - loss: 0.0053 - accuracy: 0.99 - ETA: 2:14 - loss: 0.0052 - accuracy: 0.99 - ETA: 2:13 - loss: 0.0052 - accuracy: 0.99 - ETA: 2:12 - loss: 0.0051 - accuracy: 0.99 - ETA: 2:10 - loss: 0.0051 - accuracy: 0.99 - ETA: 2:09 - loss: 0.0053 - accuracy: 0.99 - ETA: 2:07 - loss: 0.0053 - accuracy: 0.99 - ETA: 2:06 - loss: 0.0052 - accuracy: 0.99 - ETA: 2:05 - loss: 0.0052 - accuracy: 0.99 - ETA: 2:03 - loss: 0.0052 - accuracy: 0.99 - ETA: 2:02 - loss: 0.0051 - accuracy: 0.99 - ETA: 2:01 - loss: 0.0054 - accuracy: 0.99 - ETA: 1:59 - loss: 0.0053 - accuracy: 0.99 - ETA: 1:58 - loss: 0.0056 - accuracy: 0.99 - ETA: 1:56 - loss: 0.0056 - accuracy: 0.99 - ETA: 1:55 - loss: 0.0055 - accuracy: 0.99 - ETA: 1:54 - loss: 0.0055 - accuracy: 0.99 - ETA: 1:52 - loss: 0.0056 - accuracy: 0.99 - ETA: 1:51 - loss: 0.0064 - accuracy: 0.99 - ETA: 1:50 - loss: 0.0066 - accuracy: 0.99 - ETA: 1:48 - loss: 0.0065 - accuracy: 0.99 - ETA: 1:47 - loss: 0.0064 - accuracy: 0.99 - ETA: 1:46 - loss: 0.0064 - accuracy: 0.99 - ETA: 1:44 - loss: 0.0063 - accuracy: 0.99 - ETA: 1:43 - loss: 0.0063 - accuracy: 0.99 - ETA: 1:42 - loss: 0.0075 - accuracy: 0.99 - ETA: 1:40 - loss: 0.0075 - accuracy: 0.99 - ETA: 1:39 - loss: 0.0074 - accuracy: 0.99 - ETA: 1:38 - loss: 0.0074 - accuracy: 0.99 - ETA: 1:36 - loss: 0.0073 - accuracy: 0.99 - ETA: 1:35 - loss: 0.0072 - accuracy: 0.99 - ETA: 1:34 - loss: 0.0072 - accuracy: 0.99 - ETA: 1:32 - loss: 0.0071 - accuracy: 0.99 - ETA: 1:31 - loss: 0.0071 - accuracy: 0.99 - ETA: 1:29 - loss: 0.0070 - accuracy: 0.99 - ETA: 1:28 - loss: 0.0070 - accuracy: 0.99 - ETA: 1:27 - loss: 0.0069 - accuracy: 0.99 - ETA: 1:25 - loss: 0.0069 - accuracy: 0.99 - ETA: 1:24 - loss: 0.0069 - accuracy: 0.99 - ETA: 1:23 - loss: 0.0068 - accuracy: 0.99 - ETA: 1:21 - loss: 0.0068 - accuracy: 0.99 - ETA: 1:20 - loss: 0.0067 - accuracy: 0.99 - ETA: 1:19 - loss: 0.0067 - accuracy: 0.99 - ETA: 1:17 - loss: 0.0066 - accuracy: 0.99 - ETA: 1:16 - loss: 0.0066 - accuracy: 0.99 - ETA: 1:15 - loss: 0.0065 - accuracy: 0.99 - ETA: 1:13 - loss: 0.0065 - accuracy: 0.99 - ETA: 1:12 - loss: 0.0064 - accuracy: 0.99 - ETA: 1:11 - loss: 0.0064 - accuracy: 0.99 - ETA: 1:09 - loss: 0.0063 - accuracy: 0.99 - ETA: 1:08 - loss: 0.0063 - accuracy: 0.99 - ETA: 1:07 - loss: 0.0063 - accuracy: 0.99 - ETA: 1:05 - loss: 0.0063 - accuracy: 0.99 - ETA: 1:04 - loss: 0.0062 - accuracy: 0.99 - ETA: 1:03 - loss: 0.0062 - accuracy: 0.99 - ETA: 1:01 - loss: 0.0061 - accuracy: 0.99 - ETA: 1:00 - loss: 0.0061 - accuracy: 0.99 - ETA: 59s - loss: 0.0060 - accuracy: 0.9984 - ETA: 57s - loss: 0.0060 - accuracy: 0.998 - ETA: 56s - loss: 0.0060 - accuracy: 0.998 - ETA: 55s - loss: 0.0059 - accuracy: 0.998 - ETA: 53s - loss: 0.0059 - accuracy: 0.998 - ETA: 52s - loss: 0.0060 - accuracy: 0.998 - ETA: 51s - loss: 0.0059 - accuracy: 0.998 - ETA: 49s - loss: 0.0059 - accuracy: 0.998 - ETA: 48s - loss: 0.0059 - accuracy: 0.998 - ETA: 47s - loss: 0.0058 - accuracy: 0.998 - ETA: 45s - loss: 0.0058 - accuracy: 0.998 - ETA: 44s - loss: 0.0058 - accuracy: 0.998 - ETA: 43s - loss: 0.0058 - accuracy: 0.998 - ETA: 41s - loss: 0.0057 - accuracy: 0.998 - ETA: 40s - loss: 0.0057 - accuracy: 0.998 - ETA: 39s - loss: 0.0057 - accuracy: 0.998 - ETA: 38s - loss: 0.0056 - accuracy: 0.998 - ETA: 36s - loss: 0.0056 - accuracy: 0.998 - ETA: 35s - loss: 0.0056 - accuracy: 0.998 - ETA: 34s - loss: 0.0055 - accuracy: 0.998 - ETA: 32s - loss: 0.0055 - accuracy: 0.998 - ETA: 31s - loss: 0.0055 - accuracy: 0.998 - ETA: 30s - loss: 0.0054 - accuracy: 0.998 - ETA: 28s - loss: 0.0054 - accuracy: 0.998 - ETA: 27s - loss: 0.0054 - accuracy: 0.998 - ETA: 26s - loss: 0.0054 - accuracy: 0.998 - ETA: 24s - loss: 0.0053 - accuracy: 0.998 - ETA: 23s - loss: 0.0053 - accuracy: 0.998 - ETA: 22s - loss: 0.0053 - accuracy: 0.998 - ETA: 21s - loss: 0.0052 - accuracy: 0.998 - ETA: 19s - loss: 0.0052 - accuracy: 0.998 - ETA: 18s - loss: 0.0052 - accuracy: 0.998 - ETA: 17s - loss: 0.0052 - accuracy: 0.998 - ETA: 15s - loss: 0.0051 - accuracy: 0.998 - ETA: 14s - loss: 0.0051 - accuracy: 0.998 - ETA: 13s - loss: 0.0051 - accuracy: 0.998 - ETA: 11s - loss: 0.0050 - accuracy: 0.998 - ETA: 10s - loss: 0.0050 - accuracy: 0.998 - ETA: 9s - loss: 0.0050 - accuracy: 0.998 - ETA: 7s - loss: 0.0050 - accuracy: 0.99 - ETA: 6s - loss: 0.0049 - accuracy: 0.99 - ETA: 5s - loss: 0.0049 - accuracy: 0.99 - ETA: 3s - loss: 0.0050 - accuracy: 0.99 - ETA: 2s - loss: 0.0050 - accuracy: 0.99 - ETA: 1s - loss: 0.0049 - accuracy: 0.99 - ETA: 0s - loss: 0.0049 - accuracy: 0.99 - 244s 1s/step - loss: 0.0049 - accuracy: 0.9988 - val_loss: 0.0013 - val_accuracy: 1.0000\n"
     ]
    },
    {
     "data": {
      "image/png": "[encoded data removed]",
      "text/plain": [
       "<Figure size 1080x360 with 2 Axes>"
      ]
     },
     "metadata": {
      "needs_background": "light"
     },
     "output_type": "display_data"
    },
    {
     "data": {
      "image/png": "[encoded data removed]",
      "text/plain": [
       "<Figure size 1080x720 with 2 Axes>"
      ]
     },
     "metadata": {
      "needs_background": "light"
     },
     "output_type": "display_data"
    }
   ],
   "source": [
    "hypermodel = tuner.hypermodel.build(best_hps)\n",
    "\n",
    "# re-train the model\n",
    "hypermodel.fit(x_train, y_train, epochs=best_number_of_epoch, validation_data=(x_val, y_val))\n",
    "\n",
    "# summarize history for accuracy\n",
    "plt.figure(1, figsize=(15, 5))\n",
    "plt.subplot(121)\n",
    "plt.plot(history.history['accuracy'])\n",
    "plt.plot(history.history['val_accuracy'])\n",
    "plt.title('model accuracy')\n",
    "plt.ylabel('accuracy')\n",
    "plt.xlabel('epoch')\n",
    "plt.legend(['train', 'validation'], loc='lower right')\n",
    "plt.grid()\n",
    "\n",
    "# summarize history for loss\n",
    "plt.subplot(122)\n",
    "plt.plot(history.history['loss'])\n",
    "plt.plot(history.history['val_loss'])\n",
    "plt.title('model loss')\n",
    "plt.ylabel('loss')\n",
    "plt.xlabel('epoch')\n",
    "plt.legend(['train', 'validation'], loc='upper right')\n",
    "plt.grid()\n",
    "plt.show()\n",
    "\n",
    "##################################################### Why not to zoom a bit?\n",
    "zoom = 3\n",
    "\n",
    "plt.figure(1, figsize=(15, 10))\n",
    "# summarize history for accuracy\n",
    "plt.subplot(221)\n",
    "plt.plot(history.history['accuracy'][zoom:])\n",
    "plt.plot(history.history['val_accuracy'][zoom:])\n",
    "plt.title('model accuracy')\n",
    "plt.ylabel('accuracy')\n",
    "plt.xlabel('epoch')\n",
    "plt.legend(['train', 'validation'], loc='lower right')\n",
    "plt.grid()\n",
    "plt.axis([2, epochs-zoom, 0.98, 1.0])\n",
    "\n",
    "# summarize history for loss\n",
    "plt.subplot(222)\n",
    "plt.plot(history.history['loss'][zoom:])\n",
    "plt.plot(history.history['val_loss'][zoom:])\n",
    "plt.title('model loss')\n",
    "plt.ylabel('loss')\n",
    "plt.xlabel('epoch')\n",
    "plt.legend(['train', 'validation'], loc='upper right')\n",
    "plt.grid()\n",
    "plt.axis([2, epochs-zoom, 0.0, 0.06])\n",
    "\n",
    "\n",
    "plt.show()"
   ]
  },
  {
   "cell_type": "code",
   "execution_count": 74,
   "metadata": {},
   "outputs": [
    {
     "name": "stdout",
     "output_type": "stream",
     "text": [
      "Test loss: 0.003050296101719141\n",
      "Test accuracy: 0.9993749856948853\n"
     ]
    }
   ],
   "source": [
    "score = hypermodel.evaluate(x_test, y_test, verbose=0)\n",
    "print(\"Test loss:\", score[0])\n",
    "print(\"Test accuracy:\", score[1])"
   ]
  },
  {
   "cell_type": "markdown",
   "metadata": {},
   "source": [
    "### Let's make the predictions with the best model: The Convolutional Neural Network"
   ]
  },
  {
   "cell_type": "code",
   "execution_count": 75,
   "metadata": {},
   "outputs": [],
   "source": [
    "predictions = hypermodel.predict(x_test)\n",
    "y_hat = np.argmax(predictions, axis=1)\n",
    "target = np.argmax(y_test, axis=1)"
   ]
  },
  {
   "cell_type": "code",
   "execution_count": 76,
   "metadata": {},
   "outputs": [
    {
     "data": {
      "text/plain": [
       "[626]"
      ]
     },
     "execution_count": 76,
     "metadata": {},
     "output_type": "execute_result"
    }
   ],
   "source": [
    "mistakes = []\n",
    "\n",
    "for i in range(len(target)):\n",
    "    if y_hat[i] != target[i]:\n",
    "        mistakes.append(i)\n",
    "\n",
    "mistakes"
   ]
  },
  {
   "cell_type": "code",
   "execution_count": 77,
   "metadata": {},
   "outputs": [
    {
     "data": {
      "text/plain": [
       "1"
      ]
     },
     "execution_count": 77,
     "metadata": {},
     "output_type": "execute_result"
    }
   ],
   "source": [
    "len(mistakes)"
   ]
  },
  {
   "cell_type": "code",
   "execution_count": 78,
   "metadata": {},
   "outputs": [
    {
     "data": {
      "text/plain": [
       "1600"
      ]
     },
     "execution_count": 78,
     "metadata": {},
     "output_type": "execute_result"
    }
   ],
   "source": [
    "len(target)"
   ]
  },
  {
   "cell_type": "code",
   "execution_count": 79,
   "metadata": {},
   "outputs": [
    {
     "data": {
      "text/plain": [
       "0.999375"
      ]
     },
     "execution_count": 79,
     "metadata": {},
     "output_type": "execute_result"
    }
   ],
   "source": [
    "1 - (len(mistakes) / len(target))"
   ]
  },
  {
   "cell_type": "markdown",
   "metadata": {},
   "source": [
    "### Let's get back the real class labels"
   ]
  },
  {
   "cell_type": "code",
   "execution_count": 80,
   "metadata": {},
   "outputs": [],
   "source": [
    "int_to_str = {0: \"Comic\", 1: \"Face\"}"
   ]
  },
  {
   "cell_type": "code",
   "execution_count": 81,
   "metadata": {},
   "outputs": [],
   "source": [
    "# let's get the real name of the classification from the following dictionary we created\n",
    "\n",
    "p = pd.DataFrame({\"predictions\": y_hat})\n",
    "p['predictions'] = p['predictions'].map(int_to_str)"
   ]
  },
  {
   "cell_type": "code",
   "execution_count": 82,
   "metadata": {},
   "outputs": [
    {
     "data": {
      "text/html": [
       "<div>\n",
       "<style scoped>\n",
       "    .dataframe tbody tr th:only-of-type {\n",
       "        vertical-align: middle;\n",
       "    }\n",
       "\n",
       "    .dataframe tbody tr th {\n",
       "        vertical-align: top;\n",
       "    }\n",
       "\n",
       "    .dataframe thead th {\n",
       "        text-align: right;\n",
       "    }\n",
       "</style>\n",
       "<table border=\"1\" class=\"dataframe\">\n",
       "  <thead>\n",
       "    <tr style=\"text-align: right;\">\n",
       "      <th></th>\n",
       "      <th>predictions</th>\n",
       "    </tr>\n",
       "  </thead>\n",
       "  <tbody>\n",
       "    <tr>\n",
       "      <th>0</th>\n",
       "      <td>Face</td>\n",
       "    </tr>\n",
       "    <tr>\n",
       "      <th>1</th>\n",
       "      <td>Comic</td>\n",
       "    </tr>\n",
       "    <tr>\n",
       "      <th>2</th>\n",
       "      <td>Face</td>\n",
       "    </tr>\n",
       "    <tr>\n",
       "      <th>3</th>\n",
       "      <td>Face</td>\n",
       "    </tr>\n",
       "    <tr>\n",
       "      <th>4</th>\n",
       "      <td>Comic</td>\n",
       "    </tr>\n",
       "    <tr>\n",
       "      <th>...</th>\n",
       "      <td>...</td>\n",
       "    </tr>\n",
       "    <tr>\n",
       "      <th>1595</th>\n",
       "      <td>Comic</td>\n",
       "    </tr>\n",
       "    <tr>\n",
       "      <th>1596</th>\n",
       "      <td>Face</td>\n",
       "    </tr>\n",
       "    <tr>\n",
       "      <th>1597</th>\n",
       "      <td>Comic</td>\n",
       "    </tr>\n",
       "    <tr>\n",
       "      <th>1598</th>\n",
       "      <td>Face</td>\n",
       "    </tr>\n",
       "    <tr>\n",
       "      <th>1599</th>\n",
       "      <td>Face</td>\n",
       "    </tr>\n",
       "  </tbody>\n",
       "</table>\n",
       "<p>1600 rows × 1 columns</p>\n",
       "</div>"
      ],
      "text/plain": [
       "     predictions\n",
       "0           Face\n",
       "1          Comic\n",
       "2           Face\n",
       "3           Face\n",
       "4          Comic\n",
       "...          ...\n",
       "1595       Comic\n",
       "1596        Face\n",
       "1597       Comic\n",
       "1598        Face\n",
       "1599        Face\n",
       "\n",
       "[1600 rows x 1 columns]"
      ]
     },
     "execution_count": 82,
     "metadata": {},
     "output_type": "execute_result"
    }
   ],
   "source": [
    "p # label for the set of test images"
   ]
  },
  {
   "cell_type": "code",
   "execution_count": 83,
   "metadata": {},
   "outputs": [
    {
     "data": {
      "text/plain": [
       "'Face'"
      ]
     },
     "execution_count": 83,
     "metadata": {},
     "output_type": "execute_result"
    }
   ],
   "source": [
    "p.predictions.values[mistakes[0]]"
   ]
  },
  {
   "cell_type": "code",
   "execution_count": 84,
   "metadata": {},
   "outputs": [],
   "source": [
    "t = pd.DataFrame({\"target\": target})\n",
    "t['target'] = t['target'].map(int_to_str)"
   ]
  },
  {
   "cell_type": "code",
   "execution_count": 85,
   "metadata": {},
   "outputs": [
    {
     "data": {
      "text/plain": [
       "'Comic'"
      ]
     },
     "execution_count": 85,
     "metadata": {},
     "output_type": "execute_result"
    }
   ],
   "source": [
    "t.target.values[mistakes[0]]"
   ]
  },
  {
   "cell_type": "markdown",
   "metadata": {},
   "source": [
    "## Let's see which one are wrongly classified"
   ]
  },
  {
   "cell_type": "code",
   "execution_count": 86,
   "metadata": {},
   "outputs": [
    {
     "data": {
      "image/png": "[encoded data removed]",
      "text/plain": [
       "<Figure size 1080x576 with 1 Axes>"
      ]
     },
     "metadata": {
      "needs_background": "light"
     },
     "output_type": "display_data"
    }
   ],
   "source": [
    "rows = 1\n",
    "cols = len(mistakes)+1\n",
    "axes = []\n",
    "fig = plt.figure(figsize=(15,8))\n",
    "\n",
    "for a in range(len(mistakes)):\n",
    "    axes.append( fig.add_subplot(rows, cols, a+1) )\n",
    "    subplot_title=(\"Target: \"+t.target.values[mistakes[0]], \"________\" ,\"Pred: \"+p.predictions.values[mistakes[0]])\n",
    "    axes[-1].set_title(subplot_title)  \n",
    "    plt.imshow(np.resize(x_test[mistakes[a]], (image_size, image_size)))\n",
    "fig.tight_layout()    \n",
    "plt.show()"
   ]
  },
  {
   "cell_type": "code",
   "execution_count": 87,
   "metadata": {},
   "outputs": [
    {
     "data": {
      "image/png": "[encoded data removed]",
      "text/plain": [
       "<PIL.Image.Image image mode=RGBA size=1068x708 at 0x7FAD407C72E0>"
      ]
     },
     "execution_count": 87,
     "metadata": {},
     "output_type": "execute_result"
    }
   ],
   "source": [
    "visualkeras.layered_view(hypermodel, legend=True, spacing=10) # write to disk - to_file='output.png'"
   ]
  },
  {
   "cell_type": "code",
   "execution_count": null,
   "metadata": {},
   "outputs": [],
   "source": []
  }
 ],
 "metadata": {
  "kernelspec": {
   "display_name": "Python 3 (ipykernel)",
   "language": "python",
   "name": "python3"
  },
  "language_info": {
   "codemirror_mode": {
    "name": "ipython",
    "version": 3
   },
   "file_extension": ".py",
   "mimetype": "text/x-python",
   "name": "python",
   "nbconvert_exporter": "python",
   "pygments_lexer": "ipython3",
   "version": "3.8.5"
  },
  "latex_envs": {
   "LaTeX_envs_menu_present": true,
   "autoclose": false,
   "autocomplete": true,
   "bibliofile": "biblio.bib",
   "cite_by": "apalike",
   "current_citInitial": 1,
   "eqLabelWithNumbers": true,
   "eqNumInitial": 1,
   "hotkeys": {
    "equation": "Ctrl-E",
    "itemize": "Ctrl-I"
   },
   "labels_anchors": false,
   "latex_user_defs": false,
   "report_style_numbering": false,
   "user_envs_cfg": false
  }
 },
 "nbformat": 4,
 "nbformat_minor": 4
}
