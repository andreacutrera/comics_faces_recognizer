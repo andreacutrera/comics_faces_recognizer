{
 "cells": [
  {
   "cell_type": "markdown",
   "metadata": {},
   "source": [
    "# Algorithms for Massive Data \n",
    "## Project 4: Face/comic recognizer with deep learning\n",
    "\n",
    "### _Andrea Pio Cutrera_ - 965591 - _Data Science and Economics_ - _Università degli Studi di Milano_\n",
    "# Part 3 - Model selection\n",
    "\n",
    "Project for the module **_Algoritms for Massive Data_** of the course _Algoritms for Massive Data, Cloud and Distributed Computing_ for the academic year **2021-2022**.\n",
    "The task is to implement a deep-learning-based system discriminating between real faces and comics, using the «Comics faces» dataset.\n",
    "The «Comic faces» dataset is published on Kaggle and released under the CC-BY 4.0 license, with attribution required. \n",
    "\n",
    "If you want to have a look before starting:\n",
    "- Dataset link: https://www.kaggle.com/defileroff/comic-faces-paired-synthetic-v2"
   ]
  },
  {
   "cell_type": "code",
   "execution_count": 1,
   "metadata": {},
   "outputs": [
    {
     "name": "stdout",
     "output_type": "stream",
     "text": [
      "comic-faces-paired-synthetic-v2.zip model_selection.ipynb\n",
      "download_data.ipynb                 preprocessing_and_modelling.ipynb\n",
      "face2comics_v2.0.0_by_Sxela         samples\n"
     ]
    }
   ],
   "source": [
    "# we start importing the basic libraries\n",
    "import numpy as np\n",
    "import pandas as pd\n",
    "import matplotlib.pyplot as plt\n",
    "import os\n",
    "import datetime\n",
    "\n",
    "# We use a Python Library called OpenCV: <https://docs.opencv.org/4.x/d1/dfb/intro.html>\n",
    "# OpenCV (Open Source Computer Vision Library: http://opencv.org) is an open-source library that includes \n",
    "# several hundreds of computer vision algorithms for image operations.\n",
    "import cv2\n",
    "\n",
    "\n",
    "import random\n",
    "from sklearn.model_selection import train_test_split\n",
    "\n",
    "# tensorflow is the library used for deep learning\n",
    "import tensorflow as tf\n",
    "from tensorflow import keras\n",
    "from tensorflow.keras import layers\n",
    "from tensorflow.keras.layers import Dense, Conv2D, Activation, Flatten, MaxPooling2D, Dropout\n",
    "from kerastuner.tuners import RandomSearch, Hyperband\n",
    "from kerastuner.engine.hyperparameters import HyperParameters\n",
    "\n",
    "\n",
    "# visualkeras to get a pretty visualization of neural networks architectures\n",
    "# https://github.com/ashishpatel26/Tools-to-Design-or-Visualize-Architecture-of-Neural-Network\n",
    "import visualkeras\n",
    "\n",
    "# show the files in current directory \n",
    "!ls"
   ]
  },
  {
   "cell_type": "code",
   "execution_count": 40,
   "metadata": {},
   "outputs": [],
   "source": [
    "working_directory = !pwd                 # get present working directory\n",
    "working_directory = working_directory[0] # get the full string \n",
    "\n",
    "DIR = working_directory + \"/face2comics_v2.0.0_by_Sxela/face2comics_v2.0.0_by_Sxela\" # go inside the 2 folders\n",
    "CATEGORIES = [\"comics\", \"faces\"] # set the names of the subsequent folders, which would correspond to the \n",
    "                                 # labels of the class of our images - Comics and Faces.\n",
    "\n",
    "path_faces = os.path.join(DIR, CATEGORIES[1])   # path to the faces folder\n",
    "path_comics = os.path.join(DIR, CATEGORIES[0])  # path to the comics folder"
   ]
  },
  {
   "cell_type": "markdown",
   "metadata": {},
   "source": [
    "### Now let's get data"
   ]
  },
  {
   "cell_type": "code",
   "execution_count": 41,
   "metadata": {},
   "outputs": [],
   "source": [
    "# Define the image size below before the starting - for a good quality use 100\n",
    "data = []\n",
    "image_size = 128"
   ]
  },
  {
   "cell_type": "markdown",
   "metadata": {},
   "source": [
    "## Just took 5K images for both categories "
   ]
  },
  {
   "cell_type": "code",
   "execution_count": 42,
   "metadata": {},
   "outputs": [],
   "source": [
    "def get_data():\n",
    "    for category in CATEGORIES:\n",
    "        path = os.path.join(DIR, category)                # 2 iterations for both categories create \n",
    "                                                          # respectively 2 paths (2 folders)\n",
    "        classification_label = CATEGORIES.index(category) # get the classification label as an integer \n",
    "                                                          # (is it a real face ? Yes = 1, No = 0)\n",
    "        for image in os.listdir(path)[:500]:\n",
    "            try:\n",
    "                image_array = cv2.imread(os.path.join(path, image), cv2.IMREAD_GRAYSCALE) # cv2 read an image for all the images in each folder\n",
    "                image_resized = cv2.resize(image_array, (image_size, image_size)) # resize the image\n",
    "                data.append([image_resized, classification_label]) # append each image encoded along with its label\n",
    "            except Exception as e:\n",
    "                pass"
   ]
  },
  {
   "cell_type": "code",
   "execution_count": 43,
   "metadata": {},
   "outputs": [
    {
     "name": "stdout",
     "output_type": "stream",
     "text": [
      "0:00:06.494551\n"
     ]
    }
   ],
   "source": [
    "# here we call the function above defined to get the data, and we measure the time it takes\n",
    "start = datetime.datetime.now()\n",
    "\n",
    "# call the function to get data\n",
    "get_data()\n",
    "\n",
    "# to quantify how much time it does take (~0.5 minutes with size = 128)\n",
    "stop = datetime.datetime.now()\n",
    "print(stop-start)"
   ]
  },
  {
   "cell_type": "code",
   "execution_count": 44,
   "metadata": {},
   "outputs": [],
   "source": [
    "random.seed(42)      # set a seed to get always the same results (optional, not necessary, we have a lot of data)\n",
    "random.shuffle(data) # to shuffle data inside, not to have all the comics before aand the faces after"
   ]
  },
  {
   "cell_type": "code",
   "execution_count": 45,
   "metadata": {},
   "outputs": [
    {
     "name": "stdout",
     "output_type": "stream",
     "text": [
      "Index is:  1\n",
      "Index is:  1\n",
      "Index is:  1\n",
      "Index is:  1\n",
      "Index is:  0\n"
     ]
    }
   ],
   "source": [
    "# Now they have been shuffled - print the first 5 labels\n",
    "for image in range(5):\n",
    "    print(\"Index is: \", data[image][1])"
   ]
  },
  {
   "cell_type": "code",
   "execution_count": 46,
   "metadata": {},
   "outputs": [
    {
     "data": {
      "text/plain": [
       "(128, 128)"
      ]
     },
     "execution_count": 46,
     "metadata": {},
     "output_type": "execute_result"
    }
   ],
   "source": [
    "data[0][0].shape"
   ]
  },
  {
   "cell_type": "code",
   "execution_count": 47,
   "metadata": {},
   "outputs": [],
   "source": [
    "# initialize empty lists: one for the datapoints, one for the target labels\n",
    "X = []\n",
    "y = []\n",
    "\n",
    "for pixels, label in data:\n",
    "    X.append(pixels)\n",
    "    y.append(label)"
   ]
  },
  {
   "cell_type": "code",
   "execution_count": 48,
   "metadata": {},
   "outputs": [
    {
     "data": {
      "text/plain": [
       "([array([[197, 203, 201, ..., 204, 205, 207],\n",
       "         [204, 202, 203, ..., 206, 205, 205],\n",
       "         [206, 205, 206, ..., 207, 207, 204],\n",
       "         ...,\n",
       "         [237, 236, 239, ..., 228, 227, 227],\n",
       "         [238, 238, 237, ..., 225, 226, 228],\n",
       "         [244, 241, 241, ..., 229, 230, 233]], dtype=uint8),\n",
       "  array([[163, 166, 166, ..., 161, 161, 163],\n",
       "         [167, 166, 166, ..., 162, 162, 162],\n",
       "         [166, 166, 166, ..., 163, 163, 162],\n",
       "         ...,\n",
       "         [ 42,  38,  38, ...,  48,  44,  49],\n",
       "         [ 42,  40,  38, ...,  45,  50,  46],\n",
       "         [ 44,  40,  40, ...,  47,  46,  46]], dtype=uint8)],\n",
       " [1, 1])"
      ]
     },
     "execution_count": 48,
     "metadata": {},
     "output_type": "execute_result"
    }
   ],
   "source": [
    "X[:2], y[:2] # the first 2 examples I saved"
   ]
  },
  {
   "cell_type": "code",
   "execution_count": 49,
   "metadata": {},
   "outputs": [],
   "source": [
    "# transform our lists into Numpy arrays\n",
    "X = np.array(X)\n",
    "y = np.array(y)"
   ]
  },
  {
   "cell_type": "markdown",
   "metadata": {},
   "source": [
    "### Train-Test split for our data"
   ]
  },
  {
   "cell_type": "code",
   "execution_count": 50,
   "metadata": {},
   "outputs": [],
   "source": [
    "# now split data and lock somewhere your test data\n",
    "# we are going to use only training data, and just a portion of them as validation for the hyperparameter tuning\n",
    "x_train, x_test, y_train, y_test = train_test_split(X, y, \n",
    "                                                    test_size=0.2, \n",
    "                                                    random_state=42, \n",
    "                                                    stratify=y)"
   ]
  },
  {
   "cell_type": "code",
   "execution_count": 51,
   "metadata": {},
   "outputs": [],
   "source": [
    "x_train, x_val, y_train, y_val = train_test_split(x_train, y_train, \n",
    "                                                  test_size=0.1, \n",
    "                                                  random_state=42, \n",
    "                                                  stratify=y_train)"
   ]
  },
  {
   "cell_type": "code",
   "execution_count": 52,
   "metadata": {},
   "outputs": [
    {
     "name": "stdout",
     "output_type": "stream",
     "text": [
      "Train examples (720, 128, 128)\n",
      "Validation examples (80, 128, 128)\n",
      "Test examples (200, 128, 128)\n"
     ]
    }
   ],
   "source": [
    "print(\"Train examples\", x_train.shape)\n",
    "print(\"Validation examples\", x_val.shape)\n",
    "print(\"Test examples\", x_test.shape)"
   ]
  },
  {
   "cell_type": "code",
   "execution_count": 53,
   "metadata": {},
   "outputs": [
    {
     "data": {
      "text/plain": [
       "(array([0, 1]), array([100, 100]))"
      ]
     },
     "execution_count": 53,
     "metadata": {},
     "output_type": "execute_result"
    }
   ],
   "source": [
    "np.unique(y_test, return_counts=True) # balanced"
   ]
  },
  {
   "cell_type": "markdown",
   "metadata": {},
   "source": [
    "### Setup some parameters before to start modelling, and make OneHotEncoding on target labels"
   ]
  },
  {
   "cell_type": "code",
   "execution_count": 54,
   "metadata": {},
   "outputs": [],
   "source": [
    "# Model / data parameters\n",
    "num_classes = 2\n",
    "input_shape = x_train.shape[1:]"
   ]
  },
  {
   "cell_type": "code",
   "execution_count": 55,
   "metadata": {},
   "outputs": [],
   "source": [
    "# convert class vectors to binary class matrices\n",
    "y_train = keras.utils.to_categorical(y_train, num_classes)\n",
    "y_val = keras.utils.to_categorical(y_val, num_classes)\n",
    "y_test = keras.utils.to_categorical(y_test, num_classes)"
   ]
  },
  {
   "cell_type": "code",
   "execution_count": 56,
   "metadata": {},
   "outputs": [
    {
     "data": {
      "text/plain": [
       "((720, 2), (80, 2), (200, 2))"
      ]
     },
     "execution_count": 56,
     "metadata": {},
     "output_type": "execute_result"
    }
   ],
   "source": [
    "y_train.shape, y_val.shape, y_test.shape"
   ]
  },
  {
   "cell_type": "code",
   "execution_count": 57,
   "metadata": {},
   "outputs": [],
   "source": [
    "# Scale images to the [0, 1] range\n",
    "x_train = x_train.astype(\"float32\") / 255\n",
    "x_val = x_val.astype(\"float32\") / 255\n",
    "x_test = x_test.astype(\"float32\") / 255"
   ]
  },
  {
   "cell_type": "code",
   "execution_count": 58,
   "metadata": {},
   "outputs": [
    {
     "data": {
      "text/plain": [
       "(0.9882353, 0.0)"
      ]
     },
     "execution_count": 58,
     "metadata": {},
     "output_type": "execute_result"
    }
   ],
   "source": [
    "np.max(x_train[0]), np.min(x_train[0])"
   ]
  },
  {
   "cell_type": "code",
   "execution_count": 59,
   "metadata": {},
   "outputs": [],
   "source": [
    "# To use Convolutional neural networks we need one dimension more (3 dims)\n",
    "input_shape = (image_size, image_size, 1)\n",
    "BATCH_SIZE = 128\n",
    "epochs = 10"
   ]
  },
  {
   "cell_type": "markdown",
   "metadata": {},
   "source": [
    "### Initialize some hyperparameters\n",
    "- **filters**: for the number of filters inside the convolutional\n",
    "- **dropout rate**: for the rate of the Dropout layer"
   ]
  },
  {
   "cell_type": "code",
   "execution_count": 60,
   "metadata": {},
   "outputs": [],
   "source": [
    "# hp_filters = [32, 64, 128]\n",
    "# hp_dropout = [0.3, 0.5, 0.7]\n",
    "# hp_learning_rate = [1e-2, 1e-3, 1e-4]"
   ]
  },
  {
   "cell_type": "code",
   "execution_count": 61,
   "metadata": {},
   "outputs": [],
   "source": [
    "# some trials from scratch\n",
    "\n",
    "#t = 1 # for trial count\n",
    "#results = {} # to save results\n",
    "#\n",
    "#for filters in hp_filters:\n",
    "#    for dropout in hp_dropout:\n",
    "#        # build the model\n",
    "#        print(\"TRIAL #:\", t, \"#############################################\")\n",
    "#        print(\"- Number of filters in Conv2D layer:\", filters, \"\\n\", \"- Dropout rate:\", dropout)\n",
    "#        model = keras.Sequential(\n",
    "#            [\n",
    "#                keras.Input(shape=input_shape),\n",
    "#                layers.Conv2D(filters, kernel_size=(3, 3), activation=\"relu\"),\n",
    "#                layers.MaxPooling2D(pool_size=(2, 2)),\n",
    "#                layers.Flatten(),\n",
    "#                layers.Dropout(dropout),\n",
    "#                layers.Dense(num_classes, activation=\"softmax\"),\n",
    "#            ]\n",
    "#        )\n",
    "#        # compile the model\n",
    "#        model.compile(loss=\"categorical_crossentropy\", optimizer=\"adam\", metrics=[\"accuracy\"])\n",
    "#        # fit the model\n",
    "#        history = model.fit(x_train, y_train, \n",
    "#                            batch_size=BATCH_SIZE,\n",
    "#                            epochs=epochs,\n",
    "#                            validation_data=(x_val,y_val),\n",
    "#                            verbose=0)\n",
    "#        print(\"______________________ Validation accuracy in the last epoch:\", history.history['val_accuracy'][-1])\n",
    "#        results[(filters, dropout)] = history.history['val_accuracy'] # save here the results for the epochs\n",
    "#        t += 1 # next trial"
   ]
  },
  {
   "cell_type": "code",
   "execution_count": 62,
   "metadata": {},
   "outputs": [],
   "source": [
    "#for hp in range(t):\n",
    "#    plt.plot(results[t])"
   ]
  },
  {
   "cell_type": "markdown",
   "metadata": {},
   "source": [
    "## Start hyper-parameter tuning"
   ]
  },
  {
   "cell_type": "code",
   "execution_count": 63,
   "metadata": {},
   "outputs": [],
   "source": [
    "input_shape = (image_size, image_size, 1)"
   ]
  },
  {
   "cell_type": "code",
   "execution_count": 64,
   "metadata": {},
   "outputs": [],
   "source": [
    "# Make sure images have shape (100, 100, 1) -----> Tensors needed for batches\n",
    "x_train = np.expand_dims(x_train, -1)\n",
    "x_val = np.expand_dims(x_val, -1)\n",
    "x_test = np.expand_dims(x_test, -1)"
   ]
  },
  {
   "cell_type": "code",
   "execution_count": 65,
   "metadata": {},
   "outputs": [
    {
     "name": "stdout",
     "output_type": "stream",
     "text": [
      "x_train shape: (720, 128, 128, 1)\n",
      "x_val shape: (80, 128, 128, 1)\n",
      "x_test shape: (200, 128, 128, 1)\n"
     ]
    }
   ],
   "source": [
    "print(\"x_train shape:\", x_train.shape)\n",
    "print(\"x_val shape:\", x_val.shape)\n",
    "print(\"x_test shape:\", x_test.shape)"
   ]
  },
  {
   "cell_type": "code",
   "execution_count": 71,
   "metadata": {},
   "outputs": [],
   "source": [
    "# set directory where to save the experiment results\n",
    "DIR = working_directory"
   ]
  },
  {
   "cell_type": "code",
   "execution_count": 72,
   "metadata": {},
   "outputs": [],
   "source": [
    "def build_model(hp):\n",
    "    model = tf.keras.Sequential(\n",
    "    [\n",
    "        keras.Input(shape=input_shape),\n",
    "        #convolutional layer\n",
    "        layers.Conv2D(hp.Choice('filters_1', values=[100, 200]), kernel_size=(3, 3), activation=\"relu\"),\n",
    "        #pooling layer\n",
    "        layers.MaxPooling2D(pool_size=(2, 2)),\n",
    "        #another convolutional layer\n",
    "        layers.Conv2D(hp.Choice('filters_2', values=[25, 50]), kernel_size=(3, 3), activation=\"relu\"),\n",
    "        #another pooling layer\n",
    "        layers.MaxPooling2D(pool_size=(2, 2)),\n",
    "        #flatten layer\n",
    "        layers.Flatten(),\n",
    "        #dropout layer\n",
    "        layers.Dropout(hp.Choice('dropout_rate', values=[0.5, 0.7])),\n",
    "        #last 2 neurons for the outcome\n",
    "        layers.Dense(num_classes, activation=\"softmax\")\n",
    "    ])\n",
    "\n",
    "    #compile model\n",
    "    model.compile(loss='categorical_crossentropy',\n",
    "                  optimizer=tf.keras.optimizers.Adam(learning_rate=hp.Choice('lr', values=[1e-2, 1e-3])),\n",
    "                  metrics=['accuracy'])\n",
    "    return model"
   ]
  },
  {
   "cell_type": "code",
   "execution_count": 73,
   "metadata": {},
   "outputs": [],
   "source": [
    "tuner = Hyperband(build_model, \n",
    "                  objective='val_accuracy', \n",
    "                  max_epochs=30,\n",
    "                  hyperband_iterations=1,\n",
    "                  directory=DIR,\n",
    "                  project_name='deep-learning-experiment')"
   ]
  },
  {
   "cell_type": "code",
   "execution_count": 74,
   "metadata": {},
   "outputs": [],
   "source": [
    "early_stop = tf.keras.callbacks.EarlyStopping(monitor='val_loss', patience=3, min_delta=0.0001)"
   ]
  },
  {
   "cell_type": "code",
   "execution_count": 75,
   "metadata": {},
   "outputs": [
    {
     "name": "stdout",
     "output_type": "stream",
     "text": [
      "Epoch 1/2\n",
      "12/12 [==============================] - ETA: 24s - loss: 0.6846 - accuracy: 0.609 - ETA: 20s - loss: 0.6590 - accuracy: 0.539 - ETA: 18s - loss: 0.7283 - accuracy: 0.479 - ETA: 16s - loss: 0.6756 - accuracy: 0.519 - ETA: 15s - loss: 0.6971 - accuracy: 0.515 - ETA: 13s - loss: 0.6599 - accuracy: 0.541 - ETA: 11s - loss: 0.6296 - accuracy: 0.587 - ETA: 9s - loss: 0.6220 - accuracy: 0.593 - ETA: 6s - loss: 0.6124 - accuracy: 0.60 - ETA: 4s - loss: 0.5940 - accuracy: 0.62 - ETA: 2s - loss: 0.5710 - accuracy: 0.65 - ETA: 0s - loss: 0.5695 - accuracy: 0.65 - 27s 2s/step - loss: 0.5695 - accuracy: 0.6514 - val_loss: 0.3197 - val_accuracy: 0.8750\n",
      "Epoch 2/2\n",
      "12/12 [==============================] - ETA: 28s - loss: 0.3117 - accuracy: 0.859 - ETA: 25s - loss: 0.3152 - accuracy: 0.859 - ETA: 22s - loss: 0.2954 - accuracy: 0.875 - ETA: 20s - loss: 0.2678 - accuracy: 0.894 - ETA: 17s - loss: 0.2691 - accuracy: 0.884 - ETA: 15s - loss: 0.2599 - accuracy: 0.890 - ETA: 12s - loss: 0.2465 - accuracy: 0.892 - ETA: 10s - loss: 0.2480 - accuracy: 0.886 - ETA: 7s - loss: 0.2488 - accuracy: 0.881 - ETA: 5s - loss: 0.2411 - accuracy: 0.88 - ETA: 2s - loss: 0.2398 - accuracy: 0.88 - ETA: 0s - loss: 0.2373 - accuracy: 0.88 - 30s 3s/step - loss: 0.2373 - accuracy: 0.8889 - val_loss: 0.1049 - val_accuracy: 0.9625\n"
     ]
    },
    {
     "data": {
      "text/html": [
       "<span style=\"color:#4527A0\"><h1 style=\"font-size:18px\">Trial complete</h1></span>"
      ],
      "text/plain": [
       "<IPython.core.display.HTML object>"
      ]
     },
     "metadata": {},
     "output_type": "display_data"
    },
    {
     "data": {
      "text/html": [
       "<span style=\"color:#4527A0\"><h1 style=\"font-size:18px\">Trial summary</h1></span>"
      ],
      "text/plain": [
       "<IPython.core.display.HTML object>"
      ]
     },
     "metadata": {},
     "output_type": "display_data"
    },
    {
     "data": {
      "text/html": [
       "<span style=\"color:#7E57C2\"><h2 style=\"font-size:16px\">Hp values:</h2></span>"
      ],
      "text/plain": [
       "<IPython.core.display.HTML object>"
      ]
     },
     "metadata": {},
     "output_type": "display_data"
    },
    {
     "data": {
      "text/html": [
       "<span style=\"color:cyan\"> |-dropout_rate: 0.7</span>"
      ],
      "text/plain": [
       "<IPython.core.display.HTML object>"
      ]
     },
     "metadata": {},
     "output_type": "display_data"
    },
    {
     "data": {
      "text/html": [
       "<span style=\"color:blue\"> |-filters_1: 200</span>"
      ],
      "text/plain": [
       "<IPython.core.display.HTML object>"
      ]
     },
     "metadata": {},
     "output_type": "display_data"
    },
    {
     "data": {
      "text/html": [
       "<span style=\"color:cyan\"> |-filters_2: 50</span>"
      ],
      "text/plain": [
       "<IPython.core.display.HTML object>"
      ]
     },
     "metadata": {},
     "output_type": "display_data"
    },
    {
     "data": {
      "text/html": [
       "<span style=\"color:blue\"> |-lr: 0.001</span>"
      ],
      "text/plain": [
       "<IPython.core.display.HTML object>"
      ]
     },
     "metadata": {},
     "output_type": "display_data"
    },
    {
     "data": {
      "text/html": [
       "<span style=\"color:cyan\"> |-tuner/bracket: 3</span>"
      ],
      "text/plain": [
       "<IPython.core.display.HTML object>"
      ]
     },
     "metadata": {},
     "output_type": "display_data"
    },
    {
     "data": {
      "text/html": [
       "<span style=\"color:blue\"> |-tuner/epochs: 2</span>"
      ],
      "text/plain": [
       "<IPython.core.display.HTML object>"
      ]
     },
     "metadata": {},
     "output_type": "display_data"
    },
    {
     "data": {
      "text/html": [
       "<span style=\"color:cyan\"> |-tuner/initial_epoch: 0</span>"
      ],
      "text/plain": [
       "<IPython.core.display.HTML object>"
      ]
     },
     "metadata": {},
     "output_type": "display_data"
    },
    {
     "data": {
      "text/html": [
       "<span style=\"color:blue\"> |-tuner/round: 0</span>"
      ],
      "text/plain": [
       "<IPython.core.display.HTML object>"
      ]
     },
     "metadata": {},
     "output_type": "display_data"
    },
    {
     "data": {
      "text/html": [
       "<span style=\"color:cyan\"> |-Score: 0.9624999761581421</span>"
      ],
      "text/plain": [
       "<IPython.core.display.HTML object>"
      ]
     },
     "metadata": {},
     "output_type": "display_data"
    },
    {
     "data": {
      "text/html": [
       "<span style=\"color:cyan\"> |-Best step: 0</span>"
      ],
      "text/plain": [
       "<IPython.core.display.HTML object>"
      ]
     },
     "metadata": {},
     "output_type": "display_data"
    },
    {
     "name": "stdout",
     "output_type": "stream",
     "text": [
      "Epoch 1/2\n",
      "12/12 [==============================] - ETA: 35s - loss: 0.7026 - accuracy: 0.515 - ETA: 26s - loss: 6.4987 - accuracy: 0.476 - ETA: 25s - loss: 25.1323 - accuracy: 0.46 - ETA: 22s - loss: 21.7436 - accuracy: 0.46 - ETA: 18s - loss: 17.5798 - accuracy: 0.48 - ETA: 15s - loss: 14.7804 - accuracy: 0.47 - ETA: 13s - loss: 12.7609 - accuracy: 0.49 - ETA: 10s - loss: 11.2514 - accuracy: 0.52 - ETA: 7s - loss: 10.0671 - accuracy: 0.5399 - ETA: 5s - loss: 9.1299 - accuracy: 0.531 - ETA: 2s - loss: 8.3564 - accuracy: 0.52 - ETA: 0s - loss: 8.1832 - accuracy: 0.52 - 31s 3s/step - loss: 8.1832 - accuracy: 0.5292 - val_loss: 0.5748 - val_accuracy: 0.5000\n",
      "Epoch 2/2\n",
      "12/12 [==============================] - ETA: 28s - loss: 0.5734 - accuracy: 0.484 - ETA: 24s - loss: 0.5697 - accuracy: 0.492 - ETA: 22s - loss: 0.5473 - accuracy: 0.567 - ETA: 20s - loss: 0.5270 - accuracy: 0.621 - ETA: 17s - loss: 0.5070 - accuracy: 0.678 - ETA: 15s - loss: 0.4885 - accuracy: 0.705 - ETA: 12s - loss: 0.4564 - accuracy: 0.732 - ETA: 10s - loss: 0.4420 - accuracy: 0.748 - ETA: 7s - loss: 0.4374 - accuracy: 0.756 - ETA: 5s - loss: 0.4317 - accuracy: 0.76 - ETA: 2s - loss: 0.4150 - accuracy: 0.78 - ETA: 0s - loss: 0.4147 - accuracy: 0.78 - 30s 2s/step - loss: 0.4147 - accuracy: 0.7833 - val_loss: 0.4167 - val_accuracy: 0.8125\n"
     ]
    },
    {
     "data": {
      "text/html": [
       "<span style=\"color:#4527A0\"><h1 style=\"font-size:18px\">Trial complete</h1></span>"
      ],
      "text/plain": [
       "<IPython.core.display.HTML object>"
      ]
     },
     "metadata": {},
     "output_type": "display_data"
    },
    {
     "data": {
      "text/html": [
       "<span style=\"color:#4527A0\"><h1 style=\"font-size:18px\">Trial summary</h1></span>"
      ],
      "text/plain": [
       "<IPython.core.display.HTML object>"
      ]
     },
     "metadata": {},
     "output_type": "display_data"
    },
    {
     "data": {
      "text/html": [
       "<span style=\"color:#7E57C2\"><h2 style=\"font-size:16px\">Hp values:</h2></span>"
      ],
      "text/plain": [
       "<IPython.core.display.HTML object>"
      ]
     },
     "metadata": {},
     "output_type": "display_data"
    },
    {
     "data": {
      "text/html": [
       "<span style=\"color:cyan\"> |-dropout_rate: 0.7</span>"
      ],
      "text/plain": [
       "<IPython.core.display.HTML object>"
      ]
     },
     "metadata": {},
     "output_type": "display_data"
    },
    {
     "data": {
      "text/html": [
       "<span style=\"color:blue\"> |-filters_1: 200</span>"
      ],
      "text/plain": [
       "<IPython.core.display.HTML object>"
      ]
     },
     "metadata": {},
     "output_type": "display_data"
    },
    {
     "data": {
      "text/html": [
       "<span style=\"color:cyan\"> |-filters_2: 50</span>"
      ],
      "text/plain": [
       "<IPython.core.display.HTML object>"
      ]
     },
     "metadata": {},
     "output_type": "display_data"
    },
    {
     "data": {
      "text/html": [
       "<span style=\"color:blue\"> |-lr: 0.01</span>"
      ],
      "text/plain": [
       "<IPython.core.display.HTML object>"
      ]
     },
     "metadata": {},
     "output_type": "display_data"
    },
    {
     "data": {
      "text/html": [
       "<span style=\"color:cyan\"> |-tuner/bracket: 3</span>"
      ],
      "text/plain": [
       "<IPython.core.display.HTML object>"
      ]
     },
     "metadata": {},
     "output_type": "display_data"
    },
    {
     "data": {
      "text/html": [
       "<span style=\"color:blue\"> |-tuner/epochs: 2</span>"
      ],
      "text/plain": [
       "<IPython.core.display.HTML object>"
      ]
     },
     "metadata": {},
     "output_type": "display_data"
    },
    {
     "data": {
      "text/html": [
       "<span style=\"color:cyan\"> |-tuner/initial_epoch: 0</span>"
      ],
      "text/plain": [
       "<IPython.core.display.HTML object>"
      ]
     },
     "metadata": {},
     "output_type": "display_data"
    },
    {
     "data": {
      "text/html": [
       "<span style=\"color:blue\"> |-tuner/round: 0</span>"
      ],
      "text/plain": [
       "<IPython.core.display.HTML object>"
      ]
     },
     "metadata": {},
     "output_type": "display_data"
    },
    {
     "data": {
      "text/html": [
       "<span style=\"color:cyan\"> |-Score: 0.8125</span>"
      ],
      "text/plain": [
       "<IPython.core.display.HTML object>"
      ]
     },
     "metadata": {},
     "output_type": "display_data"
    },
    {
     "data": {
      "text/html": [
       "<span style=\"color:cyan\"> |-Best step: 0</span>"
      ],
      "text/plain": [
       "<IPython.core.display.HTML object>"
      ]
     },
     "metadata": {},
     "output_type": "display_data"
    },
    {
     "name": "stdout",
     "output_type": "stream",
     "text": [
      "Epoch 1/2\n",
      "12/12 [==============================] - ETA: 31s - loss: 0.6994 - accuracy: 0.421 - ETA: 22s - loss: 0.6632 - accuracy: 0.507 - ETA: 20s - loss: 0.7031 - accuracy: 0.494 - ETA: 18s - loss: 0.6885 - accuracy: 0.492 - ETA: 16s - loss: 0.6853 - accuracy: 0.487 - ETA: 13s - loss: 0.6736 - accuracy: 0.536 - ETA: 11s - loss: 0.6594 - accuracy: 0.569 - ETA: 9s - loss: 0.6433 - accuracy: 0.591 - ETA: 6s - loss: 0.6246 - accuracy: 0.62 - ETA: 4s - loss: 0.6089 - accuracy: 0.65 - ETA: 2s - loss: 0.5857 - accuracy: 0.67 - ETA: 0s - loss: 0.5798 - accuracy: 0.68 - 27s 2s/step - loss: 0.5798 - accuracy: 0.6847 - val_loss: 0.3025 - val_accuracy: 0.8875\n",
      "Epoch 2/2\n",
      "12/12 [==============================] - ETA: 24s - loss: 0.3748 - accuracy: 0.875 - ETA: 22s - loss: 0.3304 - accuracy: 0.882 - ETA: 20s - loss: 0.2921 - accuracy: 0.885 - ETA: 18s - loss: 0.2700 - accuracy: 0.878 - ETA: 15s - loss: 0.2535 - accuracy: 0.890 - ETA: 13s - loss: 0.2314 - accuracy: 0.898 - ETA: 11s - loss: 0.2193 - accuracy: 0.904 - ETA: 9s - loss: 0.2114 - accuracy: 0.908 - ETA: 6s - loss: 0.1959 - accuracy: 0.91 - ETA: 4s - loss: 0.1912 - accuracy: 0.91 - ETA: 2s - loss: 0.1803 - accuracy: 0.92 - ETA: 0s - loss: 0.1786 - accuracy: 0.92 - 27s 2s/step - loss: 0.1786 - accuracy: 0.9250 - val_loss: 0.0666 - val_accuracy: 0.9625\n"
     ]
    },
    {
     "data": {
      "text/html": [
       "<span style=\"color:#4527A0\"><h1 style=\"font-size:18px\">Trial complete</h1></span>"
      ],
      "text/plain": [
       "<IPython.core.display.HTML object>"
      ]
     },
     "metadata": {},
     "output_type": "display_data"
    },
    {
     "data": {
      "text/html": [
       "<span style=\"color:#4527A0\"><h1 style=\"font-size:18px\">Trial summary</h1></span>"
      ],
      "text/plain": [
       "<IPython.core.display.HTML object>"
      ]
     },
     "metadata": {},
     "output_type": "display_data"
    },
    {
     "data": {
      "text/html": [
       "<span style=\"color:#7E57C2\"><h2 style=\"font-size:16px\">Hp values:</h2></span>"
      ],
      "text/plain": [
       "<IPython.core.display.HTML object>"
      ]
     },
     "metadata": {},
     "output_type": "display_data"
    },
    {
     "data": {
      "text/html": [
       "<span style=\"color:cyan\"> |-dropout_rate: 0.5</span>"
      ],
      "text/plain": [
       "<IPython.core.display.HTML object>"
      ]
     },
     "metadata": {},
     "output_type": "display_data"
    },
    {
     "data": {
      "text/html": [
       "<span style=\"color:blue\"> |-filters_1: 200</span>"
      ],
      "text/plain": [
       "<IPython.core.display.HTML object>"
      ]
     },
     "metadata": {},
     "output_type": "display_data"
    },
    {
     "data": {
      "text/html": [
       "<span style=\"color:cyan\"> |-filters_2: 25</span>"
      ],
      "text/plain": [
       "<IPython.core.display.HTML object>"
      ]
     },
     "metadata": {},
     "output_type": "display_data"
    },
    {
     "data": {
      "text/html": [
       "<span style=\"color:blue\"> |-lr: 0.001</span>"
      ],
      "text/plain": [
       "<IPython.core.display.HTML object>"
      ]
     },
     "metadata": {},
     "output_type": "display_data"
    },
    {
     "data": {
      "text/html": [
       "<span style=\"color:cyan\"> |-tuner/bracket: 3</span>"
      ],
      "text/plain": [
       "<IPython.core.display.HTML object>"
      ]
     },
     "metadata": {},
     "output_type": "display_data"
    },
    {
     "data": {
      "text/html": [
       "<span style=\"color:blue\"> |-tuner/epochs: 2</span>"
      ],
      "text/plain": [
       "<IPython.core.display.HTML object>"
      ]
     },
     "metadata": {},
     "output_type": "display_data"
    },
    {
     "data": {
      "text/html": [
       "<span style=\"color:cyan\"> |-tuner/initial_epoch: 0</span>"
      ],
      "text/plain": [
       "<IPython.core.display.HTML object>"
      ]
     },
     "metadata": {},
     "output_type": "display_data"
    },
    {
     "data": {
      "text/html": [
       "<span style=\"color:blue\"> |-tuner/round: 0</span>"
      ],
      "text/plain": [
       "<IPython.core.display.HTML object>"
      ]
     },
     "metadata": {},
     "output_type": "display_data"
    },
    {
     "data": {
      "text/html": [
       "<span style=\"color:cyan\"> |-Score: 0.9624999761581421</span>"
      ],
      "text/plain": [
       "<IPython.core.display.HTML object>"
      ]
     },
     "metadata": {},
     "output_type": "display_data"
    },
    {
     "data": {
      "text/html": [
       "<span style=\"color:cyan\"> |-Best step: 0</span>"
      ],
      "text/plain": [
       "<IPython.core.display.HTML object>"
      ]
     },
     "metadata": {},
     "output_type": "display_data"
    },
    {
     "name": "stdout",
     "output_type": "stream",
     "text": [
      "Epoch 1/2\n",
      "12/12 [==============================] - ETA: 22s - loss: 0.6813 - accuracy: 0.468 - ETA: 16s - loss: 4.0731 - accuracy: 0.531 - ETA: 14s - loss: 10.0832 - accuracy: 0.52 - ETA: 12s - loss: 9.6232 - accuracy: 0.4883 - ETA: 10s - loss: 7.8184 - accuracy: 0.496 - ETA: 8s - loss: 6.6364 - accuracy: 0.479 - ETA: 7s - loss: 5.7974 - accuracy: 0.48 - ETA: 5s - loss: 5.1577 - accuracy: 0.49 - ETA: 4s - loss: 4.6622 - accuracy: 0.48 - ETA: 2s - loss: 4.2652 - accuracy: 0.48 - ETA: 1s - loss: 3.9406 - accuracy: 0.47 - ETA: 0s - loss: 3.8683 - accuracy: 0.48 - 17s 1s/step - loss: 3.8683 - accuracy: 0.4806 - val_loss: 0.6952 - val_accuracy: 0.4500\n",
      "Epoch 2/2\n",
      "12/12 [==============================] - ETA: 14s - loss: 0.6944 - accuracy: 0.500 - ETA: 13s - loss: 0.6975 - accuracy: 0.437 - ETA: 12s - loss: 0.6958 - accuracy: 0.479 - ETA: 10s - loss: 0.6940 - accuracy: 0.468 - ETA: 9s - loss: 0.6810 - accuracy: 0.496 - ETA: 8s - loss: 0.6707 - accuracy: 0.52 - ETA: 6s - loss: 0.6423 - accuracy: 0.57 - ETA: 5s - loss: 0.6135 - accuracy: 0.59 - ETA: 4s - loss: 0.5988 - accuracy: 0.61 - ETA: 2s - loss: 0.5991 - accuracy: 0.62 - ETA: 1s - loss: 0.5829 - accuracy: 0.64 - ETA: 0s - loss: 0.5854 - accuracy: 0.64 - 16s 1s/step - loss: 0.5854 - accuracy: 0.6444 - val_loss: 0.2633 - val_accuracy: 0.9375\n"
     ]
    },
    {
     "data": {
      "text/html": [
       "<span style=\"color:#4527A0\"><h1 style=\"font-size:18px\">Trial complete</h1></span>"
      ],
      "text/plain": [
       "<IPython.core.display.HTML object>"
      ]
     },
     "metadata": {},
     "output_type": "display_data"
    },
    {
     "data": {
      "text/html": [
       "<span style=\"color:#4527A0\"><h1 style=\"font-size:18px\">Trial summary</h1></span>"
      ],
      "text/plain": [
       "<IPython.core.display.HTML object>"
      ]
     },
     "metadata": {},
     "output_type": "display_data"
    },
    {
     "data": {
      "text/html": [
       "<span style=\"color:#7E57C2\"><h2 style=\"font-size:16px\">Hp values:</h2></span>"
      ],
      "text/plain": [
       "<IPython.core.display.HTML object>"
      ]
     },
     "metadata": {},
     "output_type": "display_data"
    },
    {
     "data": {
      "text/html": [
       "<span style=\"color:cyan\"> |-dropout_rate: 0.5</span>"
      ],
      "text/plain": [
       "<IPython.core.display.HTML object>"
      ]
     },
     "metadata": {},
     "output_type": "display_data"
    },
    {
     "data": {
      "text/html": [
       "<span style=\"color:blue\"> |-filters_1: 100</span>"
      ],
      "text/plain": [
       "<IPython.core.display.HTML object>"
      ]
     },
     "metadata": {},
     "output_type": "display_data"
    },
    {
     "data": {
      "text/html": [
       "<span style=\"color:cyan\"> |-filters_2: 50</span>"
      ],
      "text/plain": [
       "<IPython.core.display.HTML object>"
      ]
     },
     "metadata": {},
     "output_type": "display_data"
    },
    {
     "data": {
      "text/html": [
       "<span style=\"color:blue\"> |-lr: 0.01</span>"
      ],
      "text/plain": [
       "<IPython.core.display.HTML object>"
      ]
     },
     "metadata": {},
     "output_type": "display_data"
    },
    {
     "data": {
      "text/html": [
       "<span style=\"color:cyan\"> |-tuner/bracket: 3</span>"
      ],
      "text/plain": [
       "<IPython.core.display.HTML object>"
      ]
     },
     "metadata": {},
     "output_type": "display_data"
    },
    {
     "data": {
      "text/html": [
       "<span style=\"color:blue\"> |-tuner/epochs: 2</span>"
      ],
      "text/plain": [
       "<IPython.core.display.HTML object>"
      ]
     },
     "metadata": {},
     "output_type": "display_data"
    },
    {
     "data": {
      "text/html": [
       "<span style=\"color:cyan\"> |-tuner/initial_epoch: 0</span>"
      ],
      "text/plain": [
       "<IPython.core.display.HTML object>"
      ]
     },
     "metadata": {},
     "output_type": "display_data"
    },
    {
     "data": {
      "text/html": [
       "<span style=\"color:blue\"> |-tuner/round: 0</span>"
      ],
      "text/plain": [
       "<IPython.core.display.HTML object>"
      ]
     },
     "metadata": {},
     "output_type": "display_data"
    },
    {
     "data": {
      "text/html": [
       "<span style=\"color:cyan\"> |-Score: 0.9375</span>"
      ],
      "text/plain": [
       "<IPython.core.display.HTML object>"
      ]
     },
     "metadata": {},
     "output_type": "display_data"
    },
    {
     "data": {
      "text/html": [
       "<span style=\"color:cyan\"> |-Best step: 0</span>"
      ],
      "text/plain": [
       "<IPython.core.display.HTML object>"
      ]
     },
     "metadata": {},
     "output_type": "display_data"
    },
    {
     "name": "stdout",
     "output_type": "stream",
     "text": [
      "Epoch 1/2\n",
      "12/12 [==============================] - ETA: 16s - loss: 0.7232 - accuracy: 0.453 - ETA: 12s - loss: 0.6865 - accuracy: 0.500 - ETA: 10s - loss: 0.6703 - accuracy: 0.515 - ETA: 9s - loss: 0.6575 - accuracy: 0.515 - ETA: 8s - loss: 0.6491 - accuracy: 0.55 - ETA: 7s - loss: 0.6337 - accuracy: 0.59 - ETA: 6s - loss: 0.6147 - accuracy: 0.62 - ETA: 4s - loss: 0.5937 - accuracy: 0.64 - ETA: 3s - loss: 0.5656 - accuracy: 0.67 - ETA: 2s - loss: 0.5416 - accuracy: 0.70 - ETA: 1s - loss: 0.5187 - accuracy: 0.71 - ETA: 0s - loss: 0.5145 - accuracy: 0.72 - 14s 1s/step - loss: 0.5145 - accuracy: 0.7222 - val_loss: 0.2677 - val_accuracy: 0.8750\n",
      "Epoch 2/2\n",
      "12/12 [==============================] - ETA: 12s - loss: 0.2749 - accuracy: 0.875 - ETA: 11s - loss: 0.2222 - accuracy: 0.906 - ETA: 10s - loss: 0.2075 - accuracy: 0.916 - ETA: 9s - loss: 0.2523 - accuracy: 0.890 - ETA: 8s - loss: 0.2493 - accuracy: 0.90 - ETA: 7s - loss: 0.2408 - accuracy: 0.90 - ETA: 6s - loss: 0.2451 - accuracy: 0.90 - ETA: 4s - loss: 0.2412 - accuracy: 0.90 - ETA: 3s - loss: 0.2232 - accuracy: 0.90 - ETA: 2s - loss: 0.2149 - accuracy: 0.91 - ETA: 1s - loss: 0.2159 - accuracy: 0.91 - ETA: 0s - loss: 0.2136 - accuracy: 0.91 - 14s 1s/step - loss: 0.2136 - accuracy: 0.9125 - val_loss: 0.0918 - val_accuracy: 0.9750\n"
     ]
    },
    {
     "data": {
      "text/html": [
       "<span style=\"color:#4527A0\"><h1 style=\"font-size:18px\">Trial complete</h1></span>"
      ],
      "text/plain": [
       "<IPython.core.display.HTML object>"
      ]
     },
     "metadata": {},
     "output_type": "display_data"
    },
    {
     "data": {
      "text/html": [
       "<span style=\"color:#4527A0\"><h1 style=\"font-size:18px\">Trial summary</h1></span>"
      ],
      "text/plain": [
       "<IPython.core.display.HTML object>"
      ]
     },
     "metadata": {},
     "output_type": "display_data"
    },
    {
     "data": {
      "text/html": [
       "<span style=\"color:#7E57C2\"><h2 style=\"font-size:16px\">Hp values:</h2></span>"
      ],
      "text/plain": [
       "<IPython.core.display.HTML object>"
      ]
     },
     "metadata": {},
     "output_type": "display_data"
    },
    {
     "data": {
      "text/html": [
       "<span style=\"color:cyan\"> |-dropout_rate: 0.7</span>"
      ],
      "text/plain": [
       "<IPython.core.display.HTML object>"
      ]
     },
     "metadata": {},
     "output_type": "display_data"
    },
    {
     "data": {
      "text/html": [
       "<span style=\"color:blue\"> |-filters_1: 100</span>"
      ],
      "text/plain": [
       "<IPython.core.display.HTML object>"
      ]
     },
     "metadata": {},
     "output_type": "display_data"
    },
    {
     "data": {
      "text/html": [
       "<span style=\"color:cyan\"> |-filters_2: 25</span>"
      ],
      "text/plain": [
       "<IPython.core.display.HTML object>"
      ]
     },
     "metadata": {},
     "output_type": "display_data"
    },
    {
     "data": {
      "text/html": [
       "<span style=\"color:blue\"> |-lr: 0.001</span>"
      ],
      "text/plain": [
       "<IPython.core.display.HTML object>"
      ]
     },
     "metadata": {},
     "output_type": "display_data"
    },
    {
     "data": {
      "text/html": [
       "<span style=\"color:cyan\"> |-tuner/bracket: 3</span>"
      ],
      "text/plain": [
       "<IPython.core.display.HTML object>"
      ]
     },
     "metadata": {},
     "output_type": "display_data"
    },
    {
     "data": {
      "text/html": [
       "<span style=\"color:blue\"> |-tuner/epochs: 2</span>"
      ],
      "text/plain": [
       "<IPython.core.display.HTML object>"
      ]
     },
     "metadata": {},
     "output_type": "display_data"
    },
    {
     "data": {
      "text/html": [
       "<span style=\"color:cyan\"> |-tuner/initial_epoch: 0</span>"
      ],
      "text/plain": [
       "<IPython.core.display.HTML object>"
      ]
     },
     "metadata": {},
     "output_type": "display_data"
    },
    {
     "data": {
      "text/html": [
       "<span style=\"color:blue\"> |-tuner/round: 0</span>"
      ],
      "text/plain": [
       "<IPython.core.display.HTML object>"
      ]
     },
     "metadata": {},
     "output_type": "display_data"
    },
    {
     "data": {
      "text/html": [
       "<span style=\"color:cyan\"> |-Score: 0.9750000238418579</span>"
      ],
      "text/plain": [
       "<IPython.core.display.HTML object>"
      ]
     },
     "metadata": {},
     "output_type": "display_data"
    },
    {
     "data": {
      "text/html": [
       "<span style=\"color:cyan\"> |-Best step: 0</span>"
      ],
      "text/plain": [
       "<IPython.core.display.HTML object>"
      ]
     },
     "metadata": {},
     "output_type": "display_data"
    },
    {
     "name": "stdout",
     "output_type": "stream",
     "text": [
      "Epoch 1/2\n",
      "12/12 [==============================] - ETA: 27s - loss: 0.6904 - accuracy: 0.515 - ETA: 21s - loss: 0.6732 - accuracy: 0.609 - ETA: 19s - loss: 0.6453 - accuracy: 0.609 - ETA: 17s - loss: 0.6308 - accuracy: 0.597 - ETA: 15s - loss: 0.6265 - accuracy: 0.628 - ETA: 13s - loss: 0.6234 - accuracy: 0.627 - ETA: 11s - loss: 0.6013 - accuracy: 0.651 - ETA: 8s - loss: 0.5847 - accuracy: 0.662 - ETA: 6s - loss: 0.5587 - accuracy: 0.69 - ETA: 4s - loss: 0.5321 - accuracy: 0.71 - ETA: 2s - loss: 0.5178 - accuracy: 0.72 - ETA: 0s - loss: 0.5140 - accuracy: 0.72 - 26s 2s/step - loss: 0.5140 - accuracy: 0.7278 - val_loss: 0.2621 - val_accuracy: 0.8875\n",
      "Epoch 2/2\n",
      "12/12 [==============================] - ETA: 24s - loss: 0.2378 - accuracy: 0.937 - ETA: 22s - loss: 0.2655 - accuracy: 0.890 - ETA: 19s - loss: 0.2456 - accuracy: 0.895 - ETA: 17s - loss: 0.2293 - accuracy: 0.906 - ETA: 15s - loss: 0.2443 - accuracy: 0.903 - ETA: 13s - loss: 0.2334 - accuracy: 0.903 - ETA: 11s - loss: 0.2202 - accuracy: 0.910 - ETA: 8s - loss: 0.2162 - accuracy: 0.910 - ETA: 6s - loss: 0.2059 - accuracy: 0.91 - ETA: 4s - loss: 0.1999 - accuracy: 0.91 - ETA: 2s - loss: 0.1993 - accuracy: 0.91 - ETA: 0s - loss: 0.1957 - accuracy: 0.91 - 26s 2s/step - loss: 0.1957 - accuracy: 0.9181 - val_loss: 0.0846 - val_accuracy: 0.9750\n"
     ]
    },
    {
     "data": {
      "text/html": [
       "<span style=\"color:#4527A0\"><h1 style=\"font-size:18px\">Trial complete</h1></span>"
      ],
      "text/plain": [
       "<IPython.core.display.HTML object>"
      ]
     },
     "metadata": {},
     "output_type": "display_data"
    },
    {
     "data": {
      "text/html": [
       "<span style=\"color:#4527A0\"><h1 style=\"font-size:18px\">Trial summary</h1></span>"
      ],
      "text/plain": [
       "<IPython.core.display.HTML object>"
      ]
     },
     "metadata": {},
     "output_type": "display_data"
    },
    {
     "data": {
      "text/html": [
       "<span style=\"color:#7E57C2\"><h2 style=\"font-size:16px\">Hp values:</h2></span>"
      ],
      "text/plain": [
       "<IPython.core.display.HTML object>"
      ]
     },
     "metadata": {},
     "output_type": "display_data"
    },
    {
     "data": {
      "text/html": [
       "<span style=\"color:cyan\"> |-dropout_rate: 0.7</span>"
      ],
      "text/plain": [
       "<IPython.core.display.HTML object>"
      ]
     },
     "metadata": {},
     "output_type": "display_data"
    },
    {
     "data": {
      "text/html": [
       "<span style=\"color:blue\"> |-filters_1: 200</span>"
      ],
      "text/plain": [
       "<IPython.core.display.HTML object>"
      ]
     },
     "metadata": {},
     "output_type": "display_data"
    },
    {
     "data": {
      "text/html": [
       "<span style=\"color:cyan\"> |-filters_2: 25</span>"
      ],
      "text/plain": [
       "<IPython.core.display.HTML object>"
      ]
     },
     "metadata": {},
     "output_type": "display_data"
    },
    {
     "data": {
      "text/html": [
       "<span style=\"color:blue\"> |-lr: 0.001</span>"
      ],
      "text/plain": [
       "<IPython.core.display.HTML object>"
      ]
     },
     "metadata": {},
     "output_type": "display_data"
    },
    {
     "data": {
      "text/html": [
       "<span style=\"color:cyan\"> |-tuner/bracket: 3</span>"
      ],
      "text/plain": [
       "<IPython.core.display.HTML object>"
      ]
     },
     "metadata": {},
     "output_type": "display_data"
    },
    {
     "data": {
      "text/html": [
       "<span style=\"color:blue\"> |-tuner/epochs: 2</span>"
      ],
      "text/plain": [
       "<IPython.core.display.HTML object>"
      ]
     },
     "metadata": {},
     "output_type": "display_data"
    },
    {
     "data": {
      "text/html": [
       "<span style=\"color:cyan\"> |-tuner/initial_epoch: 0</span>"
      ],
      "text/plain": [
       "<IPython.core.display.HTML object>"
      ]
     },
     "metadata": {},
     "output_type": "display_data"
    },
    {
     "data": {
      "text/html": [
       "<span style=\"color:blue\"> |-tuner/round: 0</span>"
      ],
      "text/plain": [
       "<IPython.core.display.HTML object>"
      ]
     },
     "metadata": {},
     "output_type": "display_data"
    },
    {
     "data": {
      "text/html": [
       "<span style=\"color:cyan\"> |-Score: 0.9750000238418579</span>"
      ],
      "text/plain": [
       "<IPython.core.display.HTML object>"
      ]
     },
     "metadata": {},
     "output_type": "display_data"
    },
    {
     "data": {
      "text/html": [
       "<span style=\"color:cyan\"> |-Best step: 0</span>"
      ],
      "text/plain": [
       "<IPython.core.display.HTML object>"
      ]
     },
     "metadata": {},
     "output_type": "display_data"
    },
    {
     "name": "stdout",
     "output_type": "stream",
     "text": [
      "Epoch 1/2\n",
      "12/12 [==============================] - ETA: 28s - loss: 0.7067 - accuracy: 0.468 - ETA: 21s - loss: 1.6903 - accuracy: 0.429 - ETA: 19s - loss: 22.7210 - accuracy: 0.44 - ETA: 17s - loss: 20.3227 - accuracy: 0.45 - ETA: 15s - loss: 16.5009 - accuracy: 0.46 - ETA: 12s - loss: 13.8711 - accuracy: 0.46 - ETA: 10s - loss: 11.9934 - accuracy: 0.47 - ETA: 8s - loss: 10.5819 - accuracy: 0.4844 - ETA: 6s - loss: 9.4839 - accuracy: 0.487 - ETA: 4s - loss: 8.6047 - accuracy: 0.49 - ETA: 2s - loss: 7.8857 - accuracy: 0.49 - ETA: 0s - loss: 7.7257 - accuracy: 0.49 - 25s 2s/step - loss: 7.7257 - accuracy: 0.4931 - val_loss: 0.6936 - val_accuracy: 0.5000\n",
      "Epoch 2/2\n",
      "12/12 [==============================] - ETA: 23s - loss: 0.6954 - accuracy: 0.468 - ETA: 20s - loss: 0.6983 - accuracy: 0.421 - ETA: 18s - loss: 0.6961 - accuracy: 0.458 - ETA: 16s - loss: 0.6937 - accuracy: 0.496 - ETA: 14s - loss: 0.6937 - accuracy: 0.496 - ETA: 12s - loss: 0.6937 - accuracy: 0.497 - ETA: 10s - loss: 0.6937 - accuracy: 0.497 - ETA: 8s - loss: 0.6936 - accuracy: 0.500 - ETA: 6s - loss: 0.6933 - accuracy: 0.50 - ETA: 4s - loss: 0.6910 - accuracy: 0.50 - ETA: 2s - loss: 0.6855 - accuracy: 0.50 - ETA: 0s - loss: 0.6836 - accuracy: 0.50 - 26s 2s/step - loss: 0.6836 - accuracy: 0.5056 - val_loss: 0.5019 - val_accuracy: 0.8250\n"
     ]
    },
    {
     "data": {
      "text/html": [
       "<span style=\"color:#4527A0\"><h1 style=\"font-size:18px\">Trial complete</h1></span>"
      ],
      "text/plain": [
       "<IPython.core.display.HTML object>"
      ]
     },
     "metadata": {},
     "output_type": "display_data"
    },
    {
     "data": {
      "text/html": [
       "<span style=\"color:#4527A0\"><h1 style=\"font-size:18px\">Trial summary</h1></span>"
      ],
      "text/plain": [
       "<IPython.core.display.HTML object>"
      ]
     },
     "metadata": {},
     "output_type": "display_data"
    },
    {
     "data": {
      "text/html": [
       "<span style=\"color:#7E57C2\"><h2 style=\"font-size:16px\">Hp values:</h2></span>"
      ],
      "text/plain": [
       "<IPython.core.display.HTML object>"
      ]
     },
     "metadata": {},
     "output_type": "display_data"
    },
    {
     "data": {
      "text/html": [
       "<span style=\"color:cyan\"> |-dropout_rate: 0.5</span>"
      ],
      "text/plain": [
       "<IPython.core.display.HTML object>"
      ]
     },
     "metadata": {},
     "output_type": "display_data"
    },
    {
     "data": {
      "text/html": [
       "<span style=\"color:blue\"> |-filters_1: 200</span>"
      ],
      "text/plain": [
       "<IPython.core.display.HTML object>"
      ]
     },
     "metadata": {},
     "output_type": "display_data"
    },
    {
     "data": {
      "text/html": [
       "<span style=\"color:cyan\"> |-filters_2: 25</span>"
      ],
      "text/plain": [
       "<IPython.core.display.HTML object>"
      ]
     },
     "metadata": {},
     "output_type": "display_data"
    },
    {
     "data": {
      "text/html": [
       "<span style=\"color:blue\"> |-lr: 0.01</span>"
      ],
      "text/plain": [
       "<IPython.core.display.HTML object>"
      ]
     },
     "metadata": {},
     "output_type": "display_data"
    },
    {
     "data": {
      "text/html": [
       "<span style=\"color:cyan\"> |-tuner/bracket: 3</span>"
      ],
      "text/plain": [
       "<IPython.core.display.HTML object>"
      ]
     },
     "metadata": {},
     "output_type": "display_data"
    },
    {
     "data": {
      "text/html": [
       "<span style=\"color:blue\"> |-tuner/epochs: 2</span>"
      ],
      "text/plain": [
       "<IPython.core.display.HTML object>"
      ]
     },
     "metadata": {},
     "output_type": "display_data"
    },
    {
     "data": {
      "text/html": [
       "<span style=\"color:cyan\"> |-tuner/initial_epoch: 0</span>"
      ],
      "text/plain": [
       "<IPython.core.display.HTML object>"
      ]
     },
     "metadata": {},
     "output_type": "display_data"
    },
    {
     "data": {
      "text/html": [
       "<span style=\"color:blue\"> |-tuner/round: 0</span>"
      ],
      "text/plain": [
       "<IPython.core.display.HTML object>"
      ]
     },
     "metadata": {},
     "output_type": "display_data"
    },
    {
     "data": {
      "text/html": [
       "<span style=\"color:cyan\"> |-Score: 0.824999988079071</span>"
      ],
      "text/plain": [
       "<IPython.core.display.HTML object>"
      ]
     },
     "metadata": {},
     "output_type": "display_data"
    },
    {
     "data": {
      "text/html": [
       "<span style=\"color:cyan\"> |-Best step: 0</span>"
      ],
      "text/plain": [
       "<IPython.core.display.HTML object>"
      ]
     },
     "metadata": {},
     "output_type": "display_data"
    },
    {
     "name": "stdout",
     "output_type": "stream",
     "text": [
      "Epoch 1/2\n",
      "12/12 [==============================] - ETA: 20s - loss: 0.6978 - accuracy: 0.453 - ETA: 13s - loss: 3.1248 - accuracy: 0.437 - ETA: 11s - loss: 7.1123 - accuracy: 0.468 - ETA: 10s - loss: 7.4701 - accuracy: 0.472 - ETA: 9s - loss: 6.2978 - accuracy: 0.490 - ETA: 7s - loss: 5.3524 - accuracy: 0.51 - ETA: 6s - loss: 4.7085 - accuracy: 0.51 - ETA: 5s - loss: 4.2049 - accuracy: 0.52 - ETA: 3s - loss: 3.8100 - accuracy: 0.51 - ETA: 2s - loss: 3.4933 - accuracy: 0.51 - ETA: 1s - loss: 3.2316 - accuracy: 0.51 - ETA: 0s - loss: 3.1731 - accuracy: 0.51 - 15s 1s/step - loss: 3.1731 - accuracy: 0.5181 - val_loss: 0.5921 - val_accuracy: 0.5000\n",
      "Epoch 2/2\n",
      "12/12 [==============================] - ETA: 14s - loss: 0.5595 - accuracy: 0.546 - ETA: 13s - loss: 0.6248 - accuracy: 0.500 - ETA: 12s - loss: 0.5917 - accuracy: 0.515 - ETA: 11s - loss: 0.5800 - accuracy: 0.515 - ETA: 9s - loss: 0.5799 - accuracy: 0.518 - ETA: 7s - loss: 0.5696 - accuracy: 0.53 - ETA: 6s - loss: 0.5637 - accuracy: 0.52 - ETA: 5s - loss: 0.5587 - accuracy: 0.52 - ETA: 3s - loss: 0.5579 - accuracy: 0.52 - ETA: 2s - loss: 0.5563 - accuracy: 0.52 - ETA: 1s - loss: 0.5577 - accuracy: 0.52 - ETA: 0s - loss: 0.5567 - accuracy: 0.52 - 14s 1s/step - loss: 0.5567 - accuracy: 0.5264 - val_loss: 0.5054 - val_accuracy: 0.7500\n"
     ]
    },
    {
     "data": {
      "text/html": [
       "<span style=\"color:#4527A0\"><h1 style=\"font-size:18px\">Trial complete</h1></span>"
      ],
      "text/plain": [
       "<IPython.core.display.HTML object>"
      ]
     },
     "metadata": {},
     "output_type": "display_data"
    },
    {
     "data": {
      "text/html": [
       "<span style=\"color:#4527A0\"><h1 style=\"font-size:18px\">Trial summary</h1></span>"
      ],
      "text/plain": [
       "<IPython.core.display.HTML object>"
      ]
     },
     "metadata": {},
     "output_type": "display_data"
    },
    {
     "data": {
      "text/html": [
       "<span style=\"color:#7E57C2\"><h2 style=\"font-size:16px\">Hp values:</h2></span>"
      ],
      "text/plain": [
       "<IPython.core.display.HTML object>"
      ]
     },
     "metadata": {},
     "output_type": "display_data"
    },
    {
     "data": {
      "text/html": [
       "<span style=\"color:cyan\"> |-dropout_rate: 0.5</span>"
      ],
      "text/plain": [
       "<IPython.core.display.HTML object>"
      ]
     },
     "metadata": {},
     "output_type": "display_data"
    },
    {
     "data": {
      "text/html": [
       "<span style=\"color:blue\"> |-filters_1: 100</span>"
      ],
      "text/plain": [
       "<IPython.core.display.HTML object>"
      ]
     },
     "metadata": {},
     "output_type": "display_data"
    },
    {
     "data": {
      "text/html": [
       "<span style=\"color:cyan\"> |-filters_2: 25</span>"
      ],
      "text/plain": [
       "<IPython.core.display.HTML object>"
      ]
     },
     "metadata": {},
     "output_type": "display_data"
    },
    {
     "data": {
      "text/html": [
       "<span style=\"color:blue\"> |-lr: 0.01</span>"
      ],
      "text/plain": [
       "<IPython.core.display.HTML object>"
      ]
     },
     "metadata": {},
     "output_type": "display_data"
    },
    {
     "data": {
      "text/html": [
       "<span style=\"color:cyan\"> |-tuner/bracket: 3</span>"
      ],
      "text/plain": [
       "<IPython.core.display.HTML object>"
      ]
     },
     "metadata": {},
     "output_type": "display_data"
    },
    {
     "data": {
      "text/html": [
       "<span style=\"color:blue\"> |-tuner/epochs: 2</span>"
      ],
      "text/plain": [
       "<IPython.core.display.HTML object>"
      ]
     },
     "metadata": {},
     "output_type": "display_data"
    },
    {
     "data": {
      "text/html": [
       "<span style=\"color:cyan\"> |-tuner/initial_epoch: 0</span>"
      ],
      "text/plain": [
       "<IPython.core.display.HTML object>"
      ]
     },
     "metadata": {},
     "output_type": "display_data"
    },
    {
     "data": {
      "text/html": [
       "<span style=\"color:blue\"> |-tuner/round: 0</span>"
      ],
      "text/plain": [
       "<IPython.core.display.HTML object>"
      ]
     },
     "metadata": {},
     "output_type": "display_data"
    },
    {
     "data": {
      "text/html": [
       "<span style=\"color:cyan\"> |-Score: 0.75</span>"
      ],
      "text/plain": [
       "<IPython.core.display.HTML object>"
      ]
     },
     "metadata": {},
     "output_type": "display_data"
    },
    {
     "data": {
      "text/html": [
       "<span style=\"color:cyan\"> |-Best step: 0</span>"
      ],
      "text/plain": [
       "<IPython.core.display.HTML object>"
      ]
     },
     "metadata": {},
     "output_type": "display_data"
    },
    {
     "name": "stdout",
     "output_type": "stream",
     "text": [
      "Epoch 1/2\n",
      "12/12 [==============================] - ETA: 18s - loss: 0.6938 - accuracy: 0.468 - ETA: 14s - loss: 1.2042 - accuracy: 0.570 - ETA: 13s - loss: 22.1907 - accuracy: 0.54 - ETA: 11s - loss: 18.6583 - accuracy: 0.55 - ETA: 10s - loss: 15.0703 - accuracy: 0.54 - ETA: 8s - loss: 12.6739 - accuracy: 0.5234 - ETA: 7s - loss: 10.9637 - accuracy: 0.517 - ETA: 5s - loss: 9.6819 - accuracy: 0.517 - ETA: 4s - loss: 8.6825 - accuracy: 0.52 - ETA: 2s - loss: 7.8856 - accuracy: 0.50 - ETA: 1s - loss: 7.2312 - accuracy: 0.52 - ETA: 0s - loss: 7.0861 - accuracy: 0.52 - 16s 1s/step - loss: 7.0861 - accuracy: 0.5222 - val_loss: 0.6931 - val_accuracy: 0.5000\n",
      "Epoch 2/2\n",
      "12/12 [==============================] - ETA: 14s - loss: 0.6915 - accuracy: 0.546 - ETA: 13s - loss: 0.6927 - accuracy: 0.515 - ETA: 11s - loss: 0.6923 - accuracy: 0.526 - ETA: 10s - loss: 0.6929 - accuracy: 0.511 - ETA: 9s - loss: 0.6936 - accuracy: 0.496 - ETA: 7s - loss: 0.6933 - accuracy: 0.50 - ETA: 6s - loss: 0.6928 - accuracy: 0.51 - ETA: 5s - loss: 0.6931 - accuracy: 0.50 - ETA: 3s - loss: 0.6936 - accuracy: 0.49 - ETA: 2s - loss: 0.6935 - accuracy: 0.49 - ETA: 1s - loss: 0.6933 - accuracy: 0.50 - ETA: 0s - loss: 0.6935 - accuracy: 0.50 - 15s 1s/step - loss: 0.6935 - accuracy: 0.5000 - val_loss: 0.6934 - val_accuracy: 0.5000\n"
     ]
    },
    {
     "data": {
      "text/html": [
       "<span style=\"color:#4527A0\"><h1 style=\"font-size:18px\">Trial complete</h1></span>"
      ],
      "text/plain": [
       "<IPython.core.display.HTML object>"
      ]
     },
     "metadata": {},
     "output_type": "display_data"
    },
    {
     "data": {
      "text/html": [
       "<span style=\"color:#4527A0\"><h1 style=\"font-size:18px\">Trial summary</h1></span>"
      ],
      "text/plain": [
       "<IPython.core.display.HTML object>"
      ]
     },
     "metadata": {},
     "output_type": "display_data"
    },
    {
     "data": {
      "text/html": [
       "<span style=\"color:#7E57C2\"><h2 style=\"font-size:16px\">Hp values:</h2></span>"
      ],
      "text/plain": [
       "<IPython.core.display.HTML object>"
      ]
     },
     "metadata": {},
     "output_type": "display_data"
    },
    {
     "data": {
      "text/html": [
       "<span style=\"color:cyan\"> |-dropout_rate: 0.7</span>"
      ],
      "text/plain": [
       "<IPython.core.display.HTML object>"
      ]
     },
     "metadata": {},
     "output_type": "display_data"
    },
    {
     "data": {
      "text/html": [
       "<span style=\"color:blue\"> |-filters_1: 100</span>"
      ],
      "text/plain": [
       "<IPython.core.display.HTML object>"
      ]
     },
     "metadata": {},
     "output_type": "display_data"
    },
    {
     "data": {
      "text/html": [
       "<span style=\"color:cyan\"> |-filters_2: 50</span>"
      ],
      "text/plain": [
       "<IPython.core.display.HTML object>"
      ]
     },
     "metadata": {},
     "output_type": "display_data"
    },
    {
     "data": {
      "text/html": [
       "<span style=\"color:blue\"> |-lr: 0.01</span>"
      ],
      "text/plain": [
       "<IPython.core.display.HTML object>"
      ]
     },
     "metadata": {},
     "output_type": "display_data"
    },
    {
     "data": {
      "text/html": [
       "<span style=\"color:cyan\"> |-tuner/bracket: 3</span>"
      ],
      "text/plain": [
       "<IPython.core.display.HTML object>"
      ]
     },
     "metadata": {},
     "output_type": "display_data"
    },
    {
     "data": {
      "text/html": [
       "<span style=\"color:blue\"> |-tuner/epochs: 2</span>"
      ],
      "text/plain": [
       "<IPython.core.display.HTML object>"
      ]
     },
     "metadata": {},
     "output_type": "display_data"
    },
    {
     "data": {
      "text/html": [
       "<span style=\"color:cyan\"> |-tuner/initial_epoch: 0</span>"
      ],
      "text/plain": [
       "<IPython.core.display.HTML object>"
      ]
     },
     "metadata": {},
     "output_type": "display_data"
    },
    {
     "data": {
      "text/html": [
       "<span style=\"color:blue\"> |-tuner/round: 0</span>"
      ],
      "text/plain": [
       "<IPython.core.display.HTML object>"
      ]
     },
     "metadata": {},
     "output_type": "display_data"
    },
    {
     "data": {
      "text/html": [
       "<span style=\"color:cyan\"> |-Score: 0.5</span>"
      ],
      "text/plain": [
       "<IPython.core.display.HTML object>"
      ]
     },
     "metadata": {},
     "output_type": "display_data"
    },
    {
     "data": {
      "text/html": [
       "<span style=\"color:cyan\"> |-Best step: 0</span>"
      ],
      "text/plain": [
       "<IPython.core.display.HTML object>"
      ]
     },
     "metadata": {},
     "output_type": "display_data"
    },
    {
     "name": "stdout",
     "output_type": "stream",
     "text": [
      "Epoch 1/2\n",
      "12/12 [==============================] - ETA: 27s - loss: 0.6692 - accuracy: 0.671 - ETA: 22s - loss: 7.8764 - accuracy: 0.546 - ETA: 19s - loss: 17.3760 - accuracy: 0.53 - ETA: 17s - loss: 15.0763 - accuracy: 0.51 - ETA: 14s - loss: 12.2209 - accuracy: 0.50 - ETA: 12s - loss: 10.3038 - accuracy: 0.49 - ETA: 10s - loss: 8.9250 - accuracy: 0.5089 - ETA: 8s - loss: 7.8872 - accuracy: 0.546 - ETA: 6s - loss: 7.0824 - accuracy: 0.56 - ETA: 4s - loss: 6.4364 - accuracy: 0.57 - ETA: 2s - loss: 5.9008 - accuracy: 0.59 - ETA: 0s - loss: 5.7808 - accuracy: 0.59 - 25s 2s/step - loss: 5.7808 - accuracy: 0.5958 - val_loss: 0.4803 - val_accuracy: 0.6875\n",
      "Epoch 2/2\n",
      "12/12 [==============================] - ETA: 22s - loss: 0.4687 - accuracy: 0.750 - ETA: 20s - loss: 0.4366 - accuracy: 0.789 - ETA: 18s - loss: 0.4054 - accuracy: 0.812 - ETA: 16s - loss: 0.4115 - accuracy: 0.808 - ETA: 14s - loss: 0.3893 - accuracy: 0.828 - ETA: 12s - loss: 0.4017 - accuracy: 0.828 - ETA: 10s - loss: 0.4036 - accuracy: 0.825 - ETA: 8s - loss: 0.3977 - accuracy: 0.828 - ETA: 6s - loss: 0.3888 - accuracy: 0.83 - ETA: 4s - loss: 0.3777 - accuracy: 0.83 - ETA: 2s - loss: 0.3692 - accuracy: 0.83 - ETA: 0s - loss: 0.3663 - accuracy: 0.84 - 24s 2s/step - loss: 0.3663 - accuracy: 0.8403 - val_loss: 0.1899 - val_accuracy: 0.9250\n"
     ]
    },
    {
     "data": {
      "text/html": [
       "<span style=\"color:#4527A0\"><h1 style=\"font-size:18px\">Trial complete</h1></span>"
      ],
      "text/plain": [
       "<IPython.core.display.HTML object>"
      ]
     },
     "metadata": {},
     "output_type": "display_data"
    },
    {
     "data": {
      "text/html": [
       "<span style=\"color:#4527A0\"><h1 style=\"font-size:18px\">Trial summary</h1></span>"
      ],
      "text/plain": [
       "<IPython.core.display.HTML object>"
      ]
     },
     "metadata": {},
     "output_type": "display_data"
    },
    {
     "data": {
      "text/html": [
       "<span style=\"color:#7E57C2\"><h2 style=\"font-size:16px\">Hp values:</h2></span>"
      ],
      "text/plain": [
       "<IPython.core.display.HTML object>"
      ]
     },
     "metadata": {},
     "output_type": "display_data"
    },
    {
     "data": {
      "text/html": [
       "<span style=\"color:cyan\"> |-dropout_rate: 0.7</span>"
      ],
      "text/plain": [
       "<IPython.core.display.HTML object>"
      ]
     },
     "metadata": {},
     "output_type": "display_data"
    },
    {
     "data": {
      "text/html": [
       "<span style=\"color:blue\"> |-filters_1: 200</span>"
      ],
      "text/plain": [
       "<IPython.core.display.HTML object>"
      ]
     },
     "metadata": {},
     "output_type": "display_data"
    },
    {
     "data": {
      "text/html": [
       "<span style=\"color:cyan\"> |-filters_2: 25</span>"
      ],
      "text/plain": [
       "<IPython.core.display.HTML object>"
      ]
     },
     "metadata": {},
     "output_type": "display_data"
    },
    {
     "data": {
      "text/html": [
       "<span style=\"color:blue\"> |-lr: 0.01</span>"
      ],
      "text/plain": [
       "<IPython.core.display.HTML object>"
      ]
     },
     "metadata": {},
     "output_type": "display_data"
    },
    {
     "data": {
      "text/html": [
       "<span style=\"color:cyan\"> |-tuner/bracket: 3</span>"
      ],
      "text/plain": [
       "<IPython.core.display.HTML object>"
      ]
     },
     "metadata": {},
     "output_type": "display_data"
    },
    {
     "data": {
      "text/html": [
       "<span style=\"color:blue\"> |-tuner/epochs: 2</span>"
      ],
      "text/plain": [
       "<IPython.core.display.HTML object>"
      ]
     },
     "metadata": {},
     "output_type": "display_data"
    },
    {
     "data": {
      "text/html": [
       "<span style=\"color:cyan\"> |-tuner/initial_epoch: 0</span>"
      ],
      "text/plain": [
       "<IPython.core.display.HTML object>"
      ]
     },
     "metadata": {},
     "output_type": "display_data"
    },
    {
     "data": {
      "text/html": [
       "<span style=\"color:blue\"> |-tuner/round: 0</span>"
      ],
      "text/plain": [
       "<IPython.core.display.HTML object>"
      ]
     },
     "metadata": {},
     "output_type": "display_data"
    },
    {
     "data": {
      "text/html": [
       "<span style=\"color:cyan\"> |-Score: 0.925000011920929</span>"
      ],
      "text/plain": [
       "<IPython.core.display.HTML object>"
      ]
     },
     "metadata": {},
     "output_type": "display_data"
    },
    {
     "data": {
      "text/html": [
       "<span style=\"color:cyan\"> |-Best step: 0</span>"
      ],
      "text/plain": [
       "<IPython.core.display.HTML object>"
      ]
     },
     "metadata": {},
     "output_type": "display_data"
    },
    {
     "name": "stdout",
     "output_type": "stream",
     "text": [
      "Epoch 1/2\n",
      "12/12 [==============================] - ETA: 17s - loss: 0.6989 - accuracy: 0.515 - ETA: 12s - loss: 0.6748 - accuracy: 0.640 - ETA: 11s - loss: 0.6426 - accuracy: 0.661 - ETA: 9s - loss: 0.6056 - accuracy: 0.707 - ETA: 8s - loss: 0.5785 - accuracy: 0.73 - ETA: 7s - loss: 0.5659 - accuracy: 0.72 - ETA: 6s - loss: 0.5287 - accuracy: 0.75 - ETA: 4s - loss: 0.5023 - accuracy: 0.76 - ETA: 3s - loss: 0.4733 - accuracy: 0.78 - ETA: 2s - loss: 0.4563 - accuracy: 0.79 - ETA: 1s - loss: 0.4316 - accuracy: 0.80 - ETA: 0s - loss: 0.4265 - accuracy: 0.80 - 15s 1s/step - loss: 0.4265 - accuracy: 0.8097 - val_loss: 0.1597 - val_accuracy: 0.9500\n",
      "Epoch 2/2\n",
      "12/12 [==============================] - ETA: 13s - loss: 0.1356 - accuracy: 0.968 - ETA: 12s - loss: 0.2001 - accuracy: 0.937 - ETA: 11s - loss: 0.2132 - accuracy: 0.932 - ETA: 9s - loss: 0.1876 - accuracy: 0.941 - ETA: 8s - loss: 0.1815 - accuracy: 0.93 - ETA: 7s - loss: 0.1813 - accuracy: 0.93 - ETA: 6s - loss: 0.1719 - accuracy: 0.93 - ETA: 4s - loss: 0.1732 - accuracy: 0.93 - ETA: 3s - loss: 0.1712 - accuracy: 0.93 - ETA: 2s - loss: 0.1695 - accuracy: 0.93 - ETA: 1s - loss: 0.1771 - accuracy: 0.93 - ETA: 0s - loss: 0.1742 - accuracy: 0.93 - 14s 1s/step - loss: 0.1742 - accuracy: 0.9375 - val_loss: 0.0732 - val_accuracy: 0.9875\n"
     ]
    },
    {
     "data": {
      "text/html": [
       "<span style=\"color:#4527A0\"><h1 style=\"font-size:18px\">Trial complete</h1></span>"
      ],
      "text/plain": [
       "<IPython.core.display.HTML object>"
      ]
     },
     "metadata": {},
     "output_type": "display_data"
    },
    {
     "data": {
      "text/html": [
       "<span style=\"color:#4527A0\"><h1 style=\"font-size:18px\">Trial summary</h1></span>"
      ],
      "text/plain": [
       "<IPython.core.display.HTML object>"
      ]
     },
     "metadata": {},
     "output_type": "display_data"
    },
    {
     "data": {
      "text/html": [
       "<span style=\"color:#7E57C2\"><h2 style=\"font-size:16px\">Hp values:</h2></span>"
      ],
      "text/plain": [
       "<IPython.core.display.HTML object>"
      ]
     },
     "metadata": {},
     "output_type": "display_data"
    },
    {
     "data": {
      "text/html": [
       "<span style=\"color:cyan\"> |-dropout_rate: 0.5</span>"
      ],
      "text/plain": [
       "<IPython.core.display.HTML object>"
      ]
     },
     "metadata": {},
     "output_type": "display_data"
    },
    {
     "data": {
      "text/html": [
       "<span style=\"color:blue\"> |-filters_1: 100</span>"
      ],
      "text/plain": [
       "<IPython.core.display.HTML object>"
      ]
     },
     "metadata": {},
     "output_type": "display_data"
    },
    {
     "data": {
      "text/html": [
       "<span style=\"color:cyan\"> |-filters_2: 25</span>"
      ],
      "text/plain": [
       "<IPython.core.display.HTML object>"
      ]
     },
     "metadata": {},
     "output_type": "display_data"
    },
    {
     "data": {
      "text/html": [
       "<span style=\"color:blue\"> |-lr: 0.001</span>"
      ],
      "text/plain": [
       "<IPython.core.display.HTML object>"
      ]
     },
     "metadata": {},
     "output_type": "display_data"
    },
    {
     "data": {
      "text/html": [
       "<span style=\"color:cyan\"> |-tuner/bracket: 3</span>"
      ],
      "text/plain": [
       "<IPython.core.display.HTML object>"
      ]
     },
     "metadata": {},
     "output_type": "display_data"
    },
    {
     "data": {
      "text/html": [
       "<span style=\"color:blue\"> |-tuner/epochs: 2</span>"
      ],
      "text/plain": [
       "<IPython.core.display.HTML object>"
      ]
     },
     "metadata": {},
     "output_type": "display_data"
    },
    {
     "data": {
      "text/html": [
       "<span style=\"color:cyan\"> |-tuner/initial_epoch: 0</span>"
      ],
      "text/plain": [
       "<IPython.core.display.HTML object>"
      ]
     },
     "metadata": {},
     "output_type": "display_data"
    },
    {
     "data": {
      "text/html": [
       "<span style=\"color:blue\"> |-tuner/round: 0</span>"
      ],
      "text/plain": [
       "<IPython.core.display.HTML object>"
      ]
     },
     "metadata": {},
     "output_type": "display_data"
    },
    {
     "data": {
      "text/html": [
       "<span style=\"color:cyan\"> |-Score: 0.987500011920929</span>"
      ],
      "text/plain": [
       "<IPython.core.display.HTML object>"
      ]
     },
     "metadata": {},
     "output_type": "display_data"
    },
    {
     "data": {
      "text/html": [
       "<span style=\"color:cyan\"> |-Best step: 0</span>"
      ],
      "text/plain": [
       "<IPython.core.display.HTML object>"
      ]
     },
     "metadata": {},
     "output_type": "display_data"
    },
    {
     "name": "stdout",
     "output_type": "stream",
     "text": [
      "Epoch 1/2\n",
      "12/12 [==============================] - ETA: 19s - loss: 0.6939 - accuracy: 0.484 - ETA: 14s - loss: 0.7386 - accuracy: 0.507 - ETA: 12s - loss: 0.6991 - accuracy: 0.630 - ETA: 11s - loss: 0.6793 - accuracy: 0.625 - ETA: 10s - loss: 0.6567 - accuracy: 0.684 - ETA: 8s - loss: 0.6361 - accuracy: 0.731 - ETA: 7s - loss: 0.6144 - accuracy: 0.75 - ETA: 6s - loss: 0.5957 - accuracy: 0.76 - ETA: 4s - loss: 0.5674 - accuracy: 0.78 - ETA: 3s - loss: 0.5403 - accuracy: 0.79 - ETA: 1s - loss: 0.5172 - accuracy: 0.80 - ETA: 0s - loss: 0.5118 - accuracy: 0.80 - 18s 1s/step - loss: 0.5118 - accuracy: 0.8083 - val_loss: 0.1552 - val_accuracy: 0.9875\n",
      "Epoch 2/2\n",
      "12/12 [==============================] - ETA: 16s - loss: 0.1956 - accuracy: 0.953 - ETA: 16s - loss: 0.1840 - accuracy: 0.945 - ETA: 14s - loss: 0.2064 - accuracy: 0.927 - ETA: 12s - loss: 0.1961 - accuracy: 0.925 - ETA: 11s - loss: 0.1812 - accuracy: 0.934 - ETA: 9s - loss: 0.1789 - accuracy: 0.932 - ETA: 7s - loss: 0.1806 - accuracy: 0.93 - ETA: 6s - loss: 0.1826 - accuracy: 0.92 - ETA: 4s - loss: 0.1837 - accuracy: 0.92 - ETA: 3s - loss: 0.1728 - accuracy: 0.92 - ETA: 1s - loss: 0.1711 - accuracy: 0.93 - ETA: 0s - loss: 0.1694 - accuracy: 0.93 - 17s 1s/step - loss: 0.1694 - accuracy: 0.9319 - val_loss: 0.0482 - val_accuracy: 1.0000\n"
     ]
    },
    {
     "data": {
      "text/html": [
       "<span style=\"color:#4527A0\"><h1 style=\"font-size:18px\">Trial complete</h1></span>"
      ],
      "text/plain": [
       "<IPython.core.display.HTML object>"
      ]
     },
     "metadata": {},
     "output_type": "display_data"
    },
    {
     "data": {
      "text/html": [
       "<span style=\"color:#4527A0\"><h1 style=\"font-size:18px\">Trial summary</h1></span>"
      ],
      "text/plain": [
       "<IPython.core.display.HTML object>"
      ]
     },
     "metadata": {},
     "output_type": "display_data"
    },
    {
     "data": {
      "text/html": [
       "<span style=\"color:#7E57C2\"><h2 style=\"font-size:16px\">Hp values:</h2></span>"
      ],
      "text/plain": [
       "<IPython.core.display.HTML object>"
      ]
     },
     "metadata": {},
     "output_type": "display_data"
    },
    {
     "data": {
      "text/html": [
       "<span style=\"color:cyan\"> |-dropout_rate: 0.5</span>"
      ],
      "text/plain": [
       "<IPython.core.display.HTML object>"
      ]
     },
     "metadata": {},
     "output_type": "display_data"
    },
    {
     "data": {
      "text/html": [
       "<span style=\"color:blue\"> |-filters_1: 100</span>"
      ],
      "text/plain": [
       "<IPython.core.display.HTML object>"
      ]
     },
     "metadata": {},
     "output_type": "display_data"
    },
    {
     "data": {
      "text/html": [
       "<span style=\"color:cyan\"> |-filters_2: 50</span>"
      ],
      "text/plain": [
       "<IPython.core.display.HTML object>"
      ]
     },
     "metadata": {},
     "output_type": "display_data"
    },
    {
     "data": {
      "text/html": [
       "<span style=\"color:blue\"> |-lr: 0.001</span>"
      ],
      "text/plain": [
       "<IPython.core.display.HTML object>"
      ]
     },
     "metadata": {},
     "output_type": "display_data"
    },
    {
     "data": {
      "text/html": [
       "<span style=\"color:cyan\"> |-tuner/bracket: 3</span>"
      ],
      "text/plain": [
       "<IPython.core.display.HTML object>"
      ]
     },
     "metadata": {},
     "output_type": "display_data"
    },
    {
     "data": {
      "text/html": [
       "<span style=\"color:blue\"> |-tuner/epochs: 2</span>"
      ],
      "text/plain": [
       "<IPython.core.display.HTML object>"
      ]
     },
     "metadata": {},
     "output_type": "display_data"
    },
    {
     "data": {
      "text/html": [
       "<span style=\"color:cyan\"> |-tuner/initial_epoch: 0</span>"
      ],
      "text/plain": [
       "<IPython.core.display.HTML object>"
      ]
     },
     "metadata": {},
     "output_type": "display_data"
    },
    {
     "data": {
      "text/html": [
       "<span style=\"color:blue\"> |-tuner/round: 0</span>"
      ],
      "text/plain": [
       "<IPython.core.display.HTML object>"
      ]
     },
     "metadata": {},
     "output_type": "display_data"
    },
    {
     "data": {
      "text/html": [
       "<span style=\"color:cyan\"> |-Score: 1.0</span>"
      ],
      "text/plain": [
       "<IPython.core.display.HTML object>"
      ]
     },
     "metadata": {},
     "output_type": "display_data"
    },
    {
     "data": {
      "text/html": [
       "<span style=\"color:cyan\"> |-Best step: 0</span>"
      ],
      "text/plain": [
       "<IPython.core.display.HTML object>"
      ]
     },
     "metadata": {},
     "output_type": "display_data"
    },
    {
     "name": "stdout",
     "output_type": "stream",
     "text": [
      "Epoch 1/2\n",
      "12/12 [==============================] - ETA: 32s - loss: 0.6932 - accuracy: 0.500 - ETA: 25s - loss: 0.6800 - accuracy: 0.468 - ETA: 23s - loss: 0.7856 - accuracy: 0.500 - ETA: 20s - loss: 0.7431 - accuracy: 0.558 - ETA: 18s - loss: 0.7129 - accuracy: 0.553 - ETA: 15s - loss: 0.6902 - accuracy: 0.552 - ETA: 13s - loss: 0.6678 - accuracy: 0.569 - ETA: 10s - loss: 0.6414 - accuracy: 0.603 - ETA: 7s - loss: 0.6308 - accuracy: 0.619 - ETA: 5s - loss: 0.6034 - accuracy: 0.64 - ETA: 2s - loss: 0.5789 - accuracy: 0.66 - ETA: 0s - loss: 0.5739 - accuracy: 0.67 - 31s 3s/step - loss: 0.5739 - accuracy: 0.6708 - val_loss: 0.2907 - val_accuracy: 0.8750\n",
      "Epoch 2/2\n",
      "12/12 [==============================] - ETA: 28s - loss: 0.2654 - accuracy: 0.859 - ETA: 26s - loss: 0.2638 - accuracy: 0.875 - ETA: 23s - loss: 0.2676 - accuracy: 0.880 - ETA: 20s - loss: 0.2454 - accuracy: 0.898 - ETA: 18s - loss: 0.2495 - accuracy: 0.896 - ETA: 15s - loss: 0.2467 - accuracy: 0.898 - ETA: 13s - loss: 0.2440 - accuracy: 0.892 - ETA: 10s - loss: 0.2386 - accuracy: 0.890 - ETA: 7s - loss: 0.2238 - accuracy: 0.897 - ETA: 5s - loss: 0.2122 - accuracy: 0.90 - ETA: 2s - loss: 0.1981 - accuracy: 0.91 - ETA: 0s - loss: 0.1957 - accuracy: 0.91 - 30s 3s/step - loss: 0.1957 - accuracy: 0.9125 - val_loss: 0.0656 - val_accuracy: 1.0000\n"
     ]
    },
    {
     "data": {
      "text/html": [
       "<span style=\"color:#4527A0\"><h1 style=\"font-size:18px\">Trial complete</h1></span>"
      ],
      "text/plain": [
       "<IPython.core.display.HTML object>"
      ]
     },
     "metadata": {},
     "output_type": "display_data"
    },
    {
     "data": {
      "text/html": [
       "<span style=\"color:#4527A0\"><h1 style=\"font-size:18px\">Trial summary</h1></span>"
      ],
      "text/plain": [
       "<IPython.core.display.HTML object>"
      ]
     },
     "metadata": {},
     "output_type": "display_data"
    },
    {
     "data": {
      "text/html": [
       "<span style=\"color:#7E57C2\"><h2 style=\"font-size:16px\">Hp values:</h2></span>"
      ],
      "text/plain": [
       "<IPython.core.display.HTML object>"
      ]
     },
     "metadata": {},
     "output_type": "display_data"
    },
    {
     "data": {
      "text/html": [
       "<span style=\"color:cyan\"> |-dropout_rate: 0.5</span>"
      ],
      "text/plain": [
       "<IPython.core.display.HTML object>"
      ]
     },
     "metadata": {},
     "output_type": "display_data"
    },
    {
     "data": {
      "text/html": [
       "<span style=\"color:blue\"> |-filters_1: 200</span>"
      ],
      "text/plain": [
       "<IPython.core.display.HTML object>"
      ]
     },
     "metadata": {},
     "output_type": "display_data"
    },
    {
     "data": {
      "text/html": [
       "<span style=\"color:cyan\"> |-filters_2: 50</span>"
      ],
      "text/plain": [
       "<IPython.core.display.HTML object>"
      ]
     },
     "metadata": {},
     "output_type": "display_data"
    },
    {
     "data": {
      "text/html": [
       "<span style=\"color:blue\"> |-lr: 0.001</span>"
      ],
      "text/plain": [
       "<IPython.core.display.HTML object>"
      ]
     },
     "metadata": {},
     "output_type": "display_data"
    },
    {
     "data": {
      "text/html": [
       "<span style=\"color:cyan\"> |-tuner/bracket: 3</span>"
      ],
      "text/plain": [
       "<IPython.core.display.HTML object>"
      ]
     },
     "metadata": {},
     "output_type": "display_data"
    },
    {
     "data": {
      "text/html": [
       "<span style=\"color:blue\"> |-tuner/epochs: 2</span>"
      ],
      "text/plain": [
       "<IPython.core.display.HTML object>"
      ]
     },
     "metadata": {},
     "output_type": "display_data"
    },
    {
     "data": {
      "text/html": [
       "<span style=\"color:cyan\"> |-tuner/initial_epoch: 0</span>"
      ],
      "text/plain": [
       "<IPython.core.display.HTML object>"
      ]
     },
     "metadata": {},
     "output_type": "display_data"
    },
    {
     "data": {
      "text/html": [
       "<span style=\"color:blue\"> |-tuner/round: 0</span>"
      ],
      "text/plain": [
       "<IPython.core.display.HTML object>"
      ]
     },
     "metadata": {},
     "output_type": "display_data"
    },
    {
     "data": {
      "text/html": [
       "<span style=\"color:cyan\"> |-Score: 1.0</span>"
      ],
      "text/plain": [
       "<IPython.core.display.HTML object>"
      ]
     },
     "metadata": {},
     "output_type": "display_data"
    },
    {
     "data": {
      "text/html": [
       "<span style=\"color:cyan\"> |-Best step: 0</span>"
      ],
      "text/plain": [
       "<IPython.core.display.HTML object>"
      ]
     },
     "metadata": {},
     "output_type": "display_data"
    },
    {
     "name": "stdout",
     "output_type": "stream",
     "text": [
      "Epoch 1/2\n",
      "12/12 [==============================] - ETA: 17s - loss: 0.7020 - accuracy: 0.484 - ETA: 11s - loss: 2.2893 - accuracy: 0.492 - ETA: 10s - loss: 5.0269 - accuracy: 0.526 - ETA: 9s - loss: 4.1279 - accuracy: 0.531 - ETA: 8s - loss: 3.4422 - accuracy: 0.52 - ETA: 6s - loss: 2.9847 - accuracy: 0.51 - ETA: 5s - loss: 2.6551 - accuracy: 0.51 - ETA: 4s - loss: 2.4028 - accuracy: 0.51 - ETA: 3s - loss: 2.2018 - accuracy: 0.52 - ETA: 2s - loss: 2.0453 - accuracy: 0.52 - ETA: 1s - loss: 1.9114 - accuracy: 0.53 - ETA: 0s - loss: 1.8815 - accuracy: 0.53 - 14s 1s/step - loss: 1.8815 - accuracy: 0.5306 - val_loss: 0.5118 - val_accuracy: 0.5875\n",
      "Epoch 2/2\n",
      "12/12 [==============================] - ETA: 12s - loss: 0.5307 - accuracy: 0.546 - ETA: 11s - loss: 0.4987 - accuracy: 0.625 - ETA: 10s - loss: 0.4931 - accuracy: 0.640 - ETA: 9s - loss: 0.4736 - accuracy: 0.691 - ETA: 7s - loss: 0.4595 - accuracy: 0.71 - ETA: 6s - loss: 0.4333 - accuracy: 0.74 - ETA: 5s - loss: 0.4034 - accuracy: 0.76 - ETA: 4s - loss: 0.3819 - accuracy: 0.78 - ETA: 3s - loss: 0.3697 - accuracy: 0.78 - ETA: 2s - loss: 0.3685 - accuracy: 0.80 - ETA: 1s - loss: 0.3717 - accuracy: 0.80 - ETA: 0s - loss: 0.3659 - accuracy: 0.80 - 13s 1s/step - loss: 0.3659 - accuracy: 0.8097 - val_loss: 0.1947 - val_accuracy: 0.9000\n"
     ]
    },
    {
     "data": {
      "text/html": [
       "<span style=\"color:#4527A0\"><h1 style=\"font-size:18px\">Trial complete</h1></span>"
      ],
      "text/plain": [
       "<IPython.core.display.HTML object>"
      ]
     },
     "metadata": {},
     "output_type": "display_data"
    },
    {
     "data": {
      "text/html": [
       "<span style=\"color:#4527A0\"><h1 style=\"font-size:18px\">Trial summary</h1></span>"
      ],
      "text/plain": [
       "<IPython.core.display.HTML object>"
      ]
     },
     "metadata": {},
     "output_type": "display_data"
    },
    {
     "data": {
      "text/html": [
       "<span style=\"color:#7E57C2\"><h2 style=\"font-size:16px\">Hp values:</h2></span>"
      ],
      "text/plain": [
       "<IPython.core.display.HTML object>"
      ]
     },
     "metadata": {},
     "output_type": "display_data"
    },
    {
     "data": {
      "text/html": [
       "<span style=\"color:cyan\"> |-dropout_rate: 0.7</span>"
      ],
      "text/plain": [
       "<IPython.core.display.HTML object>"
      ]
     },
     "metadata": {},
     "output_type": "display_data"
    },
    {
     "data": {
      "text/html": [
       "<span style=\"color:blue\"> |-filters_1: 100</span>"
      ],
      "text/plain": [
       "<IPython.core.display.HTML object>"
      ]
     },
     "metadata": {},
     "output_type": "display_data"
    },
    {
     "data": {
      "text/html": [
       "<span style=\"color:cyan\"> |-filters_2: 25</span>"
      ],
      "text/plain": [
       "<IPython.core.display.HTML object>"
      ]
     },
     "metadata": {},
     "output_type": "display_data"
    },
    {
     "data": {
      "text/html": [
       "<span style=\"color:blue\"> |-lr: 0.01</span>"
      ],
      "text/plain": [
       "<IPython.core.display.HTML object>"
      ]
     },
     "metadata": {},
     "output_type": "display_data"
    },
    {
     "data": {
      "text/html": [
       "<span style=\"color:cyan\"> |-tuner/bracket: 3</span>"
      ],
      "text/plain": [
       "<IPython.core.display.HTML object>"
      ]
     },
     "metadata": {},
     "output_type": "display_data"
    },
    {
     "data": {
      "text/html": [
       "<span style=\"color:blue\"> |-tuner/epochs: 2</span>"
      ],
      "text/plain": [
       "<IPython.core.display.HTML object>"
      ]
     },
     "metadata": {},
     "output_type": "display_data"
    },
    {
     "data": {
      "text/html": [
       "<span style=\"color:cyan\"> |-tuner/initial_epoch: 0</span>"
      ],
      "text/plain": [
       "<IPython.core.display.HTML object>"
      ]
     },
     "metadata": {},
     "output_type": "display_data"
    },
    {
     "data": {
      "text/html": [
       "<span style=\"color:blue\"> |-tuner/round: 0</span>"
      ],
      "text/plain": [
       "<IPython.core.display.HTML object>"
      ]
     },
     "metadata": {},
     "output_type": "display_data"
    },
    {
     "data": {
      "text/html": [
       "<span style=\"color:cyan\"> |-Score: 0.8999999761581421</span>"
      ],
      "text/plain": [
       "<IPython.core.display.HTML object>"
      ]
     },
     "metadata": {},
     "output_type": "display_data"
    },
    {
     "data": {
      "text/html": [
       "<span style=\"color:cyan\"> |-Best step: 0</span>"
      ],
      "text/plain": [
       "<IPython.core.display.HTML object>"
      ]
     },
     "metadata": {},
     "output_type": "display_data"
    },
    {
     "name": "stdout",
     "output_type": "stream",
     "text": [
      "Epoch 1/2\n",
      "12/12 [==============================] - ETA: 32s - loss: 0.6918 - accuracy: 0.468 - ETA: 25s - loss: 10.5721 - accuracy: 0.42 - ETA: 24s - loss: 18.0166 - accuracy: 0.45 - ETA: 21s - loss: 17.5444 - accuracy: 0.44 - ETA: 19s - loss: 14.4513 - accuracy: 0.46 - ETA: 16s - loss: 12.1571 - accuracy: 0.45 - ETA: 13s - loss: 10.5211 - accuracy: 0.45 - ETA: 10s - loss: 9.2937 - accuracy: 0.4551 - ETA: 8s - loss: 8.3378 - accuracy: 0.465 - ETA: 5s - loss: 7.5738 - accuracy: 0.45 - ETA: 2s - loss: 6.9480 - accuracy: 0.47 - ETA: 0s - loss: 6.8086 - accuracy: 0.47 - 34s 3s/step - loss: 6.8086 - accuracy: 0.4778 - val_loss: 0.6936 - val_accuracy: 0.5000\n",
      "Epoch 2/2\n",
      "12/12 [==============================] - ETA: 33s - loss: 0.6927 - accuracy: 0.515 - ETA: 26s - loss: 0.6927 - accuracy: 0.515 - ETA: 23s - loss: 0.6949 - accuracy: 0.484 - ETA: 20s - loss: 0.6940 - accuracy: 0.496 - ETA: 17s - loss: 0.6935 - accuracy: 0.503 - ETA: 15s - loss: 0.6940 - accuracy: 0.497 - ETA: 12s - loss: 0.6942 - accuracy: 0.495 - ETA: 10s - loss: 0.6940 - accuracy: 0.498 - ETA: 7s - loss: 0.6940 - accuracy: 0.498 - ETA: 5s - loss: 0.6946 - accuracy: 0.49 - ETA: 2s - loss: 0.6937 - accuracy: 0.50 - ETA: 0s - loss: 0.6939 - accuracy: 0.50 - 30s 2s/step - loss: 0.6939 - accuracy: 0.5000 - val_loss: 0.6941 - val_accuracy: 0.5000\n"
     ]
    },
    {
     "data": {
      "text/html": [
       "<span style=\"color:#4527A0\"><h1 style=\"font-size:18px\">Trial complete</h1></span>"
      ],
      "text/plain": [
       "<IPython.core.display.HTML object>"
      ]
     },
     "metadata": {},
     "output_type": "display_data"
    },
    {
     "data": {
      "text/html": [
       "<span style=\"color:#4527A0\"><h1 style=\"font-size:18px\">Trial summary</h1></span>"
      ],
      "text/plain": [
       "<IPython.core.display.HTML object>"
      ]
     },
     "metadata": {},
     "output_type": "display_data"
    },
    {
     "data": {
      "text/html": [
       "<span style=\"color:#7E57C2\"><h2 style=\"font-size:16px\">Hp values:</h2></span>"
      ],
      "text/plain": [
       "<IPython.core.display.HTML object>"
      ]
     },
     "metadata": {},
     "output_type": "display_data"
    },
    {
     "data": {
      "text/html": [
       "<span style=\"color:cyan\"> |-dropout_rate: 0.5</span>"
      ],
      "text/plain": [
       "<IPython.core.display.HTML object>"
      ]
     },
     "metadata": {},
     "output_type": "display_data"
    },
    {
     "data": {
      "text/html": [
       "<span style=\"color:blue\"> |-filters_1: 200</span>"
      ],
      "text/plain": [
       "<IPython.core.display.HTML object>"
      ]
     },
     "metadata": {},
     "output_type": "display_data"
    },
    {
     "data": {
      "text/html": [
       "<span style=\"color:cyan\"> |-filters_2: 50</span>"
      ],
      "text/plain": [
       "<IPython.core.display.HTML object>"
      ]
     },
     "metadata": {},
     "output_type": "display_data"
    },
    {
     "data": {
      "text/html": [
       "<span style=\"color:blue\"> |-lr: 0.01</span>"
      ],
      "text/plain": [
       "<IPython.core.display.HTML object>"
      ]
     },
     "metadata": {},
     "output_type": "display_data"
    },
    {
     "data": {
      "text/html": [
       "<span style=\"color:cyan\"> |-tuner/bracket: 3</span>"
      ],
      "text/plain": [
       "<IPython.core.display.HTML object>"
      ]
     },
     "metadata": {},
     "output_type": "display_data"
    },
    {
     "data": {
      "text/html": [
       "<span style=\"color:blue\"> |-tuner/epochs: 2</span>"
      ],
      "text/plain": [
       "<IPython.core.display.HTML object>"
      ]
     },
     "metadata": {},
     "output_type": "display_data"
    },
    {
     "data": {
      "text/html": [
       "<span style=\"color:cyan\"> |-tuner/initial_epoch: 0</span>"
      ],
      "text/plain": [
       "<IPython.core.display.HTML object>"
      ]
     },
     "metadata": {},
     "output_type": "display_data"
    },
    {
     "data": {
      "text/html": [
       "<span style=\"color:blue\"> |-tuner/round: 0</span>"
      ],
      "text/plain": [
       "<IPython.core.display.HTML object>"
      ]
     },
     "metadata": {},
     "output_type": "display_data"
    },
    {
     "data": {
      "text/html": [
       "<span style=\"color:cyan\"> |-Score: 0.5</span>"
      ],
      "text/plain": [
       "<IPython.core.display.HTML object>"
      ]
     },
     "metadata": {},
     "output_type": "display_data"
    },
    {
     "data": {
      "text/html": [
       "<span style=\"color:cyan\"> |-Best step: 0</span>"
      ],
      "text/plain": [
       "<IPython.core.display.HTML object>"
      ]
     },
     "metadata": {},
     "output_type": "display_data"
    },
    {
     "name": "stdout",
     "output_type": "stream",
     "text": [
      "Epoch 1/2\n",
      "12/12 [==============================] - ETA: 20s - loss: 0.6864 - accuracy: 0.500 - ETA: 14s - loss: 0.6994 - accuracy: 0.507 - ETA: 12s - loss: 0.6756 - accuracy: 0.562 - ETA: 11s - loss: 0.6425 - accuracy: 0.652 - ETA: 10s - loss: 0.6103 - accuracy: 0.718 - ETA: 8s - loss: 0.5861 - accuracy: 0.744 - ETA: 7s - loss: 0.5528 - accuracy: 0.77 - ETA: 5s - loss: 0.5235 - accuracy: 0.78 - ETA: 4s - loss: 0.4892 - accuracy: 0.80 - ETA: 2s - loss: 0.4623 - accuracy: 0.81 - ETA: 1s - loss: 0.4369 - accuracy: 0.82 - ETA: 0s - loss: 0.4329 - accuracy: 0.82 - 17s 1s/step - loss: 0.4329 - accuracy: 0.8278 - val_loss: 0.1240 - val_accuracy: 0.9625\n",
      "Epoch 2/2\n",
      "12/12 [==============================] - ETA: 15s - loss: 0.0648 - accuracy: 1.000 - ETA: 14s - loss: 0.1272 - accuracy: 0.976 - ETA: 13s - loss: 0.1572 - accuracy: 0.963 - ETA: 11s - loss: 0.1523 - accuracy: 0.957 - ETA: 10s - loss: 0.1546 - accuracy: 0.946 - ETA: 8s - loss: 0.1602 - accuracy: 0.937 - ETA: 7s - loss: 0.1646 - accuracy: 0.93 - ETA: 5s - loss: 0.1547 - accuracy: 0.93 - ETA: 4s - loss: 0.1505 - accuracy: 0.94 - ETA: 2s - loss: 0.1560 - accuracy: 0.93 - ETA: 1s - loss: 0.1477 - accuracy: 0.94 - ETA: 0s - loss: 0.1449 - accuracy: 0.94 - 17s 1s/step - loss: 0.1449 - accuracy: 0.9431 - val_loss: 0.1332 - val_accuracy: 0.9250\n"
     ]
    },
    {
     "data": {
      "text/html": [
       "<span style=\"color:#4527A0\"><h1 style=\"font-size:18px\">Trial complete</h1></span>"
      ],
      "text/plain": [
       "<IPython.core.display.HTML object>"
      ]
     },
     "metadata": {},
     "output_type": "display_data"
    },
    {
     "data": {
      "text/html": [
       "<span style=\"color:#4527A0\"><h1 style=\"font-size:18px\">Trial summary</h1></span>"
      ],
      "text/plain": [
       "<IPython.core.display.HTML object>"
      ]
     },
     "metadata": {},
     "output_type": "display_data"
    },
    {
     "data": {
      "text/html": [
       "<span style=\"color:#7E57C2\"><h2 style=\"font-size:16px\">Hp values:</h2></span>"
      ],
      "text/plain": [
       "<IPython.core.display.HTML object>"
      ]
     },
     "metadata": {},
     "output_type": "display_data"
    },
    {
     "data": {
      "text/html": [
       "<span style=\"color:cyan\"> |-dropout_rate: 0.7</span>"
      ],
      "text/plain": [
       "<IPython.core.display.HTML object>"
      ]
     },
     "metadata": {},
     "output_type": "display_data"
    },
    {
     "data": {
      "text/html": [
       "<span style=\"color:blue\"> |-filters_1: 100</span>"
      ],
      "text/plain": [
       "<IPython.core.display.HTML object>"
      ]
     },
     "metadata": {},
     "output_type": "display_data"
    },
    {
     "data": {
      "text/html": [
       "<span style=\"color:cyan\"> |-filters_2: 50</span>"
      ],
      "text/plain": [
       "<IPython.core.display.HTML object>"
      ]
     },
     "metadata": {},
     "output_type": "display_data"
    },
    {
     "data": {
      "text/html": [
       "<span style=\"color:blue\"> |-lr: 0.001</span>"
      ],
      "text/plain": [
       "<IPython.core.display.HTML object>"
      ]
     },
     "metadata": {},
     "output_type": "display_data"
    },
    {
     "data": {
      "text/html": [
       "<span style=\"color:cyan\"> |-tuner/bracket: 3</span>"
      ],
      "text/plain": [
       "<IPython.core.display.HTML object>"
      ]
     },
     "metadata": {},
     "output_type": "display_data"
    },
    {
     "data": {
      "text/html": [
       "<span style=\"color:blue\"> |-tuner/epochs: 2</span>"
      ],
      "text/plain": [
       "<IPython.core.display.HTML object>"
      ]
     },
     "metadata": {},
     "output_type": "display_data"
    },
    {
     "data": {
      "text/html": [
       "<span style=\"color:cyan\"> |-tuner/initial_epoch: 0</span>"
      ],
      "text/plain": [
       "<IPython.core.display.HTML object>"
      ]
     },
     "metadata": {},
     "output_type": "display_data"
    },
    {
     "data": {
      "text/html": [
       "<span style=\"color:blue\"> |-tuner/round: 0</span>"
      ],
      "text/plain": [
       "<IPython.core.display.HTML object>"
      ]
     },
     "metadata": {},
     "output_type": "display_data"
    },
    {
     "data": {
      "text/html": [
       "<span style=\"color:cyan\"> |-Score: 0.9624999761581421</span>"
      ],
      "text/plain": [
       "<IPython.core.display.HTML object>"
      ]
     },
     "metadata": {},
     "output_type": "display_data"
    },
    {
     "data": {
      "text/html": [
       "<span style=\"color:cyan\"> |-Best step: 0</span>"
      ],
      "text/plain": [
       "<IPython.core.display.HTML object>"
      ]
     },
     "metadata": {},
     "output_type": "display_data"
    },
    {
     "name": "stdout",
     "output_type": "stream",
     "text": [
      "INFO:tensorflow:Oracle triggered exit\n"
     ]
    }
   ],
   "source": [
    "tuner.search(x=x_train,\n",
    "             y=y_train,\n",
    "             epochs=30,\n",
    "             batch_size=64,\n",
    "             use_multiprocessing=True,\n",
    "             validation_data=(x_val, y_val),\n",
    "             callbacks=[early_stop])"
   ]
  },
  {
   "cell_type": "code",
   "execution_count": 76,
   "metadata": {},
   "outputs": [
    {
     "name": "stdout",
     "output_type": "stream",
     "text": [
      "Hyperparameter for Convolutional layer 1: 100\n",
      "Hyperparameter for Convolutional layer 2: 50\n",
      "Hyperparameter for Dropout rate: 0.5\n",
      "Hyperparameter for learning rate: 0.001\n"
     ]
    }
   ],
   "source": [
    "# Get the optimal hyperparameters\n",
    "best_hps=tuner.get_best_hyperparameters(num_trials=1)[0]\n",
    "\n",
    "print(\"Hyperparameter for Convolutional layer 1:\", best_hps.get('filters_1'))\n",
    "print(\"Hyperparameter for Convolutional layer 2:\", best_hps.get('filters_2'))\n",
    "print(\"Hyperparameter for Dropout rate:\", best_hps.get('dropout_rate'))\n",
    "print(\"Hyperparameter for learning rate:\", best_hps.get('lr'))"
   ]
  },
  {
   "cell_type": "code",
   "execution_count": 77,
   "metadata": {},
   "outputs": [
    {
     "name": "stdout",
     "output_type": "stream",
     "text": [
      "Epoch 1/30\n",
      "23/23 [==============================] - ETA: 15s - loss: 0.7166 - accuracy: 0.437 - ETA: 12s - loss: 0.6931 - accuracy: 0.515 - ETA: 11s - loss: 0.6668 - accuracy: 0.552 - ETA: 11s - loss: 0.6346 - accuracy: 0.617 - ETA: 10s - loss: 0.6286 - accuracy: 0.587 - ETA: 10s - loss: 0.6116 - accuracy: 0.593 - ETA: 9s - loss: 0.5849 - accuracy: 0.642 - ETA: 8s - loss: 0.5739 - accuracy: 0.64 - ETA: 8s - loss: 0.5528 - accuracy: 0.67 - ETA: 7s - loss: 0.5328 - accuracy: 0.69 - ETA: 7s - loss: 0.5167 - accuracy: 0.71 - ETA: 6s - loss: 0.5236 - accuracy: 0.70 - ETA: 5s - loss: 0.4965 - accuracy: 0.73 - ETA: 5s - loss: 0.4807 - accuracy: 0.74 - ETA: 4s - loss: 0.4670 - accuracy: 0.75 - ETA: 4s - loss: 0.4555 - accuracy: 0.76 - ETA: 3s - loss: 0.4336 - accuracy: 0.77 - ETA: 2s - loss: 0.4160 - accuracy: 0.78 - ETA: 2s - loss: 0.4020 - accuracy: 0.79 - ETA: 1s - loss: 0.3942 - accuracy: 0.80 - ETA: 1s - loss: 0.3807 - accuracy: 0.81 - ETA: 0s - loss: 0.3707 - accuracy: 0.81 - ETA: 0s - loss: 0.3649 - accuracy: 0.81 - 14s 616ms/step - loss: 0.3649 - accuracy: 0.8181 - val_loss: 0.0867 - val_accuracy: 0.9750\n",
      "Epoch 2/30\n",
      "23/23 [==============================] - ETA: 13s - loss: 0.0533 - accuracy: 0.968 - ETA: 13s - loss: 0.0439 - accuracy: 0.984 - ETA: 12s - loss: 0.0534 - accuracy: 0.989 - ETA: 12s - loss: 0.0603 - accuracy: 0.984 - ETA: 11s - loss: 0.0627 - accuracy: 0.981 - ETA: 10s - loss: 0.0563 - accuracy: 0.984 - ETA: 10s - loss: 0.0576 - accuracy: 0.986 - ETA: 9s - loss: 0.0604 - accuracy: 0.984 - ETA: 8s - loss: 0.0630 - accuracy: 0.97 - ETA: 8s - loss: 0.0643 - accuracy: 0.97 - ETA: 7s - loss: 0.0631 - accuracy: 0.98 - ETA: 7s - loss: 0.0634 - accuracy: 0.97 - ETA: 6s - loss: 0.0605 - accuracy: 0.98 - ETA: 5s - loss: 0.0574 - accuracy: 0.98 - ETA: 5s - loss: 0.0557 - accuracy: 0.98 - ETA: 4s - loss: 0.0591 - accuracy: 0.98 - ETA: 3s - loss: 0.0569 - accuracy: 0.98 - ETA: 3s - loss: 0.0554 - accuracy: 0.98 - ETA: 2s - loss: 0.0607 - accuracy: 0.98 - ETA: 1s - loss: 0.0651 - accuracy: 0.97 - ETA: 1s - loss: 0.0624 - accuracy: 0.97 - ETA: 0s - loss: 0.0602 - accuracy: 0.97 - ETA: 0s - loss: 0.0590 - accuracy: 0.97 - 15s 671ms/step - loss: 0.0590 - accuracy: 0.9792 - val_loss: 0.1069 - val_accuracy: 0.9625\n",
      "Epoch 3/30\n",
      "23/23 [==============================] - ETA: 15s - loss: 0.0714 - accuracy: 0.937 - ETA: 15s - loss: 0.0568 - accuracy: 0.968 - ETA: 14s - loss: 0.0443 - accuracy: 0.979 - ETA: 13s - loss: 0.0350 - accuracy: 0.984 - ETA: 12s - loss: 0.0312 - accuracy: 0.987 - ETA: 12s - loss: 0.0302 - accuracy: 0.989 - ETA: 11s - loss: 0.0326 - accuracy: 0.986 - ETA: 10s - loss: 0.0306 - accuracy: 0.988 - ETA: 9s - loss: 0.0281 - accuracy: 0.989 - ETA: 9s - loss: 0.0272 - accuracy: 0.99 - ETA: 8s - loss: 0.0260 - accuracy: 0.99 - ETA: 7s - loss: 0.0269 - accuracy: 0.98 - ETA: 7s - loss: 0.0254 - accuracy: 0.99 - ETA: 6s - loss: 0.0248 - accuracy: 0.99 - ETA: 5s - loss: 0.0237 - accuracy: 0.99 - ETA: 4s - loss: 0.0225 - accuracy: 0.99 - ETA: 4s - loss: 0.0215 - accuracy: 0.99 - ETA: 3s - loss: 0.0207 - accuracy: 0.99 - ETA: 2s - loss: 0.0203 - accuracy: 0.99 - ETA: 2s - loss: 0.0194 - accuracy: 0.99 - ETA: 1s - loss: 0.0186 - accuracy: 0.99 - ETA: 0s - loss: 0.0183 - accuracy: 0.99 - ETA: 0s - loss: 0.0183 - accuracy: 0.99 - 17s 720ms/step - loss: 0.0183 - accuracy: 0.9944 - val_loss: 0.0065 - val_accuracy: 1.0000\n",
      "Epoch 4/30\n",
      "23/23 [==============================] - ETA: 15s - loss: 0.0051 - accuracy: 1.000 - ETA: 14s - loss: 0.0064 - accuracy: 1.000 - ETA: 14s - loss: 0.0055 - accuracy: 1.000 - ETA: 13s - loss: 0.0052 - accuracy: 1.000 - ETA: 12s - loss: 0.0049 - accuracy: 1.000 - ETA: 12s - loss: 0.0047 - accuracy: 1.000 - ETA: 11s - loss: 0.0048 - accuracy: 1.000 - ETA: 10s - loss: 0.0048 - accuracy: 1.000 - ETA: 9s - loss: 0.0045 - accuracy: 1.000 - ETA: 9s - loss: 0.0042 - accuracy: 1.00 - ETA: 8s - loss: 0.0047 - accuracy: 1.00 - ETA: 7s - loss: 0.0043 - accuracy: 1.00 - ETA: 7s - loss: 0.0042 - accuracy: 1.00 - ETA: 6s - loss: 0.0040 - accuracy: 1.00 - ETA: 5s - loss: 0.0040 - accuracy: 1.00 - ETA: 5s - loss: 0.0038 - accuracy: 1.00 - ETA: 4s - loss: 0.0038 - accuracy: 1.00 - ETA: 3s - loss: 0.0037 - accuracy: 1.00 - ETA: 2s - loss: 0.0046 - accuracy: 1.00 - ETA: 2s - loss: 0.0045 - accuracy: 1.00 - ETA: 1s - loss: 0.0044 - accuracy: 1.00 - ETA: 0s - loss: 0.0042 - accuracy: 1.00 - ETA: 0s - loss: 0.0042 - accuracy: 1.00 - 17s 724ms/step - loss: 0.0042 - accuracy: 1.0000 - val_loss: 0.0075 - val_accuracy: 1.0000\n",
      "Epoch 5/30\n",
      "23/23 [==============================] - ETA: 15s - loss: 0.0063 - accuracy: 1.000 - ETA: 15s - loss: 0.0077 - accuracy: 1.000 - ETA: 14s - loss: 0.0054 - accuracy: 1.000 - ETA: 13s - loss: 0.0055 - accuracy: 1.000 - ETA: 13s - loss: 0.0065 - accuracy: 1.000 - ETA: 12s - loss: 0.0063 - accuracy: 1.000 - ETA: 11s - loss: 0.0055 - accuracy: 1.000 - ETA: 10s - loss: 0.0048 - accuracy: 1.000 - ETA: 10s - loss: 0.0043 - accuracy: 1.000 - ETA: 9s - loss: 0.0045 - accuracy: 1.000 - ETA: 8s - loss: 0.0042 - accuracy: 1.00 - ETA: 7s - loss: 0.0040 - accuracy: 1.00 - ETA: 7s - loss: 0.0038 - accuracy: 1.00 - ETA: 6s - loss: 0.0036 - accuracy: 1.00 - ETA: 5s - loss: 0.0033 - accuracy: 1.00 - ETA: 5s - loss: 0.0033 - accuracy: 1.00 - ETA: 4s - loss: 0.0033 - accuracy: 1.00 - ETA: 3s - loss: 0.0033 - accuracy: 1.00 - ETA: 2s - loss: 0.0032 - accuracy: 1.00 - ETA: 2s - loss: 0.0032 - accuracy: 1.00 - ETA: 1s - loss: 0.0035 - accuracy: 1.00 - ETA: 0s - loss: 0.0035 - accuracy: 1.00 - ETA: 0s - loss: 0.0034 - accuracy: 1.00 - 17s 732ms/step - loss: 0.0034 - accuracy: 1.0000 - val_loss: 0.0041 - val_accuracy: 1.0000\n",
      "Epoch 6/30\n",
      "23/23 [==============================] - ETA: 15s - loss: 0.0175 - accuracy: 1.000 - ETA: 15s - loss: 0.0100 - accuracy: 1.000 - ETA: 14s - loss: 0.0068 - accuracy: 1.000 - ETA: 13s - loss: 0.0056 - accuracy: 1.000 - ETA: 13s - loss: 0.0047 - accuracy: 1.000 - ETA: 12s - loss: 0.0040 - accuracy: 1.000 - ETA: 11s - loss: 0.0037 - accuracy: 1.000 - ETA: 10s - loss: 0.0034 - accuracy: 1.000 - ETA: 10s - loss: 0.0034 - accuracy: 1.000 - ETA: 9s - loss: 0.0039 - accuracy: 1.000 - ETA: 8s - loss: 0.0037 - accuracy: 1.00 - ETA: 8s - loss: 0.0034 - accuracy: 1.00 - ETA: 7s - loss: 0.0032 - accuracy: 1.00 - ETA: 6s - loss: 0.0030 - accuracy: 1.00 - ETA: 6s - loss: 0.0028 - accuracy: 1.00 - ETA: 5s - loss: 0.0027 - accuracy: 1.00 - ETA: 4s - loss: 0.0026 - accuracy: 1.00 - ETA: 3s - loss: 0.0026 - accuracy: 1.00 - ETA: 3s - loss: 0.0026 - accuracy: 1.00 - ETA: 2s - loss: 0.0025 - accuracy: 1.00 - ETA: 1s - loss: 0.0024 - accuracy: 1.00 - ETA: 0s - loss: 0.0024 - accuracy: 1.00 - ETA: 0s - loss: 0.0024 - accuracy: 1.00 - 18s 789ms/step - loss: 0.0024 - accuracy: 1.0000 - val_loss: 0.0024 - val_accuracy: 1.0000\n",
      "Epoch 7/30\n",
      "23/23 [==============================] - ETA: 19s - loss: 0.0016 - accuracy: 1.000 - ETA: 19s - loss: 8.7007e-04 - accuracy: 1.000 - ETA: 17s - loss: 9.6697e-04 - accuracy: 1.000 - ETA: 16s - loss: 0.0020 - accuracy: 1.0000    - ETA: 15s - loss: 0.0016 - accuracy: 1.000 - ETA: 13s - loss: 0.0016 - accuracy: 1.000 - ETA: 12s - loss: 0.0014 - accuracy: 1.000 - ETA: 11s - loss: 0.0013 - accuracy: 1.000 - ETA: 11s - loss: 0.0013 - accuracy: 1.000 - ETA: 10s - loss: 0.0014 - accuracy: 1.000 - ETA: 9s - loss: 0.0013 - accuracy: 1.000 - ETA: 8s - loss: 0.0012 - accuracy: 1.00 - ETA: 7s - loss: 0.0012 - accuracy: 1.00 - ETA: 6s - loss: 0.0011 - accuracy: 1.00 - ETA: 6s - loss: 0.0011 - accuracy: 1.00 - ETA: 5s - loss: 0.0011 - accuracy: 1.00 - ETA: 4s - loss: 0.0011 - accuracy: 1.00 - ETA: 3s - loss: 0.0010 - accuracy: 1.00 - ETA: 3s - loss: 0.0011 - accuracy: 1.00 - ETA: 2s - loss: 0.0011 - accuracy: 1.00 - ETA: 1s - loss: 0.0010 - accuracy: 1.00 - ETA: 0s - loss: 0.0010 - accuracy: 1.00 - ETA: 0s - loss: 0.0010 - accuracy: 1.00 - 18s 773ms/step - loss: 0.0010 - accuracy: 1.0000 - val_loss: 0.0027 - val_accuracy: 1.0000\n",
      "Epoch 8/30\n"
     ]
    },
    {
     "name": "stdout",
     "output_type": "stream",
     "text": [
      "23/23 [==============================] - ETA: 16s - loss: 4.3858e-04 - accuracy: 1.000 - ETA: 15s - loss: 3.8179e-04 - accuracy: 1.000 - ETA: 15s - loss: 7.5179e-04 - accuracy: 1.000 - ETA: 14s - loss: 6.7341e-04 - accuracy: 1.000 - ETA: 14s - loss: 6.5298e-04 - accuracy: 1.000 - ETA: 13s - loss: 8.7024e-04 - accuracy: 1.000 - ETA: 12s - loss: 9.9813e-04 - accuracy: 1.000 - ETA: 11s - loss: 0.0011 - accuracy: 1.0000    - ETA: 10s - loss: 9.9925e-04 - accuracy: 1.000 - ETA: 10s - loss: 9.7999e-04 - accuracy: 1.000 - ETA: 9s - loss: 8.9876e-04 - accuracy: 1.000 - ETA: 8s - loss: 8.9347e-04 - accuracy: 1.00 - ETA: 7s - loss: 8.6590e-04 - accuracy: 1.00 - ETA: 6s - loss: 8.1761e-04 - accuracy: 1.00 - ETA: 6s - loss: 8.9563e-04 - accuracy: 1.00 - ETA: 5s - loss: 9.0296e-04 - accuracy: 1.00 - ETA: 4s - loss: 8.5601e-04 - accuracy: 1.00 - ETA: 3s - loss: 8.1332e-04 - accuracy: 1.00 - ETA: 3s - loss: 7.8334e-04 - accuracy: 1.00 - ETA: 2s - loss: 7.6800e-04 - accuracy: 1.00 - ETA: 1s - loss: 7.5041e-04 - accuracy: 1.00 - ETA: 0s - loss: 7.3726e-04 - accuracy: 1.00 - ETA: 0s - loss: 7.6280e-04 - accuracy: 1.00 - 17s 761ms/step - loss: 7.6280e-04 - accuracy: 1.0000 - val_loss: 0.0028 - val_accuracy: 1.0000\n",
      "Epoch 9/30\n",
      "23/23 [==============================] - ETA: 15s - loss: 6.8022e-04 - accuracy: 1.000 - ETA: 15s - loss: 4.0247e-04 - accuracy: 1.000 - ETA: 15s - loss: 3.4158e-04 - accuracy: 1.000 - ETA: 14s - loss: 6.5311e-04 - accuracy: 1.000 - ETA: 13s - loss: 5.6793e-04 - accuracy: 1.000 - ETA: 12s - loss: 5.0269e-04 - accuracy: 1.000 - ETA: 11s - loss: 4.6104e-04 - accuracy: 1.000 - ETA: 11s - loss: 4.8047e-04 - accuracy: 1.000 - ETA: 10s - loss: 4.4244e-04 - accuracy: 1.000 - ETA: 9s - loss: 4.5587e-04 - accuracy: 1.000 - ETA: 8s - loss: 4.9166e-04 - accuracy: 1.00 - ETA: 8s - loss: 5.2234e-04 - accuracy: 1.00 - ETA: 7s - loss: 5.4086e-04 - accuracy: 1.00 - ETA: 6s - loss: 5.1120e-04 - accuracy: 1.00 - ETA: 5s - loss: 4.8469e-04 - accuracy: 1.00 - ETA: 5s - loss: 4.6996e-04 - accuracy: 1.00 - ETA: 4s - loss: 4.6530e-04 - accuracy: 1.00 - ETA: 3s - loss: 4.4406e-04 - accuracy: 1.00 - ETA: 2s - loss: 4.5591e-04 - accuracy: 1.00 - ETA: 2s - loss: 5.0665e-04 - accuracy: 1.00 - ETA: 1s - loss: 5.3571e-04 - accuracy: 1.00 - ETA: 0s - loss: 5.6011e-04 - accuracy: 1.00 - ETA: 0s - loss: 5.6799e-04 - accuracy: 1.00 - 17s 748ms/step - loss: 5.6799e-04 - accuracy: 1.0000 - val_loss: 0.0043 - val_accuracy: 1.0000\n",
      "Epoch 10/30\n",
      "23/23 [==============================] - ETA: 15s - loss: 2.2886e-04 - accuracy: 1.000 - ETA: 15s - loss: 2.3256e-04 - accuracy: 1.000 - ETA: 14s - loss: 2.3495e-04 - accuracy: 1.000 - ETA: 14s - loss: 8.6909e-04 - accuracy: 1.000 - ETA: 13s - loss: 7.9635e-04 - accuracy: 1.000 - ETA: 12s - loss: 6.8615e-04 - accuracy: 1.000 - ETA: 11s - loss: 6.4515e-04 - accuracy: 1.000 - ETA: 11s - loss: 5.8294e-04 - accuracy: 1.000 - ETA: 10s - loss: 5.2936e-04 - accuracy: 1.000 - ETA: 9s - loss: 6.4560e-04 - accuracy: 1.000 - ETA: 8s - loss: 5.9680e-04 - accuracy: 1.00 - ETA: 8s - loss: 5.7554e-04 - accuracy: 1.00 - ETA: 7s - loss: 5.5972e-04 - accuracy: 1.00 - ETA: 6s - loss: 5.5985e-04 - accuracy: 1.00 - ETA: 5s - loss: 5.6558e-04 - accuracy: 1.00 - ETA: 5s - loss: 5.7176e-04 - accuracy: 1.00 - ETA: 4s - loss: 5.4060e-04 - accuracy: 1.00 - ETA: 3s - loss: 5.3696e-04 - accuracy: 1.00 - ETA: 2s - loss: 5.3571e-04 - accuracy: 1.00 - ETA: 2s - loss: 5.4690e-04 - accuracy: 1.00 - ETA: 1s - loss: 5.3523e-04 - accuracy: 1.00 - ETA: 0s - loss: 5.1844e-04 - accuracy: 1.00 - ETA: 0s - loss: 5.0914e-04 - accuracy: 1.00 - 17s 739ms/step - loss: 5.0914e-04 - accuracy: 1.0000 - val_loss: 0.0013 - val_accuracy: 1.0000\n",
      "Epoch 11/30\n",
      "23/23 [==============================] - ETA: 15s - loss: 5.7657e-05 - accuracy: 1.000 - ETA: 15s - loss: 2.5001e-04 - accuracy: 1.000 - ETA: 14s - loss: 2.2955e-04 - accuracy: 1.000 - ETA: 13s - loss: 2.2223e-04 - accuracy: 1.000 - ETA: 13s - loss: 4.1750e-04 - accuracy: 1.000 - ETA: 12s - loss: 4.0815e-04 - accuracy: 1.000 - ETA: 11s - loss: 3.9533e-04 - accuracy: 1.000 - ETA: 10s - loss: 4.1316e-04 - accuracy: 1.000 - ETA: 10s - loss: 3.7046e-04 - accuracy: 1.000 - ETA: 9s - loss: 3.6328e-04 - accuracy: 1.000 - ETA: 8s - loss: 3.4074e-04 - accuracy: 1.00 - ETA: 8s - loss: 3.1885e-04 - accuracy: 1.00 - ETA: 7s - loss: 3.2687e-04 - accuracy: 1.00 - ETA: 6s - loss: 3.2653e-04 - accuracy: 1.00 - ETA: 6s - loss: 3.2453e-04 - accuracy: 1.00 - ETA: 5s - loss: 3.2188e-04 - accuracy: 1.00 - ETA: 4s - loss: 3.1175e-04 - accuracy: 1.00 - ETA: 3s - loss: 3.1235e-04 - accuracy: 1.00 - ETA: 3s - loss: 2.9763e-04 - accuracy: 1.00 - ETA: 2s - loss: 2.8925e-04 - accuracy: 1.00 - ETA: 1s - loss: 2.9745e-04 - accuracy: 1.00 - ETA: 0s - loss: 3.3479e-04 - accuracy: 1.00 - ETA: 0s - loss: 3.3285e-04 - accuracy: 1.00 - 19s 810ms/step - loss: 3.3285e-04 - accuracy: 1.0000 - val_loss: 0.0027 - val_accuracy: 1.0000\n",
      "Epoch 12/30\n",
      "23/23 [==============================] - ETA: 18s - loss: 4.7530e-05 - accuracy: 1.000 - ETA: 17s - loss: 5.5374e-04 - accuracy: 1.000 - ETA: 17s - loss: 3.8384e-04 - accuracy: 1.000 - ETA: 16s - loss: 3.2063e-04 - accuracy: 1.000 - ETA: 14s - loss: 3.2779e-04 - accuracy: 1.000 - ETA: 14s - loss: 3.2502e-04 - accuracy: 1.000 - ETA: 13s - loss: 3.4275e-04 - accuracy: 1.000 - ETA: 12s - loss: 3.1480e-04 - accuracy: 1.000 - ETA: 11s - loss: 3.4799e-04 - accuracy: 1.000 - ETA: 10s - loss: 3.2909e-04 - accuracy: 1.000 - ETA: 9s - loss: 3.4979e-04 - accuracy: 1.000 - ETA: 9s - loss: 3.3745e-04 - accuracy: 1.00 - ETA: 8s - loss: 3.2080e-04 - accuracy: 1.00 - ETA: 7s - loss: 3.1817e-04 - accuracy: 1.00 - ETA: 6s - loss: 3.1339e-04 - accuracy: 1.00 - ETA: 5s - loss: 3.1804e-04 - accuracy: 1.00 - ETA: 5s - loss: 3.0344e-04 - accuracy: 1.00 - ETA: 4s - loss: 2.9884e-04 - accuracy: 1.00 - ETA: 3s - loss: 3.0061e-04 - accuracy: 1.00 - ETA: 2s - loss: 2.9998e-04 - accuracy: 1.00 - ETA: 1s - loss: 2.8663e-04 - accuracy: 1.00 - ETA: 0s - loss: 2.8276e-04 - accuracy: 1.00 - ETA: 0s - loss: 2.7694e-04 - accuracy: 1.00 - 19s 836ms/step - loss: 2.7694e-04 - accuracy: 1.0000 - val_loss: 0.0020 - val_accuracy: 1.0000\n",
      "Epoch 13/30\n",
      "23/23 [==============================] - ETA: 16s - loss: 0.0018 - accuracy: 1.000 - ETA: 17s - loss: 9.5056e-04 - accuracy: 1.000 - ETA: 18s - loss: 8.0614e-04 - accuracy: 1.000 - ETA: 17s - loss: 6.4724e-04 - accuracy: 1.000 - ETA: 16s - loss: 5.2762e-04 - accuracy: 1.000 - ETA: 15s - loss: 4.7356e-04 - accuracy: 1.000 - ETA: 14s - loss: 4.1058e-04 - accuracy: 1.000 - ETA: 13s - loss: 3.7977e-04 - accuracy: 1.000 - ETA: 12s - loss: 4.5414e-04 - accuracy: 1.000 - ETA: 11s - loss: 4.4845e-04 - accuracy: 1.000 - ETA: 10s - loss: 4.3846e-04 - accuracy: 1.000 - ETA: 9s - loss: 4.1496e-04 - accuracy: 1.000 - ETA: 8s - loss: 3.8860e-04 - accuracy: 1.00 - ETA: 8s - loss: 3.7963e-04 - accuracy: 1.00 - ETA: 7s - loss: 3.6797e-04 - accuracy: 1.00 - ETA: 6s - loss: 3.6992e-04 - accuracy: 1.00 - ETA: 5s - loss: 3.6983e-04 - accuracy: 1.00 - ETA: 4s - loss: 3.5000e-04 - accuracy: 1.00 - ETA: 3s - loss: 3.4792e-04 - accuracy: 1.00 - ETA: 2s - loss: 3.4406e-04 - accuracy: 1.00 - ETA: 1s - loss: 3.3083e-04 - accuracy: 1.00 - ETA: 0s - loss: 3.2418e-04 - accuracy: 1.00 - ETA: 0s - loss: 3.3306e-04 - accuracy: 1.00 - 19s 848ms/step - loss: 3.3306e-04 - accuracy: 1.0000 - val_loss: 0.0024 - val_accuracy: 1.0000\n",
      "Epoch 14/30\n"
     ]
    },
    {
     "name": "stdout",
     "output_type": "stream",
     "text": [
      "23/23 [==============================] - ETA: 16s - loss: 4.5010e-04 - accuracy: 1.000 - ETA: 16s - loss: 4.8270e-04 - accuracy: 1.000 - ETA: 17s - loss: 3.3753e-04 - accuracy: 1.000 - ETA: 16s - loss: 2.8236e-04 - accuracy: 1.000 - ETA: 15s - loss: 2.8983e-04 - accuracy: 1.000 - ETA: 14s - loss: 2.6508e-04 - accuracy: 1.000 - ETA: 13s - loss: 2.5809e-04 - accuracy: 1.000 - ETA: 12s - loss: 2.8597e-04 - accuracy: 1.000 - ETA: 11s - loss: 2.7016e-04 - accuracy: 1.000 - ETA: 10s - loss: 2.8529e-04 - accuracy: 1.000 - ETA: 9s - loss: 2.9387e-04 - accuracy: 1.000 - ETA: 8s - loss: 2.7637e-04 - accuracy: 1.00 - ETA: 8s - loss: 2.6575e-04 - accuracy: 1.00 - ETA: 7s - loss: 2.6385e-04 - accuracy: 1.00 - ETA: 6s - loss: 2.5042e-04 - accuracy: 1.00 - ETA: 5s - loss: 2.4273e-04 - accuracy: 1.00 - ETA: 4s - loss: 2.2957e-04 - accuracy: 1.00 - ETA: 3s - loss: 2.2142e-04 - accuracy: 1.00 - ETA: 3s - loss: 2.3807e-04 - accuracy: 1.00 - ETA: 2s - loss: 2.5082e-04 - accuracy: 1.00 - ETA: 1s - loss: 2.4709e-04 - accuracy: 1.00 - ETA: 0s - loss: 2.4052e-04 - accuracy: 1.00 - ETA: 0s - loss: 2.3549e-04 - accuracy: 1.00 - 18s 795ms/step - loss: 2.3549e-04 - accuracy: 1.0000 - val_loss: 0.0019 - val_accuracy: 1.0000\n",
      "Epoch 15/30\n",
      "23/23 [==============================] - ETA: 17s - loss: 1.1193e-04 - accuracy: 1.000 - ETA: 17s - loss: 9.5570e-05 - accuracy: 1.000 - ETA: 15s - loss: 1.5203e-04 - accuracy: 1.000 - ETA: 14s - loss: 3.2851e-04 - accuracy: 1.000 - ETA: 14s - loss: 2.7174e-04 - accuracy: 1.000 - ETA: 14s - loss: 2.9841e-04 - accuracy: 1.000 - ETA: 13s - loss: 2.6944e-04 - accuracy: 1.000 - ETA: 12s - loss: 2.4825e-04 - accuracy: 1.000 - ETA: 12s - loss: 2.3727e-04 - accuracy: 1.000 - ETA: 11s - loss: 2.9670e-04 - accuracy: 1.000 - ETA: 10s - loss: 2.7887e-04 - accuracy: 1.000 - ETA: 9s - loss: 2.7085e-04 - accuracy: 1.000 - ETA: 8s - loss: 2.5824e-04 - accuracy: 1.00 - ETA: 7s - loss: 2.5801e-04 - accuracy: 1.00 - ETA: 6s - loss: 2.6289e-04 - accuracy: 1.00 - ETA: 6s - loss: 2.5637e-04 - accuracy: 1.00 - ETA: 5s - loss: 2.5130e-04 - accuracy: 1.00 - ETA: 4s - loss: 2.5979e-04 - accuracy: 1.00 - ETA: 3s - loss: 2.5752e-04 - accuracy: 1.00 - ETA: 2s - loss: 2.5501e-04 - accuracy: 1.00 - ETA: 1s - loss: 2.4563e-04 - accuracy: 1.00 - ETA: 0s - loss: 2.4229e-04 - accuracy: 1.00 - ETA: 0s - loss: 2.3737e-04 - accuracy: 1.00 - 20s 868ms/step - loss: 2.3737e-04 - accuracy: 1.0000 - val_loss: 0.0011 - val_accuracy: 1.0000\n",
      "Epoch 16/30\n",
      "23/23 [==============================] - ETA: 18s - loss: 8.7489e-05 - accuracy: 1.000 - ETA: 17s - loss: 1.3576e-04 - accuracy: 1.000 - ETA: 16s - loss: 9.6237e-05 - accuracy: 1.000 - ETA: 15s - loss: 1.6402e-04 - accuracy: 1.000 - ETA: 14s - loss: 1.4623e-04 - accuracy: 1.000 - ETA: 13s - loss: 1.4562e-04 - accuracy: 1.000 - ETA: 13s - loss: 1.4121e-04 - accuracy: 1.000 - ETA: 12s - loss: 1.8042e-04 - accuracy: 1.000 - ETA: 11s - loss: 1.6571e-04 - accuracy: 1.000 - ETA: 10s - loss: 1.6542e-04 - accuracy: 1.000 - ETA: 9s - loss: 1.8482e-04 - accuracy: 1.000 - ETA: 9s - loss: 1.9312e-04 - accuracy: 1.00 - ETA: 8s - loss: 1.8827e-04 - accuracy: 1.00 - ETA: 7s - loss: 1.8570e-04 - accuracy: 1.00 - ETA: 6s - loss: 2.0234e-04 - accuracy: 1.00 - ETA: 5s - loss: 1.9931e-04 - accuracy: 1.00 - ETA: 4s - loss: 1.8965e-04 - accuracy: 1.00 - ETA: 4s - loss: 1.8751e-04 - accuracy: 1.00 - ETA: 3s - loss: 1.8639e-04 - accuracy: 1.00 - ETA: 2s - loss: 1.9004e-04 - accuracy: 1.00 - ETA: 1s - loss: 1.8624e-04 - accuracy: 1.00 - ETA: 0s - loss: 1.8329e-04 - accuracy: 1.00 - ETA: 0s - loss: 1.8003e-04 - accuracy: 1.00 - 19s 818ms/step - loss: 1.8003e-04 - accuracy: 1.0000 - val_loss: 0.0018 - val_accuracy: 1.0000\n",
      "Epoch 17/30\n",
      "23/23 [==============================] - ETA: 16s - loss: 2.4019e-05 - accuracy: 1.000 - ETA: 15s - loss: 1.1959e-04 - accuracy: 1.000 - ETA: 14s - loss: 1.4346e-04 - accuracy: 1.000 - ETA: 14s - loss: 1.2275e-04 - accuracy: 1.000 - ETA: 13s - loss: 1.1648e-04 - accuracy: 1.000 - ETA: 12s - loss: 2.2201e-04 - accuracy: 1.000 - ETA: 12s - loss: 2.1578e-04 - accuracy: 1.000 - ETA: 11s - loss: 2.0621e-04 - accuracy: 1.000 - ETA: 10s - loss: 1.9826e-04 - accuracy: 1.000 - ETA: 9s - loss: 1.8023e-04 - accuracy: 1.000 - ETA: 8s - loss: 1.7457e-04 - accuracy: 1.00 - ETA: 8s - loss: 2.0785e-04 - accuracy: 1.00 - ETA: 7s - loss: 1.9609e-04 - accuracy: 1.00 - ETA: 6s - loss: 1.9757e-04 - accuracy: 1.00 - ETA: 5s - loss: 1.9105e-04 - accuracy: 1.00 - ETA: 5s - loss: 1.9300e-04 - accuracy: 1.00 - ETA: 4s - loss: 1.8309e-04 - accuracy: 1.00 - ETA: 3s - loss: 1.7399e-04 - accuracy: 1.00 - ETA: 2s - loss: 1.9188e-04 - accuracy: 1.00 - ETA: 2s - loss: 1.8517e-04 - accuracy: 1.00 - ETA: 1s - loss: 1.7707e-04 - accuracy: 1.00 - ETA: 0s - loss: 1.7284e-04 - accuracy: 1.00 - ETA: 0s - loss: 1.7599e-04 - accuracy: 1.00 - 17s 758ms/step - loss: 1.7599e-04 - accuracy: 1.0000 - val_loss: 0.0012 - val_accuracy: 1.0000\n",
      "Epoch 18/30\n",
      "23/23 [==============================] - ETA: 16s - loss: 9.5977e-05 - accuracy: 1.000 - ETA: 15s - loss: 1.4325e-04 - accuracy: 1.000 - ETA: 14s - loss: 1.2031e-04 - accuracy: 1.000 - ETA: 14s - loss: 9.3821e-05 - accuracy: 1.000 - ETA: 13s - loss: 1.6909e-04 - accuracy: 1.000 - ETA: 12s - loss: 1.9732e-04 - accuracy: 1.000 - ETA: 11s - loss: 1.7274e-04 - accuracy: 1.000 - ETA: 11s - loss: 1.6917e-04 - accuracy: 1.000 - ETA: 10s - loss: 1.5208e-04 - accuracy: 1.000 - ETA: 9s - loss: 1.4448e-04 - accuracy: 1.000 - ETA: 8s - loss: 1.3397e-04 - accuracy: 1.00 - ETA: 8s - loss: 1.2802e-04 - accuracy: 1.00 - ETA: 7s - loss: 1.1899e-04 - accuracy: 1.00 - ETA: 6s - loss: 1.1306e-04 - accuracy: 1.00 - ETA: 5s - loss: 1.2277e-04 - accuracy: 1.00 - ETA: 5s - loss: 1.1700e-04 - accuracy: 1.00 - ETA: 4s - loss: 1.4132e-04 - accuracy: 1.00 - ETA: 3s - loss: 1.4692e-04 - accuracy: 1.00 - ETA: 2s - loss: 1.4357e-04 - accuracy: 1.00 - ETA: 2s - loss: 1.4088e-04 - accuracy: 1.00 - ETA: 1s - loss: 1.4132e-04 - accuracy: 1.00 - ETA: 0s - loss: 1.3935e-04 - accuracy: 1.00 - ETA: 0s - loss: 1.3640e-04 - accuracy: 1.00 - 17s 757ms/step - loss: 1.3640e-04 - accuracy: 1.0000 - val_loss: 0.0011 - val_accuracy: 1.0000\n",
      "Epoch 19/30\n",
      "23/23 [==============================] - ETA: 15s - loss: 5.3463e-05 - accuracy: 1.000 - ETA: 15s - loss: 5.3424e-05 - accuracy: 1.000 - ETA: 15s - loss: 2.0338e-04 - accuracy: 1.000 - ETA: 14s - loss: 1.7223e-04 - accuracy: 1.000 - ETA: 13s - loss: 1.4553e-04 - accuracy: 1.000 - ETA: 12s - loss: 1.4296e-04 - accuracy: 1.000 - ETA: 11s - loss: 1.3419e-04 - accuracy: 1.000 - ETA: 11s - loss: 1.2994e-04 - accuracy: 1.000 - ETA: 10s - loss: 1.1968e-04 - accuracy: 1.000 - ETA: 9s - loss: 1.2576e-04 - accuracy: 1.000 - ETA: 8s - loss: 1.1673e-04 - accuracy: 1.00 - ETA: 8s - loss: 1.2697e-04 - accuracy: 1.00 - ETA: 7s - loss: 1.1770e-04 - accuracy: 1.00 - ETA: 6s - loss: 1.0941e-04 - accuracy: 1.00 - ETA: 5s - loss: 1.0476e-04 - accuracy: 1.00 - ETA: 5s - loss: 1.1018e-04 - accuracy: 1.00 - ETA: 4s - loss: 1.0672e-04 - accuracy: 1.00 - ETA: 3s - loss: 1.1486e-04 - accuracy: 1.00 - ETA: 2s - loss: 1.1374e-04 - accuracy: 1.00 - ETA: 2s - loss: 1.2699e-04 - accuracy: 1.00 - ETA: 1s - loss: 1.2410e-04 - accuracy: 1.00 - ETA: 0s - loss: 1.2578e-04 - accuracy: 1.00 - ETA: 0s - loss: 1.2384e-04 - accuracy: 1.00 - 17s 753ms/step - loss: 1.2384e-04 - accuracy: 1.0000 - val_loss: 0.0013 - val_accuracy: 1.0000\n",
      "Epoch 20/30\n"
     ]
    },
    {
     "name": "stdout",
     "output_type": "stream",
     "text": [
      "23/23 [==============================] - ETA: 16s - loss: 4.2113e-04 - accuracy: 1.000 - ETA: 15s - loss: 2.9927e-04 - accuracy: 1.000 - ETA: 14s - loss: 2.2465e-04 - accuracy: 1.000 - ETA: 14s - loss: 1.8188e-04 - accuracy: 1.000 - ETA: 13s - loss: 1.5568e-04 - accuracy: 1.000 - ETA: 12s - loss: 1.3882e-04 - accuracy: 1.000 - ETA: 11s - loss: 1.4510e-04 - accuracy: 1.000 - ETA: 11s - loss: 1.5239e-04 - accuracy: 1.000 - ETA: 10s - loss: 1.3718e-04 - accuracy: 1.000 - ETA: 9s - loss: 1.2435e-04 - accuracy: 1.000 - ETA: 8s - loss: 1.1707e-04 - accuracy: 1.00 - ETA: 8s - loss: 1.4293e-04 - accuracy: 1.00 - ETA: 7s - loss: 1.3225e-04 - accuracy: 1.00 - ETA: 6s - loss: 1.2558e-04 - accuracy: 1.00 - ETA: 5s - loss: 1.3574e-04 - accuracy: 1.00 - ETA: 5s - loss: 1.3919e-04 - accuracy: 1.00 - ETA: 4s - loss: 1.4833e-04 - accuracy: 1.00 - ETA: 3s - loss: 1.4927e-04 - accuracy: 1.00 - ETA: 2s - loss: 1.4339e-04 - accuracy: 1.00 - ETA: 2s - loss: 1.4456e-04 - accuracy: 1.00 - ETA: 1s - loss: 1.4297e-04 - accuracy: 1.00 - ETA: 0s - loss: 1.3792e-04 - accuracy: 1.00 - ETA: 0s - loss: 1.3540e-04 - accuracy: 1.00 - 17s 750ms/step - loss: 1.3540e-04 - accuracy: 1.0000 - val_loss: 0.0012 - val_accuracy: 1.0000\n",
      "Epoch 21/30\n",
      "23/23 [==============================] - ETA: 16s - loss: 1.0546e-05 - accuracy: 1.000 - ETA: 15s - loss: 4.8810e-05 - accuracy: 1.000 - ETA: 14s - loss: 7.7197e-05 - accuracy: 1.000 - ETA: 13s - loss: 8.7353e-05 - accuracy: 1.000 - ETA: 13s - loss: 2.2680e-04 - accuracy: 1.000 - ETA: 12s - loss: 2.0910e-04 - accuracy: 1.000 - ETA: 11s - loss: 2.2076e-04 - accuracy: 1.000 - ETA: 11s - loss: 2.0781e-04 - accuracy: 1.000 - ETA: 10s - loss: 1.8722e-04 - accuracy: 1.000 - ETA: 9s - loss: 1.9280e-04 - accuracy: 1.000 - ETA: 8s - loss: 1.7930e-04 - accuracy: 1.00 - ETA: 8s - loss: 1.6611e-04 - accuracy: 1.00 - ETA: 7s - loss: 1.7273e-04 - accuracy: 1.00 - ETA: 6s - loss: 1.6557e-04 - accuracy: 1.00 - ETA: 5s - loss: 1.5877e-04 - accuracy: 1.00 - ETA: 5s - loss: 1.5079e-04 - accuracy: 1.00 - ETA: 4s - loss: 1.5090e-04 - accuracy: 1.00 - ETA: 3s - loss: 1.5319e-04 - accuracy: 1.00 - ETA: 2s - loss: 1.4902e-04 - accuracy: 1.00 - ETA: 2s - loss: 1.4277e-04 - accuracy: 1.00 - ETA: 1s - loss: 1.4239e-04 - accuracy: 1.00 - ETA: 0s - loss: 1.3999e-04 - accuracy: 1.00 - ETA: 0s - loss: 1.3711e-04 - accuracy: 1.00 - 17s 739ms/step - loss: 1.3711e-04 - accuracy: 1.0000 - val_loss: 0.0012 - val_accuracy: 1.0000\n",
      "Epoch 22/30\n",
      "23/23 [==============================] - ETA: 15s - loss: 6.2045e-05 - accuracy: 1.000 - ETA: 15s - loss: 6.9002e-05 - accuracy: 1.000 - ETA: 14s - loss: 6.8549e-05 - accuracy: 1.000 - ETA: 13s - loss: 5.7398e-05 - accuracy: 1.000 - ETA: 13s - loss: 6.5168e-05 - accuracy: 1.000 - ETA: 12s - loss: 6.6519e-05 - accuracy: 1.000 - ETA: 11s - loss: 6.8903e-05 - accuracy: 1.000 - ETA: 11s - loss: 7.4078e-05 - accuracy: 1.000 - ETA: 10s - loss: 7.0251e-05 - accuracy: 1.000 - ETA: 9s - loss: 8.2824e-05 - accuracy: 1.000 - ETA: 8s - loss: 1.2148e-04 - accuracy: 1.00 - ETA: 8s - loss: 1.2984e-04 - accuracy: 1.00 - ETA: 7s - loss: 1.2222e-04 - accuracy: 1.00 - ETA: 6s - loss: 1.2627e-04 - accuracy: 1.00 - ETA: 5s - loss: 1.2306e-04 - accuracy: 1.00 - ETA: 5s - loss: 1.1861e-04 - accuracy: 1.00 - ETA: 4s - loss: 1.1504e-04 - accuracy: 1.00 - ETA: 3s - loss: 1.1202e-04 - accuracy: 1.00 - ETA: 2s - loss: 1.0969e-04 - accuracy: 1.00 - ETA: 2s - loss: 1.0778e-04 - accuracy: 1.00 - ETA: 1s - loss: 1.0400e-04 - accuracy: 1.00 - ETA: 0s - loss: 1.0345e-04 - accuracy: 1.00 - ETA: 0s - loss: 1.0933e-04 - accuracy: 1.00 - 17s 744ms/step - loss: 1.0933e-04 - accuracy: 1.0000 - val_loss: 8.7115e-04 - val_accuracy: 1.0000\n",
      "Epoch 23/30\n",
      "23/23 [==============================] - ETA: 15s - loss: 3.7759e-05 - accuracy: 1.000 - ETA: 15s - loss: 2.8368e-05 - accuracy: 1.000 - ETA: 14s - loss: 2.6070e-05 - accuracy: 1.000 - ETA: 14s - loss: 2.3865e-05 - accuracy: 1.000 - ETA: 13s - loss: 2.8577e-05 - accuracy: 1.000 - ETA: 12s - loss: 8.1453e-05 - accuracy: 1.000 - ETA: 11s - loss: 8.3412e-05 - accuracy: 1.000 - ETA: 11s - loss: 8.6104e-05 - accuracy: 1.000 - ETA: 10s - loss: 1.0094e-04 - accuracy: 1.000 - ETA: 9s - loss: 1.0202e-04 - accuracy: 1.000 - ETA: 9s - loss: 9.8838e-05 - accuracy: 1.00 - ETA: 8s - loss: 9.1955e-05 - accuracy: 1.00 - ETA: 7s - loss: 9.1613e-05 - accuracy: 1.00 - ETA: 6s - loss: 8.5588e-05 - accuracy: 1.00 - ETA: 5s - loss: 9.9354e-05 - accuracy: 1.00 - ETA: 5s - loss: 9.8146e-05 - accuracy: 1.00 - ETA: 4s - loss: 1.0657e-04 - accuracy: 1.00 - ETA: 3s - loss: 1.0261e-04 - accuracy: 1.00 - ETA: 2s - loss: 1.4064e-04 - accuracy: 1.00 - ETA: 2s - loss: 1.3418e-04 - accuracy: 1.00 - ETA: 1s - loss: 1.4103e-04 - accuracy: 1.00 - ETA: 0s - loss: 1.3780e-04 - accuracy: 1.00 - ETA: 0s - loss: 1.3604e-04 - accuracy: 1.00 - 17s 759ms/step - loss: 1.3604e-04 - accuracy: 1.0000 - val_loss: 9.2639e-04 - val_accuracy: 1.0000\n",
      "Epoch 24/30\n",
      "23/23 [==============================] - ETA: 15s - loss: 1.0837e-04 - accuracy: 1.000 - ETA: 15s - loss: 1.8686e-04 - accuracy: 1.000 - ETA: 15s - loss: 1.3358e-04 - accuracy: 1.000 - ETA: 15s - loss: 1.2372e-04 - accuracy: 1.000 - ETA: 14s - loss: 1.0387e-04 - accuracy: 1.000 - ETA: 13s - loss: 9.0862e-05 - accuracy: 1.000 - ETA: 12s - loss: 1.0659e-04 - accuracy: 1.000 - ETA: 11s - loss: 9.5045e-05 - accuracy: 1.000 - ETA: 10s - loss: 1.1218e-04 - accuracy: 1.000 - ETA: 10s - loss: 1.1688e-04 - accuracy: 1.000 - ETA: 9s - loss: 1.2410e-04 - accuracy: 1.000 - ETA: 8s - loss: 1.5545e-04 - accuracy: 1.00 - ETA: 7s - loss: 1.7041e-04 - accuracy: 1.00 - ETA: 6s - loss: 1.5906e-04 - accuracy: 1.00 - ETA: 6s - loss: 1.5444e-04 - accuracy: 1.00 - ETA: 5s - loss: 1.5524e-04 - accuracy: 1.00 - ETA: 4s - loss: 1.4646e-04 - accuracy: 1.00 - ETA: 3s - loss: 1.4001e-04 - accuracy: 1.00 - ETA: 3s - loss: 1.3300e-04 - accuracy: 1.00 - ETA: 2s - loss: 1.2774e-04 - accuracy: 1.00 - ETA: 1s - loss: 1.2236e-04 - accuracy: 1.00 - ETA: 0s - loss: 1.1851e-04 - accuracy: 1.00 - ETA: 0s - loss: 1.1594e-04 - accuracy: 1.00 - 18s 766ms/step - loss: 1.1594e-04 - accuracy: 1.0000 - val_loss: 0.0031 - val_accuracy: 1.0000\n",
      "Epoch 25/30\n",
      "23/23 [==============================] - ETA: 16s - loss: 2.0963e-05 - accuracy: 1.000 - ETA: 15s - loss: 5.5918e-05 - accuracy: 1.000 - ETA: 14s - loss: 4.7096e-05 - accuracy: 1.000 - ETA: 14s - loss: 4.8249e-05 - accuracy: 1.000 - ETA: 13s - loss: 8.6044e-05 - accuracy: 1.000 - ETA: 12s - loss: 7.6053e-05 - accuracy: 1.000 - ETA: 11s - loss: 6.9027e-05 - accuracy: 1.000 - ETA: 11s - loss: 1.1056e-04 - accuracy: 1.000 - ETA: 10s - loss: 1.0097e-04 - accuracy: 1.000 - ETA: 9s - loss: 9.4226e-05 - accuracy: 1.000 - ETA: 8s - loss: 9.1663e-05 - accuracy: 1.00 - ETA: 8s - loss: 8.7167e-05 - accuracy: 1.00 - ETA: 7s - loss: 8.3980e-05 - accuracy: 1.00 - ETA: 6s - loss: 8.2632e-05 - accuracy: 1.00 - ETA: 5s - loss: 8.4692e-05 - accuracy: 1.00 - ETA: 5s - loss: 8.0946e-05 - accuracy: 1.00 - ETA: 4s - loss: 8.3766e-05 - accuracy: 1.00 - ETA: 3s - loss: 8.1237e-05 - accuracy: 1.00 - ETA: 2s - loss: 8.1035e-05 - accuracy: 1.00 - ETA: 2s - loss: 8.3111e-05 - accuracy: 1.00 - ETA: 1s - loss: 8.2122e-05 - accuracy: 1.00 - ETA: 0s - loss: 7.8819e-05 - accuracy: 1.00 - ETA: 0s - loss: 8.3065e-05 - accuracy: 1.00 - 17s 754ms/step - loss: 8.3065e-05 - accuracy: 1.0000 - val_loss: 0.0012 - val_accuracy: 1.0000\n",
      "Epoch 26/30\n"
     ]
    },
    {
     "name": "stdout",
     "output_type": "stream",
     "text": [
      "23/23 [==============================] - ETA: 15s - loss: 2.0983e-05 - accuracy: 1.000 - ETA: 15s - loss: 4.0226e-05 - accuracy: 1.000 - ETA: 14s - loss: 3.5066e-05 - accuracy: 1.000 - ETA: 14s - loss: 4.4867e-05 - accuracy: 1.000 - ETA: 13s - loss: 3.7090e-05 - accuracy: 1.000 - ETA: 12s - loss: 5.2244e-05 - accuracy: 1.000 - ETA: 11s - loss: 6.7237e-05 - accuracy: 1.000 - ETA: 11s - loss: 6.6442e-05 - accuracy: 1.000 - ETA: 10s - loss: 6.8183e-05 - accuracy: 1.000 - ETA: 9s - loss: 6.5818e-05 - accuracy: 1.000 - ETA: 8s - loss: 6.2659e-05 - accuracy: 1.00 - ETA: 8s - loss: 5.8660e-05 - accuracy: 1.00 - ETA: 7s - loss: 5.8365e-05 - accuracy: 1.00 - ETA: 6s - loss: 5.8792e-05 - accuracy: 1.00 - ETA: 6s - loss: 5.6665e-05 - accuracy: 1.00 - ETA: 5s - loss: 5.6596e-05 - accuracy: 1.00 - ETA: 4s - loss: 5.6706e-05 - accuracy: 1.00 - ETA: 3s - loss: 5.3830e-05 - accuracy: 1.00 - ETA: 3s - loss: 5.5049e-05 - accuracy: 1.00 - ETA: 2s - loss: 5.3013e-05 - accuracy: 1.00 - ETA: 1s - loss: 5.3548e-05 - accuracy: 1.00 - ETA: 0s - loss: 5.5777e-05 - accuracy: 1.00 - ETA: 0s - loss: 5.4563e-05 - accuracy: 1.00 - 17s 758ms/step - loss: 5.4563e-05 - accuracy: 1.0000 - val_loss: 0.0016 - val_accuracy: 1.0000\n",
      "Epoch 27/30\n",
      "23/23 [==============================] - ETA: 15s - loss: 6.0854e-05 - accuracy: 1.000 - ETA: 15s - loss: 9.6500e-05 - accuracy: 1.000 - ETA: 14s - loss: 6.8102e-05 - accuracy: 1.000 - ETA: 14s - loss: 6.1096e-05 - accuracy: 1.000 - ETA: 13s - loss: 6.0590e-05 - accuracy: 1.000 - ETA: 12s - loss: 5.4029e-05 - accuracy: 1.000 - ETA: 11s - loss: 9.6489e-05 - accuracy: 1.000 - ETA: 11s - loss: 8.8143e-05 - accuracy: 1.000 - ETA: 10s - loss: 7.9395e-05 - accuracy: 1.000 - ETA: 9s - loss: 8.2394e-05 - accuracy: 1.000 - ETA: 8s - loss: 8.8795e-05 - accuracy: 1.00 - ETA: 8s - loss: 8.3673e-05 - accuracy: 1.00 - ETA: 7s - loss: 7.8312e-05 - accuracy: 1.00 - ETA: 6s - loss: 7.4101e-05 - accuracy: 1.00 - ETA: 5s - loss: 7.0053e-05 - accuracy: 1.00 - ETA: 5s - loss: 6.5810e-05 - accuracy: 1.00 - ETA: 4s - loss: 6.2375e-05 - accuracy: 1.00 - ETA: 3s - loss: 5.9119e-05 - accuracy: 1.00 - ETA: 2s - loss: 5.6956e-05 - accuracy: 1.00 - ETA: 2s - loss: 6.1746e-05 - accuracy: 1.00 - ETA: 1s - loss: 5.9837e-05 - accuracy: 1.00 - ETA: 0s - loss: 6.7382e-05 - accuracy: 1.00 - ETA: 0s - loss: 6.7767e-05 - accuracy: 1.00 - 17s 748ms/step - loss: 6.7767e-05 - accuracy: 1.0000 - val_loss: 0.0011 - val_accuracy: 1.0000\n",
      "Epoch 28/30\n",
      "23/23 [==============================] - ETA: 16s - loss: 1.6716e-05 - accuracy: 1.000 - ETA: 15s - loss: 1.0778e-05 - accuracy: 1.000 - ETA: 14s - loss: 1.9260e-05 - accuracy: 1.000 - ETA: 14s - loss: 2.7018e-05 - accuracy: 1.000 - ETA: 13s - loss: 2.8127e-05 - accuracy: 1.000 - ETA: 12s - loss: 4.7907e-05 - accuracy: 1.000 - ETA: 11s - loss: 4.9163e-05 - accuracy: 1.000 - ETA: 11s - loss: 4.6049e-05 - accuracy: 1.000 - ETA: 10s - loss: 4.6763e-05 - accuracy: 1.000 - ETA: 9s - loss: 6.6229e-05 - accuracy: 1.000 - ETA: 8s - loss: 6.0904e-05 - accuracy: 1.00 - ETA: 8s - loss: 5.6160e-05 - accuracy: 1.00 - ETA: 7s - loss: 5.5441e-05 - accuracy: 1.00 - ETA: 6s - loss: 5.9012e-05 - accuracy: 1.00 - ETA: 5s - loss: 6.4173e-05 - accuracy: 1.00 - ETA: 5s - loss: 6.3761e-05 - accuracy: 1.00 - ETA: 4s - loss: 6.1823e-05 - accuracy: 1.00 - ETA: 3s - loss: 5.9372e-05 - accuracy: 1.00 - ETA: 2s - loss: 6.0828e-05 - accuracy: 1.00 - ETA: 2s - loss: 5.8395e-05 - accuracy: 1.00 - ETA: 1s - loss: 5.5659e-05 - accuracy: 1.00 - ETA: 0s - loss: 5.5319e-05 - accuracy: 1.00 - ETA: 0s - loss: 5.5597e-05 - accuracy: 1.00 - 17s 751ms/step - loss: 5.5597e-05 - accuracy: 1.0000 - val_loss: 0.0016 - val_accuracy: 1.0000\n",
      "Epoch 29/30\n",
      "23/23 [==============================] - ETA: 16s - loss: 2.4837e-05 - accuracy: 1.000 - ETA: 15s - loss: 2.8012e-05 - accuracy: 1.000 - ETA: 14s - loss: 8.5296e-05 - accuracy: 1.000 - ETA: 13s - loss: 8.5710e-05 - accuracy: 1.000 - ETA: 13s - loss: 7.4791e-05 - accuracy: 1.000 - ETA: 12s - loss: 8.2959e-05 - accuracy: 1.000 - ETA: 11s - loss: 8.2795e-05 - accuracy: 1.000 - ETA: 11s - loss: 7.2517e-05 - accuracy: 1.000 - ETA: 10s - loss: 6.9632e-05 - accuracy: 1.000 - ETA: 9s - loss: 7.2061e-05 - accuracy: 1.000 - ETA: 8s - loss: 6.7262e-05 - accuracy: 1.00 - ETA: 8s - loss: 6.2420e-05 - accuracy: 1.00 - ETA: 7s - loss: 5.7891e-05 - accuracy: 1.00 - ETA: 6s - loss: 5.6370e-05 - accuracy: 1.00 - ETA: 5s - loss: 5.9508e-05 - accuracy: 1.00 - ETA: 5s - loss: 7.4203e-05 - accuracy: 1.00 - ETA: 4s - loss: 7.1911e-05 - accuracy: 1.00 - ETA: 3s - loss: 6.8728e-05 - accuracy: 1.00 - ETA: 2s - loss: 6.6187e-05 - accuracy: 1.00 - ETA: 2s - loss: 6.5495e-05 - accuracy: 1.00 - ETA: 1s - loss: 6.3957e-05 - accuracy: 1.00 - ETA: 0s - loss: 6.2999e-05 - accuracy: 1.00 - ETA: 0s - loss: 6.2653e-05 - accuracy: 1.00 - 17s 747ms/step - loss: 6.2653e-05 - accuracy: 1.0000 - val_loss: 0.0016 - val_accuracy: 1.0000\n",
      "Epoch 30/30\n",
      "23/23 [==============================] - ETA: 16s - loss: 1.8455e-04 - accuracy: 1.000 - ETA: 15s - loss: 1.0350e-04 - accuracy: 1.000 - ETA: 14s - loss: 8.4101e-05 - accuracy: 1.000 - ETA: 14s - loss: 7.1866e-05 - accuracy: 1.000 - ETA: 13s - loss: 6.0741e-05 - accuracy: 1.000 - ETA: 12s - loss: 5.3532e-05 - accuracy: 1.000 - ETA: 12s - loss: 6.4148e-05 - accuracy: 1.000 - ETA: 11s - loss: 6.3552e-05 - accuracy: 1.000 - ETA: 10s - loss: 6.2185e-05 - accuracy: 1.000 - ETA: 9s - loss: 5.6346e-05 - accuracy: 1.000 - ETA: 9s - loss: 5.4819e-05 - accuracy: 1.00 - ETA: 8s - loss: 5.3254e-05 - accuracy: 1.00 - ETA: 7s - loss: 5.1399e-05 - accuracy: 1.00 - ETA: 6s - loss: 5.0953e-05 - accuracy: 1.00 - ETA: 5s - loss: 5.4862e-05 - accuracy: 1.00 - ETA: 5s - loss: 5.2164e-05 - accuracy: 1.00 - ETA: 4s - loss: 5.4090e-05 - accuracy: 1.00 - ETA: 3s - loss: 5.2103e-05 - accuracy: 1.00 - ETA: 2s - loss: 5.0556e-05 - accuracy: 1.00 - ETA: 2s - loss: 4.9879e-05 - accuracy: 1.00 - ETA: 1s - loss: 4.9615e-05 - accuracy: 1.00 - ETA: 0s - loss: 5.0377e-05 - accuracy: 1.00 - ETA: 0s - loss: 4.9933e-05 - accuracy: 1.00 - 17s 759ms/step - loss: 4.9933e-05 - accuracy: 1.0000 - val_loss: 0.0011 - val_accuracy: 1.0000\n"
     ]
    },
    {
     "data": {
      "image/png": "[encoded data removed]",
      "text/plain": [
       "<Figure size 1080x360 with 2 Axes>"
      ]
     },
     "metadata": {
      "needs_background": "light"
     },
     "output_type": "display_data"
    },
    {
     "data": {
      "image/png": "[encoded data removed]",
      "text/plain": [
       "<Figure size 1080x720 with 2 Axes>"
      ]
     },
     "metadata": {
      "needs_background": "light"
     },
     "output_type": "display_data"
    }
   ],
   "source": [
    "model = tuner.hypermodel.build(best_hps)\n",
    "history = model.fit(x_train, y_train, epochs=30, validation_data=(x_val, y_val))"
   ]
  },
  {
   "cell_type": "code",
   "execution_count": 81,
   "metadata": {},
   "outputs": [
    {
     "data": {
      "image/png": "[encoded data removed]",
      "text/plain": [
       "<Figure size 1080x360 with 2 Axes>"
      ]
     },
     "metadata": {
      "needs_background": "light"
     },
     "output_type": "display_data"
    },
    {
     "data": {
      "image/png": "[encoded data removed]",
      "text/plain": [
       "<Figure size 1080x720 with 2 Axes>"
      ]
     },
     "metadata": {
      "needs_background": "light"
     },
     "output_type": "display_data"
    }
   ],
   "source": [
    "# summarize history for accuracy\n",
    "plt.figure(1, figsize=(15, 5))\n",
    "plt.subplot(121)\n",
    "plt.plot(history.history['accuracy'])\n",
    "plt.plot(history.history['val_accuracy'])\n",
    "plt.title('model accuracy')\n",
    "plt.ylabel('accuracy')\n",
    "plt.xlabel('epoch')\n",
    "plt.legend(['train', 'validation'], loc='lower right')\n",
    "plt.grid()\n",
    "\n",
    "# summarize history for loss\n",
    "plt.subplot(122)\n",
    "plt.plot(history.history['loss'])\n",
    "plt.plot(history.history['val_loss'])\n",
    "plt.title('model loss')\n",
    "plt.ylabel('loss')\n",
    "plt.xlabel('epoch')\n",
    "plt.legend(['train', 'validation'], loc='upper right')\n",
    "plt.grid()\n",
    "plt.show()\n",
    "\n",
    "##################################################### Why not to zoom a bit?\n",
    "zoom = 3\n",
    "\n",
    "plt.figure(1, figsize=(15, 10))\n",
    "# summarize history for accuracy\n",
    "plt.subplot(221)\n",
    "plt.plot(history.history['accuracy'][zoom:])\n",
    "plt.plot(history.history['val_accuracy'][zoom:])\n",
    "plt.title('model accuracy')\n",
    "plt.ylabel('accuracy')\n",
    "plt.xlabel('epoch')\n",
    "plt.legend(['train', 'validation'], loc='lower right')\n",
    "plt.grid()\n",
    "plt.axis([2, epochs-zoom, 0.95, 1.01])\n",
    "\n",
    "# summarize history for loss\n",
    "plt.subplot(222)\n",
    "plt.plot(history.history['loss'][zoom:])\n",
    "plt.plot(history.history['val_loss'][zoom:])\n",
    "plt.title('model loss')\n",
    "plt.ylabel('loss')\n",
    "plt.xlabel('epoch')\n",
    "plt.legend(['train', 'validation'], loc='upper right')\n",
    "plt.grid()\n",
    "plt.axis([2, epochs-zoom, 0.0, 0.01])\n",
    "\n",
    "\n",
    "plt.show()"
   ]
  },
  {
   "cell_type": "code",
   "execution_count": 84,
   "metadata": {},
   "outputs": [
    {
     "name": "stdout",
     "output_type": "stream",
     "text": [
      "Best epoch: 3\n"
     ]
    }
   ],
   "source": [
    "val_acc_per_epoch = history.history['val_accuracy']\n",
    "best_number_of_epoch = val_acc_per_epoch.index(max(val_acc_per_epoch)) + 1\n",
    "print('Best epoch: %d' % (best_number_of_epoch,))"
   ]
  },
  {
   "cell_type": "code",
   "execution_count": 85,
   "metadata": {},
   "outputs": [
    {
     "name": "stdout",
     "output_type": "stream",
     "text": [
      "Epoch 1/3\n",
      "23/23 [==============================] - ETA: 14s - loss: 0.6869 - accuracy: 0.500 - ETA: 9s - loss: 0.6888 - accuracy: 0.468 - ETA: 9s - loss: 0.6582 - accuracy: 0.60 - ETA: 8s - loss: 0.6502 - accuracy: 0.60 - ETA: 8s - loss: 0.6181 - accuracy: 0.66 - ETA: 7s - loss: 0.5880 - accuracy: 0.68 - ETA: 7s - loss: 0.5456 - accuracy: 0.72 - ETA: 7s - loss: 0.5124 - accuracy: 0.75 - ETA: 6s - loss: 0.4850 - accuracy: 0.76 - ETA: 6s - loss: 0.4651 - accuracy: 0.77 - ETA: 5s - loss: 0.4370 - accuracy: 0.79 - ETA: 5s - loss: 0.4162 - accuracy: 0.80 - ETA: 4s - loss: 0.3952 - accuracy: 0.81 - ETA: 4s - loss: 0.3889 - accuracy: 0.81 - ETA: 3s - loss: 0.3725 - accuracy: 0.82 - ETA: 3s - loss: 0.3626 - accuracy: 0.83 - ETA: 3s - loss: 0.3544 - accuracy: 0.83 - ETA: 2s - loss: 0.3484 - accuracy: 0.83 - ETA: 2s - loss: 0.3396 - accuracy: 0.84 - ETA: 1s - loss: 0.3465 - accuracy: 0.84 - ETA: 1s - loss: 0.3418 - accuracy: 0.84 - ETA: 0s - loss: 0.3354 - accuracy: 0.85 - ETA: 0s - loss: 0.3286 - accuracy: 0.85 - 12s 526ms/step - loss: 0.3286 - accuracy: 0.8556 - val_loss: 0.0698 - val_accuracy: 0.9875\n",
      "Epoch 2/3\n",
      "23/23 [==============================] - ETA: 12s - loss: 0.1034 - accuracy: 0.937 - ETA: 11s - loss: 0.0690 - accuracy: 0.968 - ETA: 11s - loss: 0.0856 - accuracy: 0.958 - ETA: 10s - loss: 0.0940 - accuracy: 0.953 - ETA: 10s - loss: 0.0913 - accuracy: 0.956 - ETA: 9s - loss: 0.0798 - accuracy: 0.963 - ETA: 9s - loss: 0.0849 - accuracy: 0.95 - ETA: 8s - loss: 0.0823 - accuracy: 0.96 - ETA: 8s - loss: 0.0830 - accuracy: 0.96 - ETA: 7s - loss: 0.0854 - accuracy: 0.96 - ETA: 7s - loss: 0.0871 - accuracy: 0.96 - ETA: 6s - loss: 0.0834 - accuracy: 0.96 - ETA: 5s - loss: 0.0790 - accuracy: 0.96 - ETA: 5s - loss: 0.0768 - accuracy: 0.97 - ETA: 4s - loss: 0.0735 - accuracy: 0.97 - ETA: 4s - loss: 0.0715 - accuracy: 0.97 - ETA: 3s - loss: 0.0720 - accuracy: 0.97 - ETA: 2s - loss: 0.0724 - accuracy: 0.97 - ETA: 2s - loss: 0.0703 - accuracy: 0.97 - ETA: 1s - loss: 0.0687 - accuracy: 0.97 - ETA: 1s - loss: 0.0658 - accuracy: 0.97 - ETA: 0s - loss: 0.0661 - accuracy: 0.97 - ETA: 0s - loss: 0.0660 - accuracy: 0.97 - 14s 612ms/step - loss: 0.0660 - accuracy: 0.9792 - val_loss: 0.0365 - val_accuracy: 1.0000\n",
      "Epoch 3/3\n",
      "23/23 [==============================] - ETA: 13s - loss: 0.0171 - accuracy: 1.000 - ETA: 13s - loss: 0.0205 - accuracy: 1.000 - ETA: 12s - loss: 0.0184 - accuracy: 1.000 - ETA: 12s - loss: 0.0251 - accuracy: 0.992 - ETA: 11s - loss: 0.0233 - accuracy: 0.993 - ETA: 11s - loss: 0.0228 - accuracy: 0.994 - ETA: 10s - loss: 0.0220 - accuracy: 0.995 - ETA: 9s - loss: 0.0226 - accuracy: 0.996 - ETA: 9s - loss: 0.0220 - accuracy: 0.99 - ETA: 8s - loss: 0.0214 - accuracy: 0.99 - ETA: 7s - loss: 0.0233 - accuracy: 0.99 - ETA: 7s - loss: 0.0230 - accuracy: 0.99 - ETA: 6s - loss: 0.0219 - accuracy: 0.99 - ETA: 5s - loss: 0.0208 - accuracy: 0.99 - ETA: 5s - loss: 0.0209 - accuracy: 0.99 - ETA: 4s - loss: 0.0200 - accuracy: 0.99 - ETA: 4s - loss: 0.0192 - accuracy: 0.99 - ETA: 3s - loss: 0.0183 - accuracy: 0.99 - ETA: 2s - loss: 0.0180 - accuracy: 0.99 - ETA: 2s - loss: 0.0173 - accuracy: 0.99 - ETA: 1s - loss: 0.0166 - accuracy: 0.99 - ETA: 0s - loss: 0.0168 - accuracy: 0.99 - ETA: 0s - loss: 0.0170 - accuracy: 0.99 - 16s 683ms/step - loss: 0.0170 - accuracy: 0.9972 - val_loss: 0.0092 - val_accuracy: 1.0000\n"
     ]
    },
    {
     "data": {
      "image/png": "[encoded data removed]",
      "text/plain": [
       "<Figure size 1080x360 with 2 Axes>"
      ]
     },
     "metadata": {
      "needs_background": "light"
     },
     "output_type": "display_data"
    },
    {
     "data": {
      "image/png": "[encoded data removed]",
      "text/plain": [
       "<Figure size 1080x720 with 2 Axes>"
      ]
     },
     "metadata": {
      "needs_background": "light"
     },
     "output_type": "display_data"
    }
   ],
   "source": [
    "hypermodel = tuner.hypermodel.build(best_hps)\n",
    "\n",
    "# re-train the model\n",
    "hypermodel.fit(x_train, y_train, epochs=best_number_of_epoch, validation_data=(x_val, y_val))\n",
    "\n",
    "# summarize history for accuracy\n",
    "plt.figure(1, figsize=(15, 5))\n",
    "plt.subplot(121)\n",
    "plt.plot(history.history['accuracy'])\n",
    "plt.plot(history.history['val_accuracy'])\n",
    "plt.title('model accuracy')\n",
    "plt.ylabel('accuracy')\n",
    "plt.xlabel('epoch')\n",
    "plt.legend(['train', 'validation'], loc='lower right')\n",
    "plt.grid()\n",
    "\n",
    "# summarize history for loss\n",
    "plt.subplot(122)\n",
    "plt.plot(history.history['loss'])\n",
    "plt.plot(history.history['val_loss'])\n",
    "plt.title('model loss')\n",
    "plt.ylabel('loss')\n",
    "plt.xlabel('epoch')\n",
    "plt.legend(['train', 'validation'], loc='upper right')\n",
    "plt.grid()\n",
    "plt.show()\n",
    "\n",
    "##################################################### Why not to zoom a bit?\n",
    "zoom = 3\n",
    "\n",
    "plt.figure(1, figsize=(15, 10))\n",
    "# summarize history for accuracy\n",
    "plt.subplot(221)\n",
    "plt.plot(history.history['accuracy'][zoom:])\n",
    "plt.plot(history.history['val_accuracy'][zoom:])\n",
    "plt.title('model accuracy')\n",
    "plt.ylabel('accuracy')\n",
    "plt.xlabel('epoch')\n",
    "plt.legend(['train', 'validation'], loc='lower right')\n",
    "plt.grid()\n",
    "plt.axis([2, epochs-zoom, 0.98, 1.0])\n",
    "\n",
    "# summarize history for loss\n",
    "plt.subplot(222)\n",
    "plt.plot(history.history['loss'][zoom:])\n",
    "plt.plot(history.history['val_loss'][zoom:])\n",
    "plt.title('model loss')\n",
    "plt.ylabel('loss')\n",
    "plt.xlabel('epoch')\n",
    "plt.legend(['train', 'validation'], loc='upper right')\n",
    "plt.grid()\n",
    "plt.axis([2, epochs-zoom, 0.0, 0.06])\n",
    "\n",
    "\n",
    "plt.show()"
   ]
  },
  {
   "cell_type": "code",
   "execution_count": 86,
   "metadata": {},
   "outputs": [
    {
     "name": "stdout",
     "output_type": "stream",
     "text": [
      "Test loss: 0.024360470473766327\n",
      "Test accuracy: 0.9900000095367432\n"
     ]
    }
   ],
   "source": [
    "score = hypermodel.evaluate(x_test, y_test, verbose=0)\n",
    "print(\"Test loss:\", score[0])\n",
    "print(\"Test accuracy:\", score[1])"
   ]
  },
  {
   "cell_type": "markdown",
   "metadata": {},
   "source": [
    "### Let's make the predictions with the best model: The Convolutional Neural Network"
   ]
  },
  {
   "cell_type": "code",
   "execution_count": 89,
   "metadata": {},
   "outputs": [],
   "source": [
    "predictions = hypermodel.predict(x_test)\n",
    "y_hat = np.argmax(predictions, axis=1)\n",
    "target = np.argmax(y_test, axis=1)"
   ]
  },
  {
   "cell_type": "code",
   "execution_count": 90,
   "metadata": {},
   "outputs": [
    {
     "data": {
      "text/plain": [
       "[66, 192]"
      ]
     },
     "execution_count": 90,
     "metadata": {},
     "output_type": "execute_result"
    }
   ],
   "source": [
    "mistakes = []\n",
    "\n",
    "for i in range(len(target)):\n",
    "    if y_hat[i] != target[i]:\n",
    "        mistakes.append(i)\n",
    "\n",
    "mistakes"
   ]
  },
  {
   "cell_type": "code",
   "execution_count": 91,
   "metadata": {},
   "outputs": [
    {
     "data": {
      "text/plain": [
       "2"
      ]
     },
     "execution_count": 91,
     "metadata": {},
     "output_type": "execute_result"
    }
   ],
   "source": [
    "len(mistakes)"
   ]
  },
  {
   "cell_type": "code",
   "execution_count": 92,
   "metadata": {},
   "outputs": [
    {
     "data": {
      "text/plain": [
       "200"
      ]
     },
     "execution_count": 92,
     "metadata": {},
     "output_type": "execute_result"
    }
   ],
   "source": [
    "len(target)"
   ]
  },
  {
   "cell_type": "code",
   "execution_count": 93,
   "metadata": {},
   "outputs": [
    {
     "data": {
      "text/plain": [
       "0.99"
      ]
     },
     "execution_count": 93,
     "metadata": {},
     "output_type": "execute_result"
    }
   ],
   "source": [
    "1 - (len(mistakes) / len(target))"
   ]
  },
  {
   "cell_type": "markdown",
   "metadata": {},
   "source": [
    "### Let's get back the real class labels"
   ]
  },
  {
   "cell_type": "code",
   "execution_count": 95,
   "metadata": {},
   "outputs": [],
   "source": [
    "int_to_str = {0: \"Comic\", 1: \"Face\"}"
   ]
  },
  {
   "cell_type": "code",
   "execution_count": 96,
   "metadata": {},
   "outputs": [],
   "source": [
    "# let's get the real name of the classification from the following dictionary we created\n",
    "\n",
    "p = pd.DataFrame({\"predictions\": y_hat})\n",
    "p['predictions'] = p['predictions'].map(int_to_str)"
   ]
  },
  {
   "cell_type": "code",
   "execution_count": 97,
   "metadata": {},
   "outputs": [
    {
     "data": {
      "text/html": [
       "<div>\n",
       "<style scoped>\n",
       "    .dataframe tbody tr th:only-of-type {\n",
       "        vertical-align: middle;\n",
       "    }\n",
       "\n",
       "    .dataframe tbody tr th {\n",
       "        vertical-align: top;\n",
       "    }\n",
       "\n",
       "    .dataframe thead th {\n",
       "        text-align: right;\n",
       "    }\n",
       "</style>\n",
       "<table border=\"1\" class=\"dataframe\">\n",
       "  <thead>\n",
       "    <tr style=\"text-align: right;\">\n",
       "      <th></th>\n",
       "      <th>predictions</th>\n",
       "    </tr>\n",
       "  </thead>\n",
       "  <tbody>\n",
       "    <tr>\n",
       "      <th>0</th>\n",
       "      <td>Face</td>\n",
       "    </tr>\n",
       "    <tr>\n",
       "      <th>1</th>\n",
       "      <td>Comic</td>\n",
       "    </tr>\n",
       "    <tr>\n",
       "      <th>2</th>\n",
       "      <td>Comic</td>\n",
       "    </tr>\n",
       "    <tr>\n",
       "      <th>3</th>\n",
       "      <td>Comic</td>\n",
       "    </tr>\n",
       "    <tr>\n",
       "      <th>4</th>\n",
       "      <td>Face</td>\n",
       "    </tr>\n",
       "    <tr>\n",
       "      <th>...</th>\n",
       "      <td>...</td>\n",
       "    </tr>\n",
       "    <tr>\n",
       "      <th>195</th>\n",
       "      <td>Face</td>\n",
       "    </tr>\n",
       "    <tr>\n",
       "      <th>196</th>\n",
       "      <td>Face</td>\n",
       "    </tr>\n",
       "    <tr>\n",
       "      <th>197</th>\n",
       "      <td>Comic</td>\n",
       "    </tr>\n",
       "    <tr>\n",
       "      <th>198</th>\n",
       "      <td>Face</td>\n",
       "    </tr>\n",
       "    <tr>\n",
       "      <th>199</th>\n",
       "      <td>Face</td>\n",
       "    </tr>\n",
       "  </tbody>\n",
       "</table>\n",
       "<p>200 rows × 1 columns</p>\n",
       "</div>"
      ],
      "text/plain": [
       "    predictions\n",
       "0          Face\n",
       "1         Comic\n",
       "2         Comic\n",
       "3         Comic\n",
       "4          Face\n",
       "..          ...\n",
       "195        Face\n",
       "196        Face\n",
       "197       Comic\n",
       "198        Face\n",
       "199        Face\n",
       "\n",
       "[200 rows x 1 columns]"
      ]
     },
     "execution_count": 97,
     "metadata": {},
     "output_type": "execute_result"
    }
   ],
   "source": [
    "p # label for the set of test images"
   ]
  },
  {
   "cell_type": "code",
   "execution_count": 98,
   "metadata": {},
   "outputs": [
    {
     "data": {
      "text/plain": [
       "'Comic'"
      ]
     },
     "execution_count": 98,
     "metadata": {},
     "output_type": "execute_result"
    }
   ],
   "source": [
    "p.predictions.values[mistakes[0]]"
   ]
  },
  {
   "cell_type": "code",
   "execution_count": 99,
   "metadata": {},
   "outputs": [],
   "source": [
    "t = pd.DataFrame({\"target\": target})\n",
    "t['target'] = t['target'].map(int_to_str)"
   ]
  },
  {
   "cell_type": "code",
   "execution_count": 100,
   "metadata": {},
   "outputs": [
    {
     "data": {
      "text/plain": [
       "'Face'"
      ]
     },
     "execution_count": 100,
     "metadata": {},
     "output_type": "execute_result"
    }
   ],
   "source": [
    "t.target.values[mistakes[0]]"
   ]
  },
  {
   "cell_type": "markdown",
   "metadata": {},
   "source": [
    "## Let's see which one are wrongly classified"
   ]
  },
  {
   "cell_type": "code",
   "execution_count": 101,
   "metadata": {},
   "outputs": [
    {
     "data": {
      "image/png": "[encoded data removed]",
      "text/plain": [
       "<Figure size 1080x576 with 2 Axes>"
      ]
     },
     "metadata": {
      "needs_background": "light"
     },
     "output_type": "display_data"
    }
   ],
   "source": [
    "rows = 1\n",
    "cols = len(mistakes)+1\n",
    "axes = []\n",
    "fig = plt.figure(figsize=(15,8))\n",
    "\n",
    "for a in range(len(mistakes)):\n",
    "    axes.append( fig.add_subplot(rows, cols, a+1) )\n",
    "    subplot_title=(\"Target: \"+t.target.values[mistakes[0]], \"________\" ,\"Pred: \"+p.predictions.values[mistakes[0]])\n",
    "    axes[-1].set_title(subplot_title)  \n",
    "    plt.imshow(np.resize(x_test[mistakes[a]], (image_size, image_size)))\n",
    "fig.tight_layout()    \n",
    "plt.show()"
   ]
  },
  {
   "cell_type": "code",
   "execution_count": 102,
   "metadata": {},
   "outputs": [
    {
     "data": {
      "image/png": "[encoded data removed]",
      "text/plain": [
       "<PIL.Image.Image image mode=RGBA size=1068x708 at 0x7FDD3F34F5E0>"
      ]
     },
     "execution_count": 102,
     "metadata": {},
     "output_type": "execute_result"
    }
   ],
   "source": [
    "visualkeras.layered_view(hypermodel, legend=True, spacing=10) # write to disk - to_file='output.png'"
   ]
  }
 ],
 "metadata": {
  "kernelspec": {
   "display_name": "Python 3 (ipykernel)",
   "language": "python",
   "name": "python3"
  },
  "language_info": {
   "codemirror_mode": {
    "name": "ipython",
    "version": 3
   },
   "file_extension": ".py",
   "mimetype": "text/x-python",
   "name": "python",
   "nbconvert_exporter": "python",
   "pygments_lexer": "ipython3",
   "version": "3.8.5"
  },
  "latex_envs": {
   "LaTeX_envs_menu_present": true,
   "autoclose": false,
   "autocomplete": true,
   "bibliofile": "biblio.bib",
   "cite_by": "apalike",
   "current_citInitial": 1,
   "eqLabelWithNumbers": true,
   "eqNumInitial": 1,
   "hotkeys": {
    "equation": "Ctrl-E",
    "itemize": "Ctrl-I"
   },
   "labels_anchors": false,
   "latex_user_defs": false,
   "report_style_numbering": false,
   "user_envs_cfg": false
  }
 },
 "nbformat": 4,
 "nbformat_minor": 4
}
