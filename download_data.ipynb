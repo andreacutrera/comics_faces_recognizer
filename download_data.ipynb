{
 "cells": [
  {
   "cell_type": "markdown",
   "id": "8bdf1756",
   "metadata": {},
   "source": [
    "# Algorithms for Massive Data \n",
    "## Project 4: Face/comic recognizer with deep learning\n",
    "\n",
    "### _Andrea Pio Cutrera_ - 965591 - _Data Science and Economics_ - _Università degli Studi di Milano_\n",
    "# Part 1 - Data downloading from Kaggle's API\n",
    "\n",
    "Project for the module **_Algoritms for Massive Data_** of the course _Algoritms for Massive Data, Cloud and Distributed Computing_ for the academic year **2021-2022**.\n",
    "The task is to implement a deep-learning-based system discriminating between real faces and comics, using the «Comics faces» dataset.\n",
    "The «Comic faces» dataset is published on Kaggle and released under the CC-BY 4.0 license, with attribution required. \n",
    "\n",
    "If you want to have a look before starting:\n",
    "- Dataset link: https://www.kaggle.com/defileroff/comic-faces-paired-synthetic-v2"
   ]
  },
  {
   "cell_type": "markdown",
   "id": "da949662",
   "metadata": {},
   "source": [
    "Here we use ```Kaggle API``` (see reference here: https://github.com/Kaggle/kaggle-api) to download data contextually to the notebook execution"
   ]
  },
  {
   "cell_type": "code",
   "execution_count": 1,
   "id": "06aacfa4",
   "metadata": {},
   "outputs": [],
   "source": [
    "# pip install kaggle"
   ]
  },
  {
   "cell_type": "code",
   "execution_count": 2,
   "id": "ddda36e6",
   "metadata": {},
   "outputs": [
    {
     "name": "stdout",
     "output_type": "stream",
     "text": [
      "mkdir: /Users/andreacutrera/.kaggle: File exists\r\n"
     ]
    }
   ],
   "source": [
    "# create a sectret directory where you can store the keys of your account (mandatory)\n",
    "!mkdir ~/.kaggle"
   ]
  },
  {
   "cell_type": "markdown",
   "id": "407a3443",
   "metadata": {},
   "source": [
    "To use the Kaggle API, sign up for a Kaggle account at https://www.kaggle.com. Then go to the 'Account' tab of your user profile (https://www.kaggle.com/<username>/account) and select 'Create API Token'. This will trigger the download of kaggle.json, a file containing your API credentials. Place this file in the location ~/.kaggle/kaggle.json"
   ]
  },
  {
   "cell_type": "markdown",
   "id": "61bc9538",
   "metadata": {},
   "source": [
    "If you get some issues with the terminal execution of these commands, refer to this simple guide to give permissions to access folders, even the one of Downloads. (https://osxdaily.com/2018/10/09/fix-operation-not-permitted-terminal-error-macos/)"
   ]
  },
  {
   "cell_type": "code",
   "execution_count": 3,
   "id": "95d8da39",
   "metadata": {},
   "outputs": [],
   "source": [
    "# make a copy of the downloaded keys\n",
    "# use your own directory\n",
    "# just change the user name \"andreacutrera\" with your own in case of macOS utilization\n",
    "\n",
    "!cp /Users/andreacutrera/Downloads/kaggle.json /Users/andreacutrera/.kaggle/kaggle.json"
   ]
  },
  {
   "cell_type": "code",
   "execution_count": 4,
   "id": "81479f84",
   "metadata": {},
   "outputs": [
    {
     "name": "stdout",
     "output_type": "stream",
     "text": [
      "kaggle.json\r\n"
     ]
    }
   ],
   "source": [
    "# check if the file has been copied in the directory\n",
    "!cd /Users/andreacutrera/.kaggle && ls"
   ]
  },
  {
   "cell_type": "code",
   "execution_count": 5,
   "id": "99502d02",
   "metadata": {},
   "outputs": [],
   "source": [
    "# you need to give proper permissions to the file (since this is a hidden folder)\n",
    "!chmod 600 ~/.kaggle/kaggle.json"
   ]
  },
  {
   "cell_type": "code",
   "execution_count": 6,
   "id": "e25db199",
   "metadata": {},
   "outputs": [],
   "source": [
    "# to check available competitions on Kaggle\n",
    "# !kaggle competitions list"
   ]
  },
  {
   "cell_type": "code",
   "execution_count": 7,
   "id": "74059dcf",
   "metadata": {},
   "outputs": [
    {
     "name": "stdout",
     "output_type": "stream",
     "text": [
      "Downloading comic-faces-paired-synthetic-v2.zip to /Users/andreacutrera/Desktop/prova\n",
      "100%|█████████████████████████████████████▉| 2.17G/2.18G [03:55<00:00, 10.3MB/s]\n",
      "100%|██████████████████████████████████████| 2.18G/2.18G [03:55<00:00, 9.90MB/s]\n"
     ]
    }
   ],
   "source": [
    "# download the folder we are looking for\n",
    "# it takes ~4 minutes\n",
    "!kaggle datasets download -d defileroff/comic-faces-paired-synthetic-v2"
   ]
  },
  {
   "cell_type": "code",
   "execution_count": 8,
   "id": "9222a547",
   "metadata": {},
   "outputs": [
    {
     "name": "stdout",
     "output_type": "stream",
     "text": [
      "comic-faces-paired-synthetic-v2.zip model_selection.ipynb\r\n",
      "download_data.ipynb                 preprocessing_and_modelling.ipynb\r\n"
     ]
    }
   ],
   "source": [
    "# check the folder has been downloaded, but it is zipped\n",
    "!ls"
   ]
  },
  {
   "cell_type": "code",
   "execution_count": 2,
   "id": "a4b8baaf",
   "metadata": {},
   "outputs": [],
   "source": [
    "# let's unzip it\n",
    "!unzip -q comic-faces-paired-synthetic-v2.zip"
   ]
  },
  {
   "cell_type": "code",
   "execution_count": 14,
   "id": "c5144c2e",
   "metadata": {},
   "outputs": [
    {
     "name": "stdout",
     "output_type": "stream",
     "text": [
      "comic-faces-paired-synthetic-v2.zip model_selection.ipynb\r\n",
      "download_data.ipynb                 preprocessing_and_modelling.ipynb\r\n",
      "\u001b[34mface2comics_v2.0.0_by_Sxela\u001b[m\u001b[m         \u001b[34msamples\u001b[m\u001b[m\r\n"
     ]
    }
   ],
   "source": [
    "# all done\n",
    "!ls"
   ]
  },
  {
   "cell_type": "code",
   "execution_count": null,
   "id": "3b9db9e8",
   "metadata": {},
   "outputs": [],
   "source": []
  }
 ],
 "metadata": {
  "kernelspec": {
   "display_name": "Python 3 (ipykernel)",
   "language": "python",
   "name": "python3"
  },
  "language_info": {
   "codemirror_mode": {
    "name": "ipython",
    "version": 3
   },
   "file_extension": ".py",
   "mimetype": "text/x-python",
   "name": "python",
   "nbconvert_exporter": "python",
   "pygments_lexer": "ipython3",
   "version": "3.8.5"
  },
  "latex_envs": {
   "LaTeX_envs_menu_present": true,
   "autoclose": false,
   "autocomplete": true,
   "bibliofile": "biblio.bib",
   "cite_by": "apalike",
   "current_citInitial": 1,
   "eqLabelWithNumbers": true,
   "eqNumInitial": 1,
   "hotkeys": {
    "equation": "Ctrl-E",
    "itemize": "Ctrl-I"
   },
   "labels_anchors": false,
   "latex_user_defs": false,
   "report_style_numbering": false,
   "user_envs_cfg": false
  }
 },
 "nbformat": 4,
 "nbformat_minor": 5
}
